{
  "nbformat": 4,
  "nbformat_minor": 0,
  "metadata": {
    "colab": {
      "name": "GDP.ipynb",
      "provenance": [],
      "collapsed_sections": [],
      "authorship_tag": "ABX9TyO4PqxCpcXNhqLa+pooA7Uo",
      "include_colab_link": true
    },
    "kernelspec": {
      "name": "python3",
      "display_name": "Python 3"
    }
  },
  "cells": [
    {
      "cell_type": "markdown",
      "metadata": {
        "id": "view-in-github",
        "colab_type": "text"
      },
      "source": [
        "<a href=\"https://colab.research.google.com/github/janjuatest/Public-Sector/blob/main/GDP.ipynb\" target=\"_parent\"><img src=\"https://colab.research.google.com/assets/colab-badge.svg\" alt=\"Open In Colab\"/></a>"
      ]
    },
    {
      "cell_type": "markdown",
      "metadata": {
        "id": "tszgo6iJFJA9"
      },
      "source": [
        "This notebook is about the indentification of various social economic factors that can affect GDP per Capita after PPP of countries. The analysis is not exhaustive"
      ]
    },
    {
      "cell_type": "markdown",
      "metadata": {
        "id": "Vm_K9EyDFK77"
      },
      "source": [
        "Import the needed libraries"
      ]
    },
    {
      "cell_type": "code",
      "metadata": {
        "id": "WlyvuHPjsDKx"
      },
      "source": [
        "import pandas as pd\n",
        "import numpy as np\n",
        "import matplotlib.pyplot as plt\n",
        "import seaborn as sns"
      ],
      "execution_count": 4,
      "outputs": []
    },
    {
      "cell_type": "markdown",
      "metadata": {
        "id": "-m1pFHxmFpbF"
      },
      "source": [
        "Install  and import the World Bank data api\n"
      ]
    },
    {
      "cell_type": "code",
      "metadata": {
        "id": "4myM1trwsFT1",
        "colab": {
          "base_uri": "https://localhost:8080/"
        },
        "outputId": "e2f87fb8-ece1-44f1-90d6-9bc9e1394a1d"
      },
      "source": [
        "!pip install -U wbdata"
      ],
      "execution_count": 5,
      "outputs": [
        {
          "output_type": "stream",
          "text": [
            "Requirement already up-to-date: wbdata in /usr/local/lib/python3.7/dist-packages (0.3.0)\n",
            "Requirement already satisfied, skipping upgrade: decorator>=4.0 in /usr/local/lib/python3.7/dist-packages (from wbdata) (4.4.2)\n",
            "Requirement already satisfied, skipping upgrade: appdirs<2.0,>=1.4 in /usr/local/lib/python3.7/dist-packages (from wbdata) (1.4.4)\n",
            "Requirement already satisfied, skipping upgrade: requests>=2.0 in /usr/local/lib/python3.7/dist-packages (from wbdata) (2.23.0)\n",
            "Requirement already satisfied, skipping upgrade: tabulate>=0.8.5 in /usr/local/lib/python3.7/dist-packages (from wbdata) (0.8.9)\n",
            "Requirement already satisfied, skipping upgrade: chardet<4,>=3.0.2 in /usr/local/lib/python3.7/dist-packages (from requests>=2.0->wbdata) (3.0.4)\n",
            "Requirement already satisfied, skipping upgrade: idna<3,>=2.5 in /usr/local/lib/python3.7/dist-packages (from requests>=2.0->wbdata) (2.10)\n",
            "Requirement already satisfied, skipping upgrade: urllib3!=1.25.0,!=1.25.1,<1.26,>=1.21.1 in /usr/local/lib/python3.7/dist-packages (from requests>=2.0->wbdata) (1.24.3)\n",
            "Requirement already satisfied, skipping upgrade: certifi>=2017.4.17 in /usr/local/lib/python3.7/dist-packages (from requests>=2.0->wbdata) (2020.12.5)\n"
          ],
          "name": "stdout"
        }
      ]
    },
    {
      "cell_type": "code",
      "metadata": {
        "id": "u3LV4R7osHIg"
      },
      "source": [
        "import wbdata,datetime"
      ],
      "execution_count": 6,
      "outputs": []
    },
    {
      "cell_type": "markdown",
      "metadata": {
        "id": "ufkz6-vZH4M6"
      },
      "source": [
        "Read the data from Figure 2.1 of World Happiness Report .\n",
        "Data is avaiable at \n",
        "https://happiness-report.s3.amazonaws.com/2020/WHR20_DataForFigure2.1.xls\n",
        "Helliwell, John F., Richard Layard, Jeffrey Sachs, and Jan-Emmanuel De Neve, eds. 2020. World Happiness Report 2020. New York: Sustainable Development Solutions Network"
      ]
    },
    {
      "cell_type": "code",
      "metadata": {
        "id": "YhdBRuqX1AqI"
      },
      "source": [
        "happDF=pd.read_excel('happiness.xls')"
      ],
      "execution_count": 7,
      "outputs": []
    },
    {
      "cell_type": "markdown",
      "metadata": {
        "id": "uvlKgnN-dLAi"
      },
      "source": [
        "Renaming the columns so that they are more readable"
      ]
    },
    {
      "cell_type": "markdown",
      "metadata": {
        "id": "lp_gj-UnK5D4"
      },
      "source": [
        "DeathsTM is main target column which has the Total Covid-19 Deaths per 100,000 population"
      ]
    },
    {
      "cell_type": "code",
      "metadata": {
        "id": "KZ17605_1ZsD"
      },
      "source": [
        "happDF=happDF[['Country name','Ladder score']]"
      ],
      "execution_count": 8,
      "outputs": []
    },
    {
      "cell_type": "markdown",
      "metadata": {
        "id": "iXpAbya5JJNr"
      },
      "source": [
        "We will only take the main Ladder Score from the report.\n",
        "Higher the ladder score the happier the country"
      ]
    },
    {
      "cell_type": "code",
      "metadata": {
        "colab": {
          "base_uri": "https://localhost:8080/",
          "height": 388
        },
        "id": "4C3sgfY91tLa",
        "outputId": "50a9f821-8438-4f0d-aa5e-af8d00a8256c"
      },
      "source": [
        "happDF"
      ],
      "execution_count": 9,
      "outputs": [
        {
          "output_type": "execute_result",
          "data": {
            "text/html": [
              "<div>\n",
              "<style scoped>\n",
              "    .dataframe tbody tr th:only-of-type {\n",
              "        vertical-align: middle;\n",
              "    }\n",
              "\n",
              "    .dataframe tbody tr th {\n",
              "        vertical-align: top;\n",
              "    }\n",
              "\n",
              "    .dataframe thead th {\n",
              "        text-align: right;\n",
              "    }\n",
              "</style>\n",
              "<table border=\"1\" class=\"dataframe\">\n",
              "  <thead>\n",
              "    <tr style=\"text-align: right;\">\n",
              "      <th></th>\n",
              "      <th>Country name</th>\n",
              "      <th>Ladder score</th>\n",
              "    </tr>\n",
              "  </thead>\n",
              "  <tbody>\n",
              "    <tr>\n",
              "      <th>0</th>\n",
              "      <td>Finland</td>\n",
              "      <td>7.8087</td>\n",
              "    </tr>\n",
              "    <tr>\n",
              "      <th>1</th>\n",
              "      <td>Denmark</td>\n",
              "      <td>7.6456</td>\n",
              "    </tr>\n",
              "    <tr>\n",
              "      <th>2</th>\n",
              "      <td>Switzerland</td>\n",
              "      <td>7.5599</td>\n",
              "    </tr>\n",
              "    <tr>\n",
              "      <th>3</th>\n",
              "      <td>Iceland</td>\n",
              "      <td>7.5045</td>\n",
              "    </tr>\n",
              "    <tr>\n",
              "      <th>4</th>\n",
              "      <td>Norway</td>\n",
              "      <td>7.4880</td>\n",
              "    </tr>\n",
              "    <tr>\n",
              "      <th>...</th>\n",
              "      <td>...</td>\n",
              "      <td>...</td>\n",
              "    </tr>\n",
              "    <tr>\n",
              "      <th>148</th>\n",
              "      <td>Central African Republic</td>\n",
              "      <td>3.4759</td>\n",
              "    </tr>\n",
              "    <tr>\n",
              "      <th>149</th>\n",
              "      <td>Rwanda</td>\n",
              "      <td>3.3123</td>\n",
              "    </tr>\n",
              "    <tr>\n",
              "      <th>150</th>\n",
              "      <td>Zimbabwe</td>\n",
              "      <td>3.2992</td>\n",
              "    </tr>\n",
              "    <tr>\n",
              "      <th>151</th>\n",
              "      <td>South Sudan</td>\n",
              "      <td>2.8166</td>\n",
              "    </tr>\n",
              "    <tr>\n",
              "      <th>152</th>\n",
              "      <td>Afghanistan</td>\n",
              "      <td>2.5669</td>\n",
              "    </tr>\n",
              "  </tbody>\n",
              "</table>\n",
              "<p>153 rows × 2 columns</p>\n",
              "</div>"
            ],
            "text/plain": [
              "                 Country name  Ladder score\n",
              "0                     Finland        7.8087\n",
              "1                     Denmark        7.6456\n",
              "2                 Switzerland        7.5599\n",
              "3                     Iceland        7.5045\n",
              "4                      Norway        7.4880\n",
              "..                        ...           ...\n",
              "148  Central African Republic        3.4759\n",
              "149                    Rwanda        3.3123\n",
              "150                  Zimbabwe        3.2992\n",
              "151               South Sudan        2.8166\n",
              "152               Afghanistan        2.5669\n",
              "\n",
              "[153 rows x 2 columns]"
            ]
          },
          "metadata": {
            "tags": []
          },
          "execution_count": 9
        }
      ]
    },
    {
      "cell_type": "code",
      "metadata": {
        "id": "bvdOBAdPJ0lL"
      },
      "source": [
        "dfwho=pd.read_csv('WHO.csv')"
      ],
      "execution_count": 10,
      "outputs": []
    },
    {
      "cell_type": "code",
      "metadata": {
        "id": "sfxV3hY7KBaZ"
      },
      "source": [
        "dfwho=dfwho[['Name','Deaths - cumulative total per 1 million population']]"
      ],
      "execution_count": 11,
      "outputs": []
    },
    {
      "cell_type": "code",
      "metadata": {
        "id": "PRNRpROVKQ5v"
      },
      "source": [
        "dfwho.columns=['Country','DeathsTM']"
      ],
      "execution_count": 12,
      "outputs": []
    },
    {
      "cell_type": "code",
      "metadata": {
        "id": "mVk_q4Ya1ymp"
      },
      "source": [
        "dfwhoSorted=dfwho.sort_values('DeathsTM',ascending=False)"
      ],
      "execution_count": 13,
      "outputs": []
    },
    {
      "cell_type": "code",
      "metadata": {
        "colab": {
          "base_uri": "https://localhost:8080/",
          "height": 388
        },
        "id": "Vip4dlcT1DrV",
        "outputId": "62ac77da-4830-4e8e-f54f-2803f2968e09"
      },
      "source": [
        "dfwhoSorted.head(100)"
      ],
      "execution_count": 14,
      "outputs": [
        {
          "output_type": "execute_result",
          "data": {
            "text/html": [
              "<div>\n",
              "<style scoped>\n",
              "    .dataframe tbody tr th:only-of-type {\n",
              "        vertical-align: middle;\n",
              "    }\n",
              "\n",
              "    .dataframe tbody tr th {\n",
              "        vertical-align: top;\n",
              "    }\n",
              "\n",
              "    .dataframe thead th {\n",
              "        text-align: right;\n",
              "    }\n",
              "</style>\n",
              "<table border=\"1\" class=\"dataframe\">\n",
              "  <thead>\n",
              "    <tr style=\"text-align: right;\">\n",
              "      <th></th>\n",
              "      <th>Country</th>\n",
              "      <th>DeathsTM</th>\n",
              "    </tr>\n",
              "  </thead>\n",
              "  <tbody>\n",
              "    <tr>\n",
              "      <th>162</th>\n",
              "      <td>Gibraltar</td>\n",
              "      <td>2374.52</td>\n",
              "    </tr>\n",
              "    <tr>\n",
              "      <th>166</th>\n",
              "      <td>San Marino</td>\n",
              "      <td>2033.12</td>\n",
              "    </tr>\n",
              "    <tr>\n",
              "      <th>62</th>\n",
              "      <td>Slovenia</td>\n",
              "      <td>1872.11</td>\n",
              "    </tr>\n",
              "    <tr>\n",
              "      <th>26</th>\n",
              "      <td>Belgium</td>\n",
              "      <td>1842.34</td>\n",
              "    </tr>\n",
              "    <tr>\n",
              "      <th>5</th>\n",
              "      <td>The United Kingdom</td>\n",
              "      <td>1651.18</td>\n",
              "    </tr>\n",
              "    <tr>\n",
              "      <th>...</th>\n",
              "      <td>...</td>\n",
              "      <td>...</td>\n",
              "    </tr>\n",
              "    <tr>\n",
              "      <th>85</th>\n",
              "      <td>Kyrgyzstan</td>\n",
              "      <td>218.57</td>\n",
              "    </tr>\n",
              "    <tr>\n",
              "      <th>191</th>\n",
              "      <td>Guernsey</td>\n",
              "      <td>205.71</td>\n",
              "    </tr>\n",
              "    <tr>\n",
              "      <th>218</th>\n",
              "      <td>Montserrat</td>\n",
              "      <td>200.04</td>\n",
              "    </tr>\n",
              "    <tr>\n",
              "      <th>190</th>\n",
              "      <td>Bermuda</td>\n",
              "      <td>192.70</td>\n",
              "    </tr>\n",
              "    <tr>\n",
              "      <th>48</th>\n",
              "      <td>Belarus</td>\n",
              "      <td>187.63</td>\n",
              "    </tr>\n",
              "  </tbody>\n",
              "</table>\n",
              "<p>100 rows × 2 columns</p>\n",
              "</div>"
            ],
            "text/plain": [
              "                Country  DeathsTM\n",
              "162           Gibraltar   2374.52\n",
              "166          San Marino   2033.12\n",
              "62             Slovenia   1872.11\n",
              "26              Belgium   1842.34\n",
              "5    The United Kingdom   1651.18\n",
              "..                  ...       ...\n",
              "85           Kyrgyzstan    218.57\n",
              "191            Guernsey    205.71\n",
              "218          Montserrat    200.04\n",
              "190             Bermuda    192.70\n",
              "48              Belarus    187.63\n",
              "\n",
              "[100 rows x 2 columns]"
            ]
          },
          "metadata": {
            "tags": []
          },
          "execution_count": 14
        }
      ]
    },
    {
      "cell_type": "markdown",
      "metadata": {
        "id": "rN3xVBc-ENe6"
      },
      "source": [
        "Sort the dataframe with highest number of deaths per capita"
      ]
    },
    {
      "cell_type": "code",
      "metadata": {
        "id": "RyfSDJGQLdgP"
      },
      "source": [
        "happDF.columns=['Country','Score']"
      ],
      "execution_count": 15,
      "outputs": []
    },
    {
      "cell_type": "code",
      "metadata": {
        "colab": {
          "base_uri": "https://localhost:8080/"
        },
        "id": "7jU4llnxFUah",
        "outputId": "95b90499-0379-4c80-fec4-c587649a7539"
      },
      "source": [
        "for i in dfwho.index:\n",
        "  deathsTM=dfwho.iloc[i]['DeathsTM']\n",
        "  country=dfwho['Country'][i]\n",
        "  happDF.loc[happDF['Country']==country,'deaths']=deathsTM\n",
        "  if ((happDF['Country']==country).sum()==0):\n",
        "    print(country)\n",
        "  #print(dfwho['Country'][i],deathsTM)\n"
      ],
      "execution_count": 16,
      "outputs": [
        {
          "output_type": "stream",
          "text": [
            "Global\n",
            "United States of America\n",
            "Russian Federation\n",
            "The United Kingdom\n",
            "Iran (Islamic Republic of)\n",
            "Czechia\n",
            "Bolivia (Plurinational State of)\n",
            "occupied Palestinian territory, including east Jerusalem\n",
            "Republic of Moldova\n",
            "Qatar\n",
            "Oman\n",
            "Venezuela (Bolivarian Republic of)\n",
            "Puerto Rico\n",
            "North Macedonia\n",
            "Republic of Korea\n",
            "Kosovo[1]\n",
            "Cuba\n",
            "Sudan\n",
            "Côte d’Ivoire\n",
            "Democratic Republic of the Congo\n",
            "Angola\n",
            "French Polynesia\n",
            "French Guiana\n",
            "Eswatini\n",
            "Syrian Arab Republic\n",
            "Cabo Verde\n",
            "Belize\n",
            "Mayotte\n",
            "Réunion\n",
            "Andorra\n",
            "Guadeloupe\n",
            "Suriname\n",
            "Bahamas\n",
            "Congo\n",
            "Guyana\n",
            "Guam\n",
            "Aruba\n",
            "Martinique\n",
            "Djibouti\n",
            "Equatorial Guinea\n",
            "Somalia\n",
            "Curaçao\n",
            "Gibraltar\n",
            "Jersey\n",
            "San Marino\n",
            "Guinea-Bissau\n",
            "Liechtenstein\n",
            "United States Virgin Islands\n",
            "Eritrea\n",
            "Viet Nam\n",
            "Sint Maarten\n",
            "Saint Lucia\n",
            "Barbados\n",
            "Turks and Caicos Islands\n",
            "Monaco\n",
            "Seychelles\n",
            "Sao Tome and Principe\n",
            "Saint Martin\n",
            "Saint Vincent and the Grenadines\n",
            "Papua New Guinea\n",
            "Bhutan\n",
            "Other\n",
            "Bermuda\n",
            "Guernsey\n",
            "Faroe Islands\n",
            "United Republic of Tanzania\n",
            "Isle of Man\n",
            "Cayman Islands\n",
            "Saint Barthélemy\n",
            "Bonaire\n",
            "Antigua and Barbuda\n",
            "Brunei Darussalam\n",
            "Grenada\n",
            "British Virgin Islands\n",
            "Northern Mariana Islands (Commonwealth of the)\n",
            "Dominica\n",
            "Timor-Leste\n",
            "Fiji\n",
            "New Caledonia\n",
            "Lao People's Democratic Republic\n",
            "Falkland Islands (Malvinas)\n",
            "Saint Kitts and Nevis\n",
            "Greenland\n",
            "Holy See\n",
            "Saint Pierre and Miquelon\n",
            "Sint Eustatius\n",
            "Anguilla\n",
            "Solomon Islands\n",
            "Montserrat\n",
            "Saba\n",
            "Wallis and Futuna\n",
            "Marshall Islands\n",
            "Samoa\n",
            "Vanuatu\n",
            "American Samoa\n",
            "Cook Islands\n",
            "Democratic People's Republic of Korea\n",
            "Kiribati\n",
            "Micronesia (Federated States of)\n",
            "Nauru\n",
            "Niue\n",
            "Palau\n",
            "Pitcairn Islands\n",
            "Saint Helena\n",
            "Tokelau\n",
            "Tonga\n",
            "Tuvalu\n"
          ],
          "name": "stdout"
        }
      ]
    },
    {
      "cell_type": "code",
      "metadata": {
        "colab": {
          "base_uri": "https://localhost:8080/"
        },
        "id": "6eTiuB_pA-KG",
        "outputId": "7555f877-e9f3-4e2b-ed4c-494edf31b8ec"
      },
      "source": [
        "happDF[happDF.isnull().any(axis=1)]['Country']"
      ],
      "execution_count": 23,
      "outputs": [
        {
          "output_type": "execute_result",
          "data": {
            "text/plain": [
              "Series([], Name: Country, dtype: object)"
            ]
          },
          "metadata": {
            "tags": []
          },
          "execution_count": 23
        }
      ]
    },
    {
      "cell_type": "code",
      "metadata": {
        "colab": {
          "base_uri": "https://localhost:8080/"
        },
        "id": "eYS0ZhsoRcfF",
        "outputId": "7e835825-1fa0-4036-d350-993b255c6890"
      },
      "source": [
        "for country in happDF[happDF.isnull().any(axis=1)]['Country']:\n",
        "  print(country)\n",
        "  deaths=input(\"Enter deaths for country\")\n",
        "  happDF.loc[happDF['Country']==country,'deaths']=deaths\n"
      ],
      "execution_count": 22,
      "outputs": [
        {
          "output_type": "stream",
          "text": [
            "United States\n",
            "Enter deaths for country1376\n",
            "Czech Republic\n",
            "Enter deaths for country1609\n",
            "Taiwan Province of China\n",
            "Enter deaths for country0\n",
            "Kosovo\n",
            "Enter deaths for country811\n",
            "South Korea\n",
            "Enter deaths for country28.69\n",
            "Bolivia\n",
            "Enter deaths for country915\n",
            "Moldova\n",
            "Enter deaths for country875\n",
            "Russia\n",
            "Enter deaths for country525\n",
            "North Cyprus\n",
            "Enter deaths for country174\n",
            "Hong Kong S.A.R. of China\n",
            "Enter deaths for country0\n",
            "Vietnam\n",
            "Enter deaths for country.36\n",
            "Ivory Coast\n",
            "Enter deaths for country6.14\n",
            "Congo (Brazzaville)\n",
            "Enter deaths for country22\n",
            "Macedonia\n",
            "Enter deaths for country1399\n",
            "Venezuela\n",
            "Enter deaths for country43\n",
            "Laos\n",
            "Enter deaths for country0\n",
            "Iran\n",
            "Enter deaths for country695\n",
            "Palestinian Territories\n",
            "Enter deaths for country403\n",
            "Congo (Kinshasa)\n",
            "Enter deaths for country7.58\n",
            "Swaziland\n",
            "Enter deaths for country0\n",
            "Tanzania\n",
            "Enter deaths for country.35\n"
          ],
          "name": "stdout"
        }
      ]
    },
    {
      "cell_type": "code",
      "metadata": {
        "colab": {
          "base_uri": "https://localhost:8080/",
          "height": 298
        },
        "id": "ToSshe_IPWT3",
        "outputId": "1432c338-f7f6-472b-b24a-23dfaca16086"
      },
      "source": [
        "sns.scatterplot(data=happDF,y='Score',x='deaths')"
      ],
      "execution_count": 26,
      "outputs": [
        {
          "output_type": "execute_result",
          "data": {
            "text/plain": [
              "<matplotlib.axes._subplots.AxesSubplot at 0x7f5462f0b990>"
            ]
          },
          "metadata": {
            "tags": []
          },
          "execution_count": 26
        },
        {
          "output_type": "display_data",
          "data": {
            "image/png": "[encoded data removed]",
            "text/plain": [
              "<Figure size 432x288 with 1 Axes>"
            ]
          },
          "metadata": {
            "tags": [],
            "needs_background": "light"
          }
        }
      ]
    },
    {
      "cell_type": "code",
      "metadata": {
        "colab": {
          "base_uri": "https://localhost:8080/",
          "height": 103
        },
        "id": "e9uMS1lRPWIe",
        "outputId": "577d934e-4ed8-4a33-cf7d-7bdf2f7148cd"
      },
      "source": [
        "happDF.corr()"
      ],
      "execution_count": 30,
      "outputs": [
        {
          "output_type": "execute_result",
          "data": {
            "text/html": [
              "<div>\n",
              "<style scoped>\n",
              "    .dataframe tbody tr th:only-of-type {\n",
              "        vertical-align: middle;\n",
              "    }\n",
              "\n",
              "    .dataframe tbody tr th {\n",
              "        vertical-align: top;\n",
              "    }\n",
              "\n",
              "    .dataframe thead th {\n",
              "        text-align: right;\n",
              "    }\n",
              "</style>\n",
              "<table border=\"1\" class=\"dataframe\">\n",
              "  <thead>\n",
              "    <tr style=\"text-align: right;\">\n",
              "      <th></th>\n",
              "      <th>Score</th>\n",
              "      <th>deaths</th>\n",
              "    </tr>\n",
              "  </thead>\n",
              "  <tbody>\n",
              "    <tr>\n",
              "      <th>Score</th>\n",
              "      <td>1.000000</td>\n",
              "      <td>0.453752</td>\n",
              "    </tr>\n",
              "    <tr>\n",
              "      <th>deaths</th>\n",
              "      <td>0.453752</td>\n",
              "      <td>1.000000</td>\n",
              "    </tr>\n",
              "  </tbody>\n",
              "</table>\n",
              "</div>"
            ],
            "text/plain": [
              "           Score    deaths\n",
              "Score   1.000000  0.453752\n",
              "deaths  0.453752  1.000000"
            ]
          },
          "metadata": {
            "tags": []
          },
          "execution_count": 30
        }
      ]
    },
    {
      "cell_type": "code",
      "metadata": {
        "id": "wpnYTjpkvSTf"
      },
      "source": [
        "happDF['deaths']=pd.to_numeric(happDF['deaths'])"
      ],
      "execution_count": 29,
      "outputs": []
    },
    {
      "cell_type": "code",
      "metadata": {
        "colab": {
          "base_uri": "https://localhost:8080/"
        },
        "id": "neO_EcnjPV6R",
        "outputId": "eb95b6cb-2e16-48f9-bf5a-eab167b7d8d1"
      },
      "source": [
        "happDF.info()"
      ],
      "execution_count": 28,
      "outputs": [
        {
          "output_type": "stream",
          "text": [
            "<class 'pandas.core.frame.DataFrame'>\n",
            "RangeIndex: 153 entries, 0 to 152\n",
            "Data columns (total 3 columns):\n",
            " #   Column   Non-Null Count  Dtype  \n",
            "---  ------   --------------  -----  \n",
            " 0   Country  153 non-null    object \n",
            " 1   Score    153 non-null    float64\n",
            " 2   deaths   153 non-null    object \n",
            "dtypes: float64(1), object(2)\n",
            "memory usage: 3.7+ KB\n"
          ],
          "name": "stdout"
        }
      ]
    },
    {
      "cell_type": "markdown",
      "metadata": {
        "id": "Y80-Sbr9wnxh"
      },
      "source": [
        "Start from here after uploading and reading happDF"
      ]
    },
    {
      "cell_type": "code",
      "metadata": {
        "colab": {
          "base_uri": "https://localhost:8080/"
        },
        "id": "___gtggjROcL",
        "outputId": "03619263-110a-474e-c377-27c00d96cf9e"
      },
      "source": [
        "wbdata.get_country(\"USA\")"
      ],
      "execution_count": 31,
      "outputs": [
        {
          "output_type": "execute_result",
          "data": {
            "text/plain": [
              "id    name\n",
              "----  -------------\n",
              "USA   United States"
            ]
          },
          "metadata": {
            "tags": []
          },
          "execution_count": 31
        }
      ]
    },
    {
      "cell_type": "code",
      "metadata": {
        "id": "EjFuBPesNC8-"
      },
      "source": [
        "countries = [i['id'] for i in wbdata.get_country()] "
      ],
      "execution_count": 32,
      "outputs": []
    },
    {
      "cell_type": "markdown",
      "metadata": {
        "id": "obhEju9VKqH5"
      },
      "source": [
        "List of all countries/regions for which data is avalaible in World Bank data api"
      ]
    },
    {
      "cell_type": "code",
      "metadata": {
        "colab": {
          "base_uri": "https://localhost:8080/"
        },
        "id": "ASG2iLNhPklB",
        "outputId": "7a572b71-cb08-40d5-b98b-f807e4da990a"
      },
      "source": [
        "len(countries)"
      ],
      "execution_count": 33,
      "outputs": [
        {
          "output_type": "execute_result",
          "data": {
            "text/plain": [
              "297"
            ]
          },
          "metadata": {
            "tags": []
          },
          "execution_count": 33
        }
      ]
    },
    {
      "cell_type": "code",
      "metadata": {
        "id": "zEuYK7C8vwCI"
      },
      "source": [
        ""
      ],
      "execution_count": 34,
      "outputs": []
    },
    {
      "cell_type": "markdown",
      "metadata": {
        "id": "LnGxqb4JKis2"
      },
      "source": [
        "The code below collects the data from the World Bank data api"
      ]
    },
    {
      "cell_type": "code",
      "metadata": {
        "id": "7LsT0wcI48e2"
      },
      "source": [
        ""
      ],
      "execution_count": null,
      "outputs": []
    },
    {
      "cell_type": "code",
      "metadata": {
        "id": "Q1GTUBNNRlQe"
      },
      "source": [
        "data_date = datetime.datetime(2019, 1,1), datetime.datetime(2019, 1, 1)\n",
        "indicator1={\"SP.POP.DPND\":\"PopDep\",\"IC.BUS.EASE.XQ\": \"EaseofB\",\"NY.GDP.PCAP.PP.CD\":\"GDPpppPC\",\"SP.POP.GROW\":\"PopGrowth\",\"SP.URB.TOTL.IN.ZS\":\"UrbanPop\"}\n",
        "wbdf1= wbdata.get_dataframe(indicator1, country=countries[0:250], data_date=data_date)\n",
        "wbdf2=wbdata.get_dataframe(indicator1, country=countries[251:], data_date=data_date)\n",
        "df1=pd.concat([wbdf1,wbdf2],axis=0)"
      ],
      "execution_count": 44,
      "outputs": []
    },
    {
      "cell_type": "code",
      "metadata": {
        "id": "pL3lJFXxWcZs"
      },
      "source": [
        "data_date = datetime.datetime(2016, 1,1), datetime.datetime(2016, 1, 1)\n",
        "indicator1={\"SE.XPD.TOTL.GD.ZS\":\"GexpEdu\",\"MS.MIL.XPND.GD.ZS\": \"MilExpGdp\",\"SH.MED.PHYS.ZS\":\"HosBedP1000\",\"SP.DYN.LE00.IN\":\"LifeExp\"}\n",
        "wbdf1= wbdata.get_dataframe(indicator1, country=countries[0:250], data_date=data_date)\n",
        "wbdf2=wbdata.get_dataframe(indicator1, country=countries[251:], data_date=data_date)\n",
        "df2=pd.concat([wbdf1,wbdf2],axis=0)"
      ],
      "execution_count": 48,
      "outputs": []
    },
    {
      "cell_type": "code",
      "metadata": {
        "id": "f3KGA14E3qnM"
      },
      "source": [
        "data_date = datetime.datetime(2018, 1,1), datetime.datetime(2018, 1, 1)\n",
        "indicator1={\"EG.ELC.ACCS.ZS\":\"ElecAces\",\"SL.TLF.TOTL.FE.ZS\": \"Fem%Lab\",\"IP.PAT.RESD\":\"Patents\",\"SL.UEM.TOTL.ZS\":\"UnemplR\"}\n",
        "wbdf1= wbdata.get_dataframe(indicator1, country=countries[0:250], data_date=data_date)\n",
        "wbdf2=wbdata.get_dataframe(indicator1, country=countries[251:], data_date=data_date)\n",
        "df3=pd.concat([wbdf1,wbdf2],axis=0)"
      ],
      "execution_count": 50,
      "outputs": []
    },
    {
      "cell_type": "code",
      "metadata": {
        "id": "Dw4QrJQg2CUE"
      },
      "source": [
        " 2018    "
      ],
      "execution_count": null,
      "outputs": []
    },
    {
      "cell_type": "code",
      "metadata": {
        "id": "vDQF0AaIWcQ1"
      },
      "source": [
        "wbdf=pd.concat([df1,df2,df3],axis=1)"
      ],
      "execution_count": 54,
      "outputs": []
    },
    {
      "cell_type": "code",
      "metadata": {
        "colab": {
          "base_uri": "https://localhost:8080/",
          "height": 417
        },
        "id": "5tnWFV6n4bts",
        "outputId": "8c3bd298-03c2-48e2-89b3-d37798f4bef0"
      },
      "source": [
        "wbdf"
      ],
      "execution_count": 55,
      "outputs": [
        {
          "output_type": "execute_result",
          "data": {
            "text/html": [
              "<div>\n",
              "<style scoped>\n",
              "    .dataframe tbody tr th:only-of-type {\n",
              "        vertical-align: middle;\n",
              "    }\n",
              "\n",
              "    .dataframe tbody tr th {\n",
              "        vertical-align: top;\n",
              "    }\n",
              "\n",
              "    .dataframe thead th {\n",
              "        text-align: right;\n",
              "    }\n",
              "</style>\n",
              "<table border=\"1\" class=\"dataframe\">\n",
              "  <thead>\n",
              "    <tr style=\"text-align: right;\">\n",
              "      <th></th>\n",
              "      <th>PopDep</th>\n",
              "      <th>EaseofB</th>\n",
              "      <th>GDPpppPC</th>\n",
              "      <th>PopGrowth</th>\n",
              "      <th>UrbanPop</th>\n",
              "      <th>GexpEdu</th>\n",
              "      <th>MilExpGdp</th>\n",
              "      <th>HosBedP1000</th>\n",
              "      <th>LifeExp</th>\n",
              "      <th>ElecAces</th>\n",
              "      <th>Fem%Lab</th>\n",
              "      <th>Patents</th>\n",
              "      <th>UnemplR</th>\n",
              "    </tr>\n",
              "    <tr>\n",
              "      <th>country</th>\n",
              "      <th></th>\n",
              "      <th></th>\n",
              "      <th></th>\n",
              "      <th></th>\n",
              "      <th></th>\n",
              "      <th></th>\n",
              "      <th></th>\n",
              "      <th></th>\n",
              "      <th></th>\n",
              "      <th></th>\n",
              "      <th></th>\n",
              "      <th></th>\n",
              "      <th></th>\n",
              "    </tr>\n",
              "  </thead>\n",
              "  <tbody>\n",
              "    <tr>\n",
              "      <th>Aruba</th>\n",
              "      <td>46.367454</td>\n",
              "      <td>NaN</td>\n",
              "      <td>NaN</td>\n",
              "      <td>0.442122</td>\n",
              "      <td>43.546</td>\n",
              "      <td>5.52415</td>\n",
              "      <td>NaN</td>\n",
              "      <td>NaN</td>\n",
              "      <td>75.868000</td>\n",
              "      <td>100.000000</td>\n",
              "      <td>NaN</td>\n",
              "      <td>NaN</td>\n",
              "      <td>NaN</td>\n",
              "    </tr>\n",
              "    <tr>\n",
              "      <th>Afghanistan</th>\n",
              "      <td>82.109775</td>\n",
              "      <td>173.0</td>\n",
              "      <td>2156.419482</td>\n",
              "      <td>2.311817</td>\n",
              "      <td>25.754</td>\n",
              "      <td>4.22836</td>\n",
              "      <td>0.956772</td>\n",
              "      <td>0.2782</td>\n",
              "      <td>63.763000</td>\n",
              "      <td>98.713203</td>\n",
              "      <td>21.247021</td>\n",
              "      <td>NaN</td>\n",
              "      <td>11.06</td>\n",
              "    </tr>\n",
              "    <tr>\n",
              "      <th>Angola</th>\n",
              "      <td>95.394042</td>\n",
              "      <td>177.0</td>\n",
              "      <td>6965.511374</td>\n",
              "      <td>3.242983</td>\n",
              "      <td>66.177</td>\n",
              "      <td>NaN</td>\n",
              "      <td>2.733341</td>\n",
              "      <td>NaN</td>\n",
              "      <td>59.925000</td>\n",
              "      <td>43.259258</td>\n",
              "      <td>50.202910</td>\n",
              "      <td>6.0</td>\n",
              "      <td>7.00</td>\n",
              "    </tr>\n",
              "    <tr>\n",
              "      <th>Albania</th>\n",
              "      <td>46.203522</td>\n",
              "      <td>82.0</td>\n",
              "      <td>14648.267402</td>\n",
              "      <td>-0.426007</td>\n",
              "      <td>61.229</td>\n",
              "      <td>3.96209</td>\n",
              "      <td>1.103581</td>\n",
              "      <td>1.2164</td>\n",
              "      <td>78.194000</td>\n",
              "      <td>100.000000</td>\n",
              "      <td>42.190687</td>\n",
              "      <td>15.0</td>\n",
              "      <td>12.30</td>\n",
              "    </tr>\n",
              "    <tr>\n",
              "      <th>Andorra</th>\n",
              "      <td>NaN</td>\n",
              "      <td>NaN</td>\n",
              "      <td>NaN</td>\n",
              "      <td>0.176454</td>\n",
              "      <td>87.984</td>\n",
              "      <td>3.23707</td>\n",
              "      <td>NaN</td>\n",
              "      <td>NaN</td>\n",
              "      <td>NaN</td>\n",
              "      <td>100.000000</td>\n",
              "      <td>NaN</td>\n",
              "      <td>1.0</td>\n",
              "      <td>NaN</td>\n",
              "    </tr>\n",
              "    <tr>\n",
              "      <th>...</th>\n",
              "      <td>...</td>\n",
              "      <td>...</td>\n",
              "      <td>...</td>\n",
              "      <td>...</td>\n",
              "      <td>...</td>\n",
              "      <td>...</td>\n",
              "      <td>...</td>\n",
              "      <td>...</td>\n",
              "      <td>...</td>\n",
              "      <td>...</td>\n",
              "      <td>...</td>\n",
              "      <td>...</td>\n",
              "      <td>...</td>\n",
              "    </tr>\n",
              "    <tr>\n",
              "      <th>Kosovo</th>\n",
              "      <td>NaN</td>\n",
              "      <td>57.0</td>\n",
              "      <td>11870.797576</td>\n",
              "      <td>-0.157992</td>\n",
              "      <td>NaN</td>\n",
              "      <td>NaN</td>\n",
              "      <td>0.773671</td>\n",
              "      <td>NaN</td>\n",
              "      <td>71.646341</td>\n",
              "      <td>100.000000</td>\n",
              "      <td>NaN</td>\n",
              "      <td>NaN</td>\n",
              "      <td>NaN</td>\n",
              "    </tr>\n",
              "    <tr>\n",
              "      <th>Yemen, Rep.</th>\n",
              "      <td>72.787716</td>\n",
              "      <td>187.0</td>\n",
              "      <td>NaN</td>\n",
              "      <td>2.300580</td>\n",
              "      <td>37.273</td>\n",
              "      <td>NaN</td>\n",
              "      <td>NaN</td>\n",
              "      <td>NaN</td>\n",
              "      <td>66.087000</td>\n",
              "      <td>62.000000</td>\n",
              "      <td>7.895299</td>\n",
              "      <td>NaN</td>\n",
              "      <td>13.01</td>\n",
              "    </tr>\n",
              "    <tr>\n",
              "      <th>South Africa</th>\n",
              "      <td>52.400879</td>\n",
              "      <td>84.0</td>\n",
              "      <td>13034.164661</td>\n",
              "      <td>1.338617</td>\n",
              "      <td>66.856</td>\n",
              "      <td>5.94285</td>\n",
              "      <td>1.075530</td>\n",
              "      <td>0.7997</td>\n",
              "      <td>63.153000</td>\n",
              "      <td>91.229874</td>\n",
              "      <td>45.281073</td>\n",
              "      <td>657.0</td>\n",
              "      <td>26.91</td>\n",
              "    </tr>\n",
              "    <tr>\n",
              "      <th>Zambia</th>\n",
              "      <td>87.188180</td>\n",
              "      <td>85.0</td>\n",
              "      <td>3624.024939</td>\n",
              "      <td>2.892373</td>\n",
              "      <td>44.072</td>\n",
              "      <td>3.74792</td>\n",
              "      <td>1.429305</td>\n",
              "      <td>0.1628</td>\n",
              "      <td>62.464000</td>\n",
              "      <td>39.812622</td>\n",
              "      <td>48.295769</td>\n",
              "      <td>11.0</td>\n",
              "      <td>12.01</td>\n",
              "    </tr>\n",
              "    <tr>\n",
              "      <th>Zimbabwe</th>\n",
              "      <td>82.277970</td>\n",
              "      <td>140.0</td>\n",
              "      <td>2961.446428</td>\n",
              "      <td>1.419681</td>\n",
              "      <td>32.210</td>\n",
              "      <td>NaN</td>\n",
              "      <td>1.742494</td>\n",
              "      <td>0.1788</td>\n",
              "      <td>60.294000</td>\n",
              "      <td>41.041584</td>\n",
              "      <td>50.928141</td>\n",
              "      <td>NaN</td>\n",
              "      <td>5.07</td>\n",
              "    </tr>\n",
              "  </tbody>\n",
              "</table>\n",
              "<p>263 rows × 13 columns</p>\n",
              "</div>"
            ],
            "text/plain": [
              "                 PopDep  EaseofB      GDPpppPC  ...    Fem%Lab  Patents  UnemplR\n",
              "country                                         ...                             \n",
              "Aruba         46.367454      NaN           NaN  ...        NaN      NaN      NaN\n",
              "Afghanistan   82.109775    173.0   2156.419482  ...  21.247021      NaN    11.06\n",
              "Angola        95.394042    177.0   6965.511374  ...  50.202910      6.0     7.00\n",
              "Albania       46.203522     82.0  14648.267402  ...  42.190687     15.0    12.30\n",
              "Andorra             NaN      NaN           NaN  ...        NaN      1.0      NaN\n",
              "...                 ...      ...           ...  ...        ...      ...      ...\n",
              "Kosovo              NaN     57.0  11870.797576  ...        NaN      NaN      NaN\n",
              "Yemen, Rep.   72.787716    187.0           NaN  ...   7.895299      NaN    13.01\n",
              "South Africa  52.400879     84.0  13034.164661  ...  45.281073    657.0    26.91\n",
              "Zambia        87.188180     85.0   3624.024939  ...  48.295769     11.0    12.01\n",
              "Zimbabwe      82.277970    140.0   2961.446428  ...  50.928141      NaN     5.07\n",
              "\n",
              "[263 rows x 13 columns]"
            ]
          },
          "metadata": {
            "tags": []
          },
          "execution_count": 55
        }
      ]
    },
    {
      "cell_type": "code",
      "metadata": {
        "id": "Ez4RE4sDUjX5",
        "colab": {
          "base_uri": "https://localhost:8080/"
        },
        "outputId": "2ad66526-2537-49d3-83f0-be97339137b6"
      },
      "source": [
        "wbdf.isnull().sum()"
      ],
      "execution_count": 56,
      "outputs": [
        {
          "output_type": "execute_result",
          "data": {
            "text/plain": [
              "PopDep          25\n",
              "EaseofB         75\n",
              "GDPpppPC        32\n",
              "PopGrowth        2\n",
              "UrbanPop         4\n",
              "GexpEdu        122\n",
              "MilExpGdp       71\n",
              "HosBedP1000    151\n",
              "LifeExp         17\n",
              "ElecAces         3\n",
              "Fem%Lab         31\n",
              "Patents        112\n",
              "UnemplR         31\n",
              "dtype: int64"
            ]
          },
          "metadata": {
            "tags": []
          },
          "execution_count": 56
        }
      ]
    },
    {
      "cell_type": "markdown",
      "metadata": {
        "id": "xJMgHBaIKZOq"
      },
      "source": [
        "There are several null values in the data that may not be considered"
      ]
    },
    {
      "cell_type": "code",
      "metadata": {
        "id": "jceQvxx0WaTI"
      },
      "source": [
        "wbdf.reset_index(inplace=True)"
      ],
      "execution_count": 60,
      "outputs": []
    },
    {
      "cell_type": "code",
      "metadata": {
        "id": "RySD3jkAT1eq"
      },
      "source": [
        "wbdf.drop('index',axis=1,inplace=True)"
      ],
      "execution_count": 63,
      "outputs": []
    },
    {
      "cell_type": "code",
      "metadata": {
        "id": "DZCzv6iveIrk",
        "colab": {
          "base_uri": "https://localhost:8080/",
          "height": 388
        },
        "outputId": "be3626cb-4bfc-473e-fcc6-de582b06b083"
      },
      "source": [
        "wbdf"
      ],
      "execution_count": 64,
      "outputs": [
        {
          "output_type": "execute_result",
          "data": {
            "text/html": [
              "<div>\n",
              "<style scoped>\n",
              "    .dataframe tbody tr th:only-of-type {\n",
              "        vertical-align: middle;\n",
              "    }\n",
              "\n",
              "    .dataframe tbody tr th {\n",
              "        vertical-align: top;\n",
              "    }\n",
              "\n",
              "    .dataframe thead th {\n",
              "        text-align: right;\n",
              "    }\n",
              "</style>\n",
              "<table border=\"1\" class=\"dataframe\">\n",
              "  <thead>\n",
              "    <tr style=\"text-align: right;\">\n",
              "      <th></th>\n",
              "      <th>country</th>\n",
              "      <th>PopDep</th>\n",
              "      <th>EaseofB</th>\n",
              "      <th>GDPpppPC</th>\n",
              "      <th>PopGrowth</th>\n",
              "      <th>UrbanPop</th>\n",
              "      <th>GexpEdu</th>\n",
              "      <th>MilExpGdp</th>\n",
              "      <th>HosBedP1000</th>\n",
              "      <th>LifeExp</th>\n",
              "      <th>ElecAces</th>\n",
              "      <th>Fem%Lab</th>\n",
              "      <th>Patents</th>\n",
              "      <th>UnemplR</th>\n",
              "    </tr>\n",
              "  </thead>\n",
              "  <tbody>\n",
              "    <tr>\n",
              "      <th>0</th>\n",
              "      <td>Aruba</td>\n",
              "      <td>46.367454</td>\n",
              "      <td>NaN</td>\n",
              "      <td>NaN</td>\n",
              "      <td>0.442122</td>\n",
              "      <td>43.546</td>\n",
              "      <td>5.52415</td>\n",
              "      <td>NaN</td>\n",
              "      <td>NaN</td>\n",
              "      <td>75.868000</td>\n",
              "      <td>100.000000</td>\n",
              "      <td>NaN</td>\n",
              "      <td>NaN</td>\n",
              "      <td>NaN</td>\n",
              "    </tr>\n",
              "    <tr>\n",
              "      <th>1</th>\n",
              "      <td>Afghanistan</td>\n",
              "      <td>82.109775</td>\n",
              "      <td>173.0</td>\n",
              "      <td>2156.419482</td>\n",
              "      <td>2.311817</td>\n",
              "      <td>25.754</td>\n",
              "      <td>4.22836</td>\n",
              "      <td>0.956772</td>\n",
              "      <td>0.2782</td>\n",
              "      <td>63.763000</td>\n",
              "      <td>98.713203</td>\n",
              "      <td>21.247021</td>\n",
              "      <td>NaN</td>\n",
              "      <td>11.06</td>\n",
              "    </tr>\n",
              "    <tr>\n",
              "      <th>2</th>\n",
              "      <td>Angola</td>\n",
              "      <td>95.394042</td>\n",
              "      <td>177.0</td>\n",
              "      <td>6965.511374</td>\n",
              "      <td>3.242983</td>\n",
              "      <td>66.177</td>\n",
              "      <td>NaN</td>\n",
              "      <td>2.733341</td>\n",
              "      <td>NaN</td>\n",
              "      <td>59.925000</td>\n",
              "      <td>43.259258</td>\n",
              "      <td>50.202910</td>\n",
              "      <td>6.0</td>\n",
              "      <td>7.00</td>\n",
              "    </tr>\n",
              "    <tr>\n",
              "      <th>3</th>\n",
              "      <td>Albania</td>\n",
              "      <td>46.203522</td>\n",
              "      <td>82.0</td>\n",
              "      <td>14648.267402</td>\n",
              "      <td>-0.426007</td>\n",
              "      <td>61.229</td>\n",
              "      <td>3.96209</td>\n",
              "      <td>1.103581</td>\n",
              "      <td>1.2164</td>\n",
              "      <td>78.194000</td>\n",
              "      <td>100.000000</td>\n",
              "      <td>42.190687</td>\n",
              "      <td>15.0</td>\n",
              "      <td>12.30</td>\n",
              "    </tr>\n",
              "    <tr>\n",
              "      <th>4</th>\n",
              "      <td>Andorra</td>\n",
              "      <td>NaN</td>\n",
              "      <td>NaN</td>\n",
              "      <td>NaN</td>\n",
              "      <td>0.176454</td>\n",
              "      <td>87.984</td>\n",
              "      <td>3.23707</td>\n",
              "      <td>NaN</td>\n",
              "      <td>NaN</td>\n",
              "      <td>NaN</td>\n",
              "      <td>100.000000</td>\n",
              "      <td>NaN</td>\n",
              "      <td>1.0</td>\n",
              "      <td>NaN</td>\n",
              "    </tr>\n",
              "    <tr>\n",
              "      <th>...</th>\n",
              "      <td>...</td>\n",
              "      <td>...</td>\n",
              "      <td>...</td>\n",
              "      <td>...</td>\n",
              "      <td>...</td>\n",
              "      <td>...</td>\n",
              "      <td>...</td>\n",
              "      <td>...</td>\n",
              "      <td>...</td>\n",
              "      <td>...</td>\n",
              "      <td>...</td>\n",
              "      <td>...</td>\n",
              "      <td>...</td>\n",
              "      <td>...</td>\n",
              "    </tr>\n",
              "    <tr>\n",
              "      <th>258</th>\n",
              "      <td>Kosovo</td>\n",
              "      <td>NaN</td>\n",
              "      <td>57.0</td>\n",
              "      <td>11870.797576</td>\n",
              "      <td>-0.157992</td>\n",
              "      <td>NaN</td>\n",
              "      <td>NaN</td>\n",
              "      <td>0.773671</td>\n",
              "      <td>NaN</td>\n",
              "      <td>71.646341</td>\n",
              "      <td>100.000000</td>\n",
              "      <td>NaN</td>\n",
              "      <td>NaN</td>\n",
              "      <td>NaN</td>\n",
              "    </tr>\n",
              "    <tr>\n",
              "      <th>259</th>\n",
              "      <td>Yemen, Rep.</td>\n",
              "      <td>72.787716</td>\n",
              "      <td>187.0</td>\n",
              "      <td>NaN</td>\n",
              "      <td>2.300580</td>\n",
              "      <td>37.273</td>\n",
              "      <td>NaN</td>\n",
              "      <td>NaN</td>\n",
              "      <td>NaN</td>\n",
              "      <td>66.087000</td>\n",
              "      <td>62.000000</td>\n",
              "      <td>7.895299</td>\n",
              "      <td>NaN</td>\n",
              "      <td>13.01</td>\n",
              "    </tr>\n",
              "    <tr>\n",
              "      <th>260</th>\n",
              "      <td>South Africa</td>\n",
              "      <td>52.400879</td>\n",
              "      <td>84.0</td>\n",
              "      <td>13034.164661</td>\n",
              "      <td>1.338617</td>\n",
              "      <td>66.856</td>\n",
              "      <td>5.94285</td>\n",
              "      <td>1.075530</td>\n",
              "      <td>0.7997</td>\n",
              "      <td>63.153000</td>\n",
              "      <td>91.229874</td>\n",
              "      <td>45.281073</td>\n",
              "      <td>657.0</td>\n",
              "      <td>26.91</td>\n",
              "    </tr>\n",
              "    <tr>\n",
              "      <th>261</th>\n",
              "      <td>Zambia</td>\n",
              "      <td>87.188180</td>\n",
              "      <td>85.0</td>\n",
              "      <td>3624.024939</td>\n",
              "      <td>2.892373</td>\n",
              "      <td>44.072</td>\n",
              "      <td>3.74792</td>\n",
              "      <td>1.429305</td>\n",
              "      <td>0.1628</td>\n",
              "      <td>62.464000</td>\n",
              "      <td>39.812622</td>\n",
              "      <td>48.295769</td>\n",
              "      <td>11.0</td>\n",
              "      <td>12.01</td>\n",
              "    </tr>\n",
              "    <tr>\n",
              "      <th>262</th>\n",
              "      <td>Zimbabwe</td>\n",
              "      <td>82.277970</td>\n",
              "      <td>140.0</td>\n",
              "      <td>2961.446428</td>\n",
              "      <td>1.419681</td>\n",
              "      <td>32.210</td>\n",
              "      <td>NaN</td>\n",
              "      <td>1.742494</td>\n",
              "      <td>0.1788</td>\n",
              "      <td>60.294000</td>\n",
              "      <td>41.041584</td>\n",
              "      <td>50.928141</td>\n",
              "      <td>NaN</td>\n",
              "      <td>5.07</td>\n",
              "    </tr>\n",
              "  </tbody>\n",
              "</table>\n",
              "<p>263 rows × 14 columns</p>\n",
              "</div>"
            ],
            "text/plain": [
              "          country     PopDep  EaseofB  ...    Fem%Lab  Patents  UnemplR\n",
              "0           Aruba  46.367454      NaN  ...        NaN      NaN      NaN\n",
              "1     Afghanistan  82.109775    173.0  ...  21.247021      NaN    11.06\n",
              "2          Angola  95.394042    177.0  ...  50.202910      6.0     7.00\n",
              "3         Albania  46.203522     82.0  ...  42.190687     15.0    12.30\n",
              "4         Andorra        NaN      NaN  ...        NaN      1.0      NaN\n",
              "..            ...        ...      ...  ...        ...      ...      ...\n",
              "258        Kosovo        NaN     57.0  ...        NaN      NaN      NaN\n",
              "259   Yemen, Rep.  72.787716    187.0  ...   7.895299      NaN    13.01\n",
              "260  South Africa  52.400879     84.0  ...  45.281073    657.0    26.91\n",
              "261        Zambia  87.188180     85.0  ...  48.295769     11.0    12.01\n",
              "262      Zimbabwe  82.277970    140.0  ...  50.928141      NaN     5.07\n",
              "\n",
              "[263 rows x 14 columns]"
            ]
          },
          "metadata": {
            "tags": []
          },
          "execution_count": 64
        }
      ]
    },
    {
      "cell_type": "markdown",
      "metadata": {
        "id": "E3lKV4Polx-k"
      },
      "source": [
        "The code below will copy the deaths per capita values for each country into the World Bank indicator dataframe\n",
        "\n"
      ]
    },
    {
      "cell_type": "code",
      "metadata": {
        "id": "coO3g5yTbJiJ",
        "colab": {
          "base_uri": "https://localhost:8080/"
        },
        "outputId": "4919d8eb-0122-4866-e8fe-07fe9ec61b5f"
      },
      "source": [
        "for i in happDF.index:\n",
        "  score=happDF.iloc[i]['Score']\n",
        "  country=happDF['Country'][i]\n",
        "  wbdf.loc[wbdf['country']==country,'HappScore']=score\n",
        "  if ((wbdf['country']==country).sum()==0):\n",
        "    print(country)\n",
        "  #print(dfwho['Country'][i],deathsTM)"
      ],
      "execution_count": 66,
      "outputs": [
        {
          "output_type": "stream",
          "text": [
            "Taiwan Province of China\n",
            "Slovenia\n",
            "Slovakia\n",
            "South Korea\n",
            "Russia\n",
            "Kyrgyzstan\n",
            "North Cyprus\n",
            "Hong Kong S.A.R. of China\n",
            "Ivory Coast\n",
            "Congo (Brazzaville)\n",
            "Macedonia\n",
            "Venezuela\n",
            "Laos\n",
            "Gambia\n",
            "Iran\n",
            "Palestinian Territories\n",
            "Congo (Kinshasa)\n",
            "Swaziland\n",
            "Egypt\n",
            "Yemen\n"
          ],
          "name": "stdout"
        }
      ]
    },
    {
      "cell_type": "markdown",
      "metadata": {
        "id": "vKaKh-1vJXHw"
      },
      "source": [
        "The list above identifies countries with different names in the World Bank database and WHO database "
      ]
    },
    {
      "cell_type": "code",
      "metadata": {
        "colab": {
          "base_uri": "https://localhost:8080/",
          "height": 75
        },
        "id": "o3JKEYK9_MGQ",
        "outputId": "6cefe612-f409-41ad-c14d-14fc5a6ec646"
      },
      "source": [
        "wbdf[wbdf['country'].str.contains(\"Yemen\")]\n"
      ],
      "execution_count": 145,
      "outputs": [
        {
          "output_type": "execute_result",
          "data": {
            "text/html": [
              "<div>\n",
              "<style scoped>\n",
              "    .dataframe tbody tr th:only-of-type {\n",
              "        vertical-align: middle;\n",
              "    }\n",
              "\n",
              "    .dataframe tbody tr th {\n",
              "        vertical-align: top;\n",
              "    }\n",
              "\n",
              "    .dataframe thead th {\n",
              "        text-align: right;\n",
              "    }\n",
              "</style>\n",
              "<table border=\"1\" class=\"dataframe\">\n",
              "  <thead>\n",
              "    <tr style=\"text-align: right;\">\n",
              "      <th></th>\n",
              "      <th>country</th>\n",
              "      <th>PopDep</th>\n",
              "      <th>EaseofB</th>\n",
              "      <th>GDPpppPC</th>\n",
              "      <th>PopGrowth</th>\n",
              "      <th>UrbanPop</th>\n",
              "      <th>GexpEdu</th>\n",
              "      <th>MilExpGdp</th>\n",
              "      <th>HosBedP1000</th>\n",
              "      <th>LifeExp</th>\n",
              "      <th>ElecAces</th>\n",
              "      <th>Fem%Lab</th>\n",
              "      <th>Patents</th>\n",
              "      <th>UnemplR</th>\n",
              "      <th>HappScore</th>\n",
              "    </tr>\n",
              "  </thead>\n",
              "  <tbody>\n",
              "    <tr>\n",
              "      <th>259</th>\n",
              "      <td>Yemen, Rep.</td>\n",
              "      <td>72.787716</td>\n",
              "      <td>187.0</td>\n",
              "      <td>NaN</td>\n",
              "      <td>2.30058</td>\n",
              "      <td>37.273</td>\n",
              "      <td>NaN</td>\n",
              "      <td>NaN</td>\n",
              "      <td>NaN</td>\n",
              "      <td>66.087</td>\n",
              "      <td>62.0</td>\n",
              "      <td>7.895299</td>\n",
              "      <td>NaN</td>\n",
              "      <td>13.01</td>\n",
              "      <td>NaN</td>\n",
              "    </tr>\n",
              "  </tbody>\n",
              "</table>\n",
              "</div>"
            ],
            "text/plain": [
              "         country     PopDep  EaseofB  ...  Patents  UnemplR  HappScore\n",
              "259  Yemen, Rep.  72.787716    187.0  ...      NaN    13.01        NaN\n",
              "\n",
              "[1 rows x 15 columns]"
            ]
          },
          "metadata": {
            "tags": []
          },
          "execution_count": 145
        }
      ]
    },
    {
      "cell_type": "code",
      "metadata": {
        "id": "jC-4Co9CcD5J"
      },
      "source": [
        "wbdf.loc[wbdf['country'].str.contains(\"Yemen\"),'HappScore']=3.52"
      ],
      "execution_count": 147,
      "outputs": []
    },
    {
      "cell_type": "code",
      "metadata": {
        "id": "0FV-dwsAdon4",
        "colab": {
          "base_uri": "https://localhost:8080/",
          "height": 75
        },
        "outputId": "fe76823c-6dda-4b0d-fc37-b08a64fd0fe8"
      },
      "source": [
        "happDF[happDF['Country'].str.contains(\"Yemen\")]"
      ],
      "execution_count": 146,
      "outputs": [
        {
          "output_type": "execute_result",
          "data": {
            "text/html": [
              "<div>\n",
              "<style scoped>\n",
              "    .dataframe tbody tr th:only-of-type {\n",
              "        vertical-align: middle;\n",
              "    }\n",
              "\n",
              "    .dataframe tbody tr th {\n",
              "        vertical-align: top;\n",
              "    }\n",
              "\n",
              "    .dataframe thead th {\n",
              "        text-align: right;\n",
              "    }\n",
              "</style>\n",
              "<table border=\"1\" class=\"dataframe\">\n",
              "  <thead>\n",
              "    <tr style=\"text-align: right;\">\n",
              "      <th></th>\n",
              "      <th>Country</th>\n",
              "      <th>Score</th>\n",
              "      <th>deaths</th>\n",
              "    </tr>\n",
              "  </thead>\n",
              "  <tbody>\n",
              "    <tr>\n",
              "      <th>145</th>\n",
              "      <td>Yemen</td>\n",
              "      <td>3.5274</td>\n",
              "      <td>20.65</td>\n",
              "    </tr>\n",
              "  </tbody>\n",
              "</table>\n",
              "</div>"
            ],
            "text/plain": [
              "    Country   Score  deaths\n",
              "145   Yemen  3.5274   20.65"
            ]
          },
          "metadata": {
            "tags": []
          },
          "execution_count": 146
        }
      ]
    },
    {
      "cell_type": "markdown",
      "metadata": {
        "id": "EkbqXQa7J3BC"
      },
      "source": [
        "The above three lines manually fills the deaths per capita for countries with different names in the two databases\n",
        "Note: The above only shows one example. This was done for all countries in the list above"
      ]
    },
    {
      "cell_type": "code",
      "metadata": {
        "id": "HVJPwUW8o81s",
        "colab": {
          "base_uri": "https://localhost:8080/",
          "height": 103
        },
        "outputId": "bc8b3591-bad5-489b-a930-c0ca4c135cca"
      },
      "source": [
        "wbdf[wbdf['HappScore'].notna() & wbdf['EaseofB'].isnull()]"
      ],
      "execution_count": 156,
      "outputs": [
        {
          "output_type": "execute_result",
          "data": {
            "text/html": [
              "<div>\n",
              "<style scoped>\n",
              "    .dataframe tbody tr th:only-of-type {\n",
              "        vertical-align: middle;\n",
              "    }\n",
              "\n",
              "    .dataframe tbody tr th {\n",
              "        vertical-align: top;\n",
              "    }\n",
              "\n",
              "    .dataframe thead th {\n",
              "        text-align: right;\n",
              "    }\n",
              "</style>\n",
              "<table border=\"1\" class=\"dataframe\">\n",
              "  <thead>\n",
              "    <tr style=\"text-align: right;\">\n",
              "      <th></th>\n",
              "      <th>country</th>\n",
              "      <th>PopDep</th>\n",
              "      <th>EaseofB</th>\n",
              "      <th>GDPpppPC</th>\n",
              "      <th>PopGrowth</th>\n",
              "      <th>UrbanPop</th>\n",
              "      <th>GexpEdu</th>\n",
              "      <th>MilExpGdp</th>\n",
              "      <th>HosBedP1000</th>\n",
              "      <th>LifeExp</th>\n",
              "      <th>ElecAces</th>\n",
              "      <th>Fem%Lab</th>\n",
              "      <th>Patents</th>\n",
              "      <th>UnemplR</th>\n",
              "      <th>HappScore</th>\n",
              "    </tr>\n",
              "  </thead>\n",
              "  <tbody>\n",
              "    <tr>\n",
              "      <th>191</th>\n",
              "      <td>Korea, Dem. People’s Rep.</td>\n",
              "      <td>41.345495</td>\n",
              "      <td>NaN</td>\n",
              "      <td>NaN</td>\n",
              "      <td>0.454320</td>\n",
              "      <td>62.134</td>\n",
              "      <td>NaN</td>\n",
              "      <td>NaN</td>\n",
              "      <td>3.7011</td>\n",
              "      <td>71.711</td>\n",
              "      <td>48.490826</td>\n",
              "      <td>47.095034</td>\n",
              "      <td>NaN</td>\n",
              "      <td>2.66</td>\n",
              "      <td>5.8740</td>\n",
              "    </tr>\n",
              "    <tr>\n",
              "      <th>232</th>\n",
              "      <td>Turkmenistan</td>\n",
              "      <td>54.680754</td>\n",
              "      <td>NaN</td>\n",
              "      <td>NaN</td>\n",
              "      <td>1.546389</td>\n",
              "      <td>52.048</td>\n",
              "      <td>NaN</td>\n",
              "      <td>NaN</td>\n",
              "      <td>NaN</td>\n",
              "      <td>67.835</td>\n",
              "      <td>100.000000</td>\n",
              "      <td>39.506066</td>\n",
              "      <td>NaN</td>\n",
              "      <td>3.79</td>\n",
              "      <td>5.1191</td>\n",
              "    </tr>\n",
              "  </tbody>\n",
              "</table>\n",
              "</div>"
            ],
            "text/plain": [
              "                       country     PopDep  EaseofB  ...  Patents  UnemplR  HappScore\n",
              "191  Korea, Dem. People’s Rep.  41.345495      NaN  ...      NaN     2.66     5.8740\n",
              "232               Turkmenistan  54.680754      NaN  ...      NaN     3.79     5.1191\n",
              "\n",
              "[2 rows x 15 columns]"
            ]
          },
          "metadata": {
            "tags": []
          },
          "execution_count": 156
        }
      ]
    },
    {
      "cell_type": "code",
      "metadata": {
        "id": "RLbM7mVIpS1J"
      },
      "source": [
        "data_date = datetime.datetime(2016, 1,1), datetime.datetime(2016, 1, 1)\n",
        "indicator1={\"SE.XPD.TOTL.GD.ZS\":\"GexpEdu\"}#\"MS.MIL.XPND.GD.ZS\": \"MilExpGdp\",\"SH.MED.PHYS.ZS\":\"HosBedP1000\",\"SP.DYN.LE00.IN\":\"LifeExp\"}\n",
        "wbdf1= wbdata.get_dataframe(indicator1, country=countries[0:250], data_date=data_date)\n",
        "wbdf2=wbdata.get_dataframe(indicator1, country=countries[251:], data_date=data_date)\n",
        "df2=pd.concat([wbdf1,wbdf2],axis=0)"
      ],
      "execution_count": 165,
      "outputs": []
    },
    {
      "cell_type": "code",
      "metadata": {
        "id": "Sl_CpdUcpWss",
        "colab": {
          "base_uri": "https://localhost:8080/"
        },
        "outputId": "ca6da7c1-16ba-44fc-d103-8a6a05e0983f"
      },
      "source": [
        "df2.isnull().sum()"
      ],
      "execution_count": 166,
      "outputs": [
        {
          "output_type": "execute_result",
          "data": {
            "text/plain": [
              "GexpEdu    122\n",
              "dtype: int64"
            ]
          },
          "metadata": {
            "tags": []
          },
          "execution_count": 166
        }
      ]
    },
    {
      "cell_type": "code",
      "metadata": {
        "id": "lJ8zx8Ktprm6",
        "colab": {
          "base_uri": "https://localhost:8080/",
          "height": 673
        },
        "outputId": "c2619ee3-cf71-45b0-b4fc-c1cf51cdd5b9"
      },
      "source": [
        "plt.figure(figsize=(10,10))\n",
        "sns.heatmap(wbdf.corr(),annot=True)"
      ],
      "execution_count": 173,
      "outputs": [
        {
          "output_type": "execute_result",
          "data": {
            "text/plain": [
              "<matplotlib.axes._subplots.AxesSubplot at 0x7f5458a3b9d0>"
            ]
          },
          "metadata": {
            "tags": []
          },
          "execution_count": 173
        },
        {
          "output_type": "display_data",
          "data": {
            "image/png": "[encoded data removed]",
            "text/plain": [
              "<Figure size 720x720 with 2 Axes>"
            ]
          },
          "metadata": {
            "tags": [],
            "needs_background": "light"
          }
        }
      ]
    },
    {
      "cell_type": "code",
      "metadata": {
        "id": "c7F-FPlnuIWS",
        "colab": {
          "base_uri": "https://localhost:8080/",
          "height": 274
        },
        "outputId": "adb19fdf-8627-4566-f2ad-d3d13b295fa5"
      },
      "source": [
        "wbdf.describe()"
      ],
      "execution_count": 174,
      "outputs": [
        {
          "output_type": "execute_result",
          "data": {
            "text/html": [
              "<div>\n",
              "<style scoped>\n",
              "    .dataframe tbody tr th:only-of-type {\n",
              "        vertical-align: middle;\n",
              "    }\n",
              "\n",
              "    .dataframe tbody tr th {\n",
              "        vertical-align: top;\n",
              "    }\n",
              "\n",
              "    .dataframe thead th {\n",
              "        text-align: right;\n",
              "    }\n",
              "</style>\n",
              "<table border=\"1\" class=\"dataframe\">\n",
              "  <thead>\n",
              "    <tr style=\"text-align: right;\">\n",
              "      <th></th>\n",
              "      <th>PopDep</th>\n",
              "      <th>EaseofB</th>\n",
              "      <th>GDPpppPC</th>\n",
              "      <th>PopGrowth</th>\n",
              "      <th>UrbanPop</th>\n",
              "      <th>GexpEdu</th>\n",
              "      <th>MilExpGdp</th>\n",
              "      <th>HosBedP1000</th>\n",
              "      <th>LifeExp</th>\n",
              "      <th>ElecAces</th>\n",
              "      <th>Fem%Lab</th>\n",
              "      <th>Patents</th>\n",
              "      <th>UnemplR</th>\n",
              "      <th>HappScore</th>\n",
              "    </tr>\n",
              "  </thead>\n",
              "  <tbody>\n",
              "    <tr>\n",
              "      <th>count</th>\n",
              "      <td>238.000000</td>\n",
              "      <td>188.000000</td>\n",
              "      <td>231.000000</td>\n",
              "      <td>261.000000</td>\n",
              "      <td>259.000000</td>\n",
              "      <td>141.000000</td>\n",
              "      <td>192.000000</td>\n",
              "      <td>112.000000</td>\n",
              "      <td>246.000000</td>\n",
              "      <td>260.000000</td>\n",
              "      <td>232.000000</td>\n",
              "      <td>1.510000e+02</td>\n",
              "      <td>232.000000</td>\n",
              "      <td>147.000000</td>\n",
              "    </tr>\n",
              "    <tr>\n",
              "      <th>mean</th>\n",
              "      <td>58.788051</td>\n",
              "      <td>96.239362</td>\n",
              "      <td>21844.682252</td>\n",
              "      <td>1.211838</td>\n",
              "      <td>60.399617</td>\n",
              "      <td>4.399784</td>\n",
              "      <td>1.940191</td>\n",
              "      <td>1.941442</td>\n",
              "      <td>72.058077</td>\n",
              "      <td>86.045031</td>\n",
              "      <td>40.906096</td>\n",
              "      <td>1.412285e+05</td>\n",
              "      <td>7.007797</td>\n",
              "      <td>5.477193</td>\n",
              "    </tr>\n",
              "    <tr>\n",
              "      <th>std</th>\n",
              "      <td>15.586271</td>\n",
              "      <td>54.799695</td>\n",
              "      <td>22374.104184</td>\n",
              "      <td>1.056053</td>\n",
              "      <td>22.788811</td>\n",
              "      <td>1.327613</td>\n",
              "      <td>1.545404</td>\n",
              "      <td>1.629764</td>\n",
              "      <td>7.490438</td>\n",
              "      <td>23.293025</td>\n",
              "      <td>9.149095</td>\n",
              "      <td>4.214469e+05</td>\n",
              "      <td>4.916085</td>\n",
              "      <td>1.122692</td>\n",
              "    </tr>\n",
              "    <tr>\n",
              "      <th>min</th>\n",
              "      <td>17.812083</td>\n",
              "      <td>1.000000</td>\n",
              "      <td>784.926989</td>\n",
              "      <td>-1.805226</td>\n",
              "      <td>13.250000</td>\n",
              "      <td>1.370930</td>\n",
              "      <td>0.000000</td>\n",
              "      <td>0.012800</td>\n",
              "      <td>51.593000</td>\n",
              "      <td>11.024252</td>\n",
              "      <td>7.895299</td>\n",
              "      <td>1.000000e+00</td>\n",
              "      <td>0.110000</td>\n",
              "      <td>2.566900</td>\n",
              "    </tr>\n",
              "    <tr>\n",
              "      <th>25%</th>\n",
              "      <td>48.991630</td>\n",
              "      <td>49.750000</td>\n",
              "      <td>5435.141540</td>\n",
              "      <td>0.456356</td>\n",
              "      <td>42.236500</td>\n",
              "      <td>3.419300</td>\n",
              "      <td>1.113182</td>\n",
              "      <td>0.435225</td>\n",
              "      <td>67.249000</td>\n",
              "      <td>82.055481</td>\n",
              "      <td>38.833187</td>\n",
              "      <td>3.400000e+01</td>\n",
              "      <td>3.827500</td>\n",
              "      <td>4.726700</td>\n",
              "    </tr>\n",
              "    <tr>\n",
              "      <th>50%</th>\n",
              "      <td>54.683418</td>\n",
              "      <td>96.500000</td>\n",
              "      <td>14289.960502</td>\n",
              "      <td>1.127924</td>\n",
              "      <td>61.229000</td>\n",
              "      <td>4.421020</td>\n",
              "      <td>1.532019</td>\n",
              "      <td>1.848600</td>\n",
              "      <td>73.362479</td>\n",
              "      <td>99.997504</td>\n",
              "      <td>43.724598</td>\n",
              "      <td>4.700000e+02</td>\n",
              "      <td>5.590000</td>\n",
              "      <td>5.539900</td>\n",
              "    </tr>\n",
              "    <tr>\n",
              "      <th>75%</th>\n",
              "      <td>68.070138</td>\n",
              "      <td>143.250000</td>\n",
              "      <td>30532.294889</td>\n",
              "      <td>1.951209</td>\n",
              "      <td>80.234500</td>\n",
              "      <td>5.207540</td>\n",
              "      <td>2.239086</td>\n",
              "      <td>3.199200</td>\n",
              "      <td>77.393963</td>\n",
              "      <td>100.000000</td>\n",
              "      <td>46.709541</td>\n",
              "      <td>8.134500e+03</td>\n",
              "      <td>8.948901</td>\n",
              "      <td>6.221400</td>\n",
              "    </tr>\n",
              "    <tr>\n",
              "      <th>max</th>\n",
              "      <td>110.255774</td>\n",
              "      <td>190.000000</td>\n",
              "      <td>129451.063933</td>\n",
              "      <td>4.469239</td>\n",
              "      <td>100.000000</td>\n",
              "      <td>8.051940</td>\n",
              "      <td>12.034846</td>\n",
              "      <td>7.954100</td>\n",
              "      <td>84.226829</td>\n",
              "      <td>100.000000</td>\n",
              "      <td>55.956589</td>\n",
              "      <td>2.294881e+06</td>\n",
              "      <td>26.910000</td>\n",
              "      <td>7.808700</td>\n",
              "    </tr>\n",
              "  </tbody>\n",
              "</table>\n",
              "</div>"
            ],
            "text/plain": [
              "           PopDep     EaseofB  ...     UnemplR   HappScore\n",
              "count  238.000000  188.000000  ...  232.000000  147.000000\n",
              "mean    58.788051   96.239362  ...    7.007797    5.477193\n",
              "std     15.586271   54.799695  ...    4.916085    1.122692\n",
              "min     17.812083    1.000000  ...    0.110000    2.566900\n",
              "25%     48.991630   49.750000  ...    3.827500    4.726700\n",
              "50%     54.683418   96.500000  ...    5.590000    5.539900\n",
              "75%     68.070138  143.250000  ...    8.948901    6.221400\n",
              "max    110.255774  190.000000  ...   26.910000    7.808700\n",
              "\n",
              "[8 rows x 14 columns]"
            ]
          },
          "metadata": {
            "tags": []
          },
          "execution_count": 174
        }
      ]
    },
    {
      "cell_type": "code",
      "metadata": {
        "id": "prsMGEZssurG"
      },
      "source": [
        "dfWBWHO=wbdf[wbdf['deaths']!=0]"
      ],
      "execution_count": null,
      "outputs": []
    },
    {
      "cell_type": "code",
      "metadata": {
        "id": "EZ0pvNLgx2GQ"
      },
      "source": [
        "dfWBWHO.reset_index(inplace=True)"
      ],
      "execution_count": null,
      "outputs": []
    },
    {
      "cell_type": "code",
      "metadata": {
        "colab": {
          "base_uri": "https://localhost:8080/"
        },
        "id": "-pqEb4E_x5y1",
        "outputId": "554b80ab-1e03-420c-b4a1-2ad1935dbf4f"
      },
      "source": [
        "dfWBWHO.drop(\"index\",axis=1,inplace=True)"
      ],
      "execution_count": null,
      "outputs": [
        {
          "output_type": "stream",
          "text": [
            "/usr/local/lib/python3.6/dist-packages/pandas/core/frame.py:4174: SettingWithCopyWarning: \n",
            "A value is trying to be set on a copy of a slice from a DataFrame\n",
            "\n",
            "See the caveats in the documentation: https://pandas.pydata.org/pandas-docs/stable/user_guide/indexing.html#returning-a-view-versus-a-copy\n",
            "  errors=errors,\n"
          ],
          "name": "stderr"
        }
      ]
    },
    {
      "cell_type": "code",
      "metadata": {
        "id": "_tXKBbVxyCQK"
      },
      "source": [
        "from google.colab import files"
      ],
      "execution_count": 35,
      "outputs": []
    },
    {
      "cell_type": "code",
      "metadata": {
        "id": "nK6VRTQnySAF"
      },
      "source": [
        "wbdf.to_csv('wbdfN.csv')"
      ],
      "execution_count": 157,
      "outputs": []
    },
    {
      "cell_type": "code",
      "metadata": {
        "colab": {
          "base_uri": "https://localhost:8080/",
          "height": 16
        },
        "id": "3unl34cxy9V4",
        "outputId": "35dbea02-fd00-4fb3-a837-423b0186147b"
      },
      "source": [
        "files.download('wbdfN.csv')"
      ],
      "execution_count": 158,
      "outputs": [
        {
          "output_type": "display_data",
          "data": {
            "application/javascript": [
              "\n",
              "    async function download(id, filename, size) {\n",
              "      if (!google.colab.kernel.accessAllowed) {\n",
              "        return;\n",
              "      }\n",
              "      const div = document.createElement('div');\n",
              "      const label = document.createElement('label');\n",
              "      label.textContent = `Downloading \"${filename}\": `;\n",
              "      div.appendChild(label);\n",
              "      const progress = document.createElement('progress');\n",
              "      progress.max = size;\n",
              "      div.appendChild(progress);\n",
              "      document.body.appendChild(div);\n",
              "\n",
              "      const buffers = [];\n",
              "      let downloaded = 0;\n",
              "\n",
              "      const channel = await google.colab.kernel.comms.open(id);\n",
              "      // Send a message to notify the kernel that we're ready.\n",
              "      channel.send({})\n",
              "\n",
              "      for await (const message of channel.messages) {\n",
              "        // Send a message to notify the kernel that we're ready.\n",
              "        channel.send({})\n",
              "        if (message.buffers) {\n",
              "          for (const buffer of message.buffers) {\n",
              "            buffers.push(buffer);\n",
              "            downloaded += buffer.byteLength;\n",
              "            progress.value = downloaded;\n",
              "          }\n",
              "        }\n",
              "      }\n",
              "      const blob = new Blob(buffers, {type: 'application/binary'});\n",
              "      const a = document.createElement('a');\n",
              "      a.href = window.URL.createObjectURL(blob);\n",
              "      a.download = filename;\n",
              "      div.appendChild(a);\n",
              "      a.click();\n",
              "      div.remove();\n",
              "    }\n",
              "  "
            ],
            "text/plain": [
              "<IPython.core.display.Javascript object>"
            ]
          },
          "metadata": {
            "tags": []
          }
        },
        {
          "output_type": "display_data",
          "data": {
            "application/javascript": [
              "download(\"download_96eecc0e-7bc3-4e7e-ba76-8c289e6ce908\", \"wbdfN.csv\", 44142)"
            ],
            "text/plain": [
              "<IPython.core.display.Javascript object>"
            ]
          },
          "metadata": {
            "tags": []
          }
        }
      ]
    },
    {
      "cell_type": "code",
      "metadata": {
        "id": "rltDufCD2k2-"
      },
      "source": [
        "dfWbWho=pd.read_csv('dfWbWho.csv')"
      ],
      "execution_count": null,
      "outputs": []
    },
    {
      "cell_type": "code",
      "metadata": {
        "colab": {
          "base_uri": "https://localhost:8080/",
          "height": 214
        },
        "id": "LAokPrj32r9C",
        "outputId": "b207875e-fe52-40a3-c979-dc7578f29ae8"
      },
      "source": [
        "dfWbWho.head()"
      ],
      "execution_count": null,
      "outputs": [
        {
          "output_type": "execute_result",
          "data": {
            "text/html": [
              "<div>\n",
              "<style scoped>\n",
              "    .dataframe tbody tr th:only-of-type {\n",
              "        vertical-align: middle;\n",
              "    }\n",
              "\n",
              "    .dataframe tbody tr th {\n",
              "        vertical-align: top;\n",
              "    }\n",
              "\n",
              "    .dataframe thead th {\n",
              "        text-align: right;\n",
              "    }\n",
              "</style>\n",
              "<table border=\"1\" class=\"dataframe\">\n",
              "  <thead>\n",
              "    <tr style=\"text-align: right;\">\n",
              "      <th></th>\n",
              "      <th>Unnamed: 0</th>\n",
              "      <th>country</th>\n",
              "      <th>PopDep</th>\n",
              "      <th>EaseofB</th>\n",
              "      <th>GDPpppPC</th>\n",
              "      <th>DiabetesPrev</th>\n",
              "      <th>PopGrowth</th>\n",
              "      <th>UrbanPop</th>\n",
              "      <th>GexpEdu</th>\n",
              "      <th>MilExpGdp</th>\n",
              "      <th>HosBedP1000</th>\n",
              "      <th>LifeExp</th>\n",
              "      <th>deaths</th>\n",
              "    </tr>\n",
              "  </thead>\n",
              "  <tbody>\n",
              "    <tr>\n",
              "      <th>0</th>\n",
              "      <td>0</td>\n",
              "      <td>Aruba</td>\n",
              "      <td>46.367454</td>\n",
              "      <td>NaN</td>\n",
              "      <td>NaN</td>\n",
              "      <td>11.6</td>\n",
              "      <td>0.442122</td>\n",
              "      <td>43.546</td>\n",
              "      <td>5.52415</td>\n",
              "      <td>NaN</td>\n",
              "      <td>NaN</td>\n",
              "      <td>75.868</td>\n",
              "      <td>571.34</td>\n",
              "    </tr>\n",
              "    <tr>\n",
              "      <th>1</th>\n",
              "      <td>1</td>\n",
              "      <td>Afghanistan</td>\n",
              "      <td>82.109775</td>\n",
              "      <td>173.0</td>\n",
              "      <td>2156.419482</td>\n",
              "      <td>9.2</td>\n",
              "      <td>2.311817</td>\n",
              "      <td>25.754</td>\n",
              "      <td>4.22836</td>\n",
              "      <td>0.956772</td>\n",
              "      <td>0.2782</td>\n",
              "      <td>63.763</td>\n",
              "      <td>61.91</td>\n",
              "    </tr>\n",
              "    <tr>\n",
              "      <th>2</th>\n",
              "      <td>2</td>\n",
              "      <td>Angola</td>\n",
              "      <td>95.394042</td>\n",
              "      <td>177.0</td>\n",
              "      <td>6965.511374</td>\n",
              "      <td>4.5</td>\n",
              "      <td>3.242983</td>\n",
              "      <td>66.177</td>\n",
              "      <td>NaN</td>\n",
              "      <td>2.733341</td>\n",
              "      <td>NaN</td>\n",
              "      <td>59.925</td>\n",
              "      <td>14.45</td>\n",
              "    </tr>\n",
              "    <tr>\n",
              "      <th>3</th>\n",
              "      <td>3</td>\n",
              "      <td>Albania</td>\n",
              "      <td>46.203522</td>\n",
              "      <td>82.0</td>\n",
              "      <td>14496.127683</td>\n",
              "      <td>9.0</td>\n",
              "      <td>-0.426007</td>\n",
              "      <td>61.229</td>\n",
              "      <td>3.96209</td>\n",
              "      <td>1.103581</td>\n",
              "      <td>1.2164</td>\n",
              "      <td>78.194</td>\n",
              "      <td>502.47</td>\n",
              "    </tr>\n",
              "    <tr>\n",
              "      <th>4</th>\n",
              "      <td>4</td>\n",
              "      <td>Andorra</td>\n",
              "      <td>NaN</td>\n",
              "      <td>NaN</td>\n",
              "      <td>NaN</td>\n",
              "      <td>7.7</td>\n",
              "      <td>0.176454</td>\n",
              "      <td>87.984</td>\n",
              "      <td>3.23707</td>\n",
              "      <td>NaN</td>\n",
              "      <td>NaN</td>\n",
              "      <td>NaN</td>\n",
              "      <td>1358.96</td>\n",
              "    </tr>\n",
              "  </tbody>\n",
              "</table>\n",
              "</div>"
            ],
            "text/plain": [
              "   Unnamed: 0      country     PopDep  ...  HosBedP1000  LifeExp   deaths\n",
              "0           0        Aruba  46.367454  ...          NaN   75.868   571.34\n",
              "1           1  Afghanistan  82.109775  ...       0.2782   63.763    61.91\n",
              "2           2       Angola  95.394042  ...          NaN   59.925    14.45\n",
              "3           3      Albania  46.203522  ...       1.2164   78.194   502.47\n",
              "4           4      Andorra        NaN  ...          NaN      NaN  1358.96\n",
              "\n",
              "[5 rows x 13 columns]"
            ]
          },
          "metadata": {
            "tags": []
          },
          "execution_count": 84
        }
      ]
    },
    {
      "cell_type": "code",
      "metadata": {
        "colab": {
          "base_uri": "https://localhost:8080/",
          "height": 947
        },
        "id": "qJQgXZnZ203M",
        "outputId": "bdb8e3e0-df1a-4840-8348-1f55dee3643d"
      },
      "source": [
        "dfWbWho.sort_values(\"EaseofB\")[['country','EaseofB','deaths']].head(30)"
      ],
      "execution_count": null,
      "outputs": [
        {
          "output_type": "execute_result",
          "data": {
            "text/html": [
              "<div>\n",
              "<style scoped>\n",
              "    .dataframe tbody tr th:only-of-type {\n",
              "        vertical-align: middle;\n",
              "    }\n",
              "\n",
              "    .dataframe tbody tr th {\n",
              "        vertical-align: top;\n",
              "    }\n",
              "\n",
              "    .dataframe thead th {\n",
              "        text-align: right;\n",
              "    }\n",
              "</style>\n",
              "<table border=\"1\" class=\"dataframe\">\n",
              "  <thead>\n",
              "    <tr style=\"text-align: right;\">\n",
              "      <th></th>\n",
              "      <th>country</th>\n",
              "      <th>EaseofB</th>\n",
              "      <th>deaths</th>\n",
              "    </tr>\n",
              "  </thead>\n",
              "  <tbody>\n",
              "    <tr>\n",
              "      <th>131</th>\n",
              "      <td>New Zealand</td>\n",
              "      <td>1.0</td>\n",
              "      <td>5.18</td>\n",
              "    </tr>\n",
              "    <tr>\n",
              "      <th>150</th>\n",
              "      <td>Singapore</td>\n",
              "      <td>2.0</td>\n",
              "      <td>4.96</td>\n",
              "    </tr>\n",
              "    <tr>\n",
              "      <th>49</th>\n",
              "      <td>Denmark</td>\n",
              "      <td>4.0</td>\n",
              "      <td>382.41</td>\n",
              "    </tr>\n",
              "    <tr>\n",
              "      <th>95</th>\n",
              "      <td>Korea, Rep.</td>\n",
              "      <td>5.0</td>\n",
              "      <td>28.69</td>\n",
              "    </tr>\n",
              "    <tr>\n",
              "      <th>176</th>\n",
              "      <td>United States</td>\n",
              "      <td>6.0</td>\n",
              "      <td>1376.83</td>\n",
              "    </tr>\n",
              "    <tr>\n",
              "      <th>64</th>\n",
              "      <td>Georgia</td>\n",
              "      <td>7.0</td>\n",
              "      <td>822.98</td>\n",
              "    </tr>\n",
              "    <tr>\n",
              "      <th>63</th>\n",
              "      <td>United Kingdom</td>\n",
              "      <td>8.0</td>\n",
              "      <td>1651.18</td>\n",
              "    </tr>\n",
              "    <tr>\n",
              "      <th>129</th>\n",
              "      <td>Norway</td>\n",
              "      <td>9.0</td>\n",
              "      <td>107.36</td>\n",
              "    </tr>\n",
              "    <tr>\n",
              "      <th>160</th>\n",
              "      <td>Sweden</td>\n",
              "      <td>10.0</td>\n",
              "      <td>1199.59</td>\n",
              "    </tr>\n",
              "    <tr>\n",
              "      <th>104</th>\n",
              "      <td>Lithuania</td>\n",
              "      <td>11.0</td>\n",
              "      <td>1078.87</td>\n",
              "    </tr>\n",
              "    <tr>\n",
              "      <th>123</th>\n",
              "      <td>Malaysia</td>\n",
              "      <td>12.0</td>\n",
              "      <td>26.48</td>\n",
              "    </tr>\n",
              "    <tr>\n",
              "      <th>121</th>\n",
              "      <td>Mauritius</td>\n",
              "      <td>13.0</td>\n",
              "      <td>7.86</td>\n",
              "    </tr>\n",
              "    <tr>\n",
              "      <th>9</th>\n",
              "      <td>Australia</td>\n",
              "      <td>14.0</td>\n",
              "      <td>35.65</td>\n",
              "    </tr>\n",
              "    <tr>\n",
              "      <th>5</th>\n",
              "      <td>United Arab Emirates</td>\n",
              "      <td>16.0</td>\n",
              "      <td>92.41</td>\n",
              "    </tr>\n",
              "    <tr>\n",
              "      <th>113</th>\n",
              "      <td>North Macedonia</td>\n",
              "      <td>17.0</td>\n",
              "      <td>1399.65</td>\n",
              "    </tr>\n",
              "    <tr>\n",
              "      <th>56</th>\n",
              "      <td>Estonia</td>\n",
              "      <td>18.0</td>\n",
              "      <td>347.52</td>\n",
              "    </tr>\n",
              "    <tr>\n",
              "      <th>106</th>\n",
              "      <td>Latvia</td>\n",
              "      <td>19.0</td>\n",
              "      <td>703.53</td>\n",
              "    </tr>\n",
              "    <tr>\n",
              "      <th>58</th>\n",
              "      <td>Finland</td>\n",
              "      <td>20.0</td>\n",
              "      <td>124.89</td>\n",
              "    </tr>\n",
              "    <tr>\n",
              "      <th>167</th>\n",
              "      <td>Thailand</td>\n",
              "      <td>21.0</td>\n",
              "      <td>1.13</td>\n",
              "    </tr>\n",
              "    <tr>\n",
              "      <th>47</th>\n",
              "      <td>Germany</td>\n",
              "      <td>22.0</td>\n",
              "      <td>734.23</td>\n",
              "    </tr>\n",
              "    <tr>\n",
              "      <th>31</th>\n",
              "      <td>Canada</td>\n",
              "      <td>23.0</td>\n",
              "      <td>546.05</td>\n",
              "    </tr>\n",
              "    <tr>\n",
              "      <th>83</th>\n",
              "      <td>Ireland</td>\n",
              "      <td>24.0</td>\n",
              "      <td>744.06</td>\n",
              "    </tr>\n",
              "    <tr>\n",
              "      <th>92</th>\n",
              "      <td>Kazakhstan</td>\n",
              "      <td>25.0</td>\n",
              "      <td>166.48</td>\n",
              "    </tr>\n",
              "    <tr>\n",
              "      <th>86</th>\n",
              "      <td>Iceland</td>\n",
              "      <td>26.0</td>\n",
              "      <td>84.98</td>\n",
              "    </tr>\n",
              "    <tr>\n",
              "      <th>10</th>\n",
              "      <td>Austria</td>\n",
              "      <td>27.0</td>\n",
              "      <td>875.38</td>\n",
              "    </tr>\n",
              "    <tr>\n",
              "      <th>145</th>\n",
              "      <td>Russian Federation</td>\n",
              "      <td>28.0</td>\n",
              "      <td>525.31</td>\n",
              "    </tr>\n",
              "    <tr>\n",
              "      <th>91</th>\n",
              "      <td>Japan</td>\n",
              "      <td>29.0</td>\n",
              "      <td>50.11</td>\n",
              "    </tr>\n",
              "    <tr>\n",
              "      <th>55</th>\n",
              "      <td>Spain</td>\n",
              "      <td>30.0</td>\n",
              "      <td>1300.44</td>\n",
              "    </tr>\n",
              "    <tr>\n",
              "      <th>34</th>\n",
              "      <td>China</td>\n",
              "      <td>31.0</td>\n",
              "      <td>3.28</td>\n",
              "    </tr>\n",
              "    <tr>\n",
              "      <th>60</th>\n",
              "      <td>France</td>\n",
              "      <td>32.0</td>\n",
              "      <td>1200.93</td>\n",
              "    </tr>\n",
              "  </tbody>\n",
              "</table>\n",
              "</div>"
            ],
            "text/plain": [
              "                  country  EaseofB   deaths\n",
              "131           New Zealand      1.0     5.18\n",
              "150             Singapore      2.0     4.96\n",
              "49                Denmark      4.0   382.41\n",
              "95            Korea, Rep.      5.0    28.69\n",
              "176         United States      6.0  1376.83\n",
              "64                Georgia      7.0   822.98\n",
              "63         United Kingdom      8.0  1651.18\n",
              "129                Norway      9.0   107.36\n",
              "160                Sweden     10.0  1199.59\n",
              "104             Lithuania     11.0  1078.87\n",
              "123              Malaysia     12.0    26.48\n",
              "121             Mauritius     13.0     7.86\n",
              "9               Australia     14.0    35.65\n",
              "5    United Arab Emirates     16.0    92.41\n",
              "113       North Macedonia     17.0  1399.65\n",
              "56                Estonia     18.0   347.52\n",
              "106                Latvia     19.0   703.53\n",
              "58                Finland     20.0   124.89\n",
              "167              Thailand     21.0     1.13\n",
              "47                Germany     22.0   734.23\n",
              "31                 Canada     23.0   546.05\n",
              "83                Ireland     24.0   744.06\n",
              "92             Kazakhstan     25.0   166.48\n",
              "86                Iceland     26.0    84.98\n",
              "10                Austria     27.0   875.38\n",
              "145    Russian Federation     28.0   525.31\n",
              "91                  Japan     29.0    50.11\n",
              "55                  Spain     30.0  1300.44\n",
              "34                  China     31.0     3.28\n",
              "60                 France     32.0  1200.93"
            ]
          },
          "metadata": {
            "tags": []
          },
          "execution_count": 23
        }
      ]
    },
    {
      "cell_type": "code",
      "metadata": {
        "colab": {
          "base_uri": "https://localhost:8080/"
        },
        "id": "aSAuurVPoOpN",
        "outputId": "54a8f75d-ae52-48da-c213-b42b2efd8223"
      },
      "source": [
        "dfWbWho.corrwith(dfWbWho['deaths'],axis=0,method='kendall')"
      ],
      "execution_count": null,
      "outputs": [
        {
          "output_type": "execute_result",
          "data": {
            "text/plain": [
              "Unnamed: 0     -0.073088\n",
              "PopDep         -0.229435\n",
              "EaseofB        -0.315521\n",
              "GDPpppPC        0.385542\n",
              "DiabetesPrev    0.099927\n",
              "PopGrowth      -0.369042\n",
              "UrbanPop        0.323320\n",
              "GexpEdu         0.148296\n",
              "MilExpGdp      -0.022986\n",
              "HosBedP1000     0.458290\n",
              "LifeExp         0.408927\n",
              "deaths          1.000000\n",
              "dtype: float64"
            ]
          },
          "metadata": {
            "tags": []
          },
          "execution_count": 87
        }
      ]
    },
    {
      "cell_type": "code",
      "metadata": {
        "colab": {
          "base_uri": "https://localhost:8080/"
        },
        "id": "47vmHTZxosTO",
        "outputId": "239835ad-1631-4d2c-d0be-44ff4d967fe0"
      },
      "source": [
        "dfWbWho.corrwith(dfWbWho['deaths'],axis=0,method='pearson')"
      ],
      "execution_count": null,
      "outputs": [
        {
          "output_type": "execute_result",
          "data": {
            "text/plain": [
              "Unnamed: 0     -0.108665\n",
              "PopDep         -0.302671\n",
              "EaseofB        -0.436250\n",
              "GDPpppPC        0.355147\n",
              "DiabetesPrev   -0.020298\n",
              "PopGrowth      -0.480993\n",
              "UrbanPop        0.398103\n",
              "GexpEdu         0.187636\n",
              "MilExpGdp      -0.104677\n",
              "HosBedP1000     0.519770\n",
              "LifeExp         0.506314\n",
              "deaths          1.000000\n",
              "dtype: float64"
            ]
          },
          "metadata": {
            "tags": []
          },
          "execution_count": 88
        }
      ]
    },
    {
      "cell_type": "code",
      "metadata": {
        "colab": {
          "base_uri": "https://localhost:8080/"
        },
        "id": "KoyFK13LzDVZ",
        "outputId": "e4d427c8-027d-4320-c7ee-d3e316b3d621"
      },
      "source": [
        "dfWbWho.corrwith(dfWbWho['deaths'],axis=0,method='spearman')"
      ],
      "execution_count": null,
      "outputs": [
        {
          "output_type": "execute_result",
          "data": {
            "text/plain": [
              "Unnamed: 0     -0.107584\n",
              "PopDep         -0.334360\n",
              "EaseofB        -0.448218\n",
              "GDPpppPC        0.540650\n",
              "DiabetesPrev    0.158798\n",
              "PopGrowth      -0.521502\n",
              "UrbanPop        0.478636\n",
              "GexpEdu         0.222906\n",
              "MilExpGdp      -0.036911\n",
              "HosBedP1000     0.635495\n",
              "LifeExp         0.568403\n",
              "deaths          1.000000\n",
              "dtype: float64"
            ]
          },
          "metadata": {
            "tags": []
          },
          "execution_count": 86
        }
      ]
    },
    {
      "cell_type": "markdown",
      "metadata": {
        "id": "Fi93B1BAInRL"
      },
      "source": [
        "The Correlations of Covid-19 deaths per 100,000 population with various indicators"
      ]
    },
    {
      "cell_type": "code",
      "metadata": {
        "colab": {
          "base_uri": "https://localhost:8080/",
          "height": 397
        },
        "id": "rowbG_Ywz1M-",
        "outputId": "d05a8606-e7c3-4058-d7ef-a898af72f369"
      },
      "source": [
        "sns.set(style = \"darkgrid\")\n",
        "lm=sns.lmplot(data=dfWbWho,y='GDPpppPC',x='deaths',scatter_kws={\"color\": \"green\"}, line_kws={\"color\": \"red\"})\n",
        "plt.title('GDP per capita and Covid-19 deaths')\n",
        "# Set x-axis label\n",
        "plt.xlabel('Total Covid-19 Deaths per 100,000 population')\n",
        "# Set y-axis label\n",
        "plt.ylabel('GDP per Capita in dollars')\n",
        "axes=lm.axes\n",
        "axes[0,0].set_xlim(0,2000)\n",
        "lm.savefig(\"output2.png\")\n",
        "files.download(\"output2.png\")"
      ],
      "execution_count": null,
      "outputs": [
        {
          "output_type": "display_data",
          "data": {
            "application/javascript": [
              "\n",
              "    async function download(id, filename, size) {\n",
              "      if (!google.colab.kernel.accessAllowed) {\n",
              "        return;\n",
              "      }\n",
              "      const div = document.createElement('div');\n",
              "      const label = document.createElement('label');\n",
              "      label.textContent = `Downloading \"${filename}\": `;\n",
              "      div.appendChild(label);\n",
              "      const progress = document.createElement('progress');\n",
              "      progress.max = size;\n",
              "      div.appendChild(progress);\n",
              "      document.body.appendChild(div);\n",
              "\n",
              "      const buffers = [];\n",
              "      let downloaded = 0;\n",
              "\n",
              "      const channel = await google.colab.kernel.comms.open(id);\n",
              "      // Send a message to notify the kernel that we're ready.\n",
              "      channel.send({})\n",
              "\n",
              "      for await (const message of channel.messages) {\n",
              "        // Send a message to notify the kernel that we're ready.\n",
              "        channel.send({})\n",
              "        if (message.buffers) {\n",
              "          for (const buffer of message.buffers) {\n",
              "            buffers.push(buffer);\n",
              "            downloaded += buffer.byteLength;\n",
              "            progress.value = downloaded;\n",
              "          }\n",
              "        }\n",
              "      }\n",
              "      const blob = new Blob(buffers, {type: 'application/binary'});\n",
              "      const a = document.createElement('a');\n",
              "      a.href = window.URL.createObjectURL(blob);\n",
              "      a.download = filename;\n",
              "      div.appendChild(a);\n",
              "      a.click();\n",
              "      div.remove();\n",
              "    }\n",
              "  "
            ],
            "text/plain": [
              "<IPython.core.display.Javascript object>"
            ]
          },
          "metadata": {
            "tags": []
          }
        },
        {
          "output_type": "display_data",
          "data": {
            "application/javascript": [
              "download(\"download_01d51265-819e-4353-b41d-91f7b867b299\", \"output2.png\", 28892)"
            ],
            "text/plain": [
              "<IPython.core.display.Javascript object>"
            ]
          },
          "metadata": {
            "tags": []
          }
        },
        {
          "output_type": "display_data",
          "data": {
            "image/png": "[encoded data removed]",
            "text/plain": [
              "<Figure size 360x360 with 1 Axes>"
            ]
          },
          "metadata": {
            "tags": []
          }
        }
      ]
    },
    {
      "cell_type": "code",
      "metadata": {
        "id": "gqON6uOHuIOU",
        "colab": {
          "base_uri": "https://localhost:8080/",
          "height": 397
        },
        "outputId": "3687fca6-2bfb-4b37-cb7c-e748604eb75c"
      },
      "source": [
        "sns.set(style = \"darkgrid\")\n",
        "lm=sns.lmplot(data=dfWbWho,y='LifeExp',x='deaths',scatter_kws={\"color\": \"green\"}, line_kws={\"color\": \"red\"})\n",
        "plt.title('Life Expectancy and Covid-19 deaths')\n",
        "# Set x-axis label\n",
        "plt.xlabel('Total Covid-19 Deaths per 100,000 population')\n",
        "# Set y-axis label\n",
        "plt.ylabel('Life Expectancy')\n",
        "axes=lm.axes\n",
        "axes[0,0].set_xlim(0,2000)\n",
        "lm.savefig(\"output1.png\")\n",
        "files.download(\"output1.png\")"
      ],
      "execution_count": null,
      "outputs": [
        {
          "output_type": "display_data",
          "data": {
            "application/javascript": [
              "\n",
              "    async function download(id, filename, size) {\n",
              "      if (!google.colab.kernel.accessAllowed) {\n",
              "        return;\n",
              "      }\n",
              "      const div = document.createElement('div');\n",
              "      const label = document.createElement('label');\n",
              "      label.textContent = `Downloading \"${filename}\": `;\n",
              "      div.appendChild(label);\n",
              "      const progress = document.createElement('progress');\n",
              "      progress.max = size;\n",
              "      div.appendChild(progress);\n",
              "      document.body.appendChild(div);\n",
              "\n",
              "      const buffers = [];\n",
              "      let downloaded = 0;\n",
              "\n",
              "      const channel = await google.colab.kernel.comms.open(id);\n",
              "      // Send a message to notify the kernel that we're ready.\n",
              "      channel.send({})\n",
              "\n",
              "      for await (const message of channel.messages) {\n",
              "        // Send a message to notify the kernel that we're ready.\n",
              "        channel.send({})\n",
              "        if (message.buffers) {\n",
              "          for (const buffer of message.buffers) {\n",
              "            buffers.push(buffer);\n",
              "            downloaded += buffer.byteLength;\n",
              "            progress.value = downloaded;\n",
              "          }\n",
              "        }\n",
              "      }\n",
              "      const blob = new Blob(buffers, {type: 'application/binary'});\n",
              "      const a = document.createElement('a');\n",
              "      a.href = window.URL.createObjectURL(blob);\n",
              "      a.download = filename;\n",
              "      div.appendChild(a);\n",
              "      a.click();\n",
              "      div.remove();\n",
              "    }\n",
              "  "
            ],
            "text/plain": [
              "<IPython.core.display.Javascript object>"
            ]
          },
          "metadata": {
            "tags": []
          }
        },
        {
          "output_type": "display_data",
          "data": {
            "application/javascript": [
              "download(\"download_b6290948-e602-4caa-ac3e-fe3d71f1ddf8\", \"output1.png\", 32657)"
            ],
            "text/plain": [
              "<IPython.core.display.Javascript object>"
            ]
          },
          "metadata": {
            "tags": []
          }
        },
        {
          "output_type": "display_data",
          "data": {
            "image/png": "[encoded data removed]",
            "text/plain": [
              "<Figure size 360x360 with 1 Axes>"
            ]
          },
          "metadata": {
            "tags": []
          }
        }
      ]
    },
    {
      "cell_type": "code",
      "metadata": {
        "colab": {
          "base_uri": "https://localhost:8080/",
          "height": 644
        },
        "id": "cpMiCWd0E1Oq",
        "outputId": "7cd5da6b-0784-41a1-f498-e4c053136cff"
      },
      "source": [
        "sns.set(style = \"darkgrid\")\n",
        "plt.tight_layout()\n",
        "plt.figure(figsize=(10,10))\n",
        "sns.set(font_scale=1)\n",
        "plot=sns.barplot(data=dfwhoSorted.head(20),y='Country',x='DeathsTM')\n",
        "plt.title('Covid-19 Deaths per 100,000 Population')\n",
        "# Set x-axis label\n",
        "plt.xlabel('Total Covid-19 Deaths per 100,000 population')\n",
        "# Set y-axis label\n",
        "plt.ylabel('Country')\n",
        "plot.figure.savefig(\"output3.png\",bbox_inches='tight')\n",
        "files.download(\"output3.png\")\n",
        "\n"
      ],
      "execution_count": null,
      "outputs": [
        {
          "output_type": "display_data",
          "data": {
            "application/javascript": [
              "\n",
              "    async function download(id, filename, size) {\n",
              "      if (!google.colab.kernel.accessAllowed) {\n",
              "        return;\n",
              "      }\n",
              "      const div = document.createElement('div');\n",
              "      const label = document.createElement('label');\n",
              "      label.textContent = `Downloading \"${filename}\": `;\n",
              "      div.appendChild(label);\n",
              "      const progress = document.createElement('progress');\n",
              "      progress.max = size;\n",
              "      div.appendChild(progress);\n",
              "      document.body.appendChild(div);\n",
              "\n",
              "      const buffers = [];\n",
              "      let downloaded = 0;\n",
              "\n",
              "      const channel = await google.colab.kernel.comms.open(id);\n",
              "      // Send a message to notify the kernel that we're ready.\n",
              "      channel.send({})\n",
              "\n",
              "      for await (const message of channel.messages) {\n",
              "        // Send a message to notify the kernel that we're ready.\n",
              "        channel.send({})\n",
              "        if (message.buffers) {\n",
              "          for (const buffer of message.buffers) {\n",
              "            buffers.push(buffer);\n",
              "            downloaded += buffer.byteLength;\n",
              "            progress.value = downloaded;\n",
              "          }\n",
              "        }\n",
              "      }\n",
              "      const blob = new Blob(buffers, {type: 'application/binary'});\n",
              "      const a = document.createElement('a');\n",
              "      a.href = window.URL.createObjectURL(blob);\n",
              "      a.download = filename;\n",
              "      div.appendChild(a);\n",
              "      a.click();\n",
              "      div.remove();\n",
              "    }\n",
              "  "
            ],
            "text/plain": [
              "<IPython.core.display.Javascript object>"
            ]
          },
          "metadata": {
            "tags": []
          }
        },
        {
          "output_type": "display_data",
          "data": {
            "application/javascript": [
              "download(\"download_7622cf55-eaab-4fdd-b961-29248162fadb\", \"output3.png\", 34771)"
            ],
            "text/plain": [
              "<IPython.core.display.Javascript object>"
            ]
          },
          "metadata": {
            "tags": []
          }
        },
        {
          "output_type": "display_data",
          "data": {
            "text/plain": [
              "<Figure size 432x288 with 0 Axes>"
            ]
          },
          "metadata": {
            "tags": []
          }
        },
        {
          "output_type": "display_data",
          "data": {
            "image/png": "[encoded data removed]",
            "text/plain": [
              "<Figure size 720x720 with 1 Axes>"
            ]
          },
          "metadata": {
            "tags": []
          }
        }
      ]
    },
    {
      "cell_type": "code",
      "metadata": {
        "colab": {
          "base_uri": "https://localhost:8080/"
        },
        "id": "lc1LX1bcFXe5",
        "outputId": "6da46309-7df4-4e15-8db6-7683e5392af9"
      },
      "source": [
        "len(dfWbWho)"
      ],
      "execution_count": null,
      "outputs": [
        {
          "output_type": "execute_result",
          "data": {
            "text/plain": [
              "187"
            ]
          },
          "metadata": {
            "tags": []
          },
          "execution_count": 65
        }
      ]
    },
    {
      "cell_type": "code",
      "metadata": {
        "colab": {
          "base_uri": "https://localhost:8080/"
        },
        "id": "_2AyqQb9Lw4O",
        "outputId": "f08b42c6-4a08-459a-b593-fd1ea7ed6a86"
      },
      "source": [
        "dfWbWho.isnull().sum()"
      ],
      "execution_count": null,
      "outputs": [
        {
          "output_type": "execute_result",
          "data": {
            "text/plain": [
              "Unnamed: 0       0\n",
              "country          0\n",
              "PopDep          13\n",
              "EaseofB         14\n",
              "GDPpppPC        19\n",
              "DiabetesPrev     4\n",
              "PopGrowth        1\n",
              "UrbanPop         2\n",
              "GexpEdu         84\n",
              "MilExpGdp       39\n",
              "HosBedP1000     79\n",
              "LifeExp          8\n",
              "deaths           0\n",
              "dtype: int64"
            ]
          },
          "metadata": {
            "tags": []
          },
          "execution_count": 66
        }
      ]
    },
    {
      "cell_type": "code",
      "metadata": {
        "colab": {
          "base_uri": "https://localhost:8080/",
          "height": 382
        },
        "id": "L9rj8cxkMzb5",
        "outputId": "04920e2f-dcee-4b4f-88a9-7ad4b6ea1c6c"
      },
      "source": [
        "sns.displot(x=dfWbWho['UrbanPop'])"
      ],
      "execution_count": null,
      "outputs": [
        {
          "output_type": "execute_result",
          "data": {
            "text/plain": [
              "<seaborn.axisgrid.FacetGrid at 0x7fb084144048>"
            ]
          },
          "metadata": {
            "tags": []
          },
          "execution_count": 81
        },
        {
          "output_type": "display_data",
          "data": {
            "image/png": "[encoded data removed]",
            "text/plain": [
              "<Figure size 360x360 with 1 Axes>"
            ]
          },
          "metadata": {
            "tags": []
          }
        }
      ]
    },
    {
      "cell_type": "code",
      "metadata": {
        "id": "aa334qCJM56Z"
      },
      "source": [
        ""
      ],
      "execution_count": null,
      "outputs": []
    },
    {
      "cell_type": "code",
      "metadata": {
        "id": "M-9_Ix_fzyWc"
      },
      "source": [
        ""
      ],
      "execution_count": null,
      "outputs": []
    }
  ]
}