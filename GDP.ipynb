{
  "nbformat": 4,
  "nbformat_minor": 0,
  "metadata": {
    "colab": {
      "name": "GDP.ipynb",
      "provenance": [],
      "collapsed_sections": [],
      "authorship_tag": "ABX9TyOOChbHvVcIKNeXGRzqptHD",
      "include_colab_link": true
    },
    "kernelspec": {
      "name": "python3",
      "display_name": "Python 3"
    }
  },
  "cells": [
    {
      "cell_type": "markdown",
      "metadata": {
        "id": "view-in-github",
        "colab_type": "text"
      },
      "source": [
        "<a href=\"https://colab.research.google.com/github/janjuatest/Public-Sector/blob/main/GDP.ipynb\" target=\"_parent\"><img src=\"https://colab.research.google.com/assets/colab-badge.svg\" alt=\"Open In Colab\"/></a>"
      ]
    },
    {
      "cell_type": "markdown",
      "metadata": {
        "id": "tszgo6iJFJA9"
      },
      "source": [
        "This notebook is about the indentification of various social economic factors that can affect GDP per Capita after PPP of countries. The analysis is not exhaustive"
      ]
    },
    {
      "cell_type": "markdown",
      "metadata": {
        "id": "Vm_K9EyDFK77"
      },
      "source": [
        "Import the needed libraries"
      ]
    },
    {
      "cell_type": "code",
      "metadata": {
        "id": "WlyvuHPjsDKx"
      },
      "source": [
        "import pandas as pd\n",
        "import numpy as np\n",
        "import matplotlib.pyplot as plt\n",
        "import seaborn as sns"
      ],
      "execution_count": 1,
      "outputs": []
    },
    {
      "cell_type": "markdown",
      "metadata": {
        "id": "-m1pFHxmFpbF"
      },
      "source": [
        "Install  and import the World Bank data api\n"
      ]
    },
    {
      "cell_type": "code",
      "metadata": {
        "id": "4myM1trwsFT1",
        "colab": {
          "base_uri": "https://localhost:8080/"
        },
        "outputId": "49ff11c5-cc60-449f-c188-0907ffcc0ac0"
      },
      "source": [
        "!pip install -U wbdata"
      ],
      "execution_count": 2,
      "outputs": [
        {
          "output_type": "stream",
          "text": [
            "Collecting wbdata\n",
            "  Downloading https://files.pythonhosted.org/packages/76/87/a04308d9c80829c3b9c4eefbda6f4c849f2c8afa89917906c63ca6d611a5/wbdata-0.3.0-py3-none-any.whl\n",
            "Requirement already satisfied, skipping upgrade: requests>=2.0 in /usr/local/lib/python3.7/dist-packages (from wbdata) (2.23.0)\n",
            "Requirement already satisfied, skipping upgrade: tabulate>=0.8.5 in /usr/local/lib/python3.7/dist-packages (from wbdata) (0.8.9)\n",
            "Requirement already satisfied, skipping upgrade: appdirs<2.0,>=1.4 in /usr/local/lib/python3.7/dist-packages (from wbdata) (1.4.4)\n",
            "Requirement already satisfied, skipping upgrade: decorator>=4.0 in /usr/local/lib/python3.7/dist-packages (from wbdata) (4.4.2)\n",
            "Requirement already satisfied, skipping upgrade: certifi>=2017.4.17 in /usr/local/lib/python3.7/dist-packages (from requests>=2.0->wbdata) (2020.12.5)\n",
            "Requirement already satisfied, skipping upgrade: urllib3!=1.25.0,!=1.25.1,<1.26,>=1.21.1 in /usr/local/lib/python3.7/dist-packages (from requests>=2.0->wbdata) (1.24.3)\n",
            "Requirement already satisfied, skipping upgrade: idna<3,>=2.5 in /usr/local/lib/python3.7/dist-packages (from requests>=2.0->wbdata) (2.10)\n",
            "Requirement already satisfied, skipping upgrade: chardet<4,>=3.0.2 in /usr/local/lib/python3.7/dist-packages (from requests>=2.0->wbdata) (3.0.4)\n",
            "Installing collected packages: wbdata\n",
            "Successfully installed wbdata-0.3.0\n"
          ],
          "name": "stdout"
        }
      ]
    },
    {
      "cell_type": "code",
      "metadata": {
        "id": "u3LV4R7osHIg"
      },
      "source": [
        "import wbdata,datetime"
      ],
      "execution_count": 3,
      "outputs": []
    },
    {
      "cell_type": "markdown",
      "metadata": {
        "id": "ufkz6-vZH4M6"
      },
      "source": [
        "Read the data from Figure 2.1 of World Happiness Report .\n",
        "Data is avaiable at \n",
        "https://happiness-report.s3.amazonaws.com/2020/WHR20_DataForFigure2.1.xls\n",
        "Helliwell, John F., Richard Layard, Jeffrey Sachs, and Jan-Emmanuel De Neve, eds. 2020. World Happiness Report 2020. New York: Sustainable Development Solutions Network"
      ]
    },
    {
      "cell_type": "code",
      "metadata": {
        "id": "YhdBRuqX1AqI"
      },
      "source": [
        "happDF=pd.read_excel('happiness.xls')"
      ],
      "execution_count": null,
      "outputs": []
    },
    {
      "cell_type": "markdown",
      "metadata": {
        "id": "uvlKgnN-dLAi"
      },
      "source": [
        "Renaming the columns so that they are more readable"
      ]
    },
    {
      "cell_type": "markdown",
      "metadata": {
        "id": "lp_gj-UnK5D4"
      },
      "source": [
        "DeathsTM is main target column which has the Total Covid-19 Deaths per 100,000 population"
      ]
    },
    {
      "cell_type": "code",
      "metadata": {
        "id": "KZ17605_1ZsD"
      },
      "source": [
        "happDF=happDF[['Country name','Ladder score']]"
      ],
      "execution_count": null,
      "outputs": []
    },
    {
      "cell_type": "markdown",
      "metadata": {
        "id": "iXpAbya5JJNr"
      },
      "source": [
        "We will only take the main Ladder Score from the report.\n",
        "Higher the ladder score the happier the country"
      ]
    },
    {
      "cell_type": "code",
      "metadata": {
        "colab": {
          "base_uri": "https://localhost:8080/",
          "height": 388
        },
        "id": "4C3sgfY91tLa",
        "outputId": "50a9f821-8438-4f0d-aa5e-af8d00a8256c"
      },
      "source": [
        "happDF"
      ],
      "execution_count": null,
      "outputs": [
        {
          "output_type": "execute_result",
          "data": {
            "text/html": [
              "<div>\n",
              "<style scoped>\n",
              "    .dataframe tbody tr th:only-of-type {\n",
              "        vertical-align: middle;\n",
              "    }\n",
              "\n",
              "    .dataframe tbody tr th {\n",
              "        vertical-align: top;\n",
              "    }\n",
              "\n",
              "    .dataframe thead th {\n",
              "        text-align: right;\n",
              "    }\n",
              "</style>\n",
              "<table border=\"1\" class=\"dataframe\">\n",
              "  <thead>\n",
              "    <tr style=\"text-align: right;\">\n",
              "      <th></th>\n",
              "      <th>Country name</th>\n",
              "      <th>Ladder score</th>\n",
              "    </tr>\n",
              "  </thead>\n",
              "  <tbody>\n",
              "    <tr>\n",
              "      <th>0</th>\n",
              "      <td>Finland</td>\n",
              "      <td>7.8087</td>\n",
              "    </tr>\n",
              "    <tr>\n",
              "      <th>1</th>\n",
              "      <td>Denmark</td>\n",
              "      <td>7.6456</td>\n",
              "    </tr>\n",
              "    <tr>\n",
              "      <th>2</th>\n",
              "      <td>Switzerland</td>\n",
              "      <td>7.5599</td>\n",
              "    </tr>\n",
              "    <tr>\n",
              "      <th>3</th>\n",
              "      <td>Iceland</td>\n",
              "      <td>7.5045</td>\n",
              "    </tr>\n",
              "    <tr>\n",
              "      <th>4</th>\n",
              "      <td>Norway</td>\n",
              "      <td>7.4880</td>\n",
              "    </tr>\n",
              "    <tr>\n",
              "      <th>...</th>\n",
              "      <td>...</td>\n",
              "      <td>...</td>\n",
              "    </tr>\n",
              "    <tr>\n",
              "      <th>148</th>\n",
              "      <td>Central African Republic</td>\n",
              "      <td>3.4759</td>\n",
              "    </tr>\n",
              "    <tr>\n",
              "      <th>149</th>\n",
              "      <td>Rwanda</td>\n",
              "      <td>3.3123</td>\n",
              "    </tr>\n",
              "    <tr>\n",
              "      <th>150</th>\n",
              "      <td>Zimbabwe</td>\n",
              "      <td>3.2992</td>\n",
              "    </tr>\n",
              "    <tr>\n",
              "      <th>151</th>\n",
              "      <td>South Sudan</td>\n",
              "      <td>2.8166</td>\n",
              "    </tr>\n",
              "    <tr>\n",
              "      <th>152</th>\n",
              "      <td>Afghanistan</td>\n",
              "      <td>2.5669</td>\n",
              "    </tr>\n",
              "  </tbody>\n",
              "</table>\n",
              "<p>153 rows × 2 columns</p>\n",
              "</div>"
            ],
            "text/plain": [
              "                 Country name  Ladder score\n",
              "0                     Finland        7.8087\n",
              "1                     Denmark        7.6456\n",
              "2                 Switzerland        7.5599\n",
              "3                     Iceland        7.5045\n",
              "4                      Norway        7.4880\n",
              "..                        ...           ...\n",
              "148  Central African Republic        3.4759\n",
              "149                    Rwanda        3.3123\n",
              "150                  Zimbabwe        3.2992\n",
              "151               South Sudan        2.8166\n",
              "152               Afghanistan        2.5669\n",
              "\n",
              "[153 rows x 2 columns]"
            ]
          },
          "metadata": {
            "tags": []
          },
          "execution_count": 9
        }
      ]
    },
    {
      "cell_type": "markdown",
      "metadata": {
        "id": "rN3xVBc-ENe6"
      },
      "source": [
        "Sort the dataframe with highest number of deaths per capita"
      ]
    },
    {
      "cell_type": "code",
      "metadata": {
        "id": "RyfSDJGQLdgP"
      },
      "source": [
        "happDF.columns=['Country','Score']"
      ],
      "execution_count": null,
      "outputs": []
    },
    {
      "cell_type": "code",
      "metadata": {
        "colab": {
          "base_uri": "https://localhost:8080/"
        },
        "id": "neO_EcnjPV6R",
        "outputId": "eb95b6cb-2e16-48f9-bf5a-eab167b7d8d1"
      },
      "source": [
        "happDF.info()"
      ],
      "execution_count": null,
      "outputs": [
        {
          "output_type": "stream",
          "text": [
            "<class 'pandas.core.frame.DataFrame'>\n",
            "RangeIndex: 153 entries, 0 to 152\n",
            "Data columns (total 3 columns):\n",
            " #   Column   Non-Null Count  Dtype  \n",
            "---  ------   --------------  -----  \n",
            " 0   Country  153 non-null    object \n",
            " 1   Score    153 non-null    float64\n",
            " 2   deaths   153 non-null    object \n",
            "dtypes: float64(1), object(2)\n",
            "memory usage: 3.7+ KB\n"
          ],
          "name": "stdout"
        }
      ]
    },
    {
      "cell_type": "markdown",
      "metadata": {
        "id": "Y80-Sbr9wnxh"
      },
      "source": [
        "Start from here after uploading and reading happDF"
      ]
    },
    {
      "cell_type": "code",
      "metadata": {
        "colab": {
          "base_uri": "https://localhost:8080/"
        },
        "id": "___gtggjROcL",
        "outputId": "080d439b-eb41-4717-a0ea-49c62f06da27"
      },
      "source": [
        "wbdata.get_country(\"USA\")"
      ],
      "execution_count": null,
      "outputs": [
        {
          "output_type": "execute_result",
          "data": {
            "text/plain": [
              "id    name\n",
              "----  -------------\n",
              "USA   United States"
            ]
          },
          "metadata": {
            "tags": []
          },
          "execution_count": 4
        }
      ]
    },
    {
      "cell_type": "code",
      "metadata": {
        "id": "EjFuBPesNC8-"
      },
      "source": [
        "countries = [i['id'] for i in wbdata.get_country()] "
      ],
      "execution_count": null,
      "outputs": []
    },
    {
      "cell_type": "markdown",
      "metadata": {
        "id": "obhEju9VKqH5"
      },
      "source": [
        "List of all countries/regions for which data is avalaible in World Bank data api. The number is 297 because you also have different regions"
      ]
    },
    {
      "cell_type": "code",
      "metadata": {
        "colab": {
          "base_uri": "https://localhost:8080/"
        },
        "id": "ASG2iLNhPklB",
        "outputId": "16a65799-49ea-4674-c98f-2446d5a7d201"
      },
      "source": [
        "len(countries)"
      ],
      "execution_count": null,
      "outputs": [
        {
          "output_type": "execute_result",
          "data": {
            "text/plain": [
              "297"
            ]
          },
          "metadata": {
            "tags": []
          },
          "execution_count": 9
        }
      ]
    },
    {
      "cell_type": "markdown",
      "metadata": {
        "id": "LnGxqb4JKis2"
      },
      "source": [
        "The code below collects the data from the World Bank data api"
      ]
    },
    {
      "cell_type": "code",
      "metadata": {
        "id": "qsGqDWvMGcZ4"
      },
      "source": [
        "data_date = datetime.datetime(2019, 1,1), datetime.datetime(2019, 1, 1)\n",
        "indicator1={\"SP.POP.DPND\":\"PopDep\",\"IC.BUS.EASE.XQ\": \"EaseofB\",\"NY.GDP.PCAP.PP.CD\":\"GDPpppPC\",\"SP.POP.GROW\":\"PopGrowth\",\"SP.URB.TOTL.IN.ZS\":\"UrbanPop\"}\n",
        "wbdf1= wbdata.get_dataframe(indicator1, country=countries[0:250], data_date=data_date)\n",
        "wbdf2=wbdata.get_dataframe(indicator1, country=countries[251:], data_date=data_date)\n",
        "df1=pd.concat([wbdf1,wbdf2],axis=0)"
      ],
      "execution_count": null,
      "outputs": []
    },
    {
      "cell_type": "code",
      "metadata": {
        "id": "7LsT0wcI48e2"
      },
      "source": [
        "data_date = datetime.datetime(2019, 1,1), datetime.datetime(2019, 1, 1)\n",
        "indicator1={\"NE.EXP.GNFS.CD\":\"Exports\",\"BX.KLT.DINV.CD.WD\":\"FDI\",\"DT.DOD.PVLX.CD\":\"ForDebt\"}#\n",
        "wbdf1= wbdata.get_dataframe(indicator1, country=countries[0:250], data_date=data_date)\n",
        "wbdf2=wbdata.get_dataframe(indicator1, country=countries[251:], data_date=data_date)\n",
        "df2=pd.concat([wbdf1,wbdf2],axis=0)"
      ],
      "execution_count": null,
      "outputs": []
    },
    {
      "cell_type": "code",
      "metadata": {
        "colab": {
          "base_uri": "https://localhost:8080/",
          "height": 473
        },
        "id": "D5atvzK97VGO",
        "outputId": "db0deefc-04a5-422c-e2e1-9497f748ecfe"
      },
      "source": [
        "wbdf"
      ],
      "execution_count": null,
      "outputs": [
        {
          "output_type": "execute_result",
          "data": {
            "text/html": [
              "<div>\n",
              "<style scoped>\n",
              "    .dataframe tbody tr th:only-of-type {\n",
              "        vertical-align: middle;\n",
              "    }\n",
              "\n",
              "    .dataframe tbody tr th {\n",
              "        vertical-align: top;\n",
              "    }\n",
              "\n",
              "    .dataframe thead th {\n",
              "        text-align: right;\n",
              "    }\n",
              "</style>\n",
              "<table border=\"1\" class=\"dataframe\">\n",
              "  <thead>\n",
              "    <tr style=\"text-align: right;\">\n",
              "      <th></th>\n",
              "      <th>country</th>\n",
              "      <th>PopDep</th>\n",
              "      <th>EaseofB</th>\n",
              "      <th>GDPpppPC</th>\n",
              "      <th>PopGrowth</th>\n",
              "      <th>UrbanPop</th>\n",
              "      <th>GexpEdu</th>\n",
              "      <th>MilExpGdp</th>\n",
              "      <th>HosBedP1000</th>\n",
              "      <th>LifeExp</th>\n",
              "      <th>ElecAces</th>\n",
              "      <th>Fem%Lab</th>\n",
              "      <th>Patents</th>\n",
              "      <th>UnemplR</th>\n",
              "      <th>HappScore</th>\n",
              "      <th>EofBScore</th>\n",
              "    </tr>\n",
              "  </thead>\n",
              "  <tbody>\n",
              "    <tr>\n",
              "      <th>0</th>\n",
              "      <td>Aruba</td>\n",
              "      <td>46.367454</td>\n",
              "      <td>NaN</td>\n",
              "      <td>NaN</td>\n",
              "      <td>0.442122</td>\n",
              "      <td>43.546</td>\n",
              "      <td>5.52415</td>\n",
              "      <td>NaN</td>\n",
              "      <td>NaN</td>\n",
              "      <td>75.868000</td>\n",
              "      <td>100.000000</td>\n",
              "      <td>NaN</td>\n",
              "      <td>NaN</td>\n",
              "      <td>NaN</td>\n",
              "      <td>NaN</td>\n",
              "      <td>NaN</td>\n",
              "    </tr>\n",
              "    <tr>\n",
              "      <th>1</th>\n",
              "      <td>Afghanistan</td>\n",
              "      <td>82.109775</td>\n",
              "      <td>173.0</td>\n",
              "      <td>2156.419482</td>\n",
              "      <td>2.311817</td>\n",
              "      <td>25.754</td>\n",
              "      <td>4.22836</td>\n",
              "      <td>0.956772</td>\n",
              "      <td>0.2782</td>\n",
              "      <td>63.763000</td>\n",
              "      <td>98.713203</td>\n",
              "      <td>21.247021</td>\n",
              "      <td>NaN</td>\n",
              "      <td>11.06</td>\n",
              "      <td>2.5669</td>\n",
              "      <td>44.06497</td>\n",
              "    </tr>\n",
              "    <tr>\n",
              "      <th>2</th>\n",
              "      <td>Angola</td>\n",
              "      <td>95.394042</td>\n",
              "      <td>177.0</td>\n",
              "      <td>6965.511374</td>\n",
              "      <td>3.242983</td>\n",
              "      <td>66.177</td>\n",
              "      <td>NaN</td>\n",
              "      <td>2.733341</td>\n",
              "      <td>NaN</td>\n",
              "      <td>59.925000</td>\n",
              "      <td>43.259258</td>\n",
              "      <td>50.202910</td>\n",
              "      <td>6.0</td>\n",
              "      <td>7.00</td>\n",
              "      <td>NaN</td>\n",
              "      <td>41.28838</td>\n",
              "    </tr>\n",
              "    <tr>\n",
              "      <th>3</th>\n",
              "      <td>Albania</td>\n",
              "      <td>46.203522</td>\n",
              "      <td>82.0</td>\n",
              "      <td>14648.267402</td>\n",
              "      <td>-0.426007</td>\n",
              "      <td>61.229</td>\n",
              "      <td>3.96209</td>\n",
              "      <td>1.103581</td>\n",
              "      <td>1.2164</td>\n",
              "      <td>78.194000</td>\n",
              "      <td>100.000000</td>\n",
              "      <td>42.190687</td>\n",
              "      <td>15.0</td>\n",
              "      <td>12.30</td>\n",
              "      <td>4.8827</td>\n",
              "      <td>67.74847</td>\n",
              "    </tr>\n",
              "    <tr>\n",
              "      <th>4</th>\n",
              "      <td>Andorra</td>\n",
              "      <td>NaN</td>\n",
              "      <td>NaN</td>\n",
              "      <td>NaN</td>\n",
              "      <td>0.176454</td>\n",
              "      <td>87.984</td>\n",
              "      <td>3.23707</td>\n",
              "      <td>NaN</td>\n",
              "      <td>NaN</td>\n",
              "      <td>NaN</td>\n",
              "      <td>100.000000</td>\n",
              "      <td>NaN</td>\n",
              "      <td>1.0</td>\n",
              "      <td>NaN</td>\n",
              "      <td>NaN</td>\n",
              "      <td>NaN</td>\n",
              "    </tr>\n",
              "    <tr>\n",
              "      <th>...</th>\n",
              "      <td>...</td>\n",
              "      <td>...</td>\n",
              "      <td>...</td>\n",
              "      <td>...</td>\n",
              "      <td>...</td>\n",
              "      <td>...</td>\n",
              "      <td>...</td>\n",
              "      <td>...</td>\n",
              "      <td>...</td>\n",
              "      <td>...</td>\n",
              "      <td>...</td>\n",
              "      <td>...</td>\n",
              "      <td>...</td>\n",
              "      <td>...</td>\n",
              "      <td>...</td>\n",
              "      <td>...</td>\n",
              "    </tr>\n",
              "    <tr>\n",
              "      <th>258</th>\n",
              "      <td>Kosovo</td>\n",
              "      <td>NaN</td>\n",
              "      <td>57.0</td>\n",
              "      <td>11870.797576</td>\n",
              "      <td>-0.157992</td>\n",
              "      <td>NaN</td>\n",
              "      <td>NaN</td>\n",
              "      <td>0.773671</td>\n",
              "      <td>NaN</td>\n",
              "      <td>71.646341</td>\n",
              "      <td>100.000000</td>\n",
              "      <td>NaN</td>\n",
              "      <td>NaN</td>\n",
              "      <td>NaN</td>\n",
              "      <td>6.3250</td>\n",
              "      <td>73.18473</td>\n",
              "    </tr>\n",
              "    <tr>\n",
              "      <th>259</th>\n",
              "      <td>Yemen, Rep.</td>\n",
              "      <td>72.787716</td>\n",
              "      <td>187.0</td>\n",
              "      <td>NaN</td>\n",
              "      <td>2.300580</td>\n",
              "      <td>37.273</td>\n",
              "      <td>NaN</td>\n",
              "      <td>NaN</td>\n",
              "      <td>NaN</td>\n",
              "      <td>66.087000</td>\n",
              "      <td>62.000000</td>\n",
              "      <td>7.895299</td>\n",
              "      <td>NaN</td>\n",
              "      <td>13.01</td>\n",
              "      <td>3.5200</td>\n",
              "      <td>31.76299</td>\n",
              "    </tr>\n",
              "    <tr>\n",
              "      <th>260</th>\n",
              "      <td>South Africa</td>\n",
              "      <td>52.400879</td>\n",
              "      <td>84.0</td>\n",
              "      <td>13034.164661</td>\n",
              "      <td>1.338617</td>\n",
              "      <td>66.856</td>\n",
              "      <td>5.94285</td>\n",
              "      <td>1.075530</td>\n",
              "      <td>0.7997</td>\n",
              "      <td>63.153000</td>\n",
              "      <td>91.229874</td>\n",
              "      <td>45.281073</td>\n",
              "      <td>657.0</td>\n",
              "      <td>26.91</td>\n",
              "      <td>4.8141</td>\n",
              "      <td>67.01897</td>\n",
              "    </tr>\n",
              "    <tr>\n",
              "      <th>261</th>\n",
              "      <td>Zambia</td>\n",
              "      <td>87.188180</td>\n",
              "      <td>85.0</td>\n",
              "      <td>3624.024939</td>\n",
              "      <td>2.892373</td>\n",
              "      <td>44.072</td>\n",
              "      <td>3.74792</td>\n",
              "      <td>1.429305</td>\n",
              "      <td>0.1628</td>\n",
              "      <td>62.464000</td>\n",
              "      <td>39.812622</td>\n",
              "      <td>48.295769</td>\n",
              "      <td>11.0</td>\n",
              "      <td>12.01</td>\n",
              "      <td>3.7594</td>\n",
              "      <td>66.93648</td>\n",
              "    </tr>\n",
              "    <tr>\n",
              "      <th>262</th>\n",
              "      <td>Zimbabwe</td>\n",
              "      <td>82.277970</td>\n",
              "      <td>140.0</td>\n",
              "      <td>2961.446428</td>\n",
              "      <td>1.419681</td>\n",
              "      <td>32.210</td>\n",
              "      <td>NaN</td>\n",
              "      <td>1.742494</td>\n",
              "      <td>0.1788</td>\n",
              "      <td>60.294000</td>\n",
              "      <td>41.041584</td>\n",
              "      <td>50.928141</td>\n",
              "      <td>NaN</td>\n",
              "      <td>5.07</td>\n",
              "      <td>3.2992</td>\n",
              "      <td>54.46935</td>\n",
              "    </tr>\n",
              "  </tbody>\n",
              "</table>\n",
              "<p>263 rows × 16 columns</p>\n",
              "</div>"
            ],
            "text/plain": [
              "          country     PopDep  EaseofB  ...  UnemplR  HappScore  EofBScore\n",
              "0           Aruba  46.367454      NaN  ...      NaN        NaN        NaN\n",
              "1     Afghanistan  82.109775    173.0  ...    11.06     2.5669   44.06497\n",
              "2          Angola  95.394042    177.0  ...     7.00        NaN   41.28838\n",
              "3         Albania  46.203522     82.0  ...    12.30     4.8827   67.74847\n",
              "4         Andorra        NaN      NaN  ...      NaN        NaN        NaN\n",
              "..            ...        ...      ...  ...      ...        ...        ...\n",
              "258        Kosovo        NaN     57.0  ...      NaN     6.3250   73.18473\n",
              "259   Yemen, Rep.  72.787716    187.0  ...    13.01     3.5200   31.76299\n",
              "260  South Africa  52.400879     84.0  ...    26.91     4.8141   67.01897\n",
              "261        Zambia  87.188180     85.0  ...    12.01     3.7594   66.93648\n",
              "262      Zimbabwe  82.277970    140.0  ...     5.07     3.2992   54.46935\n",
              "\n",
              "[263 rows x 16 columns]"
            ]
          },
          "metadata": {
            "tags": []
          },
          "execution_count": 11
        }
      ]
    },
    {
      "cell_type": "code",
      "metadata": {
        "id": "ul1T_RX2Ltyp"
      },
      "source": [
        "wbdf.set_index('country',inplace=True)"
      ],
      "execution_count": null,
      "outputs": []
    },
    {
      "cell_type": "code",
      "metadata": {
        "id": "aRWIKyxbNxpC"
      },
      "source": [
        "wbdf2=pd.concat([wbdf,df1,df2],join='outer',axis=1)"
      ],
      "execution_count": null,
      "outputs": []
    },
    {
      "cell_type": "markdown",
      "metadata": {
        "id": "iDO4WeIk6ldK"
      },
      "source": [
        "Using the above code you can download the data for each indicator and then combine the dataframes to make a master dataframe that has the data for all the countries. \n",
        "This is wbdf above"
      ]
    },
    {
      "cell_type": "code",
      "metadata": {
        "colab": {
          "base_uri": "https://localhost:8080/",
          "height": 504
        },
        "id": "CAMyuytGNxgp",
        "outputId": "13b4515d-8510-4e2a-d820-be48c321b680"
      },
      "source": [
        "wbdf2"
      ],
      "execution_count": null,
      "outputs": [
        {
          "output_type": "execute_result",
          "data": {
            "text/html": [
              "<div>\n",
              "<style scoped>\n",
              "    .dataframe tbody tr th:only-of-type {\n",
              "        vertical-align: middle;\n",
              "    }\n",
              "\n",
              "    .dataframe tbody tr th {\n",
              "        vertical-align: top;\n",
              "    }\n",
              "\n",
              "    .dataframe thead th {\n",
              "        text-align: right;\n",
              "    }\n",
              "</style>\n",
              "<table border=\"1\" class=\"dataframe\">\n",
              "  <thead>\n",
              "    <tr style=\"text-align: right;\">\n",
              "      <th></th>\n",
              "      <th>PopDep</th>\n",
              "      <th>EaseofB</th>\n",
              "      <th>GDPpppPC</th>\n",
              "      <th>PopGrowth</th>\n",
              "      <th>UrbanPop</th>\n",
              "      <th>GexpEdu</th>\n",
              "      <th>MilExpGdp</th>\n",
              "      <th>HosBedP1000</th>\n",
              "      <th>LifeExp</th>\n",
              "      <th>ElecAces</th>\n",
              "      <th>Fem%Lab</th>\n",
              "      <th>Patents</th>\n",
              "      <th>UnemplR</th>\n",
              "      <th>HappScore</th>\n",
              "      <th>EofBScore</th>\n",
              "      <th>Exports</th>\n",
              "      <th>FDI</th>\n",
              "      <th>ForDebt</th>\n",
              "      <th>Exports</th>\n",
              "      <th>FDI</th>\n",
              "      <th>ForDebt</th>\n",
              "      <th>FemaleLit</th>\n",
              "    </tr>\n",
              "    <tr>\n",
              "      <th>country</th>\n",
              "      <th></th>\n",
              "      <th></th>\n",
              "      <th></th>\n",
              "      <th></th>\n",
              "      <th></th>\n",
              "      <th></th>\n",
              "      <th></th>\n",
              "      <th></th>\n",
              "      <th></th>\n",
              "      <th></th>\n",
              "      <th></th>\n",
              "      <th></th>\n",
              "      <th></th>\n",
              "      <th></th>\n",
              "      <th></th>\n",
              "      <th></th>\n",
              "      <th></th>\n",
              "      <th></th>\n",
              "      <th></th>\n",
              "      <th></th>\n",
              "      <th></th>\n",
              "      <th></th>\n",
              "    </tr>\n",
              "  </thead>\n",
              "  <tbody>\n",
              "    <tr>\n",
              "      <th>Aruba</th>\n",
              "      <td>46.367454</td>\n",
              "      <td>NaN</td>\n",
              "      <td>NaN</td>\n",
              "      <td>0.442122</td>\n",
              "      <td>43.546</td>\n",
              "      <td>5.52415</td>\n",
              "      <td>NaN</td>\n",
              "      <td>NaN</td>\n",
              "      <td>75.868000</td>\n",
              "      <td>100.000000</td>\n",
              "      <td>NaN</td>\n",
              "      <td>NaN</td>\n",
              "      <td>NaN</td>\n",
              "      <td>NaN</td>\n",
              "      <td>NaN</td>\n",
              "      <td>NaN</td>\n",
              "      <td>-7.604174e+07</td>\n",
              "      <td>NaN</td>\n",
              "      <td>NaN</td>\n",
              "      <td>-7.604174e+07</td>\n",
              "      <td>NaN</td>\n",
              "      <td>96.719780</td>\n",
              "    </tr>\n",
              "    <tr>\n",
              "      <th>Afghanistan</th>\n",
              "      <td>82.109775</td>\n",
              "      <td>173.0</td>\n",
              "      <td>2156.419482</td>\n",
              "      <td>2.311817</td>\n",
              "      <td>25.754</td>\n",
              "      <td>4.22836</td>\n",
              "      <td>0.956772</td>\n",
              "      <td>0.2782</td>\n",
              "      <td>63.763000</td>\n",
              "      <td>98.713203</td>\n",
              "      <td>21.247021</td>\n",
              "      <td>NaN</td>\n",
              "      <td>11.06</td>\n",
              "      <td>2.5669</td>\n",
              "      <td>44.06497</td>\n",
              "      <td>NaN</td>\n",
              "      <td>2.340455e+07</td>\n",
              "      <td>1.943399e+09</td>\n",
              "      <td>NaN</td>\n",
              "      <td>2.340455e+07</td>\n",
              "      <td>1.943399e+09</td>\n",
              "      <td>NaN</td>\n",
              "    </tr>\n",
              "    <tr>\n",
              "      <th>Angola</th>\n",
              "      <td>95.394042</td>\n",
              "      <td>177.0</td>\n",
              "      <td>6965.511374</td>\n",
              "      <td>3.242983</td>\n",
              "      <td>66.177</td>\n",
              "      <td>NaN</td>\n",
              "      <td>2.733341</td>\n",
              "      <td>NaN</td>\n",
              "      <td>59.925000</td>\n",
              "      <td>43.259258</td>\n",
              "      <td>50.202910</td>\n",
              "      <td>6.0</td>\n",
              "      <td>7.00</td>\n",
              "      <td>NaN</td>\n",
              "      <td>41.28838</td>\n",
              "      <td>3.602087e+10</td>\n",
              "      <td>-4.098479e+09</td>\n",
              "      <td>4.052814e+10</td>\n",
              "      <td>3.602087e+10</td>\n",
              "      <td>-4.098479e+09</td>\n",
              "      <td>4.052814e+10</td>\n",
              "      <td>NaN</td>\n",
              "    </tr>\n",
              "    <tr>\n",
              "      <th>Albania</th>\n",
              "      <td>46.203522</td>\n",
              "      <td>82.0</td>\n",
              "      <td>14648.267402</td>\n",
              "      <td>-0.426007</td>\n",
              "      <td>61.229</td>\n",
              "      <td>3.96209</td>\n",
              "      <td>1.103581</td>\n",
              "      <td>1.2164</td>\n",
              "      <td>78.194000</td>\n",
              "      <td>100.000000</td>\n",
              "      <td>42.190687</td>\n",
              "      <td>15.0</td>\n",
              "      <td>12.30</td>\n",
              "      <td>4.8827</td>\n",
              "      <td>67.74847</td>\n",
              "      <td>4.821431e+09</td>\n",
              "      <td>1.201022e+09</td>\n",
              "      <td>4.980870e+09</td>\n",
              "      <td>4.821431e+09</td>\n",
              "      <td>1.201022e+09</td>\n",
              "      <td>4.980870e+09</td>\n",
              "      <td>NaN</td>\n",
              "    </tr>\n",
              "    <tr>\n",
              "      <th>Andorra</th>\n",
              "      <td>NaN</td>\n",
              "      <td>NaN</td>\n",
              "      <td>NaN</td>\n",
              "      <td>0.176454</td>\n",
              "      <td>87.984</td>\n",
              "      <td>3.23707</td>\n",
              "      <td>NaN</td>\n",
              "      <td>NaN</td>\n",
              "      <td>NaN</td>\n",
              "      <td>100.000000</td>\n",
              "      <td>NaN</td>\n",
              "      <td>1.0</td>\n",
              "      <td>NaN</td>\n",
              "      <td>NaN</td>\n",
              "      <td>NaN</td>\n",
              "      <td>NaN</td>\n",
              "      <td>NaN</td>\n",
              "      <td>NaN</td>\n",
              "      <td>NaN</td>\n",
              "      <td>NaN</td>\n",
              "      <td>NaN</td>\n",
              "      <td>NaN</td>\n",
              "    </tr>\n",
              "    <tr>\n",
              "      <th>...</th>\n",
              "      <td>...</td>\n",
              "      <td>...</td>\n",
              "      <td>...</td>\n",
              "      <td>...</td>\n",
              "      <td>...</td>\n",
              "      <td>...</td>\n",
              "      <td>...</td>\n",
              "      <td>...</td>\n",
              "      <td>...</td>\n",
              "      <td>...</td>\n",
              "      <td>...</td>\n",
              "      <td>...</td>\n",
              "      <td>...</td>\n",
              "      <td>...</td>\n",
              "      <td>...</td>\n",
              "      <td>...</td>\n",
              "      <td>...</td>\n",
              "      <td>...</td>\n",
              "      <td>...</td>\n",
              "      <td>...</td>\n",
              "      <td>...</td>\n",
              "      <td>...</td>\n",
              "    </tr>\n",
              "    <tr>\n",
              "      <th>Kosovo</th>\n",
              "      <td>NaN</td>\n",
              "      <td>57.0</td>\n",
              "      <td>11870.797576</td>\n",
              "      <td>-0.157992</td>\n",
              "      <td>NaN</td>\n",
              "      <td>NaN</td>\n",
              "      <td>0.773671</td>\n",
              "      <td>NaN</td>\n",
              "      <td>71.646341</td>\n",
              "      <td>100.000000</td>\n",
              "      <td>NaN</td>\n",
              "      <td>NaN</td>\n",
              "      <td>NaN</td>\n",
              "      <td>6.3250</td>\n",
              "      <td>73.18473</td>\n",
              "      <td>2.315662e+09</td>\n",
              "      <td>2.850816e+08</td>\n",
              "      <td>4.838109e+08</td>\n",
              "      <td>2.315662e+09</td>\n",
              "      <td>2.850816e+08</td>\n",
              "      <td>4.838109e+08</td>\n",
              "      <td>NaN</td>\n",
              "    </tr>\n",
              "    <tr>\n",
              "      <th>Yemen, Rep.</th>\n",
              "      <td>72.787716</td>\n",
              "      <td>187.0</td>\n",
              "      <td>NaN</td>\n",
              "      <td>2.300580</td>\n",
              "      <td>37.273</td>\n",
              "      <td>NaN</td>\n",
              "      <td>NaN</td>\n",
              "      <td>NaN</td>\n",
              "      <td>66.087000</td>\n",
              "      <td>62.000000</td>\n",
              "      <td>7.895299</td>\n",
              "      <td>NaN</td>\n",
              "      <td>13.01</td>\n",
              "      <td>3.5200</td>\n",
              "      <td>31.76299</td>\n",
              "      <td>NaN</td>\n",
              "      <td>-3.709828e+08</td>\n",
              "      <td>5.622578e+09</td>\n",
              "      <td>NaN</td>\n",
              "      <td>-3.709828e+08</td>\n",
              "      <td>5.622578e+09</td>\n",
              "      <td>NaN</td>\n",
              "    </tr>\n",
              "    <tr>\n",
              "      <th>South Africa</th>\n",
              "      <td>52.400879</td>\n",
              "      <td>84.0</td>\n",
              "      <td>13034.164661</td>\n",
              "      <td>1.338617</td>\n",
              "      <td>66.856</td>\n",
              "      <td>5.94285</td>\n",
              "      <td>1.075530</td>\n",
              "      <td>0.7997</td>\n",
              "      <td>63.153000</td>\n",
              "      <td>91.229874</td>\n",
              "      <td>45.281073</td>\n",
              "      <td>657.0</td>\n",
              "      <td>26.91</td>\n",
              "      <td>4.8141</td>\n",
              "      <td>67.01897</td>\n",
              "      <td>1.049158e+11</td>\n",
              "      <td>4.624503e+09</td>\n",
              "      <td>7.610179e+10</td>\n",
              "      <td>1.049158e+11</td>\n",
              "      <td>4.624503e+09</td>\n",
              "      <td>7.610179e+10</td>\n",
              "      <td>91.713989</td>\n",
              "    </tr>\n",
              "    <tr>\n",
              "      <th>Zambia</th>\n",
              "      <td>87.188180</td>\n",
              "      <td>85.0</td>\n",
              "      <td>3624.024939</td>\n",
              "      <td>2.892373</td>\n",
              "      <td>44.072</td>\n",
              "      <td>3.74792</td>\n",
              "      <td>1.429305</td>\n",
              "      <td>0.1628</td>\n",
              "      <td>62.464000</td>\n",
              "      <td>39.812622</td>\n",
              "      <td>48.295769</td>\n",
              "      <td>11.0</td>\n",
              "      <td>12.01</td>\n",
              "      <td>3.7594</td>\n",
              "      <td>66.93648</td>\n",
              "      <td>8.073611e+09</td>\n",
              "      <td>5.479679e+08</td>\n",
              "      <td>1.049975e+10</td>\n",
              "      <td>8.073611e+09</td>\n",
              "      <td>5.479679e+08</td>\n",
              "      <td>1.049975e+10</td>\n",
              "      <td>77.746643</td>\n",
              "    </tr>\n",
              "    <tr>\n",
              "      <th>Zimbabwe</th>\n",
              "      <td>82.277970</td>\n",
              "      <td>140.0</td>\n",
              "      <td>2961.446428</td>\n",
              "      <td>1.419681</td>\n",
              "      <td>32.210</td>\n",
              "      <td>NaN</td>\n",
              "      <td>1.742494</td>\n",
              "      <td>0.1788</td>\n",
              "      <td>60.294000</td>\n",
              "      <td>41.041584</td>\n",
              "      <td>50.928141</td>\n",
              "      <td>NaN</td>\n",
              "      <td>5.07</td>\n",
              "      <td>3.2992</td>\n",
              "      <td>54.46935</td>\n",
              "      <td>NaN</td>\n",
              "      <td>2.800000e+08</td>\n",
              "      <td>5.884767e+09</td>\n",
              "      <td>NaN</td>\n",
              "      <td>2.800000e+08</td>\n",
              "      <td>5.884767e+09</td>\n",
              "      <td>NaN</td>\n",
              "    </tr>\n",
              "  </tbody>\n",
              "</table>\n",
              "<p>263 rows × 22 columns</p>\n",
              "</div>"
            ],
            "text/plain": [
              "                 PopDep  EaseofB  ...       ForDebt  FemaleLit\n",
              "country                           ...                         \n",
              "Aruba         46.367454      NaN  ...           NaN  96.719780\n",
              "Afghanistan   82.109775    173.0  ...  1.943399e+09        NaN\n",
              "Angola        95.394042    177.0  ...  4.052814e+10        NaN\n",
              "Albania       46.203522     82.0  ...  4.980870e+09        NaN\n",
              "Andorra             NaN      NaN  ...           NaN        NaN\n",
              "...                 ...      ...  ...           ...        ...\n",
              "Kosovo              NaN     57.0  ...  4.838109e+08        NaN\n",
              "Yemen, Rep.   72.787716    187.0  ...  5.622578e+09        NaN\n",
              "South Africa  52.400879     84.0  ...  7.610179e+10  91.713989\n",
              "Zambia        87.188180     85.0  ...  1.049975e+10  77.746643\n",
              "Zimbabwe      82.277970    140.0  ...  5.884767e+09        NaN\n",
              "\n",
              "[263 rows x 22 columns]"
            ]
          },
          "metadata": {
            "tags": []
          },
          "execution_count": 37
        }
      ]
    },
    {
      "cell_type": "markdown",
      "metadata": {
        "id": "k5WpZdx_7li9"
      },
      "source": [
        "Lets get data for one more indicator i.e. Female Literacy Rate and then combine it into our master dataframe wbdf"
      ]
    },
    {
      "cell_type": "code",
      "metadata": {
        "id": "kM-v54HDNxYD"
      },
      "source": [
        "data_date = datetime.datetime(2010, 1,1), datetime.datetime(2010, 1, 1)\n",
        "indicator1={\"SE.ADT.LITR.FE.ZS\":\"FemaleLit\"}\n",
        "wbdf1= wbdata.get_dataframe(indicator1, country=countries[0:250], data_date=data_date)\n",
        "wbdf2=wbdata.get_dataframe(indicator1, country=countries[251:], data_date=data_date)\n",
        "df2=pd.concat([wbdf1,wbdf2],axis=0)"
      ],
      "execution_count": null,
      "outputs": []
    },
    {
      "cell_type": "code",
      "metadata": {
        "colab": {
          "base_uri": "https://localhost:8080/"
        },
        "id": "MJ0cwI8P79Y5",
        "outputId": "e52ca295-9f6d-4cd2-a79a-539d66a37b45"
      },
      "source": [
        "df2.notna().sum()"
      ],
      "execution_count": null,
      "outputs": [
        {
          "output_type": "execute_result",
          "data": {
            "text/plain": [
              "FemaleLit    92\n",
              "dtype: int64"
            ]
          },
          "metadata": {
            "tags": []
          },
          "execution_count": 33
        }
      ]
    },
    {
      "cell_type": "markdown",
      "metadata": {
        "id": "-O5Jc3-98rpO"
      },
      "source": [
        "We only have data from 92 countries for female literacy and that too is also quite old (2010) so lets drop the variable"
      ]
    },
    {
      "cell_type": "code",
      "metadata": {
        "id": "bSlgHLgDTv49",
        "colab": {
          "base_uri": "https://localhost:8080/",
          "height": 504
        },
        "outputId": "a41422c2-087d-489f-f559-c9f84b2c339c"
      },
      "source": [
        "wbdf=pd.concat([wbdf,df2],join='outer',axis=1)"
      ],
      "execution_count": null,
      "outputs": [
        {
          "output_type": "execute_result",
          "data": {
            "text/html": [
              "<div>\n",
              "<style scoped>\n",
              "    .dataframe tbody tr th:only-of-type {\n",
              "        vertical-align: middle;\n",
              "    }\n",
              "\n",
              "    .dataframe tbody tr th {\n",
              "        vertical-align: top;\n",
              "    }\n",
              "\n",
              "    .dataframe thead th {\n",
              "        text-align: right;\n",
              "    }\n",
              "</style>\n",
              "<table border=\"1\" class=\"dataframe\">\n",
              "  <thead>\n",
              "    <tr style=\"text-align: right;\">\n",
              "      <th></th>\n",
              "      <th>PopDep</th>\n",
              "      <th>EaseofB</th>\n",
              "      <th>GDPpppPC</th>\n",
              "      <th>PopGrowth</th>\n",
              "      <th>UrbanPop</th>\n",
              "      <th>GexpEdu</th>\n",
              "      <th>MilExpGdp</th>\n",
              "      <th>HosBedP1000</th>\n",
              "      <th>LifeExp</th>\n",
              "      <th>ElecAces</th>\n",
              "      <th>Fem%Lab</th>\n",
              "      <th>Patents</th>\n",
              "      <th>UnemplR</th>\n",
              "      <th>HappScore</th>\n",
              "      <th>EofBScore</th>\n",
              "      <th>Exports</th>\n",
              "      <th>FDI</th>\n",
              "      <th>ForDebt</th>\n",
              "      <th>FemaleLit</th>\n",
              "      <th>FemaleLit</th>\n",
              "    </tr>\n",
              "    <tr>\n",
              "      <th>country</th>\n",
              "      <th></th>\n",
              "      <th></th>\n",
              "      <th></th>\n",
              "      <th></th>\n",
              "      <th></th>\n",
              "      <th></th>\n",
              "      <th></th>\n",
              "      <th></th>\n",
              "      <th></th>\n",
              "      <th></th>\n",
              "      <th></th>\n",
              "      <th></th>\n",
              "      <th></th>\n",
              "      <th></th>\n",
              "      <th></th>\n",
              "      <th></th>\n",
              "      <th></th>\n",
              "      <th></th>\n",
              "      <th></th>\n",
              "      <th></th>\n",
              "    </tr>\n",
              "  </thead>\n",
              "  <tbody>\n",
              "    <tr>\n",
              "      <th>Aruba</th>\n",
              "      <td>46.367454</td>\n",
              "      <td>NaN</td>\n",
              "      <td>NaN</td>\n",
              "      <td>0.442122</td>\n",
              "      <td>43.546</td>\n",
              "      <td>5.52415</td>\n",
              "      <td>NaN</td>\n",
              "      <td>NaN</td>\n",
              "      <td>75.868000</td>\n",
              "      <td>100.000000</td>\n",
              "      <td>NaN</td>\n",
              "      <td>NaN</td>\n",
              "      <td>NaN</td>\n",
              "      <td>NaN</td>\n",
              "      <td>NaN</td>\n",
              "      <td>NaN</td>\n",
              "      <td>-7.604174e+07</td>\n",
              "      <td>NaN</td>\n",
              "      <td>NaN</td>\n",
              "      <td>NaN</td>\n",
              "    </tr>\n",
              "    <tr>\n",
              "      <th>Afghanistan</th>\n",
              "      <td>82.109775</td>\n",
              "      <td>173.0</td>\n",
              "      <td>2156.419482</td>\n",
              "      <td>2.311817</td>\n",
              "      <td>25.754</td>\n",
              "      <td>4.22836</td>\n",
              "      <td>0.956772</td>\n",
              "      <td>0.2782</td>\n",
              "      <td>63.763000</td>\n",
              "      <td>98.713203</td>\n",
              "      <td>21.247021</td>\n",
              "      <td>NaN</td>\n",
              "      <td>11.06</td>\n",
              "      <td>2.5669</td>\n",
              "      <td>44.06497</td>\n",
              "      <td>NaN</td>\n",
              "      <td>2.340455e+07</td>\n",
              "      <td>1.943399e+09</td>\n",
              "      <td>NaN</td>\n",
              "      <td>NaN</td>\n",
              "    </tr>\n",
              "    <tr>\n",
              "      <th>Angola</th>\n",
              "      <td>95.394042</td>\n",
              "      <td>177.0</td>\n",
              "      <td>6965.511374</td>\n",
              "      <td>3.242983</td>\n",
              "      <td>66.177</td>\n",
              "      <td>NaN</td>\n",
              "      <td>2.733341</td>\n",
              "      <td>NaN</td>\n",
              "      <td>59.925000</td>\n",
              "      <td>43.259258</td>\n",
              "      <td>50.202910</td>\n",
              "      <td>6.0</td>\n",
              "      <td>7.00</td>\n",
              "      <td>NaN</td>\n",
              "      <td>41.28838</td>\n",
              "      <td>3.602087e+10</td>\n",
              "      <td>-4.098479e+09</td>\n",
              "      <td>4.052814e+10</td>\n",
              "      <td>NaN</td>\n",
              "      <td>NaN</td>\n",
              "    </tr>\n",
              "    <tr>\n",
              "      <th>Albania</th>\n",
              "      <td>46.203522</td>\n",
              "      <td>82.0</td>\n",
              "      <td>14648.267402</td>\n",
              "      <td>-0.426007</td>\n",
              "      <td>61.229</td>\n",
              "      <td>3.96209</td>\n",
              "      <td>1.103581</td>\n",
              "      <td>1.2164</td>\n",
              "      <td>78.194000</td>\n",
              "      <td>100.000000</td>\n",
              "      <td>42.190687</td>\n",
              "      <td>15.0</td>\n",
              "      <td>12.30</td>\n",
              "      <td>4.8827</td>\n",
              "      <td>67.74847</td>\n",
              "      <td>4.821431e+09</td>\n",
              "      <td>1.201022e+09</td>\n",
              "      <td>4.980870e+09</td>\n",
              "      <td>NaN</td>\n",
              "      <td>NaN</td>\n",
              "    </tr>\n",
              "    <tr>\n",
              "      <th>Andorra</th>\n",
              "      <td>NaN</td>\n",
              "      <td>NaN</td>\n",
              "      <td>NaN</td>\n",
              "      <td>0.176454</td>\n",
              "      <td>87.984</td>\n",
              "      <td>3.23707</td>\n",
              "      <td>NaN</td>\n",
              "      <td>NaN</td>\n",
              "      <td>NaN</td>\n",
              "      <td>100.000000</td>\n",
              "      <td>NaN</td>\n",
              "      <td>1.0</td>\n",
              "      <td>NaN</td>\n",
              "      <td>NaN</td>\n",
              "      <td>NaN</td>\n",
              "      <td>NaN</td>\n",
              "      <td>NaN</td>\n",
              "      <td>NaN</td>\n",
              "      <td>NaN</td>\n",
              "      <td>NaN</td>\n",
              "    </tr>\n",
              "    <tr>\n",
              "      <th>...</th>\n",
              "      <td>...</td>\n",
              "      <td>...</td>\n",
              "      <td>...</td>\n",
              "      <td>...</td>\n",
              "      <td>...</td>\n",
              "      <td>...</td>\n",
              "      <td>...</td>\n",
              "      <td>...</td>\n",
              "      <td>...</td>\n",
              "      <td>...</td>\n",
              "      <td>...</td>\n",
              "      <td>...</td>\n",
              "      <td>...</td>\n",
              "      <td>...</td>\n",
              "      <td>...</td>\n",
              "      <td>...</td>\n",
              "      <td>...</td>\n",
              "      <td>...</td>\n",
              "      <td>...</td>\n",
              "      <td>...</td>\n",
              "    </tr>\n",
              "    <tr>\n",
              "      <th>Kosovo</th>\n",
              "      <td>NaN</td>\n",
              "      <td>57.0</td>\n",
              "      <td>11870.797576</td>\n",
              "      <td>-0.157992</td>\n",
              "      <td>NaN</td>\n",
              "      <td>NaN</td>\n",
              "      <td>0.773671</td>\n",
              "      <td>NaN</td>\n",
              "      <td>71.646341</td>\n",
              "      <td>100.000000</td>\n",
              "      <td>NaN</td>\n",
              "      <td>NaN</td>\n",
              "      <td>NaN</td>\n",
              "      <td>6.3250</td>\n",
              "      <td>73.18473</td>\n",
              "      <td>2.315662e+09</td>\n",
              "      <td>2.850816e+08</td>\n",
              "      <td>4.838109e+08</td>\n",
              "      <td>NaN</td>\n",
              "      <td>NaN</td>\n",
              "    </tr>\n",
              "    <tr>\n",
              "      <th>Yemen, Rep.</th>\n",
              "      <td>72.787716</td>\n",
              "      <td>187.0</td>\n",
              "      <td>NaN</td>\n",
              "      <td>2.300580</td>\n",
              "      <td>37.273</td>\n",
              "      <td>NaN</td>\n",
              "      <td>NaN</td>\n",
              "      <td>NaN</td>\n",
              "      <td>66.087000</td>\n",
              "      <td>62.000000</td>\n",
              "      <td>7.895299</td>\n",
              "      <td>NaN</td>\n",
              "      <td>13.01</td>\n",
              "      <td>3.5200</td>\n",
              "      <td>31.76299</td>\n",
              "      <td>NaN</td>\n",
              "      <td>-3.709828e+08</td>\n",
              "      <td>5.622578e+09</td>\n",
              "      <td>NaN</td>\n",
              "      <td>NaN</td>\n",
              "    </tr>\n",
              "    <tr>\n",
              "      <th>South Africa</th>\n",
              "      <td>52.400879</td>\n",
              "      <td>84.0</td>\n",
              "      <td>13034.164661</td>\n",
              "      <td>1.338617</td>\n",
              "      <td>66.856</td>\n",
              "      <td>5.94285</td>\n",
              "      <td>1.075530</td>\n",
              "      <td>0.7997</td>\n",
              "      <td>63.153000</td>\n",
              "      <td>91.229874</td>\n",
              "      <td>45.281073</td>\n",
              "      <td>657.0</td>\n",
              "      <td>26.91</td>\n",
              "      <td>4.8141</td>\n",
              "      <td>67.01897</td>\n",
              "      <td>1.049158e+11</td>\n",
              "      <td>4.624503e+09</td>\n",
              "      <td>7.610179e+10</td>\n",
              "      <td>NaN</td>\n",
              "      <td>86.458633</td>\n",
              "    </tr>\n",
              "    <tr>\n",
              "      <th>Zambia</th>\n",
              "      <td>87.188180</td>\n",
              "      <td>85.0</td>\n",
              "      <td>3624.024939</td>\n",
              "      <td>2.892373</td>\n",
              "      <td>44.072</td>\n",
              "      <td>3.74792</td>\n",
              "      <td>1.429305</td>\n",
              "      <td>0.1628</td>\n",
              "      <td>62.464000</td>\n",
              "      <td>39.812622</td>\n",
              "      <td>48.295769</td>\n",
              "      <td>11.0</td>\n",
              "      <td>12.01</td>\n",
              "      <td>3.7594</td>\n",
              "      <td>66.93648</td>\n",
              "      <td>8.073611e+09</td>\n",
              "      <td>5.479679e+08</td>\n",
              "      <td>1.049975e+10</td>\n",
              "      <td>NaN</td>\n",
              "      <td>NaN</td>\n",
              "    </tr>\n",
              "    <tr>\n",
              "      <th>Zimbabwe</th>\n",
              "      <td>82.277970</td>\n",
              "      <td>140.0</td>\n",
              "      <td>2961.446428</td>\n",
              "      <td>1.419681</td>\n",
              "      <td>32.210</td>\n",
              "      <td>NaN</td>\n",
              "      <td>1.742494</td>\n",
              "      <td>0.1788</td>\n",
              "      <td>60.294000</td>\n",
              "      <td>41.041584</td>\n",
              "      <td>50.928141</td>\n",
              "      <td>NaN</td>\n",
              "      <td>5.07</td>\n",
              "      <td>3.2992</td>\n",
              "      <td>54.46935</td>\n",
              "      <td>NaN</td>\n",
              "      <td>2.800000e+08</td>\n",
              "      <td>5.884767e+09</td>\n",
              "      <td>NaN</td>\n",
              "      <td>NaN</td>\n",
              "    </tr>\n",
              "  </tbody>\n",
              "</table>\n",
              "<p>263 rows × 20 columns</p>\n",
              "</div>"
            ],
            "text/plain": [
              "                 PopDep  EaseofB  ...  FemaleLit  FemaleLit\n",
              "country                           ...                      \n",
              "Aruba         46.367454      NaN  ...        NaN        NaN\n",
              "Afghanistan   82.109775    173.0  ...        NaN        NaN\n",
              "Angola        95.394042    177.0  ...        NaN        NaN\n",
              "Albania       46.203522     82.0  ...        NaN        NaN\n",
              "Andorra             NaN      NaN  ...        NaN        NaN\n",
              "...                 ...      ...  ...        ...        ...\n",
              "Kosovo              NaN     57.0  ...        NaN        NaN\n",
              "Yemen, Rep.   72.787716    187.0  ...        NaN        NaN\n",
              "South Africa  52.400879     84.0  ...        NaN  86.458633\n",
              "Zambia        87.188180     85.0  ...        NaN        NaN\n",
              "Zimbabwe      82.277970    140.0  ...        NaN        NaN\n",
              "\n",
              "[263 rows x 20 columns]"
            ]
          },
          "metadata": {
            "tags": []
          },
          "execution_count": 20
        }
      ]
    },
    {
      "cell_type": "code",
      "metadata": {
        "id": "1Dgg3LRwTv1N"
      },
      "source": [
        "wbdf.drop(columns=['FemaleLit'],axis=1,inplace=True)"
      ],
      "execution_count": null,
      "outputs": []
    },
    {
      "cell_type": "code",
      "metadata": {
        "id": "Q1GTUBNNRlQe",
        "colab": {
          "base_uri": "https://localhost:8080/",
          "height": 504
        },
        "outputId": "5e77daf7-0e2b-48a9-e7e0-46e50b7fccbf"
      },
      "source": [
        "wbdf"
      ],
      "execution_count": null,
      "outputs": [
        {
          "output_type": "execute_result",
          "data": {
            "text/html": [
              "<div>\n",
              "<style scoped>\n",
              "    .dataframe tbody tr th:only-of-type {\n",
              "        vertical-align: middle;\n",
              "    }\n",
              "\n",
              "    .dataframe tbody tr th {\n",
              "        vertical-align: top;\n",
              "    }\n",
              "\n",
              "    .dataframe thead th {\n",
              "        text-align: right;\n",
              "    }\n",
              "</style>\n",
              "<table border=\"1\" class=\"dataframe\">\n",
              "  <thead>\n",
              "    <tr style=\"text-align: right;\">\n",
              "      <th></th>\n",
              "      <th>PopDep</th>\n",
              "      <th>EaseofB</th>\n",
              "      <th>GDPpppPC</th>\n",
              "      <th>PopGrowth</th>\n",
              "      <th>UrbanPop</th>\n",
              "      <th>GexpEdu</th>\n",
              "      <th>MilExpGdp</th>\n",
              "      <th>HosBedP1000</th>\n",
              "      <th>LifeExp</th>\n",
              "      <th>ElecAces</th>\n",
              "      <th>Fem%Lab</th>\n",
              "      <th>Patents</th>\n",
              "      <th>UnemplR</th>\n",
              "      <th>HappScore</th>\n",
              "      <th>EofBScore</th>\n",
              "      <th>Exports</th>\n",
              "      <th>FDI</th>\n",
              "      <th>ForDebt</th>\n",
              "    </tr>\n",
              "    <tr>\n",
              "      <th>country</th>\n",
              "      <th></th>\n",
              "      <th></th>\n",
              "      <th></th>\n",
              "      <th></th>\n",
              "      <th></th>\n",
              "      <th></th>\n",
              "      <th></th>\n",
              "      <th></th>\n",
              "      <th></th>\n",
              "      <th></th>\n",
              "      <th></th>\n",
              "      <th></th>\n",
              "      <th></th>\n",
              "      <th></th>\n",
              "      <th></th>\n",
              "      <th></th>\n",
              "      <th></th>\n",
              "      <th></th>\n",
              "    </tr>\n",
              "  </thead>\n",
              "  <tbody>\n",
              "    <tr>\n",
              "      <th>Aruba</th>\n",
              "      <td>46.367454</td>\n",
              "      <td>NaN</td>\n",
              "      <td>NaN</td>\n",
              "      <td>0.442122</td>\n",
              "      <td>43.546</td>\n",
              "      <td>5.52415</td>\n",
              "      <td>NaN</td>\n",
              "      <td>NaN</td>\n",
              "      <td>75.868000</td>\n",
              "      <td>100.000000</td>\n",
              "      <td>NaN</td>\n",
              "      <td>NaN</td>\n",
              "      <td>NaN</td>\n",
              "      <td>NaN</td>\n",
              "      <td>NaN</td>\n",
              "      <td>NaN</td>\n",
              "      <td>-7.604174e+07</td>\n",
              "      <td>NaN</td>\n",
              "    </tr>\n",
              "    <tr>\n",
              "      <th>Afghanistan</th>\n",
              "      <td>82.109775</td>\n",
              "      <td>173.0</td>\n",
              "      <td>2156.419482</td>\n",
              "      <td>2.311817</td>\n",
              "      <td>25.754</td>\n",
              "      <td>4.22836</td>\n",
              "      <td>0.956772</td>\n",
              "      <td>0.2782</td>\n",
              "      <td>63.763000</td>\n",
              "      <td>98.713203</td>\n",
              "      <td>21.247021</td>\n",
              "      <td>NaN</td>\n",
              "      <td>11.06</td>\n",
              "      <td>2.5669</td>\n",
              "      <td>44.06497</td>\n",
              "      <td>NaN</td>\n",
              "      <td>2.340455e+07</td>\n",
              "      <td>1.943399e+09</td>\n",
              "    </tr>\n",
              "    <tr>\n",
              "      <th>Angola</th>\n",
              "      <td>95.394042</td>\n",
              "      <td>177.0</td>\n",
              "      <td>6965.511374</td>\n",
              "      <td>3.242983</td>\n",
              "      <td>66.177</td>\n",
              "      <td>NaN</td>\n",
              "      <td>2.733341</td>\n",
              "      <td>NaN</td>\n",
              "      <td>59.925000</td>\n",
              "      <td>43.259258</td>\n",
              "      <td>50.202910</td>\n",
              "      <td>6.0</td>\n",
              "      <td>7.00</td>\n",
              "      <td>NaN</td>\n",
              "      <td>41.28838</td>\n",
              "      <td>3.602087e+10</td>\n",
              "      <td>-4.098479e+09</td>\n",
              "      <td>4.052814e+10</td>\n",
              "    </tr>\n",
              "    <tr>\n",
              "      <th>Albania</th>\n",
              "      <td>46.203522</td>\n",
              "      <td>82.0</td>\n",
              "      <td>14648.267402</td>\n",
              "      <td>-0.426007</td>\n",
              "      <td>61.229</td>\n",
              "      <td>3.96209</td>\n",
              "      <td>1.103581</td>\n",
              "      <td>1.2164</td>\n",
              "      <td>78.194000</td>\n",
              "      <td>100.000000</td>\n",
              "      <td>42.190687</td>\n",
              "      <td>15.0</td>\n",
              "      <td>12.30</td>\n",
              "      <td>4.8827</td>\n",
              "      <td>67.74847</td>\n",
              "      <td>4.821431e+09</td>\n",
              "      <td>1.201022e+09</td>\n",
              "      <td>4.980870e+09</td>\n",
              "    </tr>\n",
              "    <tr>\n",
              "      <th>Andorra</th>\n",
              "      <td>NaN</td>\n",
              "      <td>NaN</td>\n",
              "      <td>NaN</td>\n",
              "      <td>0.176454</td>\n",
              "      <td>87.984</td>\n",
              "      <td>3.23707</td>\n",
              "      <td>NaN</td>\n",
              "      <td>NaN</td>\n",
              "      <td>NaN</td>\n",
              "      <td>100.000000</td>\n",
              "      <td>NaN</td>\n",
              "      <td>1.0</td>\n",
              "      <td>NaN</td>\n",
              "      <td>NaN</td>\n",
              "      <td>NaN</td>\n",
              "      <td>NaN</td>\n",
              "      <td>NaN</td>\n",
              "      <td>NaN</td>\n",
              "    </tr>\n",
              "    <tr>\n",
              "      <th>...</th>\n",
              "      <td>...</td>\n",
              "      <td>...</td>\n",
              "      <td>...</td>\n",
              "      <td>...</td>\n",
              "      <td>...</td>\n",
              "      <td>...</td>\n",
              "      <td>...</td>\n",
              "      <td>...</td>\n",
              "      <td>...</td>\n",
              "      <td>...</td>\n",
              "      <td>...</td>\n",
              "      <td>...</td>\n",
              "      <td>...</td>\n",
              "      <td>...</td>\n",
              "      <td>...</td>\n",
              "      <td>...</td>\n",
              "      <td>...</td>\n",
              "      <td>...</td>\n",
              "    </tr>\n",
              "    <tr>\n",
              "      <th>Kosovo</th>\n",
              "      <td>NaN</td>\n",
              "      <td>57.0</td>\n",
              "      <td>11870.797576</td>\n",
              "      <td>-0.157992</td>\n",
              "      <td>NaN</td>\n",
              "      <td>NaN</td>\n",
              "      <td>0.773671</td>\n",
              "      <td>NaN</td>\n",
              "      <td>71.646341</td>\n",
              "      <td>100.000000</td>\n",
              "      <td>NaN</td>\n",
              "      <td>NaN</td>\n",
              "      <td>NaN</td>\n",
              "      <td>6.3250</td>\n",
              "      <td>73.18473</td>\n",
              "      <td>2.315662e+09</td>\n",
              "      <td>2.850816e+08</td>\n",
              "      <td>4.838109e+08</td>\n",
              "    </tr>\n",
              "    <tr>\n",
              "      <th>Yemen, Rep.</th>\n",
              "      <td>72.787716</td>\n",
              "      <td>187.0</td>\n",
              "      <td>NaN</td>\n",
              "      <td>2.300580</td>\n",
              "      <td>37.273</td>\n",
              "      <td>NaN</td>\n",
              "      <td>NaN</td>\n",
              "      <td>NaN</td>\n",
              "      <td>66.087000</td>\n",
              "      <td>62.000000</td>\n",
              "      <td>7.895299</td>\n",
              "      <td>NaN</td>\n",
              "      <td>13.01</td>\n",
              "      <td>3.5200</td>\n",
              "      <td>31.76299</td>\n",
              "      <td>NaN</td>\n",
              "      <td>-3.709828e+08</td>\n",
              "      <td>5.622578e+09</td>\n",
              "    </tr>\n",
              "    <tr>\n",
              "      <th>South Africa</th>\n",
              "      <td>52.400879</td>\n",
              "      <td>84.0</td>\n",
              "      <td>13034.164661</td>\n",
              "      <td>1.338617</td>\n",
              "      <td>66.856</td>\n",
              "      <td>5.94285</td>\n",
              "      <td>1.075530</td>\n",
              "      <td>0.7997</td>\n",
              "      <td>63.153000</td>\n",
              "      <td>91.229874</td>\n",
              "      <td>45.281073</td>\n",
              "      <td>657.0</td>\n",
              "      <td>26.91</td>\n",
              "      <td>4.8141</td>\n",
              "      <td>67.01897</td>\n",
              "      <td>1.049158e+11</td>\n",
              "      <td>4.624503e+09</td>\n",
              "      <td>7.610179e+10</td>\n",
              "    </tr>\n",
              "    <tr>\n",
              "      <th>Zambia</th>\n",
              "      <td>87.188180</td>\n",
              "      <td>85.0</td>\n",
              "      <td>3624.024939</td>\n",
              "      <td>2.892373</td>\n",
              "      <td>44.072</td>\n",
              "      <td>3.74792</td>\n",
              "      <td>1.429305</td>\n",
              "      <td>0.1628</td>\n",
              "      <td>62.464000</td>\n",
              "      <td>39.812622</td>\n",
              "      <td>48.295769</td>\n",
              "      <td>11.0</td>\n",
              "      <td>12.01</td>\n",
              "      <td>3.7594</td>\n",
              "      <td>66.93648</td>\n",
              "      <td>8.073611e+09</td>\n",
              "      <td>5.479679e+08</td>\n",
              "      <td>1.049975e+10</td>\n",
              "    </tr>\n",
              "    <tr>\n",
              "      <th>Zimbabwe</th>\n",
              "      <td>82.277970</td>\n",
              "      <td>140.0</td>\n",
              "      <td>2961.446428</td>\n",
              "      <td>1.419681</td>\n",
              "      <td>32.210</td>\n",
              "      <td>NaN</td>\n",
              "      <td>1.742494</td>\n",
              "      <td>0.1788</td>\n",
              "      <td>60.294000</td>\n",
              "      <td>41.041584</td>\n",
              "      <td>50.928141</td>\n",
              "      <td>NaN</td>\n",
              "      <td>5.07</td>\n",
              "      <td>3.2992</td>\n",
              "      <td>54.46935</td>\n",
              "      <td>NaN</td>\n",
              "      <td>2.800000e+08</td>\n",
              "      <td>5.884767e+09</td>\n",
              "    </tr>\n",
              "  </tbody>\n",
              "</table>\n",
              "<p>263 rows × 18 columns</p>\n",
              "</div>"
            ],
            "text/plain": [
              "                 PopDep  EaseofB  ...           FDI       ForDebt\n",
              "country                           ...                            \n",
              "Aruba         46.367454      NaN  ... -7.604174e+07           NaN\n",
              "Afghanistan   82.109775    173.0  ...  2.340455e+07  1.943399e+09\n",
              "Angola        95.394042    177.0  ... -4.098479e+09  4.052814e+10\n",
              "Albania       46.203522     82.0  ...  1.201022e+09  4.980870e+09\n",
              "Andorra             NaN      NaN  ...           NaN           NaN\n",
              "...                 ...      ...  ...           ...           ...\n",
              "Kosovo              NaN     57.0  ...  2.850816e+08  4.838109e+08\n",
              "Yemen, Rep.   72.787716    187.0  ... -3.709828e+08  5.622578e+09\n",
              "South Africa  52.400879     84.0  ...  4.624503e+09  7.610179e+10\n",
              "Zambia        87.188180     85.0  ...  5.479679e+08  1.049975e+10\n",
              "Zimbabwe      82.277970    140.0  ...  2.800000e+08  5.884767e+09\n",
              "\n",
              "[263 rows x 18 columns]"
            ]
          },
          "metadata": {
            "tags": []
          },
          "execution_count": 38
        }
      ]
    },
    {
      "cell_type": "markdown",
      "metadata": {
        "id": "xJMgHBaIKZOq"
      },
      "source": [
        "There are several null values in the data that may not be considered"
      ]
    },
    {
      "cell_type": "code",
      "metadata": {
        "id": "jceQvxx0WaTI"
      },
      "source": [
        "wbdf.reset_index(inplace=True)"
      ],
      "execution_count": null,
      "outputs": []
    },
    {
      "cell_type": "code",
      "metadata": {
        "id": "RySD3jkAT1eq"
      },
      "source": [
        "wbdf.drop('index',axis=1,inplace=True)"
      ],
      "execution_count": null,
      "outputs": []
    },
    {
      "cell_type": "code",
      "metadata": {
        "id": "DZCzv6iveIrk",
        "colab": {
          "base_uri": "https://localhost:8080/"
        },
        "outputId": "bb560dc1-be38-4563-db5d-88faabfbd762"
      },
      "source": [
        "wbdf.info()"
      ],
      "execution_count": null,
      "outputs": [
        {
          "output_type": "stream",
          "text": [
            "<class 'pandas.core.frame.DataFrame'>\n",
            "Index: 263 entries, Aruba to Zimbabwe\n",
            "Data columns (total 18 columns):\n",
            " #   Column       Non-Null Count  Dtype  \n",
            "---  ------       --------------  -----  \n",
            " 0   PopDep       238 non-null    float64\n",
            " 1   EaseofB      188 non-null    float64\n",
            " 2   GDPpppPC     231 non-null    float64\n",
            " 3   PopGrowth    261 non-null    float64\n",
            " 4   UrbanPop     259 non-null    float64\n",
            " 5   GexpEdu      141 non-null    float64\n",
            " 6   MilExpGdp    192 non-null    float64\n",
            " 7   HosBedP1000  112 non-null    float64\n",
            " 8   LifeExp      246 non-null    float64\n",
            " 9   ElecAces     260 non-null    float64\n",
            " 10  Fem%Lab      232 non-null    float64\n",
            " 11  Patents      151 non-null    float64\n",
            " 12  UnemplR      232 non-null    float64\n",
            " 13  HappScore    147 non-null    float64\n",
            " 14  EofBScore    235 non-null    float64\n",
            " 15  Exports      197 non-null    float64\n",
            " 16  FDI          242 non-null    float64\n",
            " 17  ForDebt      131 non-null    float64\n",
            "dtypes: float64(18)\n",
            "memory usage: 49.0+ KB\n"
          ],
          "name": "stdout"
        }
      ]
    },
    {
      "cell_type": "markdown",
      "metadata": {
        "id": "AOID4U1HOqnF"
      },
      "source": [
        "Lets look at the columns, they are all numeric and the stats of the columns are given below"
      ]
    },
    {
      "cell_type": "code",
      "metadata": {
        "colab": {
          "base_uri": "https://localhost:8080/",
          "height": 317
        },
        "id": "zBW5TObLOnLx",
        "outputId": "ecbb8f50-943d-443b-f35f-90a3fde02357"
      },
      "source": [
        "wbdf.describe()"
      ],
      "execution_count": null,
      "outputs": [
        {
          "output_type": "execute_result",
          "data": {
            "text/html": [
              "<div>\n",
              "<style scoped>\n",
              "    .dataframe tbody tr th:only-of-type {\n",
              "        vertical-align: middle;\n",
              "    }\n",
              "\n",
              "    .dataframe tbody tr th {\n",
              "        vertical-align: top;\n",
              "    }\n",
              "\n",
              "    .dataframe thead th {\n",
              "        text-align: right;\n",
              "    }\n",
              "</style>\n",
              "<table border=\"1\" class=\"dataframe\">\n",
              "  <thead>\n",
              "    <tr style=\"text-align: right;\">\n",
              "      <th></th>\n",
              "      <th>PopDep</th>\n",
              "      <th>EaseofB</th>\n",
              "      <th>GDPpppPC</th>\n",
              "      <th>PopGrowth</th>\n",
              "      <th>UrbanPop</th>\n",
              "      <th>GexpEdu</th>\n",
              "      <th>MilExpGdp</th>\n",
              "      <th>HosBedP1000</th>\n",
              "      <th>LifeExp</th>\n",
              "      <th>ElecAces</th>\n",
              "      <th>Fem%Lab</th>\n",
              "      <th>Patents</th>\n",
              "      <th>UnemplR</th>\n",
              "      <th>HappScore</th>\n",
              "      <th>EofBScore</th>\n",
              "      <th>Exports</th>\n",
              "      <th>FDI</th>\n",
              "      <th>ForDebt</th>\n",
              "    </tr>\n",
              "  </thead>\n",
              "  <tbody>\n",
              "    <tr>\n",
              "      <th>count</th>\n",
              "      <td>238.000000</td>\n",
              "      <td>188.000000</td>\n",
              "      <td>231.000000</td>\n",
              "      <td>261.000000</td>\n",
              "      <td>259.000000</td>\n",
              "      <td>141.000000</td>\n",
              "      <td>192.000000</td>\n",
              "      <td>112.000000</td>\n",
              "      <td>246.000000</td>\n",
              "      <td>260.000000</td>\n",
              "      <td>232.000000</td>\n",
              "      <td>1.510000e+02</td>\n",
              "      <td>232.000000</td>\n",
              "      <td>147.000000</td>\n",
              "      <td>235.000000</td>\n",
              "      <td>1.970000e+02</td>\n",
              "      <td>2.420000e+02</td>\n",
              "      <td>1.310000e+02</td>\n",
              "    </tr>\n",
              "    <tr>\n",
              "      <th>mean</th>\n",
              "      <td>58.788051</td>\n",
              "      <td>96.239362</td>\n",
              "      <td>21844.682252</td>\n",
              "      <td>1.211838</td>\n",
              "      <td>60.399617</td>\n",
              "      <td>4.399784</td>\n",
              "      <td>1.940191</td>\n",
              "      <td>1.941442</td>\n",
              "      <td>72.058077</td>\n",
              "      <td>86.045031</td>\n",
              "      <td>40.906096</td>\n",
              "      <td>1.412285e+05</td>\n",
              "      <td>7.007797</td>\n",
              "      <td>5.477193</td>\n",
              "      <td>62.540146</td>\n",
              "      <td>1.024571e+12</td>\n",
              "      <td>5.353613e+10</td>\n",
              "      <td>1.241614e+11</td>\n",
              "    </tr>\n",
              "    <tr>\n",
              "      <th>std</th>\n",
              "      <td>15.586271</td>\n",
              "      <td>54.799695</td>\n",
              "      <td>22374.104184</td>\n",
              "      <td>1.056053</td>\n",
              "      <td>22.788811</td>\n",
              "      <td>1.327613</td>\n",
              "      <td>1.545404</td>\n",
              "      <td>1.629764</td>\n",
              "      <td>7.490438</td>\n",
              "      <td>23.293025</td>\n",
              "      <td>9.149095</td>\n",
              "      <td>4.214469e+05</td>\n",
              "      <td>4.916085</td>\n",
              "      <td>1.122692</td>\n",
              "      <td>13.102921</td>\n",
              "      <td>3.051465e+12</td>\n",
              "      <td>1.755307e+11</td>\n",
              "      <td>4.598702e+11</td>\n",
              "    </tr>\n",
              "    <tr>\n",
              "      <th>min</th>\n",
              "      <td>17.812083</td>\n",
              "      <td>1.000000</td>\n",
              "      <td>784.926989</td>\n",
              "      <td>-1.805226</td>\n",
              "      <td>13.250000</td>\n",
              "      <td>1.370930</td>\n",
              "      <td>0.000000</td>\n",
              "      <td>0.012800</td>\n",
              "      <td>51.593000</td>\n",
              "      <td>11.024252</td>\n",
              "      <td>7.895299</td>\n",
              "      <td>1.000000e+00</td>\n",
              "      <td>0.110000</td>\n",
              "      <td>2.566900</td>\n",
              "      <td>20.039580</td>\n",
              "      <td>2.360177e+07</td>\n",
              "      <td>-4.663323e+10</td>\n",
              "      <td>8.307576e+07</td>\n",
              "    </tr>\n",
              "    <tr>\n",
              "      <th>25%</th>\n",
              "      <td>48.991630</td>\n",
              "      <td>49.750000</td>\n",
              "      <td>5435.141540</td>\n",
              "      <td>0.456356</td>\n",
              "      <td>42.236500</td>\n",
              "      <td>3.419300</td>\n",
              "      <td>1.113182</td>\n",
              "      <td>0.435225</td>\n",
              "      <td>67.249000</td>\n",
              "      <td>82.055481</td>\n",
              "      <td>38.833187</td>\n",
              "      <td>3.400000e+01</td>\n",
              "      <td>3.827500</td>\n",
              "      <td>4.726700</td>\n",
              "      <td>54.248063</td>\n",
              "      <td>6.079488e+09</td>\n",
              "      <td>2.134498e+08</td>\n",
              "      <td>1.775009e+09</td>\n",
              "    </tr>\n",
              "    <tr>\n",
              "      <th>50%</th>\n",
              "      <td>54.683418</td>\n",
              "      <td>96.500000</td>\n",
              "      <td>14289.960502</td>\n",
              "      <td>1.127924</td>\n",
              "      <td>61.229000</td>\n",
              "      <td>4.421020</td>\n",
              "      <td>1.532019</td>\n",
              "      <td>1.848600</td>\n",
              "      <td>73.362479</td>\n",
              "      <td>99.997504</td>\n",
              "      <td>43.724598</td>\n",
              "      <td>4.700000e+02</td>\n",
              "      <td>5.590000</td>\n",
              "      <td>5.539900</td>\n",
              "      <td>61.350780</td>\n",
              "      <td>4.497355e+10</td>\n",
              "      <td>1.505959e+09</td>\n",
              "      <td>7.553373e+09</td>\n",
              "    </tr>\n",
              "    <tr>\n",
              "      <th>75%</th>\n",
              "      <td>68.070138</td>\n",
              "      <td>143.250000</td>\n",
              "      <td>30532.294889</td>\n",
              "      <td>1.951209</td>\n",
              "      <td>80.234500</td>\n",
              "      <td>5.207540</td>\n",
              "      <td>2.239086</td>\n",
              "      <td>3.199200</td>\n",
              "      <td>77.393963</td>\n",
              "      <td>100.000000</td>\n",
              "      <td>46.709541</td>\n",
              "      <td>8.134500e+03</td>\n",
              "      <td>8.948901</td>\n",
              "      <td>6.221400</td>\n",
              "      <td>73.441609</td>\n",
              "      <td>4.362693e+11</td>\n",
              "      <td>1.665722e+10</td>\n",
              "      <td>3.253276e+10</td>\n",
              "    </tr>\n",
              "    <tr>\n",
              "      <th>max</th>\n",
              "      <td>110.255774</td>\n",
              "      <td>190.000000</td>\n",
              "      <td>129451.063933</td>\n",
              "      <td>4.469239</td>\n",
              "      <td>100.000000</td>\n",
              "      <td>8.051940</td>\n",
              "      <td>12.034846</td>\n",
              "      <td>7.954100</td>\n",
              "      <td>84.226829</td>\n",
              "      <td>100.000000</td>\n",
              "      <td>55.956589</td>\n",
              "      <td>2.294881e+06</td>\n",
              "      <td>26.910000</td>\n",
              "      <td>7.808700</td>\n",
              "      <td>86.764650</td>\n",
              "      <td>2.488971e+13</td>\n",
              "      <td>1.630976e+12</td>\n",
              "      <td>3.275542e+12</td>\n",
              "    </tr>\n",
              "  </tbody>\n",
              "</table>\n",
              "</div>"
            ],
            "text/plain": [
              "           PopDep     EaseofB  ...           FDI       ForDebt\n",
              "count  238.000000  188.000000  ...  2.420000e+02  1.310000e+02\n",
              "mean    58.788051   96.239362  ...  5.353613e+10  1.241614e+11\n",
              "std     15.586271   54.799695  ...  1.755307e+11  4.598702e+11\n",
              "min     17.812083    1.000000  ... -4.663323e+10  8.307576e+07\n",
              "25%     48.991630   49.750000  ...  2.134498e+08  1.775009e+09\n",
              "50%     54.683418   96.500000  ...  1.505959e+09  7.553373e+09\n",
              "75%     68.070138  143.250000  ...  1.665722e+10  3.253276e+10\n",
              "max    110.255774  190.000000  ...  1.630976e+12  3.275542e+12\n",
              "\n",
              "[8 rows x 18 columns]"
            ]
          },
          "metadata": {
            "tags": []
          },
          "execution_count": 45
        }
      ]
    },
    {
      "cell_type": "markdown",
      "metadata": {
        "id": "E3lKV4Polx-k"
      },
      "source": [
        "The code below will copy the happiness score from the World Happiness Index Report for each country into the master dataframe\n",
        "\n"
      ]
    },
    {
      "cell_type": "code",
      "metadata": {
        "colab": {
          "base_uri": "https://localhost:8080/"
        },
        "id": "6JwTmd6XO_Yd",
        "outputId": "37ed5512-3fdf-4694-84db-b272192b99be"
      },
      "source": [
        "wbdf.columns"
      ],
      "execution_count": null,
      "outputs": [
        {
          "output_type": "execute_result",
          "data": {
            "text/plain": [
              "Index(['PopDep', 'EaseofB', 'GDPpppPC', 'PopGrowth', 'UrbanPop', 'GexpEdu',\n",
              "       'MilExpGdp', 'HosBedP1000', 'LifeExp', 'ElecAces', 'Fem%Lab', 'Patents',\n",
              "       'UnemplR', 'HappScore', 'EofBScore', 'Exports', 'FDI', 'ForDebt'],\n",
              "      dtype='object')"
            ]
          },
          "metadata": {
            "tags": []
          },
          "execution_count": 46
        }
      ]
    },
    {
      "cell_type": "markdown",
      "metadata": {
        "id": "LPinq1xJPE9F"
      },
      "source": [
        "Lets rename the columns so that they are more readable"
      ]
    },
    {
      "cell_type": "code",
      "metadata": {
        "id": "AFYUJCyVPI2V"
      },
      "source": [
        "wbdf.columns=['Population Dependence %', 'Ease of Doing Business Ranking', 'GDP per Capita (PPP)', 'Population Growth Rate', 'Urban Population (% of Total)', 'GexpEdu',\n",
        "       'MilExpGdp', 'HosBedP1000', 'Life Expectancy', 'Elecricty Access', 'Fem%Lab', 'Patents',\n",
        "       'UnemplR', 'World Happiness Report Score', 'Ease of Business Score', 'Total Exports ($)', 'Foreign Direct Investment', 'Total Foreign Debt($)']"
      ],
      "execution_count": null,
      "outputs": []
    },
    {
      "cell_type": "code",
      "metadata": {
        "id": "coO3g5yTbJiJ",
        "colab": {
          "base_uri": "https://localhost:8080/"
        },
        "outputId": "4919d8eb-0122-4866-e8fe-07fe9ec61b5f"
      },
      "source": [
        "for i in happDF.index:\n",
        "  score=happDF.iloc[i]['Score']\n",
        "  country=happDF['Country'][i]\n",
        "  wbdf.loc[wbdf['country']==country,'HappScore']=score\n",
        "  if ((wbdf['country']==country).sum()==0):\n",
        "    print(country)\n",
        "  #print(dfwho['Country'][i],deathsTM)"
      ],
      "execution_count": null,
      "outputs": [
        {
          "output_type": "stream",
          "text": [
            "Taiwan Province of China\n",
            "Slovenia\n",
            "Slovakia\n",
            "South Korea\n",
            "Russia\n",
            "Kyrgyzstan\n",
            "North Cyprus\n",
            "Hong Kong S.A.R. of China\n",
            "Ivory Coast\n",
            "Congo (Brazzaville)\n",
            "Macedonia\n",
            "Venezuela\n",
            "Laos\n",
            "Gambia\n",
            "Iran\n",
            "Palestinian Territories\n",
            "Congo (Kinshasa)\n",
            "Swaziland\n",
            "Egypt\n",
            "Yemen\n"
          ],
          "name": "stdout"
        }
      ]
    },
    {
      "cell_type": "markdown",
      "metadata": {
        "id": "vKaKh-1vJXHw"
      },
      "source": [
        "The list above identifies countries with different names in the World Bank database and Happiness report. The data for these countries has to be filled manually as below"
      ]
    },
    {
      "cell_type": "code",
      "metadata": {
        "colab": {
          "base_uri": "https://localhost:8080/",
          "height": 75
        },
        "id": "o3JKEYK9_MGQ",
        "outputId": "6cefe612-f409-41ad-c14d-14fc5a6ec646"
      },
      "source": [
        "wbdf[wbdf['country'].str.contains(\"Yemen\")]\n"
      ],
      "execution_count": null,
      "outputs": [
        {
          "output_type": "execute_result",
          "data": {
            "text/html": [
              "<div>\n",
              "<style scoped>\n",
              "    .dataframe tbody tr th:only-of-type {\n",
              "        vertical-align: middle;\n",
              "    }\n",
              "\n",
              "    .dataframe tbody tr th {\n",
              "        vertical-align: top;\n",
              "    }\n",
              "\n",
              "    .dataframe thead th {\n",
              "        text-align: right;\n",
              "    }\n",
              "</style>\n",
              "<table border=\"1\" class=\"dataframe\">\n",
              "  <thead>\n",
              "    <tr style=\"text-align: right;\">\n",
              "      <th></th>\n",
              "      <th>country</th>\n",
              "      <th>PopDep</th>\n",
              "      <th>EaseofB</th>\n",
              "      <th>GDPpppPC</th>\n",
              "      <th>PopGrowth</th>\n",
              "      <th>UrbanPop</th>\n",
              "      <th>GexpEdu</th>\n",
              "      <th>MilExpGdp</th>\n",
              "      <th>HosBedP1000</th>\n",
              "      <th>LifeExp</th>\n",
              "      <th>ElecAces</th>\n",
              "      <th>Fem%Lab</th>\n",
              "      <th>Patents</th>\n",
              "      <th>UnemplR</th>\n",
              "      <th>HappScore</th>\n",
              "    </tr>\n",
              "  </thead>\n",
              "  <tbody>\n",
              "    <tr>\n",
              "      <th>259</th>\n",
              "      <td>Yemen, Rep.</td>\n",
              "      <td>72.787716</td>\n",
              "      <td>187.0</td>\n",
              "      <td>NaN</td>\n",
              "      <td>2.30058</td>\n",
              "      <td>37.273</td>\n",
              "      <td>NaN</td>\n",
              "      <td>NaN</td>\n",
              "      <td>NaN</td>\n",
              "      <td>66.087</td>\n",
              "      <td>62.0</td>\n",
              "      <td>7.895299</td>\n",
              "      <td>NaN</td>\n",
              "      <td>13.01</td>\n",
              "      <td>NaN</td>\n",
              "    </tr>\n",
              "  </tbody>\n",
              "</table>\n",
              "</div>"
            ],
            "text/plain": [
              "         country     PopDep  EaseofB  ...  Patents  UnemplR  HappScore\n",
              "259  Yemen, Rep.  72.787716    187.0  ...      NaN    13.01        NaN\n",
              "\n",
              "[1 rows x 15 columns]"
            ]
          },
          "metadata": {
            "tags": []
          },
          "execution_count": 145
        }
      ]
    },
    {
      "cell_type": "code",
      "metadata": {
        "id": "jC-4Co9CcD5J"
      },
      "source": [
        "wbdf.loc[wbdf['country'].str.contains(\"Yemen\"),'HappScore']=3.52"
      ],
      "execution_count": null,
      "outputs": []
    },
    {
      "cell_type": "code",
      "metadata": {
        "id": "0FV-dwsAdon4",
        "colab": {
          "base_uri": "https://localhost:8080/",
          "height": 75
        },
        "outputId": "fe76823c-6dda-4b0d-fc37-b08a64fd0fe8"
      },
      "source": [
        "happDF[happDF['Country'].str.contains(\"Yemen\")]"
      ],
      "execution_count": null,
      "outputs": [
        {
          "output_type": "execute_result",
          "data": {
            "text/html": [
              "<div>\n",
              "<style scoped>\n",
              "    .dataframe tbody tr th:only-of-type {\n",
              "        vertical-align: middle;\n",
              "    }\n",
              "\n",
              "    .dataframe tbody tr th {\n",
              "        vertical-align: top;\n",
              "    }\n",
              "\n",
              "    .dataframe thead th {\n",
              "        text-align: right;\n",
              "    }\n",
              "</style>\n",
              "<table border=\"1\" class=\"dataframe\">\n",
              "  <thead>\n",
              "    <tr style=\"text-align: right;\">\n",
              "      <th></th>\n",
              "      <th>Country</th>\n",
              "      <th>Score</th>\n",
              "      <th>deaths</th>\n",
              "    </tr>\n",
              "  </thead>\n",
              "  <tbody>\n",
              "    <tr>\n",
              "      <th>145</th>\n",
              "      <td>Yemen</td>\n",
              "      <td>3.5274</td>\n",
              "      <td>20.65</td>\n",
              "    </tr>\n",
              "  </tbody>\n",
              "</table>\n",
              "</div>"
            ],
            "text/plain": [
              "    Country   Score  deaths\n",
              "145   Yemen  3.5274   20.65"
            ]
          },
          "metadata": {
            "tags": []
          },
          "execution_count": 146
        }
      ]
    },
    {
      "cell_type": "markdown",
      "metadata": {
        "id": "EkbqXQa7J3BC"
      },
      "source": [
        "The above three lines manually fills the data \n",
        "for countries with different names in the two databases\n",
        "Note: The above only shows one example. This was done for all countries in the list above"
      ]
    },
    {
      "cell_type": "code",
      "metadata": {
        "id": "HVJPwUW8o81s",
        "colab": {
          "base_uri": "https://localhost:8080/",
          "height": 572
        },
        "outputId": "966e5614-b35f-433b-dff7-d27f8e8761fe"
      },
      "source": [
        "wbdf[wbdf['HappScore'].isnull() | wbdf['EaseofB'].isnull()]"
      ],
      "execution_count": null,
      "outputs": [
        {
          "output_type": "execute_result",
          "data": {
            "text/html": [
              "<div>\n",
              "<style scoped>\n",
              "    .dataframe tbody tr th:only-of-type {\n",
              "        vertical-align: middle;\n",
              "    }\n",
              "\n",
              "    .dataframe tbody tr th {\n",
              "        vertical-align: top;\n",
              "    }\n",
              "\n",
              "    .dataframe thead th {\n",
              "        text-align: right;\n",
              "    }\n",
              "</style>\n",
              "<table border=\"1\" class=\"dataframe\">\n",
              "  <thead>\n",
              "    <tr style=\"text-align: right;\">\n",
              "      <th></th>\n",
              "      <th>PopDep</th>\n",
              "      <th>EaseofB</th>\n",
              "      <th>GDPpppPC</th>\n",
              "      <th>PopGrowth</th>\n",
              "      <th>UrbanPop</th>\n",
              "      <th>GexpEdu</th>\n",
              "      <th>MilExpGdp</th>\n",
              "      <th>HosBedP1000</th>\n",
              "      <th>LifeExp</th>\n",
              "      <th>ElecAces</th>\n",
              "      <th>Fem%Lab</th>\n",
              "      <th>Patents</th>\n",
              "      <th>UnemplR</th>\n",
              "      <th>HappScore</th>\n",
              "      <th>EofBScore</th>\n",
              "      <th>Exports</th>\n",
              "      <th>FDI</th>\n",
              "      <th>ForDebt</th>\n",
              "    </tr>\n",
              "    <tr>\n",
              "      <th>country</th>\n",
              "      <th></th>\n",
              "      <th></th>\n",
              "      <th></th>\n",
              "      <th></th>\n",
              "      <th></th>\n",
              "      <th></th>\n",
              "      <th></th>\n",
              "      <th></th>\n",
              "      <th></th>\n",
              "      <th></th>\n",
              "      <th></th>\n",
              "      <th></th>\n",
              "      <th></th>\n",
              "      <th></th>\n",
              "      <th></th>\n",
              "      <th></th>\n",
              "      <th></th>\n",
              "      <th></th>\n",
              "    </tr>\n",
              "  </thead>\n",
              "  <tbody>\n",
              "    <tr>\n",
              "      <th>Aruba</th>\n",
              "      <td>46.367454</td>\n",
              "      <td>NaN</td>\n",
              "      <td>NaN</td>\n",
              "      <td>0.442122</td>\n",
              "      <td>43.546000</td>\n",
              "      <td>5.52415</td>\n",
              "      <td>NaN</td>\n",
              "      <td>NaN</td>\n",
              "      <td>75.868000</td>\n",
              "      <td>100.000000</td>\n",
              "      <td>NaN</td>\n",
              "      <td>NaN</td>\n",
              "      <td>NaN</td>\n",
              "      <td>NaN</td>\n",
              "      <td>NaN</td>\n",
              "      <td>NaN</td>\n",
              "      <td>-7.604174e+07</td>\n",
              "      <td>NaN</td>\n",
              "    </tr>\n",
              "    <tr>\n",
              "      <th>Angola</th>\n",
              "      <td>95.394042</td>\n",
              "      <td>177.0</td>\n",
              "      <td>6965.511374</td>\n",
              "      <td>3.242983</td>\n",
              "      <td>66.177000</td>\n",
              "      <td>NaN</td>\n",
              "      <td>2.733341</td>\n",
              "      <td>NaN</td>\n",
              "      <td>59.925000</td>\n",
              "      <td>43.259258</td>\n",
              "      <td>50.202910</td>\n",
              "      <td>6.0</td>\n",
              "      <td>7.000000</td>\n",
              "      <td>NaN</td>\n",
              "      <td>41.288380</td>\n",
              "      <td>3.602087e+10</td>\n",
              "      <td>-4.098479e+09</td>\n",
              "      <td>4.052814e+10</td>\n",
              "    </tr>\n",
              "    <tr>\n",
              "      <th>Andorra</th>\n",
              "      <td>NaN</td>\n",
              "      <td>NaN</td>\n",
              "      <td>NaN</td>\n",
              "      <td>0.176454</td>\n",
              "      <td>87.984000</td>\n",
              "      <td>3.23707</td>\n",
              "      <td>NaN</td>\n",
              "      <td>NaN</td>\n",
              "      <td>NaN</td>\n",
              "      <td>100.000000</td>\n",
              "      <td>NaN</td>\n",
              "      <td>1.0</td>\n",
              "      <td>NaN</td>\n",
              "      <td>NaN</td>\n",
              "      <td>NaN</td>\n",
              "      <td>NaN</td>\n",
              "      <td>NaN</td>\n",
              "      <td>NaN</td>\n",
              "    </tr>\n",
              "    <tr>\n",
              "      <th>Arab World</th>\n",
              "      <td>61.081801</td>\n",
              "      <td>NaN</td>\n",
              "      <td>15256.338996</td>\n",
              "      <td>1.924693</td>\n",
              "      <td>59.201647</td>\n",
              "      <td>NaN</td>\n",
              "      <td>6.152311</td>\n",
              "      <td>NaN</td>\n",
              "      <td>71.436497</td>\n",
              "      <td>89.286856</td>\n",
              "      <td>20.368759</td>\n",
              "      <td>3807.0</td>\n",
              "      <td>10.256798</td>\n",
              "      <td>NaN</td>\n",
              "      <td>56.543224</td>\n",
              "      <td>1.273419e+12</td>\n",
              "      <td>3.350713e+10</td>\n",
              "      <td>NaN</td>\n",
              "    </tr>\n",
              "    <tr>\n",
              "      <th>American Samoa</th>\n",
              "      <td>NaN</td>\n",
              "      <td>NaN</td>\n",
              "      <td>NaN</td>\n",
              "      <td>-0.276231</td>\n",
              "      <td>87.147000</td>\n",
              "      <td>NaN</td>\n",
              "      <td>NaN</td>\n",
              "      <td>NaN</td>\n",
              "      <td>NaN</td>\n",
              "      <td>NaN</td>\n",
              "      <td>NaN</td>\n",
              "      <td>NaN</td>\n",
              "      <td>NaN</td>\n",
              "      <td>NaN</td>\n",
              "      <td>NaN</td>\n",
              "      <td>NaN</td>\n",
              "      <td>NaN</td>\n",
              "      <td>NaN</td>\n",
              "    </tr>\n",
              "    <tr>\n",
              "      <th>...</th>\n",
              "      <td>...</td>\n",
              "      <td>...</td>\n",
              "      <td>...</td>\n",
              "      <td>...</td>\n",
              "      <td>...</td>\n",
              "      <td>...</td>\n",
              "      <td>...</td>\n",
              "      <td>...</td>\n",
              "      <td>...</td>\n",
              "      <td>...</td>\n",
              "      <td>...</td>\n",
              "      <td>...</td>\n",
              "      <td>...</td>\n",
              "      <td>...</td>\n",
              "      <td>...</td>\n",
              "      <td>...</td>\n",
              "      <td>...</td>\n",
              "      <td>...</td>\n",
              "    </tr>\n",
              "    <tr>\n",
              "      <th>British Virgin Islands</th>\n",
              "      <td>NaN</td>\n",
              "      <td>NaN</td>\n",
              "      <td>NaN</td>\n",
              "      <td>0.762138</td>\n",
              "      <td>48.116000</td>\n",
              "      <td>NaN</td>\n",
              "      <td>NaN</td>\n",
              "      <td>NaN</td>\n",
              "      <td>NaN</td>\n",
              "      <td>100.000000</td>\n",
              "      <td>NaN</td>\n",
              "      <td>NaN</td>\n",
              "      <td>NaN</td>\n",
              "      <td>NaN</td>\n",
              "      <td>NaN</td>\n",
              "      <td>NaN</td>\n",
              "      <td>5.799684e+10</td>\n",
              "      <td>NaN</td>\n",
              "    </tr>\n",
              "    <tr>\n",
              "      <th>Virgin Islands (U.S.)</th>\n",
              "      <td>64.930706</td>\n",
              "      <td>NaN</td>\n",
              "      <td>NaN</td>\n",
              "      <td>-0.323958</td>\n",
              "      <td>95.832000</td>\n",
              "      <td>NaN</td>\n",
              "      <td>NaN</td>\n",
              "      <td>NaN</td>\n",
              "      <td>79.268293</td>\n",
              "      <td>100.000000</td>\n",
              "      <td>49.115615</td>\n",
              "      <td>NaN</td>\n",
              "      <td>7.990000</td>\n",
              "      <td>NaN</td>\n",
              "      <td>NaN</td>\n",
              "      <td>NaN</td>\n",
              "      <td>NaN</td>\n",
              "      <td>NaN</td>\n",
              "    </tr>\n",
              "    <tr>\n",
              "      <th>Vanuatu</th>\n",
              "      <td>73.390305</td>\n",
              "      <td>107.0</td>\n",
              "      <td>3292.544065</td>\n",
              "      <td>2.430920</td>\n",
              "      <td>25.394000</td>\n",
              "      <td>NaN</td>\n",
              "      <td>NaN</td>\n",
              "      <td>0.1653</td>\n",
              "      <td>70.021000</td>\n",
              "      <td>61.864769</td>\n",
              "      <td>43.577945</td>\n",
              "      <td>NaN</td>\n",
              "      <td>1.720000</td>\n",
              "      <td>NaN</td>\n",
              "      <td>61.051910</td>\n",
              "      <td>NaN</td>\n",
              "      <td>4.100000e+07</td>\n",
              "      <td>2.658513e+08</td>\n",
              "    </tr>\n",
              "    <tr>\n",
              "      <th>World</th>\n",
              "      <td>54.481402</td>\n",
              "      <td>NaN</td>\n",
              "      <td>17816.260037</td>\n",
              "      <td>1.074675</td>\n",
              "      <td>55.714718</td>\n",
              "      <td>4.45910</td>\n",
              "      <td>2.235930</td>\n",
              "      <td>NaN</td>\n",
              "      <td>72.180761</td>\n",
              "      <td>89.570314</td>\n",
              "      <td>38.858304</td>\n",
              "      <td>2294881.0</td>\n",
              "      <td>5.371721</td>\n",
              "      <td>NaN</td>\n",
              "      <td>63.051417</td>\n",
              "      <td>2.488971e+13</td>\n",
              "      <td>1.630976e+12</td>\n",
              "      <td>NaN</td>\n",
              "    </tr>\n",
              "    <tr>\n",
              "      <th>Samoa</th>\n",
              "      <td>74.816622</td>\n",
              "      <td>98.0</td>\n",
              "      <td>6795.684073</td>\n",
              "      <td>0.491829</td>\n",
              "      <td>18.056000</td>\n",
              "      <td>4.16222</td>\n",
              "      <td>NaN</td>\n",
              "      <td>0.3445</td>\n",
              "      <td>72.895000</td>\n",
              "      <td>100.000000</td>\n",
              "      <td>34.376409</td>\n",
              "      <td>1.0</td>\n",
              "      <td>8.320000</td>\n",
              "      <td>NaN</td>\n",
              "      <td>62.074040</td>\n",
              "      <td>3.164139e+08</td>\n",
              "      <td>1.019330e+06</td>\n",
              "      <td>3.418577e+08</td>\n",
              "    </tr>\n",
              "  </tbody>\n",
              "</table>\n",
              "<p>118 rows × 18 columns</p>\n",
              "</div>"
            ],
            "text/plain": [
              "                           PopDep  EaseofB  ...           FDI       ForDebt\n",
              "country                                     ...                            \n",
              "Aruba                   46.367454      NaN  ... -7.604174e+07           NaN\n",
              "Angola                  95.394042    177.0  ... -4.098479e+09  4.052814e+10\n",
              "Andorra                       NaN      NaN  ...           NaN           NaN\n",
              "Arab World              61.081801      NaN  ...  3.350713e+10           NaN\n",
              "American Samoa                NaN      NaN  ...           NaN           NaN\n",
              "...                           ...      ...  ...           ...           ...\n",
              "British Virgin Islands        NaN      NaN  ...  5.799684e+10           NaN\n",
              "Virgin Islands (U.S.)   64.930706      NaN  ...           NaN           NaN\n",
              "Vanuatu                 73.390305    107.0  ...  4.100000e+07  2.658513e+08\n",
              "World                   54.481402      NaN  ...  1.630976e+12           NaN\n",
              "Samoa                   74.816622     98.0  ...  1.019330e+06  3.418577e+08\n",
              "\n",
              "[118 rows x 18 columns]"
            ]
          },
          "metadata": {
            "tags": []
          },
          "execution_count": 41
        }
      ]
    },
    {
      "cell_type": "markdown",
      "metadata": {
        "id": "veyP_3YGOIPO"
      },
      "source": [
        "Lets look at the data for one country Pakistan"
      ]
    },
    {
      "cell_type": "code",
      "metadata": {
        "colab": {
          "base_uri": "https://localhost:8080/"
        },
        "id": "68OCRzkB5k6V",
        "outputId": "446d3f5c-bd4f-4303-cb6e-1eff665afafb"
      },
      "source": [
        "wbdf.loc['Pakistan']"
      ],
      "execution_count": null,
      "outputs": [
        {
          "output_type": "execute_result",
          "data": {
            "text/plain": [
              "PopDep         6.495331e+01\n",
              "EaseofB        1.080000e+02\n",
              "GDPpppPC       4.898051e+03\n",
              "PopGrowth      2.029215e+00\n",
              "UrbanPop       3.690700e+01\n",
              "GexpEdu        3.002920e+00\n",
              "MilExpGdp      3.594750e+00\n",
              "HosBedP1000    9.620000e-01\n",
              "LifeExp        6.677000e+01\n",
              "ElecAces       7.109155e+01\n",
              "Fem%Lab        2.013498e+01\n",
              "Patents        3.060000e+02\n",
              "UnemplR        4.080000e+00\n",
              "HappScore      5.693300e+00\n",
              "EofBScore      6.095491e+01\n",
              "Exports        2.815332e+10\n",
              "FDI            2.218000e+09\n",
              "ForDebt        7.223150e+10\n",
              "Name: Pakistan, dtype: float64"
            ]
          },
          "metadata": {
            "tags": []
          },
          "execution_count": 42
        }
      ]
    },
    {
      "cell_type": "markdown",
      "metadata": {
        "id": "jqagEpbiObJM"
      },
      "source": [
        "The heatmap below shows the correlation of variables with each other"
      ]
    },
    {
      "cell_type": "code",
      "metadata": {
        "id": "lJ8zx8Ktprm6",
        "colab": {
          "base_uri": "https://localhost:8080/",
          "height": 1000
        },
        "outputId": "0100f133-e549-492b-e7d7-f8c08fc8539d"
      },
      "source": [
        "plt.figure(figsize=(15,15))\n",
        "sns.heatmap(wbdf.corr(),annot=True)"
      ],
      "execution_count": null,
      "outputs": [
        {
          "output_type": "execute_result",
          "data": {
            "text/plain": [
              "<matplotlib.axes._subplots.AxesSubplot at 0x7f5ef5798210>"
            ]
          },
          "metadata": {
            "tags": []
          },
          "execution_count": 50
        },
        {
          "output_type": "display_data",
          "data": {
            "image/png": "[encoded data removed]",
            "text/plain": [
              "<Figure size 1080x1080 with 2 Axes>"
            ]
          },
          "metadata": {
            "tags": [],
            "needs_background": "light"
          }
        }
      ]
    },
    {
      "cell_type": "markdown",
      "metadata": {
        "id": "yNQeEK_mQGIO"
      },
      "source": [
        "The heatmap shows that some variables are not correlated with GDP so may be dropped e.g. Military Expenditure as % of GDP, patents, Female Labor Particpate rate. These variables will be dropped"
      ]
    },
    {
      "cell_type": "code",
      "metadata": {
        "colab": {
          "base_uri": "https://localhost:8080/"
        },
        "id": "rIKskexlRlaF",
        "outputId": "5a7a52fa-3fef-4253-a912-76d1395cbac0"
      },
      "source": [
        "wbdf.columns"
      ],
      "execution_count": null,
      "outputs": [
        {
          "output_type": "execute_result",
          "data": {
            "text/plain": [
              "Index(['Population Dependence %', 'Ease of Doing Business Ranking',\n",
              "       'GDP per Capita (PPP)', 'Population Growth Rate',\n",
              "       'Urban Population (% of Total)', 'GexpEdu', 'MilExpGdp', 'HosBedP1000',\n",
              "       'Life Expectancy', 'Elecricty Access', 'Fem%Lab', 'Patents', 'UnemplR',\n",
              "       'World Happiness Report Score', 'Ease of Business Score',\n",
              "       'Total Exports ($)', 'Foreign Direct Investment',\n",
              "       'Total Foreign Debt($)'],\n",
              "      dtype='object')"
            ]
          },
          "metadata": {
            "tags": []
          },
          "execution_count": 51
        }
      ]
    },
    {
      "cell_type": "code",
      "metadata": {
        "id": "VRR1g7f9sr63"
      },
      "source": [
        "wbdfSmall=wbdf.drop(columns=['GexpEdu', 'MilExpGdp', 'HosBedP1000','Fem%Lab','Fem%Lab','UnemplR','Patents'])"
      ],
      "execution_count": null,
      "outputs": []
    },
    {
      "cell_type": "code",
      "metadata": {
        "colab": {
          "base_uri": "https://localhost:8080/",
          "height": 555
        },
        "id": "yNcRH5aOSGGl",
        "outputId": "cd4d381f-3bd9-4943-b437-2b89ace80e58"
      },
      "source": [
        "wbdfSmall"
      ],
      "execution_count": null,
      "outputs": [
        {
          "output_type": "execute_result",
          "data": {
            "text/html": [
              "<div>\n",
              "<style scoped>\n",
              "    .dataframe tbody tr th:only-of-type {\n",
              "        vertical-align: middle;\n",
              "    }\n",
              "\n",
              "    .dataframe tbody tr th {\n",
              "        vertical-align: top;\n",
              "    }\n",
              "\n",
              "    .dataframe thead th {\n",
              "        text-align: right;\n",
              "    }\n",
              "</style>\n",
              "<table border=\"1\" class=\"dataframe\">\n",
              "  <thead>\n",
              "    <tr style=\"text-align: right;\">\n",
              "      <th></th>\n",
              "      <th>Population Dependence %</th>\n",
              "      <th>Ease of Doing Business Ranking</th>\n",
              "      <th>GDP per Capita (PPP)</th>\n",
              "      <th>Population Growth Rate</th>\n",
              "      <th>Urban Population (% of Total)</th>\n",
              "      <th>Life Expectancy</th>\n",
              "      <th>Elecricty Access</th>\n",
              "      <th>World Happiness Report Score</th>\n",
              "      <th>Ease of Business Score</th>\n",
              "      <th>Total Exports ($)</th>\n",
              "      <th>Foreign Direct Investment</th>\n",
              "      <th>Total Foreign Debt($)</th>\n",
              "    </tr>\n",
              "    <tr>\n",
              "      <th>country</th>\n",
              "      <th></th>\n",
              "      <th></th>\n",
              "      <th></th>\n",
              "      <th></th>\n",
              "      <th></th>\n",
              "      <th></th>\n",
              "      <th></th>\n",
              "      <th></th>\n",
              "      <th></th>\n",
              "      <th></th>\n",
              "      <th></th>\n",
              "      <th></th>\n",
              "    </tr>\n",
              "  </thead>\n",
              "  <tbody>\n",
              "    <tr>\n",
              "      <th>Aruba</th>\n",
              "      <td>46.367454</td>\n",
              "      <td>NaN</td>\n",
              "      <td>NaN</td>\n",
              "      <td>0.442122</td>\n",
              "      <td>43.546</td>\n",
              "      <td>75.868000</td>\n",
              "      <td>100.000000</td>\n",
              "      <td>NaN</td>\n",
              "      <td>NaN</td>\n",
              "      <td>NaN</td>\n",
              "      <td>-7.604174e+07</td>\n",
              "      <td>NaN</td>\n",
              "    </tr>\n",
              "    <tr>\n",
              "      <th>Afghanistan</th>\n",
              "      <td>82.109775</td>\n",
              "      <td>173.0</td>\n",
              "      <td>2156.419482</td>\n",
              "      <td>2.311817</td>\n",
              "      <td>25.754</td>\n",
              "      <td>63.763000</td>\n",
              "      <td>98.713203</td>\n",
              "      <td>2.5669</td>\n",
              "      <td>44.06497</td>\n",
              "      <td>NaN</td>\n",
              "      <td>2.340455e+07</td>\n",
              "      <td>1.943399e+09</td>\n",
              "    </tr>\n",
              "    <tr>\n",
              "      <th>Angola</th>\n",
              "      <td>95.394042</td>\n",
              "      <td>177.0</td>\n",
              "      <td>6965.511374</td>\n",
              "      <td>3.242983</td>\n",
              "      <td>66.177</td>\n",
              "      <td>59.925000</td>\n",
              "      <td>43.259258</td>\n",
              "      <td>NaN</td>\n",
              "      <td>41.28838</td>\n",
              "      <td>3.602087e+10</td>\n",
              "      <td>-4.098479e+09</td>\n",
              "      <td>4.052814e+10</td>\n",
              "    </tr>\n",
              "    <tr>\n",
              "      <th>Albania</th>\n",
              "      <td>46.203522</td>\n",
              "      <td>82.0</td>\n",
              "      <td>14648.267402</td>\n",
              "      <td>-0.426007</td>\n",
              "      <td>61.229</td>\n",
              "      <td>78.194000</td>\n",
              "      <td>100.000000</td>\n",
              "      <td>4.8827</td>\n",
              "      <td>67.74847</td>\n",
              "      <td>4.821431e+09</td>\n",
              "      <td>1.201022e+09</td>\n",
              "      <td>4.980870e+09</td>\n",
              "    </tr>\n",
              "    <tr>\n",
              "      <th>Andorra</th>\n",
              "      <td>NaN</td>\n",
              "      <td>NaN</td>\n",
              "      <td>NaN</td>\n",
              "      <td>0.176454</td>\n",
              "      <td>87.984</td>\n",
              "      <td>NaN</td>\n",
              "      <td>100.000000</td>\n",
              "      <td>NaN</td>\n",
              "      <td>NaN</td>\n",
              "      <td>NaN</td>\n",
              "      <td>NaN</td>\n",
              "      <td>NaN</td>\n",
              "    </tr>\n",
              "    <tr>\n",
              "      <th>...</th>\n",
              "      <td>...</td>\n",
              "      <td>...</td>\n",
              "      <td>...</td>\n",
              "      <td>...</td>\n",
              "      <td>...</td>\n",
              "      <td>...</td>\n",
              "      <td>...</td>\n",
              "      <td>...</td>\n",
              "      <td>...</td>\n",
              "      <td>...</td>\n",
              "      <td>...</td>\n",
              "      <td>...</td>\n",
              "    </tr>\n",
              "    <tr>\n",
              "      <th>Kosovo</th>\n",
              "      <td>NaN</td>\n",
              "      <td>57.0</td>\n",
              "      <td>11870.797576</td>\n",
              "      <td>-0.157992</td>\n",
              "      <td>NaN</td>\n",
              "      <td>71.646341</td>\n",
              "      <td>100.000000</td>\n",
              "      <td>6.3250</td>\n",
              "      <td>73.18473</td>\n",
              "      <td>2.315662e+09</td>\n",
              "      <td>2.850816e+08</td>\n",
              "      <td>4.838109e+08</td>\n",
              "    </tr>\n",
              "    <tr>\n",
              "      <th>Yemen, Rep.</th>\n",
              "      <td>72.787716</td>\n",
              "      <td>187.0</td>\n",
              "      <td>NaN</td>\n",
              "      <td>2.300580</td>\n",
              "      <td>37.273</td>\n",
              "      <td>66.087000</td>\n",
              "      <td>62.000000</td>\n",
              "      <td>3.5200</td>\n",
              "      <td>31.76299</td>\n",
              "      <td>NaN</td>\n",
              "      <td>-3.709828e+08</td>\n",
              "      <td>5.622578e+09</td>\n",
              "    </tr>\n",
              "    <tr>\n",
              "      <th>South Africa</th>\n",
              "      <td>52.400879</td>\n",
              "      <td>84.0</td>\n",
              "      <td>13034.164661</td>\n",
              "      <td>1.338617</td>\n",
              "      <td>66.856</td>\n",
              "      <td>63.153000</td>\n",
              "      <td>91.229874</td>\n",
              "      <td>4.8141</td>\n",
              "      <td>67.01897</td>\n",
              "      <td>1.049158e+11</td>\n",
              "      <td>4.624503e+09</td>\n",
              "      <td>7.610179e+10</td>\n",
              "    </tr>\n",
              "    <tr>\n",
              "      <th>Zambia</th>\n",
              "      <td>87.188180</td>\n",
              "      <td>85.0</td>\n",
              "      <td>3624.024939</td>\n",
              "      <td>2.892373</td>\n",
              "      <td>44.072</td>\n",
              "      <td>62.464000</td>\n",
              "      <td>39.812622</td>\n",
              "      <td>3.7594</td>\n",
              "      <td>66.93648</td>\n",
              "      <td>8.073611e+09</td>\n",
              "      <td>5.479679e+08</td>\n",
              "      <td>1.049975e+10</td>\n",
              "    </tr>\n",
              "    <tr>\n",
              "      <th>Zimbabwe</th>\n",
              "      <td>82.277970</td>\n",
              "      <td>140.0</td>\n",
              "      <td>2961.446428</td>\n",
              "      <td>1.419681</td>\n",
              "      <td>32.210</td>\n",
              "      <td>60.294000</td>\n",
              "      <td>41.041584</td>\n",
              "      <td>3.2992</td>\n",
              "      <td>54.46935</td>\n",
              "      <td>NaN</td>\n",
              "      <td>2.800000e+08</td>\n",
              "      <td>5.884767e+09</td>\n",
              "    </tr>\n",
              "  </tbody>\n",
              "</table>\n",
              "<p>263 rows × 12 columns</p>\n",
              "</div>"
            ],
            "text/plain": [
              "              Population Dependence %  ...  Total Foreign Debt($)\n",
              "country                                ...                       \n",
              "Aruba                       46.367454  ...                    NaN\n",
              "Afghanistan                 82.109775  ...           1.943399e+09\n",
              "Angola                      95.394042  ...           4.052814e+10\n",
              "Albania                     46.203522  ...           4.980870e+09\n",
              "Andorra                           NaN  ...                    NaN\n",
              "...                               ...  ...                    ...\n",
              "Kosovo                            NaN  ...           4.838109e+08\n",
              "Yemen, Rep.                 72.787716  ...           5.622578e+09\n",
              "South Africa                52.400879  ...           7.610179e+10\n",
              "Zambia                      87.188180  ...           1.049975e+10\n",
              "Zimbabwe                    82.277970  ...           5.884767e+09\n",
              "\n",
              "[263 rows x 12 columns]"
            ]
          },
          "metadata": {
            "tags": []
          },
          "execution_count": 64
        }
      ]
    },
    {
      "cell_type": "code",
      "metadata": {
        "id": "c7F-FPlnuIWS",
        "colab": {
          "base_uri": "https://localhost:8080/",
          "height": 768
        },
        "outputId": "27cf1067-bb65-4698-d4d7-76268c930e28"
      },
      "source": [
        "plt.figure(figsize=(10,10))\n",
        "plt.tight_layout()\n",
        "#sns.set(style = \"darkgrid\")\n",
        "lm=sns.heatmap(df.corr(),annot=True)#data=df,y='GDP per Capita (PPP)',x='World Happiness Report Score',scatter_kws={\"color\": \"green\"}, line_kws={\"color\": \"red\"})\n",
        "plt.title('Correlations Between Various Indicators')\n",
        "# Set x-axis label\n",
        "#plt.xlabel('Happiness Score')\n",
        "# Set y-axis label\n",
        "#plt.ylabel('GDP per Capita in $')\n",
        "#axes=lm.axes\n",
        "#axes[0,0].set_ylim(-3000,80000)\n",
        "#axes[0,0].set_xlim(3,8)\n",
        "plt.savefig(\"output1.png\",bbox_inches='tight')\n",
        "files.download(\"output1.png\")"
      ],
      "execution_count": 33,
      "outputs": [
        {
          "output_type": "display_data",
          "data": {
            "application/javascript": [
              "\n",
              "    async function download(id, filename, size) {\n",
              "      if (!google.colab.kernel.accessAllowed) {\n",
              "        return;\n",
              "      }\n",
              "      const div = document.createElement('div');\n",
              "      const label = document.createElement('label');\n",
              "      label.textContent = `Downloading \"${filename}\": `;\n",
              "      div.appendChild(label);\n",
              "      const progress = document.createElement('progress');\n",
              "      progress.max = size;\n",
              "      div.appendChild(progress);\n",
              "      document.body.appendChild(div);\n",
              "\n",
              "      const buffers = [];\n",
              "      let downloaded = 0;\n",
              "\n",
              "      const channel = await google.colab.kernel.comms.open(id);\n",
              "      // Send a message to notify the kernel that we're ready.\n",
              "      channel.send({})\n",
              "\n",
              "      for await (const message of channel.messages) {\n",
              "        // Send a message to notify the kernel that we're ready.\n",
              "        channel.send({})\n",
              "        if (message.buffers) {\n",
              "          for (const buffer of message.buffers) {\n",
              "            buffers.push(buffer);\n",
              "            downloaded += buffer.byteLength;\n",
              "            progress.value = downloaded;\n",
              "          }\n",
              "        }\n",
              "      }\n",
              "      const blob = new Blob(buffers, {type: 'application/binary'});\n",
              "      const a = document.createElement('a');\n",
              "      a.href = window.URL.createObjectURL(blob);\n",
              "      a.download = filename;\n",
              "      div.appendChild(a);\n",
              "      a.click();\n",
              "      div.remove();\n",
              "    }\n",
              "  "
            ],
            "text/plain": [
              "<IPython.core.display.Javascript object>"
            ]
          },
          "metadata": {
            "tags": []
          }
        },
        {
          "output_type": "display_data",
          "data": {
            "application/javascript": [
              "download(\"download_da440184-db2e-4ce0-81ec-e86531102517\", \"output1.png\", 113030)"
            ],
            "text/plain": [
              "<IPython.core.display.Javascript object>"
            ]
          },
          "metadata": {
            "tags": []
          }
        },
        {
          "output_type": "display_data",
          "data": {
            "image/png": "[encoded data removed]",
            "text/plain": [
              "<Figure size 720x720 with 2 Axes>"
            ]
          },
          "metadata": {
            "tags": []
          }
        }
      ]
    },
    {
      "cell_type": "code",
      "metadata": {
        "id": "4R0519dQTnuH"
      },
      "source": [
        "wbdfSmall"
      ],
      "execution_count": null,
      "outputs": []
    },
    {
      "cell_type": "code",
      "metadata": {
        "id": "prsMGEZssurG",
        "colab": {
          "base_uri": "https://localhost:8080/"
        },
        "outputId": "d854edd8-ea43-4dd3-ff9c-225c2d547389"
      },
      "source": [
        "wbdfSmall.isnull().sum()"
      ],
      "execution_count": null,
      "outputs": [
        {
          "output_type": "execute_result",
          "data": {
            "text/plain": [
              "Population Dependence %            25\n",
              "Ease of Doing Business Ranking     75\n",
              "GDP per Capita (PPP)               32\n",
              "Population Growth Rate              2\n",
              "Urban Population (% of Total)       4\n",
              "Life Expectancy                    17\n",
              "Elecricty Access                    3\n",
              "World Happiness Report Score      116\n",
              "Ease of Business Score             28\n",
              "Total Exports ($)                  66\n",
              "Foreign Direct Investment          21\n",
              "Total Foreign Debt($)             132\n",
              "dtype: int64"
            ]
          },
          "metadata": {
            "tags": []
          },
          "execution_count": 65
        }
      ]
    },
    {
      "cell_type": "code",
      "metadata": {
        "id": "EZ0pvNLgx2GQ"
      },
      "source": [
        "df=wbdfSmall[wbdfSmall['Ease of Doing Business Ranking'].notna()]"
      ],
      "execution_count": null,
      "outputs": []
    },
    {
      "cell_type": "markdown",
      "metadata": {
        "id": "Xu5hw6QxY-kZ"
      },
      "source": [
        "df above is the dataframe we will use since it contains data for 188 countries and not regions"
      ]
    },
    {
      "cell_type": "code",
      "metadata": {
        "id": "8LQX9COV2L9L"
      },
      "source": [
        "df=pd.read_csv('df.csv')"
      ],
      "execution_count": 4,
      "outputs": []
    },
    {
      "cell_type": "code",
      "metadata": {
        "colab": {
          "base_uri": "https://localhost:8080/"
        },
        "id": "QyNGvbhTEtMs",
        "outputId": "85741bbf-b908-4897-c589-dfaf317924b1"
      },
      "source": [
        "df.notna().sum()"
      ],
      "execution_count": 18,
      "outputs": [
        {
          "output_type": "execute_result",
          "data": {
            "text/plain": [
              "country                          179\n",
              "Population Dependence %          175\n",
              "GDP per Capita (PPP)             179\n",
              "Population Growth Rate           179\n",
              "Urban Population (% of Total)    178\n",
              "Life Expectancy                  176\n",
              "Elecricty Access                 179\n",
              "World Happiness Report Score     142\n",
              "Ease of Business Score           179\n",
              "Total Exports ($)                151\n",
              "Foreign Direct Investment        177\n",
              "Total Foreign Debt($)            114\n",
              "dtype: int64"
            ]
          },
          "metadata": {
            "tags": []
          },
          "execution_count": 18
        }
      ]
    },
    {
      "cell_type": "code",
      "metadata": {
        "id": "V0NZzlGnZG8x"
      },
      "source": [
        "df=df[df['GDP per Capita (PPP)'].notna()]"
      ],
      "execution_count": null,
      "outputs": []
    },
    {
      "cell_type": "markdown",
      "metadata": {
        "id": "ZwvPls5pStRH"
      },
      "source": [
        "Only selecting the data of countries for which the target variable i.e. GDP per Capita (PPP) is avaiable\n",
        "There are 179 such countries"
      ]
    },
    {
      "cell_type": "code",
      "metadata": {
        "id": "ldpZgicOSsen"
      },
      "source": [
        "df.drop(columns='Ease of Doing Business Ranking',inplace=True)"
      ],
      "execution_count": null,
      "outputs": []
    },
    {
      "cell_type": "code",
      "metadata": {
        "id": "CLD6YxRzTHjN"
      },
      "source": [
        "df.set_index('country',inplace=True)"
      ],
      "execution_count": null,
      "outputs": []
    },
    {
      "cell_type": "code",
      "metadata": {
        "colab": {
          "base_uri": "https://localhost:8080/"
        },
        "id": "-IXAC-4Ga_QB",
        "outputId": "22465579-7c13-48f7-961f-71a5ad5c5b57"
      },
      "source": [
        "df.columns"
      ],
      "execution_count": null,
      "outputs": [
        {
          "output_type": "execute_result",
          "data": {
            "text/plain": [
              "Index(['Population Dependence %', 'GDP per Capita (PPP)',\n",
              "       'Population Growth Rate', 'Urban Population (% of Total)',\n",
              "       'Life Expectancy', 'Elecricty Access', 'World Happiness Report Score',\n",
              "       'Ease of Business Score', 'Total Exports ($)',\n",
              "       'Foreign Direct Investment', 'Total Foreign Debt($)'],\n",
              "      dtype='object')"
            ]
          },
          "metadata": {
            "tags": []
          },
          "execution_count": 7
        }
      ]
    },
    {
      "cell_type": "markdown",
      "metadata": {
        "id": "vXKXqPobax-y"
      },
      "source": [
        "Now lets do some EDA on the data"
      ]
    },
    {
      "cell_type": "markdown",
      "metadata": {
        "id": "TgBReAS6a0xk"
      },
      "source": [
        "Our target variable for this analysis is GDP per Capita (PPP) as noted before also"
      ]
    },
    {
      "cell_type": "code",
      "metadata": {
        "colab": {
          "base_uri": "https://localhost:8080/"
        },
        "id": "2MGIyMN4TRh7",
        "outputId": "707a9f34-77a1-45c6-aeaf-52a64531ebed"
      },
      "source": [
        "df.corrwith(df['GDP per Capita (PPP)']).sort_values(ascending=False)"
      ],
      "execution_count": 19,
      "outputs": [
        {
          "output_type": "execute_result",
          "data": {
            "text/plain": [
              "GDP per Capita (PPP)             1.000000\n",
              "World Happiness Report Score     0.750944\n",
              "Life Expectancy                  0.711489\n",
              "Urban Population (% of Total)    0.646582\n",
              "Ease of Business Score           0.639667\n",
              "Elecricty Access                 0.485304\n",
              "Total Exports ($)                0.406982\n",
              "Total Foreign Debt($)            0.403224\n",
              "Foreign Direct Investment        0.265154\n",
              "Population Growth Rate          -0.305781\n",
              "Population Dependence %         -0.528428\n",
              "dtype: float64"
            ]
          },
          "metadata": {
            "tags": []
          },
          "execution_count": 19
        }
      ]
    },
    {
      "cell_type": "code",
      "metadata": {
        "colab": {
          "base_uri": "https://localhost:8080/"
        },
        "id": "axFg9Iiugk9D",
        "outputId": "0a34f9f4-eb87-4c97-a8ab-f27a751a2726"
      },
      "source": [
        "df.corrwith(df['GDP per Capita (PPP)']).sort_values(ascending=False)"
      ],
      "execution_count": null,
      "outputs": [
        {
          "output_type": "execute_result",
          "data": {
            "text/plain": [
              "GDP per Capita (PPP)              1.000000\n",
              "World Happiness Report Score      0.750944\n",
              "Life Expectancy                   0.711489\n",
              "Urban Population (% of Total)     0.646582\n",
              "Ease of Business Score            0.639667\n",
              "Elecricty Access                  0.485304\n",
              "Total Exports ($)                 0.406982\n",
              "Total Foreign Debt($)             0.403224\n",
              "Foreign Direct Investment         0.265154\n",
              "Population Growth Rate           -0.305781\n",
              "Population Dependence %          -0.528428\n",
              "Ease of Doing Business Ranking   -0.654750\n",
              "dtype: float64"
            ]
          },
          "metadata": {
            "tags": []
          },
          "execution_count": 6
        }
      ]
    },
    {
      "cell_type": "code",
      "metadata": {
        "colab": {
          "base_uri": "https://localhost:8080/",
          "height": 398
        },
        "id": "yYMQOD3ig4aL",
        "outputId": "0ce75a07-098e-4f53-aafc-6e7d0e25bd28"
      },
      "source": [
        "sns.set(style = \"darkgrid\")\n",
        "lm=sns.lmplot(data=df,y='GDP per Capita (PPP)',x='World Happiness Report Score',scatter_kws={\"color\": \"green\"}, line_kws={\"color\": \"red\"})\n",
        "plt.title('GDP per capita (PPP) and World Happiness Report Score')\n",
        "# Set x-axis label\n",
        "plt.xlabel('Happiness Score')\n",
        "# Set y-axis label\n",
        "plt.ylabel('GDP per Capita in $')\n",
        "axes=lm.axes\n",
        "axes[0,0].set_ylim(-3000,80000)\n",
        "axes[0,0].set_xlim(3,8)\n",
        "lm.savefig(\"output1.png\")\n",
        "files.download(\"output1.png\")"
      ],
      "execution_count": 22,
      "outputs": [
        {
          "output_type": "display_data",
          "data": {
            "application/javascript": [
              "\n",
              "    async function download(id, filename, size) {\n",
              "      if (!google.colab.kernel.accessAllowed) {\n",
              "        return;\n",
              "      }\n",
              "      const div = document.createElement('div');\n",
              "      const label = document.createElement('label');\n",
              "      label.textContent = `Downloading \"${filename}\": `;\n",
              "      div.appendChild(label);\n",
              "      const progress = document.createElement('progress');\n",
              "      progress.max = size;\n",
              "      div.appendChild(progress);\n",
              "      document.body.appendChild(div);\n",
              "\n",
              "      const buffers = [];\n",
              "      let downloaded = 0;\n",
              "\n",
              "      const channel = await google.colab.kernel.comms.open(id);\n",
              "      // Send a message to notify the kernel that we're ready.\n",
              "      channel.send({})\n",
              "\n",
              "      for await (const message of channel.messages) {\n",
              "        // Send a message to notify the kernel that we're ready.\n",
              "        channel.send({})\n",
              "        if (message.buffers) {\n",
              "          for (const buffer of message.buffers) {\n",
              "            buffers.push(buffer);\n",
              "            downloaded += buffer.byteLength;\n",
              "            progress.value = downloaded;\n",
              "          }\n",
              "        }\n",
              "      }\n",
              "      const blob = new Blob(buffers, {type: 'application/binary'});\n",
              "      const a = document.createElement('a');\n",
              "      a.href = window.URL.createObjectURL(blob);\n",
              "      a.download = filename;\n",
              "      div.appendChild(a);\n",
              "      a.click();\n",
              "      div.remove();\n",
              "    }\n",
              "  "
            ],
            "text/plain": [
              "<IPython.core.display.Javascript object>"
            ]
          },
          "metadata": {
            "tags": []
          }
        },
        {
          "output_type": "display_data",
          "data": {
            "application/javascript": [
              "download(\"download_dd00d705-f628-42e4-8231-46e82a1ceaf6\", \"output1.png\", 33070)"
            ],
            "text/plain": [
              "<IPython.core.display.Javascript object>"
            ]
          },
          "metadata": {
            "tags": []
          }
        },
        {
          "output_type": "display_data",
          "data": {
            "image/png": "[encoded data removed]",
            "text/plain": [
              "<Figure size 360x360 with 1 Axes>"
            ]
          },
          "metadata": {
            "tags": []
          }
        }
      ]
    },
    {
      "cell_type": "code",
      "metadata": {
        "colab": {
          "base_uri": "https://localhost:8080/",
          "height": 415
        },
        "id": "sUOHk9guh8-E",
        "outputId": "566b5a7d-a838-41e6-8005-2acd039ccbf1"
      },
      "source": [
        "sns.set(style = \"darkgrid\")\n",
        "lm=sns.lmplot(data=df,y='GDP per Capita (PPP)',x='Life Expectancy',scatter_kws={\"color\": \"green\"}, line_kws={\"color\": \"red\"})\n",
        "plt.title('GDP per capita and Average Life Expectancy')\n",
        "# Set x-axis label\n",
        "plt.xlabel('Average Life Expectancy')\n",
        "# Set y-axis label\n",
        "plt.ylabel('GDP per Capita in $ (using PPP)')\n",
        "axes=lm.axes\n",
        "axes[0,0].set_ylim(-3000,80000)\n",
        "#axes[0,0].set_xlim(2,8)\n",
        "lm.savefig(\"output1.png\")\n",
        "files.download(\"output1.png\")"
      ],
      "execution_count": null,
      "outputs": [
        {
          "output_type": "execute_result",
          "data": {
            "text/plain": [
              "(-3000.0, 80000.0)"
            ]
          },
          "metadata": {
            "tags": []
          },
          "execution_count": 8
        },
        {
          "output_type": "display_data",
          "data": {
            "image/png": "[encoded data removed]",
            "text/plain": [
              "<Figure size 360x360 with 1 Axes>"
            ]
          },
          "metadata": {
            "tags": []
          }
        }
      ]
    },
    {
      "cell_type": "markdown",
      "metadata": {
        "id": "jfahfHOJbH0v"
      },
      "source": [
        "Lets first look at GDP per capita and Ease of Business Score"
      ]
    },
    {
      "cell_type": "code",
      "metadata": {
        "colab": {
          "base_uri": "https://localhost:8080/",
          "height": 398
        },
        "id": "OijmznLSJ5T5",
        "outputId": "590038cf-2819-40c8-cfbe-88c46eeb377d"
      },
      "source": [
        "sns.set(style = \"darkgrid\")\n",
        "lm=sns.lmplot(data=df,y='GDP per Capita (PPP)',x='Ease of Business Score',scatter_kws={\"color\": \"green\"}, line_kws={\"color\": \"red\"})\n",
        "plt.title('GDP per capita (PPP) and Ease of Business Score')\n",
        "# Set x-axis label\n",
        "plt.xlabel('Ease of Business Score')\n",
        "# Set y-axis label\n",
        "plt.ylabel('GDP per Capita in $')\n",
        "axes=lm.axes\n",
        "axes[0,0].set_ylim(-1000,100000)\n",
        "axes[0,0].set_xlim(30,90)\n",
        "lm.savefig(\"output2.png\")\n",
        "files.download(\"output2.png\")\n"
      ],
      "execution_count": 23,
      "outputs": [
        {
          "output_type": "display_data",
          "data": {
            "application/javascript": [
              "\n",
              "    async function download(id, filename, size) {\n",
              "      if (!google.colab.kernel.accessAllowed) {\n",
              "        return;\n",
              "      }\n",
              "      const div = document.createElement('div');\n",
              "      const label = document.createElement('label');\n",
              "      label.textContent = `Downloading \"${filename}\": `;\n",
              "      div.appendChild(label);\n",
              "      const progress = document.createElement('progress');\n",
              "      progress.max = size;\n",
              "      div.appendChild(progress);\n",
              "      document.body.appendChild(div);\n",
              "\n",
              "      const buffers = [];\n",
              "      let downloaded = 0;\n",
              "\n",
              "      const channel = await google.colab.kernel.comms.open(id);\n",
              "      // Send a message to notify the kernel that we're ready.\n",
              "      channel.send({})\n",
              "\n",
              "      for await (const message of channel.messages) {\n",
              "        // Send a message to notify the kernel that we're ready.\n",
              "        channel.send({})\n",
              "        if (message.buffers) {\n",
              "          for (const buffer of message.buffers) {\n",
              "            buffers.push(buffer);\n",
              "            downloaded += buffer.byteLength;\n",
              "            progress.value = downloaded;\n",
              "          }\n",
              "        }\n",
              "      }\n",
              "      const blob = new Blob(buffers, {type: 'application/binary'});\n",
              "      const a = document.createElement('a');\n",
              "      a.href = window.URL.createObjectURL(blob);\n",
              "      a.download = filename;\n",
              "      div.appendChild(a);\n",
              "      a.click();\n",
              "      div.remove();\n",
              "    }\n",
              "  "
            ],
            "text/plain": [
              "<IPython.core.display.Javascript object>"
            ]
          },
          "metadata": {
            "tags": []
          }
        },
        {
          "output_type": "display_data",
          "data": {
            "application/javascript": [
              "download(\"download_7d744c02-daa2-478a-a9db-c26fd57c878e\", \"output2.png\", 31598)"
            ],
            "text/plain": [
              "<IPython.core.display.Javascript object>"
            ]
          },
          "metadata": {
            "tags": []
          }
        },
        {
          "output_type": "display_data",
          "data": {
            "image/png": "[encoded data removed]",
            "text/plain": [
              "<Figure size 360x360 with 1 Axes>"
            ]
          },
          "metadata": {
            "tags": []
          }
        }
      ]
    },
    {
      "cell_type": "code",
      "metadata": {
        "colab": {
          "base_uri": "https://localhost:8080/",
          "height": 398
        },
        "id": "7OgofOC0B4e3",
        "outputId": "4c95ddf6-08cd-467e-bab4-8291ba1e8a5a"
      },
      "source": [
        "sns.set(style = \"darkgrid\")\n",
        "lm=sns.lmplot(data=df,y='GDP per Capita (PPP)',x='Urban Population (% of Total)',scatter_kws={\"color\": \"green\"}, line_kws={\"color\": \"red\"})\n",
        "plt.title('GDP per capita (PPP) and Urban Population')\n",
        "# Set x-axis label\n",
        "plt.xlabel('Urban Population (as % of Total Population)')\n",
        "# Set y-axis label\n",
        "plt.ylabel('GDP per Capita in $ (using PPP)')\n",
        "axes=lm.axes\n",
        "axes[0,0].set_ylim(-9000,80000)\n",
        "axes[0,0].set_xlim(0,100)\n",
        "lm.savefig(\"output3.png\")\n",
        "files.download(\"output3.png\")"
      ],
      "execution_count": 24,
      "outputs": [
        {
          "output_type": "display_data",
          "data": {
            "application/javascript": [
              "\n",
              "    async function download(id, filename, size) {\n",
              "      if (!google.colab.kernel.accessAllowed) {\n",
              "        return;\n",
              "      }\n",
              "      const div = document.createElement('div');\n",
              "      const label = document.createElement('label');\n",
              "      label.textContent = `Downloading \"${filename}\": `;\n",
              "      div.appendChild(label);\n",
              "      const progress = document.createElement('progress');\n",
              "      progress.max = size;\n",
              "      div.appendChild(progress);\n",
              "      document.body.appendChild(div);\n",
              "\n",
              "      const buffers = [];\n",
              "      let downloaded = 0;\n",
              "\n",
              "      const channel = await google.colab.kernel.comms.open(id);\n",
              "      // Send a message to notify the kernel that we're ready.\n",
              "      channel.send({})\n",
              "\n",
              "      for await (const message of channel.messages) {\n",
              "        // Send a message to notify the kernel that we're ready.\n",
              "        channel.send({})\n",
              "        if (message.buffers) {\n",
              "          for (const buffer of message.buffers) {\n",
              "            buffers.push(buffer);\n",
              "            downloaded += buffer.byteLength;\n",
              "            progress.value = downloaded;\n",
              "          }\n",
              "        }\n",
              "      }\n",
              "      const blob = new Blob(buffers, {type: 'application/binary'});\n",
              "      const a = document.createElement('a');\n",
              "      a.href = window.URL.createObjectURL(blob);\n",
              "      a.download = filename;\n",
              "      div.appendChild(a);\n",
              "      a.click();\n",
              "      div.remove();\n",
              "    }\n",
              "  "
            ],
            "text/plain": [
              "<IPython.core.display.Javascript object>"
            ]
          },
          "metadata": {
            "tags": []
          }
        },
        {
          "output_type": "display_data",
          "data": {
            "application/javascript": [
              "download(\"download_1c5071f8-1b07-4132-ac45-73441869fd0b\", \"output3.png\", 35836)"
            ],
            "text/plain": [
              "<IPython.core.display.Javascript object>"
            ]
          },
          "metadata": {
            "tags": []
          }
        },
        {
          "output_type": "display_data",
          "data": {
            "image/png": "[encoded data removed]",
            "text/plain": [
              "<Figure size 360x360 with 1 Axes>"
            ]
          },
          "metadata": {
            "tags": []
          }
        }
      ]
    },
    {
      "cell_type": "code",
      "metadata": {
        "colab": {
          "base_uri": "https://localhost:8080/",
          "height": 398
        },
        "id": "_UfViP_YCfkV",
        "outputId": "4c77500a-0f8d-4aec-ecb8-a1cd5528efd1"
      },
      "source": [
        "sns.set(style = \"darkgrid\")\n",
        "lm=sns.lmplot(data=df,y='GDP per Capita (PPP)',x='Population Growth Rate',scatter_kws={\"color\": \"green\"}, line_kws={\"color\": \"red\"})\n",
        "plt.title('GDP per capita and Population Growth Rate')\n",
        "# Set x-axis label\n",
        "plt.xlabel('Population Growth Rate')\n",
        "# Set y-axis label\n",
        "plt.ylabel('GDP per Capita in $ (using PPP)')\n",
        "axes=lm.axes\n",
        "axes[0,0].set_ylim(-9000,80000)\n",
        "#axes[0,0].set_xlim(0,100)\n",
        "lm.savefig(\"output4.png\")\n",
        "files.download(\"output4.png\")"
      ],
      "execution_count": 25,
      "outputs": [
        {
          "output_type": "display_data",
          "data": {
            "application/javascript": [
              "\n",
              "    async function download(id, filename, size) {\n",
              "      if (!google.colab.kernel.accessAllowed) {\n",
              "        return;\n",
              "      }\n",
              "      const div = document.createElement('div');\n",
              "      const label = document.createElement('label');\n",
              "      label.textContent = `Downloading \"${filename}\": `;\n",
              "      div.appendChild(label);\n",
              "      const progress = document.createElement('progress');\n",
              "      progress.max = size;\n",
              "      div.appendChild(progress);\n",
              "      document.body.appendChild(div);\n",
              "\n",
              "      const buffers = [];\n",
              "      let downloaded = 0;\n",
              "\n",
              "      const channel = await google.colab.kernel.comms.open(id);\n",
              "      // Send a message to notify the kernel that we're ready.\n",
              "      channel.send({})\n",
              "\n",
              "      for await (const message of channel.messages) {\n",
              "        // Send a message to notify the kernel that we're ready.\n",
              "        channel.send({})\n",
              "        if (message.buffers) {\n",
              "          for (const buffer of message.buffers) {\n",
              "            buffers.push(buffer);\n",
              "            downloaded += buffer.byteLength;\n",
              "            progress.value = downloaded;\n",
              "          }\n",
              "        }\n",
              "      }\n",
              "      const blob = new Blob(buffers, {type: 'application/binary'});\n",
              "      const a = document.createElement('a');\n",
              "      a.href = window.URL.createObjectURL(blob);\n",
              "      a.download = filename;\n",
              "      div.appendChild(a);\n",
              "      a.click();\n",
              "      div.remove();\n",
              "    }\n",
              "  "
            ],
            "text/plain": [
              "<IPython.core.display.Javascript object>"
            ]
          },
          "metadata": {
            "tags": []
          }
        },
        {
          "output_type": "display_data",
          "data": {
            "application/javascript": [
              "download(\"download_b6e4b66a-c415-4c82-9ecb-c904fb335f79\", \"output4.png\", 34485)"
            ],
            "text/plain": [
              "<IPython.core.display.Javascript object>"
            ]
          },
          "metadata": {
            "tags": []
          }
        },
        {
          "output_type": "display_data",
          "data": {
            "image/png": "[encoded data removed]",
            "text/plain": [
              "<Figure size 360x360 with 1 Axes>"
            ]
          },
          "metadata": {
            "tags": []
          }
        }
      ]
    },
    {
      "cell_type": "code",
      "metadata": {
        "colab": {
          "base_uri": "https://localhost:8080/"
        },
        "id": "95QwDLerEi7_",
        "outputId": "031d2fc4-e38a-4665-9292-7a347f016452"
      },
      "source": [
        "df.columns"
      ],
      "execution_count": 6,
      "outputs": [
        {
          "output_type": "execute_result",
          "data": {
            "text/plain": [
              "Index(['country', 'Population Dependence %', 'GDP per Capita (PPP)',\n",
              "       'Population Growth Rate', 'Urban Population (% of Total)',\n",
              "       'Life Expectancy', 'Elecricty Access', 'World Happiness Report Score',\n",
              "       'Ease of Business Score', 'Total Exports ($)',\n",
              "       'Foreign Direct Investment', 'Total Foreign Debt($)'],\n",
              "      dtype='object')"
            ]
          },
          "metadata": {
            "tags": []
          },
          "execution_count": 6
        }
      ]
    },
    {
      "cell_type": "code",
      "metadata": {
        "colab": {
          "base_uri": "https://localhost:8080/",
          "height": 391
        },
        "id": "krvqdzOPEgdv",
        "outputId": "0fed7c8c-73a7-4da9-d1ad-fa09eb141770"
      },
      "source": [
        "sns.set(style = \"darkgrid\")\n",
        "lm=sns.lmplot(data=df,y='Foreign Direct Investment',x='Total Foreign Debt($)',scatter_kws={\"color\": \"green\"}, line_kws={\"color\": \"red\"})\n",
        "plt.title('GDP per capita and Population Growth Rate')\n",
        "# Set x-axis label\n",
        "plt.xlabel('Total Foreign Debt($)')\n",
        "# Set y-axis label\n",
        "plt.ylabel('Foreign Direct Investment')\n",
        "axes=lm.axes\n",
        "axes[0,0].set_ylim(0,2000000000)\n",
        "axes[0,0].set_xlim(0,50000000000)"
      ],
      "execution_count": 15,
      "outputs": [
        {
          "output_type": "execute_result",
          "data": {
            "text/plain": [
              "(0.0, 50000000000.0)"
            ]
          },
          "metadata": {
            "tags": []
          },
          "execution_count": 15
        },
        {
          "output_type": "display_data",
          "data": {
            "image/png": "[encoded data removed]",
            "text/plain": [
              "<Figure size 360x360 with 1 Axes>"
            ]
          },
          "metadata": {
            "tags": []
          }
        }
      ]
    },
    {
      "cell_type": "code",
      "metadata": {
        "colab": {
          "base_uri": "https://localhost:8080/",
          "height": 382
        },
        "id": "POAyMf8FFvB-",
        "outputId": "563353bc-b4c0-4f1e-f9a4-c8152646c6bf"
      },
      "source": [
        "sns.displot(df['Total Foreign Debt($)'])"
      ],
      "execution_count": 17,
      "outputs": [
        {
          "output_type": "execute_result",
          "data": {
            "text/plain": [
              "<seaborn.axisgrid.FacetGrid at 0x7f61e7cb2310>"
            ]
          },
          "metadata": {
            "tags": []
          },
          "execution_count": 17
        },
        {
          "output_type": "display_data",
          "data": {
            "image/png": "[encoded data removed]",
            "text/plain": [
              "<Figure size 360x360 with 1 Axes>"
            ]
          },
          "metadata": {
            "tags": []
          }
        }
      ]
    },
    {
      "cell_type": "code",
      "metadata": {
        "colab": {
          "base_uri": "https://localhost:8080/"
        },
        "id": "eE0gY9DYHOTR",
        "outputId": "9423b5af-24cb-4902-a859-3885431118af"
      },
      "source": [
        "df.columns"
      ],
      "execution_count": null,
      "outputs": [
        {
          "output_type": "execute_result",
          "data": {
            "text/plain": [
              "Index(['country', 'Ease of Doing Business Ranking', 'GDP per Capita (PPP)',\n",
              "       'Population Growth Rate', 'Urban Population (% of Total)',\n",
              "       'Life Expectancy', 'Elecricty Access', 'World Happiness Report Score',\n",
              "       'Ease of Business Score', 'Total Exports ($)',\n",
              "       'Foreign Direct Investment', 'Total Foreign Debt($)'],\n",
              "      dtype='object')"
            ]
          },
          "metadata": {
            "tags": []
          },
          "execution_count": 27
        }
      ]
    },
    {
      "cell_type": "markdown",
      "metadata": {
        "id": "q9jk3R9DXQkm"
      },
      "source": [
        "Now lets start the machine learning part and use the Scikit learn Lasso regression model"
      ]
    },
    {
      "cell_type": "markdown",
      "metadata": {
        "id": "JzF5HEO-aEUz"
      },
      "source": [
        "Lets first fill the missing values with 0 since they are not many there"
      ]
    },
    {
      "cell_type": "code",
      "metadata": {
        "colab": {
          "base_uri": "https://localhost:8080/"
        },
        "id": "dxOyT6PxaDvD",
        "outputId": "8243367a-bc4e-435a-8df0-5e05a412ba32"
      },
      "source": [
        "df.isnull().sum()"
      ],
      "execution_count": null,
      "outputs": [
        {
          "output_type": "execute_result",
          "data": {
            "text/plain": [
              "Population Dependence %           4\n",
              "GDP per Capita (PPP)              0\n",
              "Population Growth Rate            0\n",
              "Urban Population (% of Total)     1\n",
              "Life Expectancy                   3\n",
              "Elecricty Access                  0\n",
              "World Happiness Report Score     37\n",
              "Ease of Business Score            0\n",
              "Total Exports ($)                28\n",
              "Foreign Direct Investment         2\n",
              "Total Foreign Debt($)            65\n",
              "dtype: int64"
            ]
          },
          "metadata": {
            "tags": []
          },
          "execution_count": 45
        }
      ]
    },
    {
      "cell_type": "code",
      "metadata": {
        "colab": {
          "base_uri": "https://localhost:8080/"
        },
        "id": "6-r81XKAaQGp",
        "outputId": "53406800-6354-4b98-c65a-0e295578b5ba"
      },
      "source": [
        "df.fillna(0,inplace=True)"
      ],
      "execution_count": null,
      "outputs": [
        {
          "output_type": "stream",
          "text": [
            "/usr/local/lib/python3.7/dist-packages/pandas/core/frame.py:4327: SettingWithCopyWarning: \n",
            "A value is trying to be set on a copy of a slice from a DataFrame\n",
            "\n",
            "See the caveats in the documentation: https://pandas.pydata.org/pandas-docs/stable/user_guide/indexing.html#returning-a-view-versus-a-copy\n",
            "  downcast=downcast,\n"
          ],
          "name": "stderr"
        }
      ]
    },
    {
      "cell_type": "code",
      "metadata": {
        "colab": {
          "base_uri": "https://localhost:8080/"
        },
        "id": "glKS-ZBQaXsK",
        "outputId": "c04a3f9e-81e0-480f-819b-e327958de3e7"
      },
      "source": [
        "df.isnull().sum()"
      ],
      "execution_count": null,
      "outputs": [
        {
          "output_type": "execute_result",
          "data": {
            "text/plain": [
              "Population Dependence %          0\n",
              "GDP per Capita (PPP)             0\n",
              "Population Growth Rate           0\n",
              "Urban Population (% of Total)    0\n",
              "Life Expectancy                  0\n",
              "Elecricty Access                 0\n",
              "World Happiness Report Score     0\n",
              "Ease of Business Score           0\n",
              "Total Exports ($)                0\n",
              "Foreign Direct Investment        0\n",
              "Total Foreign Debt($)            0\n",
              "dtype: int64"
            ]
          },
          "metadata": {
            "tags": []
          },
          "execution_count": 48
        }
      ]
    },
    {
      "cell_type": "code",
      "metadata": {
        "id": "mUTvBVsqXQAl"
      },
      "source": [
        "from sklearn.linear_model import Lasso"
      ],
      "execution_count": null,
      "outputs": []
    },
    {
      "cell_type": "code",
      "metadata": {
        "id": "zh1b-txHYJlK"
      },
      "source": [
        "from sklearn.model_selection import train_test_split"
      ],
      "execution_count": null,
      "outputs": []
    },
    {
      "cell_type": "markdown",
      "metadata": {
        "id": "ITKunkNOYik2"
      },
      "source": [
        "Let's separate the data into train and test parts"
      ]
    },
    {
      "cell_type": "markdown",
      "metadata": {
        "id": "VrgcQ5TIZLSt"
      },
      "source": [
        "I will remove Pakistan from the data since that is my beloved homeland and we will predict its value"
      ]
    },
    {
      "cell_type": "code",
      "metadata": {
        "id": "KaRnuW8nZK9v"
      },
      "source": [
        "dfp=df[df.index=='Pakistan']"
      ],
      "execution_count": null,
      "outputs": []
    },
    {
      "cell_type": "code",
      "metadata": {
        "colab": {
          "base_uri": "https://localhost:8080/",
          "height": 145
        },
        "id": "RCRb4WLBZaGI",
        "outputId": "c84ae5b8-7856-4889-e47f-91b4bc79ef12"
      },
      "source": [
        "dfp"
      ],
      "execution_count": null,
      "outputs": [
        {
          "output_type": "execute_result",
          "data": {
            "text/html": [
              "<div>\n",
              "<style scoped>\n",
              "    .dataframe tbody tr th:only-of-type {\n",
              "        vertical-align: middle;\n",
              "    }\n",
              "\n",
              "    .dataframe tbody tr th {\n",
              "        vertical-align: top;\n",
              "    }\n",
              "\n",
              "    .dataframe thead th {\n",
              "        text-align: right;\n",
              "    }\n",
              "</style>\n",
              "<table border=\"1\" class=\"dataframe\">\n",
              "  <thead>\n",
              "    <tr style=\"text-align: right;\">\n",
              "      <th></th>\n",
              "      <th>Population Dependence %</th>\n",
              "      <th>GDP per Capita (PPP)</th>\n",
              "      <th>Population Growth Rate</th>\n",
              "      <th>Urban Population (% of Total)</th>\n",
              "      <th>Life Expectancy</th>\n",
              "      <th>Elecricty Access</th>\n",
              "      <th>World Happiness Report Score</th>\n",
              "      <th>Ease of Business Score</th>\n",
              "      <th>Total Exports ($)</th>\n",
              "      <th>Foreign Direct Investment</th>\n",
              "      <th>Total Foreign Debt($)</th>\n",
              "    </tr>\n",
              "    <tr>\n",
              "      <th>country</th>\n",
              "      <th></th>\n",
              "      <th></th>\n",
              "      <th></th>\n",
              "      <th></th>\n",
              "      <th></th>\n",
              "      <th></th>\n",
              "      <th></th>\n",
              "      <th></th>\n",
              "      <th></th>\n",
              "      <th></th>\n",
              "      <th></th>\n",
              "    </tr>\n",
              "  </thead>\n",
              "  <tbody>\n",
              "    <tr>\n",
              "      <th>Pakistan</th>\n",
              "      <td>64.953312</td>\n",
              "      <td>4898.05057</td>\n",
              "      <td>2.029215</td>\n",
              "      <td>36.907</td>\n",
              "      <td>66.77</td>\n",
              "      <td>71.091547</td>\n",
              "      <td>5.6933</td>\n",
              "      <td>60.95491</td>\n",
              "      <td>2.815332e+10</td>\n",
              "      <td>2.218000e+09</td>\n",
              "      <td>7.223150e+10</td>\n",
              "    </tr>\n",
              "  </tbody>\n",
              "</table>\n",
              "</div>"
            ],
            "text/plain": [
              "          Population Dependence %  ...  Total Foreign Debt($)\n",
              "country                            ...                       \n",
              "Pakistan                64.953312  ...           7.223150e+10\n",
              "\n",
              "[1 rows x 11 columns]"
            ]
          },
          "metadata": {
            "tags": []
          },
          "execution_count": 12
        }
      ]
    },
    {
      "cell_type": "code",
      "metadata": {
        "id": "cf2UZ8IPZdVU"
      },
      "source": [
        "df=df[df.index!='Pakistan']"
      ],
      "execution_count": null,
      "outputs": []
    },
    {
      "cell_type": "code",
      "metadata": {
        "colab": {
          "base_uri": "https://localhost:8080/"
        },
        "id": "C8I9d30kZjFb",
        "outputId": "4c03ffaf-b760-4b37-e5bf-97437584e324"
      },
      "source": [
        "df.isnull().sum()"
      ],
      "execution_count": null,
      "outputs": [
        {
          "output_type": "execute_result",
          "data": {
            "text/plain": [
              "Population Dependence %          0\n",
              "GDP per Capita (PPP)             0\n",
              "Population Growth Rate           0\n",
              "Urban Population (% of Total)    0\n",
              "Life Expectancy                  0\n",
              "Elecricty Access                 0\n",
              "World Happiness Report Score     0\n",
              "Ease of Business Score           0\n",
              "Total Exports ($)                0\n",
              "Foreign Direct Investment        0\n",
              "Total Foreign Debt($)            0\n",
              "dtype: int64"
            ]
          },
          "metadata": {
            "tags": []
          },
          "execution_count": 20
        }
      ]
    },
    {
      "cell_type": "code",
      "metadata": {
        "colab": {
          "base_uri": "https://localhost:8080/"
        },
        "id": "x_kI671uFbpT",
        "outputId": "7b18596b-3e11-42e8-f988-eb6086e1ffef"
      },
      "source": [
        "df.fillna(0,inplace=True)"
      ],
      "execution_count": null,
      "outputs": [
        {
          "output_type": "stream",
          "text": [
            "/usr/local/lib/python3.7/dist-packages/pandas/core/frame.py:4327: SettingWithCopyWarning: \n",
            "A value is trying to be set on a copy of a slice from a DataFrame\n",
            "\n",
            "See the caveats in the documentation: https://pandas.pydata.org/pandas-docs/stable/user_guide/indexing.html#returning-a-view-versus-a-copy\n",
            "  downcast=downcast,\n"
          ],
          "name": "stderr"
        }
      ]
    },
    {
      "cell_type": "code",
      "metadata": {
        "id": "j2w7WF-ZFH7i"
      },
      "source": [
        "from sklearn.preprocessing import MinMaxScaler"
      ],
      "execution_count": null,
      "outputs": []
    },
    {
      "cell_type": "code",
      "metadata": {
        "id": "TSXGKo-5FNyl"
      },
      "source": [
        "myScaler=MinMaxScaler()"
      ],
      "execution_count": null,
      "outputs": []
    },
    {
      "cell_type": "markdown",
      "metadata": {
        "id": "WzDVF7HKIxKU"
      },
      "source": [
        "Its important to scale the data before doing Machine Learning"
      ]
    },
    {
      "cell_type": "code",
      "metadata": {
        "id": "P-JVjDUiYh58"
      },
      "source": [
        "X=df.drop('GDP per Capita (PPP)',axis=1)"
      ],
      "execution_count": null,
      "outputs": []
    },
    {
      "cell_type": "markdown",
      "metadata": {
        "id": "AlPRzgvJY13m"
      },
      "source": [
        "The input will be all the variables other than the target GDP variable"
      ]
    },
    {
      "cell_type": "code",
      "metadata": {
        "id": "FSP8BkArY1A6"
      },
      "source": [
        "y=df['GDP per Capita (PPP)']"
      ],
      "execution_count": null,
      "outputs": []
    },
    {
      "cell_type": "markdown",
      "metadata": {
        "id": "DNvKTkqZZ1Cj"
      },
      "source": [
        "The traget is the GDP per Capita as stored in y"
      ]
    },
    {
      "cell_type": "code",
      "metadata": {
        "id": "Lf1xG933YXwE"
      },
      "source": [
        "X_train, X_test, y_train, y_test = train_test_split(X, y, test_size=0.25)"
      ],
      "execution_count": null,
      "outputs": []
    },
    {
      "cell_type": "markdown",
      "metadata": {
        "id": "c7L32zkjajIj"
      },
      "source": [
        "We have seperated the data into a test part and the training part . Test part is 25% of data."
      ]
    },
    {
      "cell_type": "code",
      "metadata": {
        "colab": {
          "base_uri": "https://localhost:8080/",
          "height": 552
        },
        "id": "s0G8xwOXII5h",
        "outputId": "810dacee-8b32-40e3-ada5-25cc13675c6f"
      },
      "source": [
        "X_train"
      ],
      "execution_count": null,
      "outputs": [
        {
          "output_type": "execute_result",
          "data": {
            "text/html": [
              "<div>\n",
              "<style scoped>\n",
              "    .dataframe tbody tr th:only-of-type {\n",
              "        vertical-align: middle;\n",
              "    }\n",
              "\n",
              "    .dataframe tbody tr th {\n",
              "        vertical-align: top;\n",
              "    }\n",
              "\n",
              "    .dataframe thead th {\n",
              "        text-align: right;\n",
              "    }\n",
              "</style>\n",
              "<table border=\"1\" class=\"dataframe\">\n",
              "  <thead>\n",
              "    <tr style=\"text-align: right;\">\n",
              "      <th></th>\n",
              "      <th>Population Dependence %</th>\n",
              "      <th>Population Growth Rate</th>\n",
              "      <th>Urban Population (% of Total)</th>\n",
              "      <th>Life Expectancy</th>\n",
              "      <th>Elecricty Access</th>\n",
              "      <th>World Happiness Report Score</th>\n",
              "      <th>Ease of Business Score</th>\n",
              "      <th>Total Exports ($)</th>\n",
              "      <th>Foreign Direct Investment</th>\n",
              "      <th>Total Foreign Debt($)</th>\n",
              "    </tr>\n",
              "    <tr>\n",
              "      <th>country</th>\n",
              "      <th></th>\n",
              "      <th></th>\n",
              "      <th></th>\n",
              "      <th></th>\n",
              "      <th></th>\n",
              "      <th></th>\n",
              "      <th></th>\n",
              "      <th></th>\n",
              "      <th></th>\n",
              "      <th></th>\n",
              "    </tr>\n",
              "  </thead>\n",
              "  <tbody>\n",
              "    <tr>\n",
              "      <th>Trinidad and Tobago</th>\n",
              "      <td>45.728810</td>\n",
              "      <td>0.367348</td>\n",
              "      <td>53.187</td>\n",
              "      <td>73.100000</td>\n",
              "      <td>100.000000</td>\n",
              "      <td>6.1919</td>\n",
              "      <td>61.29128</td>\n",
              "      <td>0.000000e+00</td>\n",
              "      <td>1.839728e+08</td>\n",
              "      <td>0.000000e+00</td>\n",
              "    </tr>\n",
              "    <tr>\n",
              "      <th>El Salvador</th>\n",
              "      <td>54.626489</td>\n",
              "      <td>0.509683</td>\n",
              "      <td>72.746</td>\n",
              "      <td>72.644000</td>\n",
              "      <td>100.000000</td>\n",
              "      <td>6.3483</td>\n",
              "      <td>65.25247</td>\n",
              "      <td>7.982940e+09</td>\n",
              "      <td>7.247540e+08</td>\n",
              "      <td>1.258242e+10</td>\n",
              "    </tr>\n",
              "    <tr>\n",
              "      <th>Ethiopia</th>\n",
              "      <td>78.104323</td>\n",
              "      <td>2.579563</td>\n",
              "      <td>21.225</td>\n",
              "      <td>65.482000</td>\n",
              "      <td>44.979958</td>\n",
              "      <td>4.1862</td>\n",
              "      <td>47.97613</td>\n",
              "      <td>7.615437e+09</td>\n",
              "      <td>2.516228e+09</td>\n",
              "      <td>2.369784e+10</td>\n",
              "    </tr>\n",
              "    <tr>\n",
              "      <th>United States</th>\n",
              "      <td>53.277667</td>\n",
              "      <td>0.473954</td>\n",
              "      <td>82.459</td>\n",
              "      <td>78.539024</td>\n",
              "      <td>100.000000</td>\n",
              "      <td>6.9396</td>\n",
              "      <td>83.99668</td>\n",
              "      <td>2.514751e+12</td>\n",
              "      <td>3.516310e+11</td>\n",
              "      <td>0.000000e+00</td>\n",
              "    </tr>\n",
              "    <tr>\n",
              "      <th>Sweden</th>\n",
              "      <td>60.833920</td>\n",
              "      <td>1.077580</td>\n",
              "      <td>87.708</td>\n",
              "      <td>82.307317</td>\n",
              "      <td>100.000000</td>\n",
              "      <td>7.3535</td>\n",
              "      <td>81.99155</td>\n",
              "      <td>2.496177e+11</td>\n",
              "      <td>1.683630e+10</td>\n",
              "      <td>0.000000e+00</td>\n",
              "    </tr>\n",
              "    <tr>\n",
              "      <th>...</th>\n",
              "      <td>...</td>\n",
              "      <td>...</td>\n",
              "      <td>...</td>\n",
              "      <td>...</td>\n",
              "      <td>...</td>\n",
              "      <td>...</td>\n",
              "      <td>...</td>\n",
              "      <td>...</td>\n",
              "      <td>...</td>\n",
              "      <td>...</td>\n",
              "    </tr>\n",
              "    <tr>\n",
              "      <th>United Arab Emirates</th>\n",
              "      <td>18.862478</td>\n",
              "      <td>1.438780</td>\n",
              "      <td>86.789</td>\n",
              "      <td>77.470000</td>\n",
              "      <td>100.000000</td>\n",
              "      <td>6.7908</td>\n",
              "      <td>80.91489</td>\n",
              "      <td>3.893724e+11</td>\n",
              "      <td>1.378747e+10</td>\n",
              "      <td>0.000000e+00</td>\n",
              "    </tr>\n",
              "    <tr>\n",
              "      <th>Latvia</th>\n",
              "      <td>57.838977</td>\n",
              "      <td>-0.749229</td>\n",
              "      <td>68.222</td>\n",
              "      <td>74.580488</td>\n",
              "      <td>100.000000</td>\n",
              "      <td>5.9500</td>\n",
              "      <td>80.28054</td>\n",
              "      <td>2.050549e+10</td>\n",
              "      <td>1.059246e+09</td>\n",
              "      <td>0.000000e+00</td>\n",
              "    </tr>\n",
              "    <tr>\n",
              "      <th>Palau</th>\n",
              "      <td>0.000000</td>\n",
              "      <td>0.562441</td>\n",
              "      <td>80.470</td>\n",
              "      <td>0.000000</td>\n",
              "      <td>100.000000</td>\n",
              "      <td>0.0000</td>\n",
              "      <td>53.69982</td>\n",
              "      <td>0.000000e+00</td>\n",
              "      <td>2.200000e+07</td>\n",
              "      <td>0.000000e+00</td>\n",
              "    </tr>\n",
              "    <tr>\n",
              "      <th>Saudi Arabia</th>\n",
              "      <td>39.428921</td>\n",
              "      <td>1.673112</td>\n",
              "      <td>84.065</td>\n",
              "      <td>74.761000</td>\n",
              "      <td>100.000000</td>\n",
              "      <td>6.4065</td>\n",
              "      <td>71.55722</td>\n",
              "      <td>2.858599e+11</td>\n",
              "      <td>4.562574e+09</td>\n",
              "      <td>0.000000e+00</td>\n",
              "    </tr>\n",
              "    <tr>\n",
              "      <th>Cabo Verde</th>\n",
              "      <td>49.487605</td>\n",
              "      <td>1.127924</td>\n",
              "      <td>66.195</td>\n",
              "      <td>72.347000</td>\n",
              "      <td>93.585999</td>\n",
              "      <td>0.0000</td>\n",
              "      <td>55.03925</td>\n",
              "      <td>1.008054e+09</td>\n",
              "      <td>1.053019e+08</td>\n",
              "      <td>1.598158e+09</td>\n",
              "    </tr>\n",
              "  </tbody>\n",
              "</table>\n",
              "<p>133 rows × 10 columns</p>\n",
              "</div>"
            ],
            "text/plain": [
              "                      Population Dependence %  ...  Total Foreign Debt($)\n",
              "country                                        ...                       \n",
              "Trinidad and Tobago                 45.728810  ...           0.000000e+00\n",
              "El Salvador                         54.626489  ...           1.258242e+10\n",
              "Ethiopia                            78.104323  ...           2.369784e+10\n",
              "United States                       53.277667  ...           0.000000e+00\n",
              "Sweden                              60.833920  ...           0.000000e+00\n",
              "...                                       ...  ...                    ...\n",
              "United Arab Emirates                18.862478  ...           0.000000e+00\n",
              "Latvia                              57.838977  ...           0.000000e+00\n",
              "Palau                                0.000000  ...           0.000000e+00\n",
              "Saudi Arabia                        39.428921  ...           0.000000e+00\n",
              "Cabo Verde                          49.487605  ...           1.598158e+09\n",
              "\n",
              "[133 rows x 10 columns]"
            ]
          },
          "metadata": {
            "tags": []
          },
          "execution_count": 58
        }
      ]
    },
    {
      "cell_type": "code",
      "metadata": {
        "id": "2_i4_dByFsso"
      },
      "source": [
        "X_train=myScaler.fit_transform(X_train)"
      ],
      "execution_count": null,
      "outputs": []
    },
    {
      "cell_type": "markdown",
      "metadata": {
        "id": "4oGIQIJeF8Uh"
      },
      "source": [
        "Lets scale the data using our min max scaler\n"
      ]
    },
    {
      "cell_type": "code",
      "metadata": {
        "id": "nosFk7EaF35c"
      },
      "source": [
        "X_test=myScaler.transform(X_test)"
      ],
      "execution_count": null,
      "outputs": []
    },
    {
      "cell_type": "code",
      "metadata": {
        "colab": {
          "base_uri": "https://localhost:8080/"
        },
        "id": "SXDefjBLJP79",
        "outputId": "896a121c-d93e-4298-c283-4081cddeccc6"
      },
      "source": [
        "X_train"
      ],
      "execution_count": null,
      "outputs": [
        {
          "output_type": "execute_result",
          "data": {
            "text/plain": [
              "array([[4.14752060e-01, 2.13966442e-01, 5.31870000e-01, ...,\n",
              "        0.00000000e+00, 1.17553112e-01, 0.00000000e+00],\n",
              "       [4.95452409e-01, 2.41241809e-01, 7.27460000e-01, ...,\n",
              "        3.17444550e-03, 1.18910957e-01, 5.22292326e-02],\n",
              "       [7.08392134e-01, 6.37886927e-01, 2.12250000e-01, ...,\n",
              "        3.02830668e-03, 1.23409162e-01, 9.83689771e-02],\n",
              "       ...,\n",
              "       [0.00000000e+00, 2.51351532e-01, 8.04700000e-01, ...,\n",
              "        0.00000000e+00, 1.17146415e-01, 0.00000000e+00],\n",
              "       [3.57613210e-01, 4.64186228e-01, 8.40650000e-01, ...,\n",
              "        1.13673251e-01, 1.28547323e-01, 0.00000000e+00],\n",
              "       [4.48843654e-01, 3.59713543e-01, 6.61950000e-01, ...,\n",
              "        4.00856571e-04, 1.17355578e-01, 6.63390335e-03]])"
            ]
          },
          "metadata": {
            "tags": []
          },
          "execution_count": 62
        }
      ]
    },
    {
      "cell_type": "code",
      "metadata": {
        "id": "T60Wb-dViZLw"
      },
      "source": [
        "myLasso=Lasso(alpha=10)"
      ],
      "execution_count": null,
      "outputs": []
    },
    {
      "cell_type": "markdown",
      "metadata": {
        "id": "ATJIODFAbYu9"
      },
      "source": [
        "We are using the value of 1 for the hyper parameter alpha"
      ]
    },
    {
      "cell_type": "code",
      "metadata": {
        "colab": {
          "base_uri": "https://localhost:8080/"
        },
        "id": "PN5U_UN5bd1Y",
        "outputId": "d3e4a6a0-bc37-42ab-eadb-fbd20da1b78d"
      },
      "source": [
        "myLasso.fit(X_train,y_train)"
      ],
      "execution_count": null,
      "outputs": [
        {
          "output_type": "execute_result",
          "data": {
            "text/plain": [
              "Lasso(alpha=10, copy_X=True, fit_intercept=True, max_iter=1000, normalize=False,\n",
              "      positive=False, precompute=False, random_state=None, selection='cyclic',\n",
              "      tol=0.0001, warm_start=False)"
            ]
          },
          "metadata": {
            "tags": []
          },
          "execution_count": 72
        }
      ]
    },
    {
      "cell_type": "markdown",
      "metadata": {
        "id": "U1qoND3SbpmJ"
      },
      "source": [
        "The model has been trained on the data above\n",
        "Lets now predict the test values"
      ]
    },
    {
      "cell_type": "code",
      "metadata": {
        "id": "K-psdHewbwS6"
      },
      "source": [
        "predictions=myLasso.predict(X_test)"
      ],
      "execution_count": null,
      "outputs": []
    },
    {
      "cell_type": "markdown",
      "metadata": {
        "id": "QxCZHZgkb7rC"
      },
      "source": [
        "Lets now measure the root mean square error in our estimation"
      ]
    },
    {
      "cell_type": "markdown",
      "metadata": {
        "id": "OqvgD6CScMQc"
      },
      "source": [
        "Importing the error measures"
      ]
    },
    {
      "cell_type": "code",
      "metadata": {
        "id": "p6J9xjP2b7Fs"
      },
      "source": [
        "from sklearn.metrics import mean_squared_error,mean_absolute_error,r2_score"
      ],
      "execution_count": null,
      "outputs": []
    },
    {
      "cell_type": "code",
      "metadata": {
        "colab": {
          "base_uri": "https://localhost:8080/"
        },
        "id": "FlM6qkh5cQyt",
        "outputId": "7c11ce8a-d8fb-4ff0-e8e8-0974be4ce76d"
      },
      "source": [
        "print(f\"The root mean square error is {mean_squared_error(y_test,predictions)**0.5} for Lasso regression\")\n",
        "print(f\"The R squared value is {r2_score(y_test,predictions)}\")"
      ],
      "execution_count": null,
      "outputs": [
        {
          "output_type": "stream",
          "text": [
            "The root mean square error is 14520.809286841626 for Lasso regression\n",
            "The R squared value is 0.17333129804380887\n"
          ],
          "name": "stdout"
        }
      ]
    },
    {
      "cell_type": "code",
      "metadata": {
        "colab": {
          "base_uri": "https://localhost:8080/"
        },
        "id": "W7tOPcKJckN9",
        "outputId": "b1f322ac-7961-4766-e0db-5416c303e12a"
      },
      "source": [
        "myLasso.predict(dfp.drop('GDP per Capita (PPP)',axis=1))"
      ],
      "execution_count": null,
      "outputs": [
        {
          "output_type": "execute_result",
          "data": {
            "text/plain": [
              "array([-1.39006609e+14])"
            ]
          },
          "metadata": {
            "tags": []
          },
          "execution_count": 33
        }
      ]
    },
    {
      "cell_type": "code",
      "metadata": {
        "colab": {
          "base_uri": "https://localhost:8080/",
          "height": 306
        },
        "id": "vO7EFDKxHHqX",
        "outputId": "e5e69e74-ac6e-4400-a790-d78273652628"
      },
      "source": [
        "sns.scatterplot(x=predictTF,y=y_test)"
      ],
      "execution_count": null,
      "outputs": [
        {
          "output_type": "error",
          "ename": "Exception",
          "evalue": "ignored",
          "traceback": [
            "\u001b[0;31m---------------------------------------------------------------------------\u001b[0m",
            "\u001b[0;31mException\u001b[0m                                 Traceback (most recent call last)",
            "\u001b[0;32m<ipython-input-94-b40dc7fed3f8>\u001b[0m in \u001b[0;36m<module>\u001b[0;34m()\u001b[0m\n\u001b[0;32m----> 1\u001b[0;31m \u001b[0msns\u001b[0m\u001b[0;34m.\u001b[0m\u001b[0mscatterplot\u001b[0m\u001b[0;34m(\u001b[0m\u001b[0mx\u001b[0m\u001b[0;34m=\u001b[0m\u001b[0mpredictTF\u001b[0m\u001b[0;34m,\u001b[0m\u001b[0my\u001b[0m\u001b[0;34m=\u001b[0m\u001b[0my_test\u001b[0m\u001b[0;34m)\u001b[0m\u001b[0;34m\u001b[0m\u001b[0;34m\u001b[0m\u001b[0m\n\u001b[0m",
            "\u001b[0;32m/usr/local/lib/python3.7/dist-packages/seaborn/_decorators.py\u001b[0m in \u001b[0;36minner_f\u001b[0;34m(*args, **kwargs)\u001b[0m\n\u001b[1;32m     44\u001b[0m             )\n\u001b[1;32m     45\u001b[0m         \u001b[0mkwargs\u001b[0m\u001b[0;34m.\u001b[0m\u001b[0mupdate\u001b[0m\u001b[0;34m(\u001b[0m\u001b[0;34m{\u001b[0m\u001b[0mk\u001b[0m\u001b[0;34m:\u001b[0m \u001b[0marg\u001b[0m \u001b[0;32mfor\u001b[0m \u001b[0mk\u001b[0m\u001b[0;34m,\u001b[0m \u001b[0marg\u001b[0m \u001b[0;32min\u001b[0m \u001b[0mzip\u001b[0m\u001b[0;34m(\u001b[0m\u001b[0msig\u001b[0m\u001b[0;34m.\u001b[0m\u001b[0mparameters\u001b[0m\u001b[0;34m,\u001b[0m \u001b[0margs\u001b[0m\u001b[0;34m)\u001b[0m\u001b[0;34m}\u001b[0m\u001b[0;34m)\u001b[0m\u001b[0;34m\u001b[0m\u001b[0;34m\u001b[0m\u001b[0m\n\u001b[0;32m---> 46\u001b[0;31m         \u001b[0;32mreturn\u001b[0m \u001b[0mf\u001b[0m\u001b[0;34m(\u001b[0m\u001b[0;34m**\u001b[0m\u001b[0mkwargs\u001b[0m\u001b[0;34m)\u001b[0m\u001b[0;34m\u001b[0m\u001b[0;34m\u001b[0m\u001b[0m\n\u001b[0m\u001b[1;32m     47\u001b[0m     \u001b[0;32mreturn\u001b[0m \u001b[0minner_f\u001b[0m\u001b[0;34m\u001b[0m\u001b[0;34m\u001b[0m\u001b[0m\n\u001b[1;32m     48\u001b[0m \u001b[0;34m\u001b[0m\u001b[0m\n",
            "\u001b[0;32m/usr/local/lib/python3.7/dist-packages/seaborn/relational.py\u001b[0m in \u001b[0;36mscatterplot\u001b[0;34m(x, y, hue, style, size, data, palette, hue_order, hue_norm, sizes, size_order, size_norm, markers, style_order, x_bins, y_bins, units, estimator, ci, n_boot, alpha, x_jitter, y_jitter, legend, ax, **kwargs)\u001b[0m\n\u001b[1;32m    803\u001b[0m         \u001b[0mx_bins\u001b[0m\u001b[0;34m=\u001b[0m\u001b[0mx_bins\u001b[0m\u001b[0;34m,\u001b[0m \u001b[0my_bins\u001b[0m\u001b[0;34m=\u001b[0m\u001b[0my_bins\u001b[0m\u001b[0;34m,\u001b[0m\u001b[0;34m\u001b[0m\u001b[0;34m\u001b[0m\u001b[0m\n\u001b[1;32m    804\u001b[0m         \u001b[0mestimator\u001b[0m\u001b[0;34m=\u001b[0m\u001b[0mestimator\u001b[0m\u001b[0;34m,\u001b[0m \u001b[0mci\u001b[0m\u001b[0;34m=\u001b[0m\u001b[0mci\u001b[0m\u001b[0;34m,\u001b[0m \u001b[0mn_boot\u001b[0m\u001b[0;34m=\u001b[0m\u001b[0mn_boot\u001b[0m\u001b[0;34m,\u001b[0m\u001b[0;34m\u001b[0m\u001b[0;34m\u001b[0m\u001b[0m\n\u001b[0;32m--> 805\u001b[0;31m         \u001b[0malpha\u001b[0m\u001b[0;34m=\u001b[0m\u001b[0malpha\u001b[0m\u001b[0;34m,\u001b[0m \u001b[0mx_jitter\u001b[0m\u001b[0;34m=\u001b[0m\u001b[0mx_jitter\u001b[0m\u001b[0;34m,\u001b[0m \u001b[0my_jitter\u001b[0m\u001b[0;34m=\u001b[0m\u001b[0my_jitter\u001b[0m\u001b[0;34m,\u001b[0m \u001b[0mlegend\u001b[0m\u001b[0;34m=\u001b[0m\u001b[0mlegend\u001b[0m\u001b[0;34m,\u001b[0m\u001b[0;34m\u001b[0m\u001b[0;34m\u001b[0m\u001b[0m\n\u001b[0m\u001b[1;32m    806\u001b[0m     )\n\u001b[1;32m    807\u001b[0m \u001b[0;34m\u001b[0m\u001b[0m\n",
            "\u001b[0;32m/usr/local/lib/python3.7/dist-packages/seaborn/relational.py\u001b[0m in \u001b[0;36m__init__\u001b[0;34m(self, data, variables, x_bins, y_bins, estimator, ci, n_boot, alpha, x_jitter, y_jitter, legend)\u001b[0m\n\u001b[1;32m    585\u001b[0m         )\n\u001b[1;32m    586\u001b[0m \u001b[0;34m\u001b[0m\u001b[0m\n\u001b[0;32m--> 587\u001b[0;31m         \u001b[0msuper\u001b[0m\u001b[0;34m(\u001b[0m\u001b[0;34m)\u001b[0m\u001b[0;34m.\u001b[0m\u001b[0m__init__\u001b[0m\u001b[0;34m(\u001b[0m\u001b[0mdata\u001b[0m\u001b[0;34m=\u001b[0m\u001b[0mdata\u001b[0m\u001b[0;34m,\u001b[0m \u001b[0mvariables\u001b[0m\u001b[0;34m=\u001b[0m\u001b[0mvariables\u001b[0m\u001b[0;34m)\u001b[0m\u001b[0;34m\u001b[0m\u001b[0;34m\u001b[0m\u001b[0m\n\u001b[0m\u001b[1;32m    588\u001b[0m \u001b[0;34m\u001b[0m\u001b[0m\n\u001b[1;32m    589\u001b[0m         \u001b[0mself\u001b[0m\u001b[0;34m.\u001b[0m\u001b[0malpha\u001b[0m \u001b[0;34m=\u001b[0m \u001b[0malpha\u001b[0m\u001b[0;34m\u001b[0m\u001b[0;34m\u001b[0m\u001b[0m\n",
            "\u001b[0;32m/usr/local/lib/python3.7/dist-packages/seaborn/_core.py\u001b[0m in \u001b[0;36m__init__\u001b[0;34m(self, data, variables)\u001b[0m\n\u001b[1;32m    602\u001b[0m     \u001b[0;32mdef\u001b[0m \u001b[0m__init__\u001b[0m\u001b[0;34m(\u001b[0m\u001b[0mself\u001b[0m\u001b[0;34m,\u001b[0m \u001b[0mdata\u001b[0m\u001b[0;34m=\u001b[0m\u001b[0;32mNone\u001b[0m\u001b[0;34m,\u001b[0m \u001b[0mvariables\u001b[0m\u001b[0;34m=\u001b[0m\u001b[0;34m{\u001b[0m\u001b[0;34m}\u001b[0m\u001b[0;34m)\u001b[0m\u001b[0;34m:\u001b[0m\u001b[0;34m\u001b[0m\u001b[0;34m\u001b[0m\u001b[0m\n\u001b[1;32m    603\u001b[0m \u001b[0;34m\u001b[0m\u001b[0m\n\u001b[0;32m--> 604\u001b[0;31m         \u001b[0mself\u001b[0m\u001b[0;34m.\u001b[0m\u001b[0massign_variables\u001b[0m\u001b[0;34m(\u001b[0m\u001b[0mdata\u001b[0m\u001b[0;34m,\u001b[0m \u001b[0mvariables\u001b[0m\u001b[0;34m)\u001b[0m\u001b[0;34m\u001b[0m\u001b[0;34m\u001b[0m\u001b[0m\n\u001b[0m\u001b[1;32m    605\u001b[0m \u001b[0;34m\u001b[0m\u001b[0m\n\u001b[1;32m    606\u001b[0m         \u001b[0;32mfor\u001b[0m \u001b[0mvar\u001b[0m\u001b[0;34m,\u001b[0m \u001b[0mcls\u001b[0m \u001b[0;32min\u001b[0m \u001b[0mself\u001b[0m\u001b[0;34m.\u001b[0m\u001b[0m_semantic_mappings\u001b[0m\u001b[0;34m.\u001b[0m\u001b[0mitems\u001b[0m\u001b[0;34m(\u001b[0m\u001b[0;34m)\u001b[0m\u001b[0;34m:\u001b[0m\u001b[0;34m\u001b[0m\u001b[0;34m\u001b[0m\u001b[0m\n",
            "\u001b[0;32m/usr/local/lib/python3.7/dist-packages/seaborn/_core.py\u001b[0m in \u001b[0;36massign_variables\u001b[0;34m(self, data, variables)\u001b[0m\n\u001b[1;32m    666\u001b[0m             \u001b[0mself\u001b[0m\u001b[0;34m.\u001b[0m\u001b[0minput_format\u001b[0m \u001b[0;34m=\u001b[0m \u001b[0;34m\"long\"\u001b[0m\u001b[0;34m\u001b[0m\u001b[0;34m\u001b[0m\u001b[0m\n\u001b[1;32m    667\u001b[0m             plot_data, variables = self._assign_variables_longform(\n\u001b[0;32m--> 668\u001b[0;31m                 \u001b[0mdata\u001b[0m\u001b[0;34m,\u001b[0m \u001b[0;34m**\u001b[0m\u001b[0mvariables\u001b[0m\u001b[0;34m,\u001b[0m\u001b[0;34m\u001b[0m\u001b[0;34m\u001b[0m\u001b[0m\n\u001b[0m\u001b[1;32m    669\u001b[0m             )\n\u001b[1;32m    670\u001b[0m \u001b[0;34m\u001b[0m\u001b[0m\n",
            "\u001b[0;32m/usr/local/lib/python3.7/dist-packages/seaborn/_core.py\u001b[0m in \u001b[0;36m_assign_variables_longform\u001b[0;34m(self, data, **kwargs)\u001b[0m\n\u001b[1;32m    924\u001b[0m         \u001b[0;31m# Construct a tidy plot DataFrame. This will convert a number of\u001b[0m\u001b[0;34m\u001b[0m\u001b[0;34m\u001b[0m\u001b[0;34m\u001b[0m\u001b[0m\n\u001b[1;32m    925\u001b[0m         \u001b[0;31m# types automatically, aligning on index in case of pandas objects\u001b[0m\u001b[0;34m\u001b[0m\u001b[0;34m\u001b[0m\u001b[0;34m\u001b[0m\u001b[0m\n\u001b[0;32m--> 926\u001b[0;31m         \u001b[0mplot_data\u001b[0m \u001b[0;34m=\u001b[0m \u001b[0mpd\u001b[0m\u001b[0;34m.\u001b[0m\u001b[0mDataFrame\u001b[0m\u001b[0;34m(\u001b[0m\u001b[0mplot_data\u001b[0m\u001b[0;34m)\u001b[0m\u001b[0;34m\u001b[0m\u001b[0;34m\u001b[0m\u001b[0m\n\u001b[0m\u001b[1;32m    927\u001b[0m \u001b[0;34m\u001b[0m\u001b[0m\n\u001b[1;32m    928\u001b[0m         \u001b[0;31m# Reduce the variables dictionary to fields with valid data\u001b[0m\u001b[0;34m\u001b[0m\u001b[0;34m\u001b[0m\u001b[0;34m\u001b[0m\u001b[0m\n",
            "\u001b[0;32m/usr/local/lib/python3.7/dist-packages/pandas/core/frame.py\u001b[0m in \u001b[0;36m__init__\u001b[0;34m(self, data, index, columns, dtype, copy)\u001b[0m\n\u001b[1;32m    466\u001b[0m \u001b[0;34m\u001b[0m\u001b[0m\n\u001b[1;32m    467\u001b[0m         \u001b[0;32melif\u001b[0m \u001b[0misinstance\u001b[0m\u001b[0;34m(\u001b[0m\u001b[0mdata\u001b[0m\u001b[0;34m,\u001b[0m \u001b[0mdict\u001b[0m\u001b[0;34m)\u001b[0m\u001b[0;34m:\u001b[0m\u001b[0;34m\u001b[0m\u001b[0;34m\u001b[0m\u001b[0m\n\u001b[0;32m--> 468\u001b[0;31m             \u001b[0mmgr\u001b[0m \u001b[0;34m=\u001b[0m \u001b[0minit_dict\u001b[0m\u001b[0;34m(\u001b[0m\u001b[0mdata\u001b[0m\u001b[0;34m,\u001b[0m \u001b[0mindex\u001b[0m\u001b[0;34m,\u001b[0m \u001b[0mcolumns\u001b[0m\u001b[0;34m,\u001b[0m \u001b[0mdtype\u001b[0m\u001b[0;34m=\u001b[0m\u001b[0mdtype\u001b[0m\u001b[0;34m)\u001b[0m\u001b[0;34m\u001b[0m\u001b[0;34m\u001b[0m\u001b[0m\n\u001b[0m\u001b[1;32m    469\u001b[0m         \u001b[0;32melif\u001b[0m \u001b[0misinstance\u001b[0m\u001b[0;34m(\u001b[0m\u001b[0mdata\u001b[0m\u001b[0;34m,\u001b[0m \u001b[0mma\u001b[0m\u001b[0;34m.\u001b[0m\u001b[0mMaskedArray\u001b[0m\u001b[0;34m)\u001b[0m\u001b[0;34m:\u001b[0m\u001b[0;34m\u001b[0m\u001b[0;34m\u001b[0m\u001b[0m\n\u001b[1;32m    470\u001b[0m             \u001b[0;32mimport\u001b[0m \u001b[0mnumpy\u001b[0m\u001b[0;34m.\u001b[0m\u001b[0mma\u001b[0m\u001b[0;34m.\u001b[0m\u001b[0mmrecords\u001b[0m \u001b[0;32mas\u001b[0m \u001b[0mmrecords\u001b[0m\u001b[0;34m\u001b[0m\u001b[0;34m\u001b[0m\u001b[0m\n",
            "\u001b[0;32m/usr/local/lib/python3.7/dist-packages/pandas/core/internals/construction.py\u001b[0m in \u001b[0;36minit_dict\u001b[0;34m(data, index, columns, dtype)\u001b[0m\n\u001b[1;32m    281\u001b[0m             \u001b[0marr\u001b[0m \u001b[0;32mif\u001b[0m \u001b[0;32mnot\u001b[0m \u001b[0mis_datetime64tz_dtype\u001b[0m\u001b[0;34m(\u001b[0m\u001b[0marr\u001b[0m\u001b[0;34m)\u001b[0m \u001b[0;32melse\u001b[0m \u001b[0marr\u001b[0m\u001b[0;34m.\u001b[0m\u001b[0mcopy\u001b[0m\u001b[0;34m(\u001b[0m\u001b[0;34m)\u001b[0m \u001b[0;32mfor\u001b[0m \u001b[0marr\u001b[0m \u001b[0;32min\u001b[0m \u001b[0marrays\u001b[0m\u001b[0;34m\u001b[0m\u001b[0;34m\u001b[0m\u001b[0m\n\u001b[1;32m    282\u001b[0m         ]\n\u001b[0;32m--> 283\u001b[0;31m     \u001b[0;32mreturn\u001b[0m \u001b[0marrays_to_mgr\u001b[0m\u001b[0;34m(\u001b[0m\u001b[0marrays\u001b[0m\u001b[0;34m,\u001b[0m \u001b[0mdata_names\u001b[0m\u001b[0;34m,\u001b[0m \u001b[0mindex\u001b[0m\u001b[0;34m,\u001b[0m \u001b[0mcolumns\u001b[0m\u001b[0;34m,\u001b[0m \u001b[0mdtype\u001b[0m\u001b[0;34m=\u001b[0m\u001b[0mdtype\u001b[0m\u001b[0;34m)\u001b[0m\u001b[0;34m\u001b[0m\u001b[0;34m\u001b[0m\u001b[0m\n\u001b[0m\u001b[1;32m    284\u001b[0m \u001b[0;34m\u001b[0m\u001b[0m\n\u001b[1;32m    285\u001b[0m \u001b[0;34m\u001b[0m\u001b[0m\n",
            "\u001b[0;32m/usr/local/lib/python3.7/dist-packages/pandas/core/internals/construction.py\u001b[0m in \u001b[0;36marrays_to_mgr\u001b[0;34m(arrays, arr_names, index, columns, dtype, verify_integrity)\u001b[0m\n\u001b[1;32m     81\u001b[0m \u001b[0;34m\u001b[0m\u001b[0m\n\u001b[1;32m     82\u001b[0m         \u001b[0;31m# don't force copy because getting jammed in an ndarray anyway\u001b[0m\u001b[0;34m\u001b[0m\u001b[0;34m\u001b[0m\u001b[0;34m\u001b[0m\u001b[0m\n\u001b[0;32m---> 83\u001b[0;31m         \u001b[0marrays\u001b[0m \u001b[0;34m=\u001b[0m \u001b[0m_homogenize\u001b[0m\u001b[0;34m(\u001b[0m\u001b[0marrays\u001b[0m\u001b[0;34m,\u001b[0m \u001b[0mindex\u001b[0m\u001b[0;34m,\u001b[0m \u001b[0mdtype\u001b[0m\u001b[0;34m)\u001b[0m\u001b[0;34m\u001b[0m\u001b[0;34m\u001b[0m\u001b[0m\n\u001b[0m\u001b[1;32m     84\u001b[0m \u001b[0;34m\u001b[0m\u001b[0m\n\u001b[1;32m     85\u001b[0m         \u001b[0mcolumns\u001b[0m \u001b[0;34m=\u001b[0m \u001b[0mensure_index\u001b[0m\u001b[0;34m(\u001b[0m\u001b[0mcolumns\u001b[0m\u001b[0;34m)\u001b[0m\u001b[0;34m\u001b[0m\u001b[0;34m\u001b[0m\u001b[0m\n",
            "\u001b[0;32m/usr/local/lib/python3.7/dist-packages/pandas/core/internals/construction.py\u001b[0m in \u001b[0;36m_homogenize\u001b[0;34m(data, index, dtype)\u001b[0m\n\u001b[1;32m    350\u001b[0m                 \u001b[0mval\u001b[0m \u001b[0;34m=\u001b[0m \u001b[0mlib\u001b[0m\u001b[0;34m.\u001b[0m\u001b[0mfast_multiget\u001b[0m\u001b[0;34m(\u001b[0m\u001b[0mval\u001b[0m\u001b[0;34m,\u001b[0m \u001b[0moindex\u001b[0m\u001b[0;34m.\u001b[0m\u001b[0m_values\u001b[0m\u001b[0;34m,\u001b[0m \u001b[0mdefault\u001b[0m\u001b[0;34m=\u001b[0m\u001b[0mnp\u001b[0m\u001b[0;34m.\u001b[0m\u001b[0mnan\u001b[0m\u001b[0;34m)\u001b[0m\u001b[0;34m\u001b[0m\u001b[0;34m\u001b[0m\u001b[0m\n\u001b[1;32m    351\u001b[0m             val = sanitize_array(\n\u001b[0;32m--> 352\u001b[0;31m                 \u001b[0mval\u001b[0m\u001b[0;34m,\u001b[0m \u001b[0mindex\u001b[0m\u001b[0;34m,\u001b[0m \u001b[0mdtype\u001b[0m\u001b[0;34m=\u001b[0m\u001b[0mdtype\u001b[0m\u001b[0;34m,\u001b[0m \u001b[0mcopy\u001b[0m\u001b[0;34m=\u001b[0m\u001b[0;32mFalse\u001b[0m\u001b[0;34m,\u001b[0m \u001b[0mraise_cast_failure\u001b[0m\u001b[0;34m=\u001b[0m\u001b[0;32mFalse\u001b[0m\u001b[0;34m\u001b[0m\u001b[0;34m\u001b[0m\u001b[0m\n\u001b[0m\u001b[1;32m    353\u001b[0m             )\n\u001b[1;32m    354\u001b[0m \u001b[0;34m\u001b[0m\u001b[0m\n",
            "\u001b[0;32m/usr/local/lib/python3.7/dist-packages/pandas/core/construction.py\u001b[0m in \u001b[0;36msanitize_array\u001b[0;34m(data, index, dtype, copy, raise_cast_failure)\u001b[0m\n\u001b[1;32m    494\u001b[0m     \u001b[0;32melif\u001b[0m \u001b[0msubarr\u001b[0m\u001b[0;34m.\u001b[0m\u001b[0mndim\u001b[0m \u001b[0;34m>\u001b[0m \u001b[0;36m1\u001b[0m\u001b[0;34m:\u001b[0m\u001b[0;34m\u001b[0m\u001b[0;34m\u001b[0m\u001b[0m\n\u001b[1;32m    495\u001b[0m         \u001b[0;32mif\u001b[0m \u001b[0misinstance\u001b[0m\u001b[0;34m(\u001b[0m\u001b[0mdata\u001b[0m\u001b[0;34m,\u001b[0m \u001b[0mnp\u001b[0m\u001b[0;34m.\u001b[0m\u001b[0mndarray\u001b[0m\u001b[0;34m)\u001b[0m\u001b[0;34m:\u001b[0m\u001b[0;34m\u001b[0m\u001b[0;34m\u001b[0m\u001b[0m\n\u001b[0;32m--> 496\u001b[0;31m             \u001b[0;32mraise\u001b[0m \u001b[0mException\u001b[0m\u001b[0;34m(\u001b[0m\u001b[0;34m\"Data must be 1-dimensional\"\u001b[0m\u001b[0;34m)\u001b[0m\u001b[0;34m\u001b[0m\u001b[0;34m\u001b[0m\u001b[0m\n\u001b[0m\u001b[1;32m    497\u001b[0m         \u001b[0;32melse\u001b[0m\u001b[0;34m:\u001b[0m\u001b[0;34m\u001b[0m\u001b[0;34m\u001b[0m\u001b[0m\n\u001b[1;32m    498\u001b[0m             \u001b[0msubarr\u001b[0m \u001b[0;34m=\u001b[0m \u001b[0mcom\u001b[0m\u001b[0;34m.\u001b[0m\u001b[0masarray_tuplesafe\u001b[0m\u001b[0;34m(\u001b[0m\u001b[0mdata\u001b[0m\u001b[0;34m,\u001b[0m \u001b[0mdtype\u001b[0m\u001b[0;34m=\u001b[0m\u001b[0mdtype\u001b[0m\u001b[0;34m)\u001b[0m\u001b[0;34m\u001b[0m\u001b[0;34m\u001b[0m\u001b[0m\n",
            "\u001b[0;31mException\u001b[0m: Data must be 1-dimensional"
          ]
        }
      ]
    },
    {
      "cell_type": "code",
      "metadata": {
        "colab": {
          "base_uri": "https://localhost:8080/"
        },
        "id": "kYJ7E6D8embz",
        "outputId": "11e331f6-a347-4447-d72c-c8e4cb35ba6f"
      },
      "source": [
        "myLasso.coef_"
      ],
      "execution_count": null,
      "outputs": [
        {
          "output_type": "execute_result",
          "data": {
            "text/plain": [
              "array([-43824.81097278,  16960.58272115,  41142.74043767,  41746.01932252,\n",
              "       -14973.40667157,  -2663.50104631,  31991.42893281,  59281.35333097,\n",
              "       -37610.65397725, -22635.12701452])"
            ]
          },
          "metadata": {
            "tags": []
          },
          "execution_count": 75
        }
      ]
    },
    {
      "cell_type": "code",
      "metadata": {
        "colab": {
          "base_uri": "https://localhost:8080/"
        },
        "id": "bULVyCMcG3Mu",
        "outputId": "20a310fa-8b15-47f1-976c-2671f3cd2dc2"
      },
      "source": [
        "X.columns"
      ],
      "execution_count": null,
      "outputs": [
        {
          "output_type": "execute_result",
          "data": {
            "text/plain": [
              "Index(['Population Dependence %', 'Population Growth Rate',\n",
              "       'Urban Population (% of Total)', 'Life Expectancy', 'Elecricty Access',\n",
              "       'World Happiness Report Score', 'Ease of Business Score',\n",
              "       'Total Exports ($)', 'Foreign Direct Investment',\n",
              "       'Total Foreign Debt($)'],\n",
              "      dtype='object')"
            ]
          },
          "metadata": {
            "tags": []
          },
          "execution_count": 36
        }
      ]
    },
    {
      "cell_type": "markdown",
      "metadata": {
        "id": "V2B6tFPRMT2Y"
      },
      "source": [
        "Now lets try some Deep Learning"
      ]
    },
    {
      "cell_type": "code",
      "metadata": {
        "id": "rqgUK_NtMI4d"
      },
      "source": [
        "from tensorflow.keras.models import Sequential"
      ],
      "execution_count": null,
      "outputs": []
    },
    {
      "cell_type": "code",
      "metadata": {
        "id": "nSyK_i_CMNkX"
      },
      "source": [
        "from tensorflow.keras.layers import Dense"
      ],
      "execution_count": null,
      "outputs": []
    },
    {
      "cell_type": "code",
      "metadata": {
        "id": "TrNHECFPMTFr"
      },
      "source": [
        "modelTF=Sequential()"
      ],
      "execution_count": null,
      "outputs": []
    },
    {
      "cell_type": "code",
      "metadata": {
        "id": "vU2ZTGniMb2c"
      },
      "source": [
        "modelTF.add(Dense(11,activation='relu'))\n",
        "modelTF.add(Dense(4,activation='relu'))\n",
        "modelTF.add(Dense(2,activation='relu'))\n",
        "modelTF.add(Dense(1,activation='relu'))"
      ],
      "execution_count": null,
      "outputs": []
    },
    {
      "cell_type": "code",
      "metadata": {
        "id": "7o9DOY6NNGXk"
      },
      "source": [
        "modelTF.compile(optimizer='rmsprop',loss='mse') "
      ],
      "execution_count": null,
      "outputs": []
    },
    {
      "cell_type": "code",
      "metadata": {
        "colab": {
          "base_uri": "https://localhost:8080/"
        },
        "id": "1vQZbwJgNWZJ",
        "outputId": "4c943b7f-3414-4d3c-de94-324a80581b60"
      },
      "source": [
        "modelTF.fit(x=X_train,y=y_train,\n",
        "             validation_data=(X_test,y_test), ##### this will allow for the output of error after every epoch\n",
        "             batch_size=20,epochs=400) ##### batch_size is much smaller than the complete input set to allow for quicker model optimization"
      ],
      "execution_count": null,
      "outputs": [
        {
          "output_type": "stream",
          "text": [
            "Epoch 1/400\n",
            "7/7 [==============================] - 0s 44ms/step - loss: 1097740160.0000 - val_loss: 607612800.0000\n",
            "Epoch 2/400\n",
            "7/7 [==============================] - 0s 10ms/step - loss: 1097738112.0000 - val_loss: 607610944.0000\n",
            "Epoch 3/400\n",
            "7/7 [==============================] - 0s 10ms/step - loss: 1097735680.0000 - val_loss: 607608896.0000\n",
            "Epoch 4/400\n",
            "7/7 [==============================] - 0s 9ms/step - loss: 1097732992.0000 - val_loss: 607606528.0000\n",
            "Epoch 5/400\n",
            "7/7 [==============================] - 0s 9ms/step - loss: 1097729920.0000 - val_loss: 607604032.0000\n",
            "Epoch 6/400\n",
            "7/7 [==============================] - 0s 10ms/step - loss: 1097726592.0000 - val_loss: 607601024.0000\n",
            "Epoch 7/400\n",
            "7/7 [==============================] - 0s 9ms/step - loss: 1097722496.0000 - val_loss: 607597376.0000\n",
            "Epoch 8/400\n",
            "7/7 [==============================] - 0s 10ms/step - loss: 1097717760.0000 - val_loss: 607593472.0000\n",
            "Epoch 9/400\n",
            "7/7 [==============================] - 0s 10ms/step - loss: 1097712896.0000 - val_loss: 607589056.0000\n",
            "Epoch 10/400\n",
            "7/7 [==============================] - 0s 11ms/step - loss: 1097706880.0000 - val_loss: 607584320.0000\n",
            "Epoch 11/400\n",
            "7/7 [==============================] - 0s 10ms/step - loss: 1097700608.0000 - val_loss: 607578880.0000\n",
            "Epoch 12/400\n",
            "7/7 [==============================] - 0s 9ms/step - loss: 1097693440.0000 - val_loss: 607572608.0000\n",
            "Epoch 13/400\n",
            "7/7 [==============================] - 0s 9ms/step - loss: 1097685504.0000 - val_loss: 607565888.0000\n",
            "Epoch 14/400\n",
            "7/7 [==============================] - 0s 10ms/step - loss: 1097676416.0000 - val_loss: 607558208.0000\n",
            "Epoch 15/400\n",
            "7/7 [==============================] - 0s 10ms/step - loss: 1097666560.0000 - val_loss: 607550272.0000\n",
            "Epoch 16/400\n",
            "7/7 [==============================] - 0s 10ms/step - loss: 1097656064.0000 - val_loss: 607541184.0000\n",
            "Epoch 17/400\n",
            "7/7 [==============================] - 0s 9ms/step - loss: 1097644032.0000 - val_loss: 607530944.0000\n",
            "Epoch 18/400\n",
            "7/7 [==============================] - 0s 11ms/step - loss: 1097630592.0000 - val_loss: 607519744.0000\n",
            "Epoch 19/400\n",
            "7/7 [==============================] - 0s 9ms/step - loss: 1097616256.0000 - val_loss: 607507904.0000\n",
            "Epoch 20/400\n",
            "7/7 [==============================] - 0s 9ms/step - loss: 1097600896.0000 - val_loss: 607494912.0000\n",
            "Epoch 21/400\n",
            "7/7 [==============================] - 0s 9ms/step - loss: 1097584128.0000 - val_loss: 607481280.0000\n",
            "Epoch 22/400\n",
            "7/7 [==============================] - 0s 9ms/step - loss: 1097565568.0000 - val_loss: 607465216.0000\n",
            "Epoch 23/400\n",
            "7/7 [==============================] - 0s 10ms/step - loss: 1097544704.0000 - val_loss: 607448000.0000\n",
            "Epoch 24/400\n",
            "7/7 [==============================] - 0s 8ms/step - loss: 1097522432.0000 - val_loss: 607429376.0000\n",
            "Epoch 25/400\n",
            "7/7 [==============================] - 0s 9ms/step - loss: 1097497600.0000 - val_loss: 607408320.0000\n",
            "Epoch 26/400\n",
            "7/7 [==============================] - 0s 9ms/step - loss: 1097470976.0000 - val_loss: 607387200.0000\n",
            "Epoch 27/400\n",
            "7/7 [==============================] - 0s 9ms/step - loss: 1097443072.0000 - val_loss: 607363840.0000\n",
            "Epoch 28/400\n",
            "7/7 [==============================] - 0s 9ms/step - loss: 1097412992.0000 - val_loss: 607339392.0000\n",
            "Epoch 29/400\n",
            "7/7 [==============================] - 0s 9ms/step - loss: 1097380224.0000 - val_loss: 607311104.0000\n",
            "Epoch 30/400\n",
            "7/7 [==============================] - 0s 10ms/step - loss: 1097343872.0000 - val_loss: 607280960.0000\n",
            "Epoch 31/400\n",
            "7/7 [==============================] - 0s 9ms/step - loss: 1097304960.0000 - val_loss: 607249408.0000\n",
            "Epoch 32/400\n",
            "7/7 [==============================] - 0s 9ms/step - loss: 1097264384.0000 - val_loss: 607216640.0000\n",
            "Epoch 33/400\n",
            "7/7 [==============================] - 0s 10ms/step - loss: 1097221632.0000 - val_loss: 607181184.0000\n",
            "Epoch 34/400\n",
            "7/7 [==============================] - 0s 11ms/step - loss: 1097174912.0000 - val_loss: 607141632.0000\n",
            "Epoch 35/400\n",
            "7/7 [==============================] - 0s 10ms/step - loss: 1097122432.0000 - val_loss: 607097216.0000\n",
            "Epoch 36/400\n",
            "7/7 [==============================] - 0s 11ms/step - loss: 1097065472.0000 - val_loss: 607051264.0000\n",
            "Epoch 37/400\n",
            "7/7 [==============================] - 0s 10ms/step - loss: 1097006976.0000 - val_loss: 607002880.0000\n",
            "Epoch 38/400\n",
            "7/7 [==============================] - 0s 11ms/step - loss: 1096943616.0000 - val_loss: 606950912.0000\n",
            "Epoch 39/400\n",
            "7/7 [==============================] - 0s 10ms/step - loss: 1096876032.0000 - val_loss: 606895104.0000\n",
            "Epoch 40/400\n",
            "7/7 [==============================] - 0s 10ms/step - loss: 1096801664.0000 - val_loss: 606831424.0000\n",
            "Epoch 41/400\n",
            "7/7 [==============================] - 0s 9ms/step - loss: 1096720000.0000 - val_loss: 606765568.0000\n",
            "Epoch 42/400\n",
            "7/7 [==============================] - 0s 9ms/step - loss: 1096636288.0000 - val_loss: 606699456.0000\n",
            "Epoch 43/400\n",
            "7/7 [==============================] - 0s 9ms/step - loss: 1096548480.0000 - val_loss: 606625088.0000\n",
            "Epoch 44/400\n",
            "7/7 [==============================] - 0s 9ms/step - loss: 1096452224.0000 - val_loss: 606546560.0000\n",
            "Epoch 45/400\n",
            "7/7 [==============================] - 0s 9ms/step - loss: 1096350080.0000 - val_loss: 606463872.0000\n",
            "Epoch 46/400\n",
            "7/7 [==============================] - 0s 10ms/step - loss: 1096243840.0000 - val_loss: 606376192.0000\n",
            "Epoch 47/400\n",
            "7/7 [==============================] - 0s 9ms/step - loss: 1096126336.0000 - val_loss: 606277184.0000\n",
            "Epoch 48/400\n",
            "7/7 [==============================] - 0s 10ms/step - loss: 1095999104.0000 - val_loss: 606175616.0000\n",
            "Epoch 49/400\n",
            "7/7 [==============================] - 0s 9ms/step - loss: 1095865856.0000 - val_loss: 606062720.0000\n",
            "Epoch 50/400\n",
            "7/7 [==============================] - 0s 10ms/step - loss: 1095721344.0000 - val_loss: 605948928.0000\n",
            "Epoch 51/400\n",
            "7/7 [==============================] - 0s 10ms/step - loss: 1095570816.0000 - val_loss: 605820352.0000\n",
            "Epoch 52/400\n",
            "7/7 [==============================] - 0s 10ms/step - loss: 1095409536.0000 - val_loss: 605697984.0000\n",
            "Epoch 53/400\n",
            "7/7 [==============================] - 0s 11ms/step - loss: 1095250048.0000 - val_loss: 605565632.0000\n",
            "Epoch 54/400\n",
            "7/7 [==============================] - 0s 9ms/step - loss: 1095074816.0000 - val_loss: 605419264.0000\n",
            "Epoch 55/400\n",
            "7/7 [==============================] - 0s 11ms/step - loss: 1094882048.0000 - val_loss: 605259712.0000\n",
            "Epoch 56/400\n",
            "7/7 [==============================] - 0s 9ms/step - loss: 1094673792.0000 - val_loss: 605088320.0000\n",
            "Epoch 57/400\n",
            "7/7 [==============================] - 0s 10ms/step - loss: 1094454272.0000 - val_loss: 604910912.0000\n",
            "Epoch 58/400\n",
            "7/7 [==============================] - 0s 11ms/step - loss: 1094229376.0000 - val_loss: 604726144.0000\n",
            "Epoch 59/400\n",
            "7/7 [==============================] - 0s 9ms/step - loss: 1093984000.0000 - val_loss: 604523520.0000\n",
            "Epoch 60/400\n",
            "7/7 [==============================] - 0s 10ms/step - loss: 1093723392.0000 - val_loss: 604318400.0000\n",
            "Epoch 61/400\n",
            "7/7 [==============================] - 0s 9ms/step - loss: 1093457920.0000 - val_loss: 604097664.0000\n",
            "Epoch 62/400\n",
            "7/7 [==============================] - 0s 11ms/step - loss: 1093170176.0000 - val_loss: 603862336.0000\n",
            "Epoch 63/400\n",
            "7/7 [==============================] - 0s 11ms/step - loss: 1092858368.0000 - val_loss: 603601280.0000\n",
            "Epoch 64/400\n",
            "7/7 [==============================] - 0s 9ms/step - loss: 1092517504.0000 - val_loss: 603326080.0000\n",
            "Epoch 65/400\n",
            "7/7 [==============================] - 0s 10ms/step - loss: 1092162304.0000 - val_loss: 603038272.0000\n",
            "Epoch 66/400\n",
            "7/7 [==============================] - 0s 12ms/step - loss: 1091795328.0000 - val_loss: 602741376.0000\n",
            "Epoch 67/400\n",
            "7/7 [==============================] - 0s 9ms/step - loss: 1091406464.0000 - val_loss: 602424320.0000\n",
            "Epoch 68/400\n",
            "7/7 [==============================] - 0s 11ms/step - loss: 1090994048.0000 - val_loss: 602091200.0000\n",
            "Epoch 69/400\n",
            "7/7 [==============================] - 0s 11ms/step - loss: 1090572288.0000 - val_loss: 601753664.0000\n",
            "Epoch 70/400\n",
            "7/7 [==============================] - 0s 10ms/step - loss: 1090125056.0000 - val_loss: 601387072.0000\n",
            "Epoch 71/400\n",
            "7/7 [==============================] - 0s 10ms/step - loss: 1089641216.0000 - val_loss: 600989376.0000\n",
            "Epoch 72/400\n",
            "7/7 [==============================] - 0s 10ms/step - loss: 1089122304.0000 - val_loss: 600561024.0000\n",
            "Epoch 73/400\n",
            "7/7 [==============================] - 0s 9ms/step - loss: 1088582400.0000 - val_loss: 600131520.0000\n",
            "Epoch 74/400\n",
            "7/7 [==============================] - 0s 10ms/step - loss: 1088026112.0000 - val_loss: 599685056.0000\n",
            "Epoch 75/400\n",
            "7/7 [==============================] - 0s 11ms/step - loss: 1087441152.0000 - val_loss: 599215552.0000\n",
            "Epoch 76/400\n",
            "7/7 [==============================] - 0s 11ms/step - loss: 1086825856.0000 - val_loss: 598694144.0000\n",
            "Epoch 77/400\n",
            "7/7 [==============================] - 0s 11ms/step - loss: 1086164480.0000 - val_loss: 598170624.0000\n",
            "Epoch 78/400\n",
            "7/7 [==============================] - 0s 10ms/step - loss: 1085482880.0000 - val_loss: 597637568.0000\n",
            "Epoch 79/400\n",
            "7/7 [==============================] - 0s 9ms/step - loss: 1084769920.0000 - val_loss: 597034496.0000\n",
            "Epoch 80/400\n",
            "7/7 [==============================] - 0s 12ms/step - loss: 1083998208.0000 - val_loss: 596418048.0000\n",
            "Epoch 81/400\n",
            "7/7 [==============================] - 0s 10ms/step - loss: 1083209344.0000 - val_loss: 595784960.0000\n",
            "Epoch 82/400\n",
            "7/7 [==============================] - 0s 11ms/step - loss: 1082375680.0000 - val_loss: 595082048.0000\n",
            "Epoch 83/400\n",
            "7/7 [==============================] - 0s 10ms/step - loss: 1081463424.0000 - val_loss: 594371072.0000\n",
            "Epoch 84/400\n",
            "7/7 [==============================] - 0s 10ms/step - loss: 1080544896.0000 - val_loss: 593642432.0000\n",
            "Epoch 85/400\n",
            "7/7 [==============================] - 0s 9ms/step - loss: 1079605760.0000 - val_loss: 592887744.0000\n",
            "Epoch 86/400\n",
            "7/7 [==============================] - 0s 10ms/step - loss: 1078619264.0000 - val_loss: 592065856.0000\n",
            "Epoch 87/400\n",
            "7/7 [==============================] - 0s 9ms/step - loss: 1077551104.0000 - val_loss: 591203200.0000\n",
            "Epoch 88/400\n",
            "7/7 [==============================] - 0s 9ms/step - loss: 1076452736.0000 - val_loss: 590325952.0000\n",
            "Epoch 89/400\n",
            "7/7 [==============================] - 0s 9ms/step - loss: 1075306112.0000 - val_loss: 589435648.0000\n",
            "Epoch 90/400\n",
            "7/7 [==============================] - 0s 10ms/step - loss: 1074140672.0000 - val_loss: 588484160.0000\n",
            "Epoch 91/400\n",
            "7/7 [==============================] - 0s 10ms/step - loss: 1072887168.0000 - val_loss: 587447424.0000\n",
            "Epoch 92/400\n",
            "7/7 [==============================] - 0s 10ms/step - loss: 1071558336.0000 - val_loss: 586421248.0000\n",
            "Epoch 93/400\n",
            "7/7 [==============================] - 0s 12ms/step - loss: 1070214720.0000 - val_loss: 585305280.0000\n",
            "Epoch 94/400\n",
            "7/7 [==============================] - 0s 10ms/step - loss: 1068763520.0000 - val_loss: 584166592.0000\n",
            "Epoch 95/400\n",
            "7/7 [==============================] - 0s 10ms/step - loss: 1067270528.0000 - val_loss: 582926848.0000\n",
            "Epoch 96/400\n",
            "7/7 [==============================] - 0s 10ms/step - loss: 1065655296.0000 - val_loss: 581649280.0000\n",
            "Epoch 97/400\n",
            "7/7 [==============================] - 0s 10ms/step - loss: 1064041984.0000 - val_loss: 580361152.0000\n",
            "Epoch 98/400\n",
            "7/7 [==============================] - 0s 10ms/step - loss: 1062348416.0000 - val_loss: 579030400.0000\n",
            "Epoch 99/400\n",
            "7/7 [==============================] - 0s 10ms/step - loss: 1060618112.0000 - val_loss: 577643648.0000\n",
            "Epoch 100/400\n",
            "7/7 [==============================] - 0s 9ms/step - loss: 1058771520.0000 - val_loss: 576104960.0000\n",
            "Epoch 101/400\n",
            "7/7 [==============================] - 0s 10ms/step - loss: 1056804608.0000 - val_loss: 574594560.0000\n",
            "Epoch 102/400\n",
            "7/7 [==============================] - 0s 10ms/step - loss: 1054805376.0000 - val_loss: 572956288.0000\n",
            "Epoch 103/400\n",
            "7/7 [==============================] - 0s 10ms/step - loss: 1052743296.0000 - val_loss: 571418880.0000\n",
            "Epoch 104/400\n",
            "7/7 [==============================] - 0s 9ms/step - loss: 1050653184.0000 - val_loss: 569627776.0000\n",
            "Epoch 105/400\n",
            "7/7 [==============================] - 0s 10ms/step - loss: 1048321024.0000 - val_loss: 567757952.0000\n",
            "Epoch 106/400\n",
            "7/7 [==============================] - 0s 9ms/step - loss: 1045939008.0000 - val_loss: 565938880.0000\n",
            "Epoch 107/400\n",
            "7/7 [==============================] - 0s 9ms/step - loss: 1043566208.0000 - val_loss: 564087360.0000\n",
            "Epoch 108/400\n",
            "7/7 [==============================] - 0s 12ms/step - loss: 1041148992.0000 - val_loss: 562134336.0000\n",
            "Epoch 109/400\n",
            "7/7 [==============================] - 0s 9ms/step - loss: 1038593216.0000 - val_loss: 560119744.0000\n",
            "Epoch 110/400\n",
            "7/7 [==============================] - 0s 9ms/step - loss: 1035947136.0000 - val_loss: 558072832.0000\n",
            "Epoch 111/400\n",
            "7/7 [==============================] - 0s 10ms/step - loss: 1033238592.0000 - val_loss: 555853248.0000\n",
            "Epoch 112/400\n",
            "7/7 [==============================] - 0s 11ms/step - loss: 1030341376.0000 - val_loss: 553533376.0000\n",
            "Epoch 113/400\n",
            "7/7 [==============================] - 0s 9ms/step - loss: 1027271616.0000 - val_loss: 551109760.0000\n",
            "Epoch 114/400\n",
            "7/7 [==============================] - 0s 10ms/step - loss: 1024081728.0000 - val_loss: 548591680.0000\n",
            "Epoch 115/400\n",
            "7/7 [==============================] - 0s 9ms/step - loss: 1020773824.0000 - val_loss: 545928192.0000\n",
            "Epoch 116/400\n",
            "7/7 [==============================] - 0s 10ms/step - loss: 1017306304.0000 - val_loss: 543180800.0000\n",
            "Epoch 117/400\n",
            "7/7 [==============================] - 0s 9ms/step - loss: 1013791168.0000 - val_loss: 540568512.0000\n",
            "Epoch 118/400\n",
            "7/7 [==============================] - 0s 10ms/step - loss: 1010327744.0000 - val_loss: 537816064.0000\n",
            "Epoch 119/400\n",
            "7/7 [==============================] - 0s 11ms/step - loss: 1006666816.0000 - val_loss: 534922816.0000\n",
            "Epoch 120/400\n",
            "7/7 [==============================] - 0s 9ms/step - loss: 1002837824.0000 - val_loss: 531916576.0000\n",
            "Epoch 121/400\n",
            "7/7 [==============================] - 0s 10ms/step - loss: 998889664.0000 - val_loss: 528906272.0000\n",
            "Epoch 122/400\n",
            "7/7 [==============================] - 0s 11ms/step - loss: 994882432.0000 - val_loss: 525659616.0000\n",
            "Epoch 123/400\n",
            "7/7 [==============================] - 0s 10ms/step - loss: 990621056.0000 - val_loss: 522415392.0000\n",
            "Epoch 124/400\n",
            "7/7 [==============================] - 0s 10ms/step - loss: 986260608.0000 - val_loss: 518889504.0000\n",
            "Epoch 125/400\n",
            "7/7 [==============================] - 0s 9ms/step - loss: 981637120.0000 - val_loss: 515335296.0000\n",
            "Epoch 126/400\n",
            "7/7 [==============================] - 0s 9ms/step - loss: 976891456.0000 - val_loss: 511571648.0000\n",
            "Epoch 127/400\n",
            "7/7 [==============================] - 0s 10ms/step - loss: 972008448.0000 - val_loss: 507938912.0000\n",
            "Epoch 128/400\n",
            "7/7 [==============================] - 0s 10ms/step - loss: 967285504.0000 - val_loss: 504454624.0000\n",
            "Epoch 129/400\n",
            "7/7 [==============================] - 0s 11ms/step - loss: 962383872.0000 - val_loss: 500323584.0000\n",
            "Epoch 130/400\n",
            "7/7 [==============================] - 0s 10ms/step - loss: 956972288.0000 - val_loss: 496347008.0000\n",
            "Epoch 131/400\n",
            "7/7 [==============================] - 0s 10ms/step - loss: 951639232.0000 - val_loss: 492177504.0000\n",
            "Epoch 132/400\n",
            "7/7 [==============================] - 0s 11ms/step - loss: 946135744.0000 - val_loss: 487939520.0000\n",
            "Epoch 133/400\n",
            "7/7 [==============================] - 0s 9ms/step - loss: 940512896.0000 - val_loss: 483801728.0000\n",
            "Epoch 134/400\n",
            "7/7 [==============================] - 0s 10ms/step - loss: 934757568.0000 - val_loss: 479260320.0000\n",
            "Epoch 135/400\n",
            "7/7 [==============================] - 0s 9ms/step - loss: 928741568.0000 - val_loss: 474861792.0000\n",
            "Epoch 136/400\n",
            "7/7 [==============================] - 0s 10ms/step - loss: 922941056.0000 - val_loss: 470445344.0000\n",
            "Epoch 137/400\n",
            "7/7 [==============================] - 0s 10ms/step - loss: 916840960.0000 - val_loss: 465821728.0000\n",
            "Epoch 138/400\n",
            "7/7 [==============================] - 0s 10ms/step - loss: 910558528.0000 - val_loss: 461094944.0000\n",
            "Epoch 139/400\n",
            "7/7 [==============================] - 0s 10ms/step - loss: 904273344.0000 - val_loss: 456279296.0000\n",
            "Epoch 140/400\n",
            "7/7 [==============================] - 0s 9ms/step - loss: 897544640.0000 - val_loss: 451193792.0000\n",
            "Epoch 141/400\n",
            "7/7 [==============================] - 0s 10ms/step - loss: 890529792.0000 - val_loss: 445636896.0000\n",
            "Epoch 142/400\n",
            "7/7 [==============================] - 0s 10ms/step - loss: 883124800.0000 - val_loss: 440418528.0000\n",
            "Epoch 143/400\n",
            "7/7 [==============================] - 0s 10ms/step - loss: 876128192.0000 - val_loss: 435431872.0000\n",
            "Epoch 144/400\n",
            "7/7 [==============================] - 0s 10ms/step - loss: 869003648.0000 - val_loss: 429908480.0000\n",
            "Epoch 145/400\n",
            "7/7 [==============================] - 0s 10ms/step - loss: 861363904.0000 - val_loss: 424108928.0000\n",
            "Epoch 146/400\n",
            "7/7 [==============================] - 0s 10ms/step - loss: 853508992.0000 - val_loss: 418722976.0000\n",
            "Epoch 147/400\n",
            "7/7 [==============================] - 0s 10ms/step - loss: 845974656.0000 - val_loss: 412967968.0000\n",
            "Epoch 148/400\n",
            "7/7 [==============================] - 0s 11ms/step - loss: 837984064.0000 - val_loss: 407337184.0000\n",
            "Epoch 149/400\n",
            "7/7 [==============================] - 0s 10ms/step - loss: 829850368.0000 - val_loss: 401225056.0000\n",
            "Epoch 150/400\n",
            "7/7 [==============================] - 0s 9ms/step - loss: 821233280.0000 - val_loss: 395036160.0000\n",
            "Epoch 151/400\n",
            "7/7 [==============================] - 0s 9ms/step - loss: 812770880.0000 - val_loss: 389300256.0000\n",
            "Epoch 152/400\n",
            "7/7 [==============================] - 0s 10ms/step - loss: 804369216.0000 - val_loss: 382912096.0000\n",
            "Epoch 153/400\n",
            "7/7 [==============================] - 0s 10ms/step - loss: 795574592.0000 - val_loss: 377129504.0000\n",
            "Epoch 154/400\n",
            "7/7 [==============================] - 0s 11ms/step - loss: 787022912.0000 - val_loss: 370954112.0000\n",
            "Epoch 155/400\n",
            "7/7 [==============================] - 0s 10ms/step - loss: 778110784.0000 - val_loss: 364657184.0000\n",
            "Epoch 156/400\n",
            "7/7 [==============================] - 0s 11ms/step - loss: 768881728.0000 - val_loss: 358183968.0000\n",
            "Epoch 157/400\n",
            "7/7 [==============================] - 0s 10ms/step - loss: 759542912.0000 - val_loss: 351824320.0000\n",
            "Epoch 158/400\n",
            "7/7 [==============================] - 0s 10ms/step - loss: 750167936.0000 - val_loss: 345285760.0000\n",
            "Epoch 159/400\n",
            "7/7 [==============================] - 0s 9ms/step - loss: 740596480.0000 - val_loss: 339195936.0000\n",
            "Epoch 160/400\n",
            "7/7 [==============================] - 0s 11ms/step - loss: 731192192.0000 - val_loss: 332489984.0000\n",
            "Epoch 161/400\n",
            "7/7 [==============================] - 0s 10ms/step - loss: 721900480.0000 - val_loss: 327183200.0000\n",
            "Epoch 162/400\n",
            "7/7 [==============================] - 0s 10ms/step - loss: 713310144.0000 - val_loss: 321169152.0000\n",
            "Epoch 163/400\n",
            "7/7 [==============================] - 0s 11ms/step - loss: 703711616.0000 - val_loss: 314667552.0000\n",
            "Epoch 164/400\n",
            "7/7 [==============================] - 0s 9ms/step - loss: 693646144.0000 - val_loss: 308273280.0000\n",
            "Epoch 165/400\n",
            "7/7 [==============================] - 0s 10ms/step - loss: 683909312.0000 - val_loss: 302352192.0000\n",
            "Epoch 166/400\n",
            "7/7 [==============================] - 0s 11ms/step - loss: 674410880.0000 - val_loss: 296328544.0000\n",
            "Epoch 167/400\n",
            "7/7 [==============================] - 0s 9ms/step - loss: 664876288.0000 - val_loss: 291056256.0000\n",
            "Epoch 168/400\n",
            "7/7 [==============================] - 0s 11ms/step - loss: 655811456.0000 - val_loss: 285129152.0000\n",
            "Epoch 169/400\n",
            "7/7 [==============================] - 0s 9ms/step - loss: 646137600.0000 - val_loss: 279484864.0000\n",
            "Epoch 170/400\n",
            "7/7 [==============================] - 0s 10ms/step - loss: 636376384.0000 - val_loss: 273791168.0000\n",
            "Epoch 171/400\n",
            "7/7 [==============================] - 0s 9ms/step - loss: 626794432.0000 - val_loss: 268679616.0000\n",
            "Epoch 172/400\n",
            "7/7 [==============================] - 0s 9ms/step - loss: 617302912.0000 - val_loss: 263169168.0000\n",
            "Epoch 173/400\n",
            "7/7 [==============================] - 0s 11ms/step - loss: 607651008.0000 - val_loss: 258079648.0000\n",
            "Epoch 174/400\n",
            "7/7 [==============================] - 0s 11ms/step - loss: 598710400.0000 - val_loss: 253971248.0000\n",
            "Epoch 175/400\n",
            "7/7 [==============================] - 0s 10ms/step - loss: 590339392.0000 - val_loss: 249620816.0000\n",
            "Epoch 176/400\n",
            "7/7 [==============================] - 0s 10ms/step - loss: 582160960.0000 - val_loss: 245938384.0000\n",
            "Epoch 177/400\n",
            "7/7 [==============================] - 0s 10ms/step - loss: 574380736.0000 - val_loss: 242418800.0000\n",
            "Epoch 178/400\n",
            "7/7 [==============================] - 0s 10ms/step - loss: 566724224.0000 - val_loss: 238961296.0000\n",
            "Epoch 179/400\n",
            "7/7 [==============================] - 0s 9ms/step - loss: 558624000.0000 - val_loss: 235473664.0000\n",
            "Epoch 180/400\n",
            "7/7 [==============================] - 0s 9ms/step - loss: 550572928.0000 - val_loss: 232637152.0000\n",
            "Epoch 181/400\n",
            "7/7 [==============================] - 0s 10ms/step - loss: 543445376.0000 - val_loss: 230131456.0000\n",
            "Epoch 182/400\n",
            "7/7 [==============================] - 0s 11ms/step - loss: 536280224.0000 - val_loss: 227628832.0000\n",
            "Epoch 183/400\n",
            "7/7 [==============================] - 0s 10ms/step - loss: 529112608.0000 - val_loss: 225922864.0000\n",
            "Epoch 184/400\n",
            "7/7 [==============================] - 0s 9ms/step - loss: 523065344.0000 - val_loss: 224287760.0000\n",
            "Epoch 185/400\n",
            "7/7 [==============================] - 0s 11ms/step - loss: 516704544.0000 - val_loss: 223118512.0000\n",
            "Epoch 186/400\n",
            "7/7 [==============================] - 0s 9ms/step - loss: 511119008.0000 - val_loss: 222372752.0000\n",
            "Epoch 187/400\n",
            "7/7 [==============================] - 0s 10ms/step - loss: 506017920.0000 - val_loss: 221890720.0000\n",
            "Epoch 188/400\n",
            "7/7 [==============================] - 0s 10ms/step - loss: 500919968.0000 - val_loss: 221746912.0000\n",
            "Epoch 189/400\n",
            "7/7 [==============================] - 0s 11ms/step - loss: 496212000.0000 - val_loss: 221972304.0000\n",
            "Epoch 190/400\n",
            "7/7 [==============================] - 0s 9ms/step - loss: 492079712.0000 - val_loss: 222547088.0000\n",
            "Epoch 191/400\n",
            "7/7 [==============================] - 0s 9ms/step - loss: 488064768.0000 - val_loss: 223284800.0000\n",
            "Epoch 192/400\n",
            "7/7 [==============================] - 0s 11ms/step - loss: 485107584.0000 - val_loss: 224126688.0000\n",
            "Epoch 193/400\n",
            "7/7 [==============================] - 0s 11ms/step - loss: 482346176.0000 - val_loss: 225200224.0000\n",
            "Epoch 194/400\n",
            "7/7 [==============================] - 0s 11ms/step - loss: 479840064.0000 - val_loss: 226412000.0000\n",
            "Epoch 195/400\n",
            "7/7 [==============================] - 0s 11ms/step - loss: 477480640.0000 - val_loss: 227884096.0000\n",
            "Epoch 196/400\n",
            "7/7 [==============================] - 0s 10ms/step - loss: 475492512.0000 - val_loss: 229804768.0000\n",
            "Epoch 197/400\n",
            "7/7 [==============================] - 0s 9ms/step - loss: 473584736.0000 - val_loss: 230932528.0000\n",
            "Epoch 198/400\n",
            "7/7 [==============================] - 0s 10ms/step - loss: 472349408.0000 - val_loss: 232237392.0000\n",
            "Epoch 199/400\n",
            "7/7 [==============================] - 0s 10ms/step - loss: 471128640.0000 - val_loss: 233531440.0000\n",
            "Epoch 200/400\n",
            "7/7 [==============================] - 0s 12ms/step - loss: 469922624.0000 - val_loss: 234309520.0000\n",
            "Epoch 201/400\n",
            "7/7 [==============================] - 0s 9ms/step - loss: 469494304.0000 - val_loss: 235252784.0000\n",
            "Epoch 202/400\n",
            "7/7 [==============================] - 0s 10ms/step - loss: 468640704.0000 - val_loss: 236322992.0000\n",
            "Epoch 203/400\n",
            "7/7 [==============================] - 0s 9ms/step - loss: 467580192.0000 - val_loss: 238090352.0000\n",
            "Epoch 204/400\n",
            "7/7 [==============================] - 0s 12ms/step - loss: 466850816.0000 - val_loss: 239082912.0000\n",
            "Epoch 205/400\n",
            "7/7 [==============================] - 0s 10ms/step - loss: 466445824.0000 - val_loss: 239832128.0000\n",
            "Epoch 206/400\n",
            "7/7 [==============================] - 0s 12ms/step - loss: 465416256.0000 - val_loss: 240423392.0000\n",
            "Epoch 207/400\n",
            "7/7 [==============================] - 0s 10ms/step - loss: 465187040.0000 - val_loss: 241699184.0000\n",
            "Epoch 208/400\n",
            "7/7 [==============================] - 0s 11ms/step - loss: 464530400.0000 - val_loss: 241779328.0000\n",
            "Epoch 209/400\n",
            "7/7 [==============================] - 0s 11ms/step - loss: 464308192.0000 - val_loss: 241879264.0000\n",
            "Epoch 210/400\n",
            "7/7 [==============================] - 0s 11ms/step - loss: 464209216.0000 - val_loss: 242409472.0000\n",
            "Epoch 211/400\n",
            "7/7 [==============================] - 0s 10ms/step - loss: 463470336.0000 - val_loss: 242468640.0000\n",
            "Epoch 212/400\n",
            "7/7 [==============================] - 0s 12ms/step - loss: 462795264.0000 - val_loss: 242198080.0000\n",
            "Epoch 213/400\n",
            "7/7 [==============================] - 0s 13ms/step - loss: 463175584.0000 - val_loss: 242789520.0000\n",
            "Epoch 214/400\n",
            "7/7 [==============================] - 0s 12ms/step - loss: 462139456.0000 - val_loss: 243043936.0000\n",
            "Epoch 215/400\n",
            "7/7 [==============================] - 0s 10ms/step - loss: 462085600.0000 - val_loss: 243156400.0000\n",
            "Epoch 216/400\n",
            "7/7 [==============================] - 0s 11ms/step - loss: 461614400.0000 - val_loss: 242592608.0000\n",
            "Epoch 217/400\n",
            "7/7 [==============================] - 0s 11ms/step - loss: 460960704.0000 - val_loss: 242676048.0000\n",
            "Epoch 218/400\n",
            "7/7 [==============================] - 0s 11ms/step - loss: 460894048.0000 - val_loss: 242446384.0000\n",
            "Epoch 219/400\n",
            "7/7 [==============================] - 0s 11ms/step - loss: 460665856.0000 - val_loss: 242582528.0000\n",
            "Epoch 220/400\n",
            "7/7 [==============================] - 0s 10ms/step - loss: 460022880.0000 - val_loss: 243504144.0000\n",
            "Epoch 221/400\n",
            "7/7 [==============================] - 0s 11ms/step - loss: 459747168.0000 - val_loss: 243212624.0000\n",
            "Epoch 222/400\n",
            "7/7 [==============================] - 0s 11ms/step - loss: 459876544.0000 - val_loss: 242651344.0000\n",
            "Epoch 223/400\n",
            "7/7 [==============================] - 0s 10ms/step - loss: 459222272.0000 - val_loss: 242771552.0000\n",
            "Epoch 224/400\n",
            "7/7 [==============================] - 0s 12ms/step - loss: 458509248.0000 - val_loss: 242731600.0000\n",
            "Epoch 225/400\n",
            "7/7 [==============================] - 0s 10ms/step - loss: 458325536.0000 - val_loss: 243318368.0000\n",
            "Epoch 226/400\n",
            "7/7 [==============================] - 0s 10ms/step - loss: 458059744.0000 - val_loss: 242565024.0000\n",
            "Epoch 227/400\n",
            "7/7 [==============================] - 0s 10ms/step - loss: 457490752.0000 - val_loss: 242539184.0000\n",
            "Epoch 228/400\n",
            "7/7 [==============================] - 0s 11ms/step - loss: 456910368.0000 - val_loss: 242551584.0000\n",
            "Epoch 229/400\n",
            "7/7 [==============================] - 0s 11ms/step - loss: 456628256.0000 - val_loss: 242335472.0000\n",
            "Epoch 230/400\n",
            "7/7 [==============================] - 0s 10ms/step - loss: 456218080.0000 - val_loss: 242123024.0000\n",
            "Epoch 231/400\n",
            "7/7 [==============================] - 0s 12ms/step - loss: 455854048.0000 - val_loss: 243110304.0000\n",
            "Epoch 232/400\n",
            "7/7 [==============================] - 0s 10ms/step - loss: 455707968.0000 - val_loss: 243300832.0000\n",
            "Epoch 233/400\n",
            "7/7 [==============================] - 0s 11ms/step - loss: 454865088.0000 - val_loss: 242777072.0000\n",
            "Epoch 234/400\n",
            "7/7 [==============================] - 0s 9ms/step - loss: 455310816.0000 - val_loss: 242314720.0000\n",
            "Epoch 235/400\n",
            "7/7 [==============================] - 0s 10ms/step - loss: 454453088.0000 - val_loss: 242236736.0000\n",
            "Epoch 236/400\n",
            "7/7 [==============================] - 0s 9ms/step - loss: 453777632.0000 - val_loss: 243117824.0000\n",
            "Epoch 237/400\n",
            "7/7 [==============================] - 0s 9ms/step - loss: 453420512.0000 - val_loss: 242326912.0000\n",
            "Epoch 238/400\n",
            "7/7 [==============================] - 0s 11ms/step - loss: 453313152.0000 - val_loss: 241930976.0000\n",
            "Epoch 239/400\n",
            "7/7 [==============================] - 0s 10ms/step - loss: 452915520.0000 - val_loss: 242507024.0000\n",
            "Epoch 240/400\n",
            "7/7 [==============================] - 0s 10ms/step - loss: 452156192.0000 - val_loss: 242145216.0000\n",
            "Epoch 241/400\n",
            "7/7 [==============================] - 0s 10ms/step - loss: 451917024.0000 - val_loss: 242593248.0000\n",
            "Epoch 242/400\n",
            "7/7 [==============================] - 0s 11ms/step - loss: 451532448.0000 - val_loss: 242070000.0000\n",
            "Epoch 243/400\n",
            "7/7 [==============================] - 0s 10ms/step - loss: 451392064.0000 - val_loss: 241442592.0000\n",
            "Epoch 244/400\n",
            "7/7 [==============================] - 0s 11ms/step - loss: 450897472.0000 - val_loss: 240852224.0000\n",
            "Epoch 245/400\n",
            "7/7 [==============================] - 0s 11ms/step - loss: 450339296.0000 - val_loss: 241143744.0000\n",
            "Epoch 246/400\n",
            "7/7 [==============================] - 0s 11ms/step - loss: 450665376.0000 - val_loss: 241749632.0000\n",
            "Epoch 247/400\n",
            "7/7 [==============================] - 0s 13ms/step - loss: 449829216.0000 - val_loss: 241667664.0000\n",
            "Epoch 248/400\n",
            "7/7 [==============================] - 0s 11ms/step - loss: 449207616.0000 - val_loss: 241409296.0000\n",
            "Epoch 249/400\n",
            "7/7 [==============================] - 0s 12ms/step - loss: 448797280.0000 - val_loss: 241461424.0000\n",
            "Epoch 250/400\n",
            "7/7 [==============================] - 0s 11ms/step - loss: 448878272.0000 - val_loss: 241376272.0000\n",
            "Epoch 251/400\n",
            "7/7 [==============================] - 0s 11ms/step - loss: 448550240.0000 - val_loss: 241258768.0000\n",
            "Epoch 252/400\n",
            "7/7 [==============================] - 0s 10ms/step - loss: 447725312.0000 - val_loss: 241033968.0000\n",
            "Epoch 253/400\n",
            "7/7 [==============================] - 0s 11ms/step - loss: 448080864.0000 - val_loss: 240377248.0000\n",
            "Epoch 254/400\n",
            "7/7 [==============================] - 0s 11ms/step - loss: 446916416.0000 - val_loss: 240048496.0000\n",
            "Epoch 255/400\n",
            "7/7 [==============================] - 0s 11ms/step - loss: 446691424.0000 - val_loss: 239623856.0000\n",
            "Epoch 256/400\n",
            "7/7 [==============================] - 0s 10ms/step - loss: 446791968.0000 - val_loss: 239264176.0000\n",
            "Epoch 257/400\n",
            "7/7 [==============================] - 0s 11ms/step - loss: 445942112.0000 - val_loss: 239375648.0000\n",
            "Epoch 258/400\n",
            "7/7 [==============================] - 0s 12ms/step - loss: 445873920.0000 - val_loss: 239912864.0000\n",
            "Epoch 259/400\n",
            "7/7 [==============================] - 0s 10ms/step - loss: 445312992.0000 - val_loss: 239526160.0000\n",
            "Epoch 260/400\n",
            "7/7 [==============================] - 0s 10ms/step - loss: 444695904.0000 - val_loss: 240553248.0000\n",
            "Epoch 261/400\n",
            "7/7 [==============================] - 0s 13ms/step - loss: 444285696.0000 - val_loss: 239792464.0000\n",
            "Epoch 262/400\n",
            "7/7 [==============================] - 0s 11ms/step - loss: 444235040.0000 - val_loss: 240324976.0000\n",
            "Epoch 263/400\n",
            "7/7 [==============================] - 0s 10ms/step - loss: 443682976.0000 - val_loss: 239732304.0000\n",
            "Epoch 264/400\n",
            "7/7 [==============================] - 0s 10ms/step - loss: 443092576.0000 - val_loss: 238859152.0000\n",
            "Epoch 265/400\n",
            "7/7 [==============================] - 0s 11ms/step - loss: 443213376.0000 - val_loss: 238818896.0000\n",
            "Epoch 266/400\n",
            "7/7 [==============================] - 0s 10ms/step - loss: 442567264.0000 - val_loss: 238566992.0000\n",
            "Epoch 267/400\n",
            "7/7 [==============================] - 0s 10ms/step - loss: 442140928.0000 - val_loss: 237856128.0000\n",
            "Epoch 268/400\n",
            "7/7 [==============================] - 0s 12ms/step - loss: 441707072.0000 - val_loss: 238927296.0000\n",
            "Epoch 269/400\n",
            "7/7 [==============================] - 0s 11ms/step - loss: 441423104.0000 - val_loss: 238119072.0000\n",
            "Epoch 270/400\n",
            "7/7 [==============================] - 0s 11ms/step - loss: 441219072.0000 - val_loss: 238698336.0000\n",
            "Epoch 271/400\n",
            "7/7 [==============================] - 0s 11ms/step - loss: 441111136.0000 - val_loss: 239266544.0000\n",
            "Epoch 272/400\n",
            "7/7 [==============================] - 0s 11ms/step - loss: 440070496.0000 - val_loss: 238760640.0000\n",
            "Epoch 273/400\n",
            "7/7 [==============================] - 0s 12ms/step - loss: 439885984.0000 - val_loss: 238328224.0000\n",
            "Epoch 274/400\n",
            "7/7 [==============================] - 0s 14ms/step - loss: 439827136.0000 - val_loss: 238494400.0000\n",
            "Epoch 275/400\n",
            "7/7 [==============================] - 0s 12ms/step - loss: 439310112.0000 - val_loss: 238043248.0000\n",
            "Epoch 276/400\n",
            "7/7 [==============================] - 0s 11ms/step - loss: 438755552.0000 - val_loss: 237151088.0000\n",
            "Epoch 277/400\n",
            "7/7 [==============================] - 0s 12ms/step - loss: 438265216.0000 - val_loss: 236895616.0000\n",
            "Epoch 278/400\n",
            "7/7 [==============================] - 0s 10ms/step - loss: 438137632.0000 - val_loss: 237705712.0000\n",
            "Epoch 279/400\n",
            "7/7 [==============================] - 0s 11ms/step - loss: 437787776.0000 - val_loss: 237514224.0000\n",
            "Epoch 280/400\n",
            "7/7 [==============================] - 0s 10ms/step - loss: 437497792.0000 - val_loss: 237429504.0000\n",
            "Epoch 281/400\n",
            "7/7 [==============================] - 0s 11ms/step - loss: 436621664.0000 - val_loss: 236977376.0000\n",
            "Epoch 282/400\n",
            "7/7 [==============================] - 0s 10ms/step - loss: 436560064.0000 - val_loss: 237554704.0000\n",
            "Epoch 283/400\n",
            "7/7 [==============================] - 0s 10ms/step - loss: 436199328.0000 - val_loss: 237061504.0000\n",
            "Epoch 284/400\n",
            "7/7 [==============================] - 0s 10ms/step - loss: 435805536.0000 - val_loss: 236433680.0000\n",
            "Epoch 285/400\n",
            "7/7 [==============================] - 0s 11ms/step - loss: 435375424.0000 - val_loss: 235554592.0000\n",
            "Epoch 286/400\n",
            "7/7 [==============================] - 0s 13ms/step - loss: 435163328.0000 - val_loss: 236303360.0000\n",
            "Epoch 287/400\n",
            "7/7 [==============================] - 0s 11ms/step - loss: 434261984.0000 - val_loss: 236499280.0000\n",
            "Epoch 288/400\n",
            "7/7 [==============================] - 0s 12ms/step - loss: 434372064.0000 - val_loss: 236587664.0000\n",
            "Epoch 289/400\n",
            "7/7 [==============================] - 0s 10ms/step - loss: 433704928.0000 - val_loss: 236298608.0000\n",
            "Epoch 290/400\n",
            "7/7 [==============================] - 0s 11ms/step - loss: 433810464.0000 - val_loss: 235818736.0000\n",
            "Epoch 291/400\n",
            "7/7 [==============================] - 0s 10ms/step - loss: 432787584.0000 - val_loss: 235386400.0000\n",
            "Epoch 292/400\n",
            "7/7 [==============================] - 0s 10ms/step - loss: 433443584.0000 - val_loss: 234318640.0000\n",
            "Epoch 293/400\n",
            "7/7 [==============================] - 0s 11ms/step - loss: 432258368.0000 - val_loss: 234571840.0000\n",
            "Epoch 294/400\n",
            "7/7 [==============================] - 0s 10ms/step - loss: 431837856.0000 - val_loss: 234473200.0000\n",
            "Epoch 295/400\n",
            "7/7 [==============================] - 0s 11ms/step - loss: 432035584.0000 - val_loss: 233983472.0000\n",
            "Epoch 296/400\n",
            "7/7 [==============================] - 0s 11ms/step - loss: 431131840.0000 - val_loss: 233728608.0000\n",
            "Epoch 297/400\n",
            "7/7 [==============================] - 0s 10ms/step - loss: 431182624.0000 - val_loss: 232801232.0000\n",
            "Epoch 298/400\n",
            "7/7 [==============================] - 0s 10ms/step - loss: 430517024.0000 - val_loss: 233728272.0000\n",
            "Epoch 299/400\n",
            "7/7 [==============================] - 0s 10ms/step - loss: 430430496.0000 - val_loss: 234545296.0000\n",
            "Epoch 300/400\n",
            "7/7 [==============================] - 0s 11ms/step - loss: 429816640.0000 - val_loss: 234111424.0000\n",
            "Epoch 301/400\n",
            "7/7 [==============================] - 0s 11ms/step - loss: 429318432.0000 - val_loss: 234630240.0000\n",
            "Epoch 302/400\n",
            "7/7 [==============================] - 0s 11ms/step - loss: 429149664.0000 - val_loss: 234429008.0000\n",
            "Epoch 303/400\n",
            "7/7 [==============================] - 0s 12ms/step - loss: 428529408.0000 - val_loss: 233838144.0000\n",
            "Epoch 304/400\n",
            "7/7 [==============================] - 0s 10ms/step - loss: 428899136.0000 - val_loss: 232761600.0000\n",
            "Epoch 305/400\n",
            "7/7 [==============================] - 0s 10ms/step - loss: 427848160.0000 - val_loss: 232650752.0000\n",
            "Epoch 306/400\n",
            "7/7 [==============================] - 0s 10ms/step - loss: 427885408.0000 - val_loss: 233496352.0000\n",
            "Epoch 307/400\n",
            "7/7 [==============================] - 0s 10ms/step - loss: 427053344.0000 - val_loss: 233871776.0000\n",
            "Epoch 308/400\n",
            "7/7 [==============================] - 0s 11ms/step - loss: 426963840.0000 - val_loss: 234105152.0000\n",
            "Epoch 309/400\n",
            "7/7 [==============================] - 0s 11ms/step - loss: 426352224.0000 - val_loss: 233533280.0000\n",
            "Epoch 310/400\n",
            "7/7 [==============================] - 0s 11ms/step - loss: 426415360.0000 - val_loss: 232383696.0000\n",
            "Epoch 311/400\n",
            "7/7 [==============================] - 0s 10ms/step - loss: 425702592.0000 - val_loss: 231730400.0000\n",
            "Epoch 312/400\n",
            "7/7 [==============================] - 0s 10ms/step - loss: 425330912.0000 - val_loss: 231292512.0000\n",
            "Epoch 313/400\n",
            "7/7 [==============================] - 0s 10ms/step - loss: 424980704.0000 - val_loss: 230472256.0000\n",
            "Epoch 314/400\n",
            "7/7 [==============================] - 0s 10ms/step - loss: 425118048.0000 - val_loss: 231070832.0000\n",
            "Epoch 315/400\n",
            "7/7 [==============================] - 0s 10ms/step - loss: 424486944.0000 - val_loss: 231442720.0000\n",
            "Epoch 316/400\n",
            "7/7 [==============================] - 0s 11ms/step - loss: 423856768.0000 - val_loss: 231564192.0000\n",
            "Epoch 317/400\n",
            "7/7 [==============================] - 0s 11ms/step - loss: 424214496.0000 - val_loss: 230564176.0000\n",
            "Epoch 318/400\n",
            "7/7 [==============================] - 0s 11ms/step - loss: 423160256.0000 - val_loss: 229795472.0000\n",
            "Epoch 319/400\n",
            "7/7 [==============================] - 0s 10ms/step - loss: 423034240.0000 - val_loss: 229343776.0000\n",
            "Epoch 320/400\n",
            "7/7 [==============================] - 0s 12ms/step - loss: 422522784.0000 - val_loss: 228952000.0000\n",
            "Epoch 321/400\n",
            "7/7 [==============================] - 0s 10ms/step - loss: 422564416.0000 - val_loss: 228378480.0000\n",
            "Epoch 322/400\n",
            "7/7 [==============================] - 0s 11ms/step - loss: 422404672.0000 - val_loss: 228242176.0000\n",
            "Epoch 323/400\n",
            "7/7 [==============================] - 0s 9ms/step - loss: 421474144.0000 - val_loss: 228673760.0000\n",
            "Epoch 324/400\n",
            "7/7 [==============================] - 0s 12ms/step - loss: 421389024.0000 - val_loss: 229230608.0000\n",
            "Epoch 325/400\n",
            "7/7 [==============================] - 0s 11ms/step - loss: 420586656.0000 - val_loss: 229387600.0000\n",
            "Epoch 326/400\n",
            "7/7 [==============================] - 0s 10ms/step - loss: 420320672.0000 - val_loss: 229561360.0000\n",
            "Epoch 327/400\n",
            "7/7 [==============================] - 0s 11ms/step - loss: 420092896.0000 - val_loss: 228754272.0000\n",
            "Epoch 328/400\n",
            "7/7 [==============================] - 0s 10ms/step - loss: 419657088.0000 - val_loss: 228466400.0000\n",
            "Epoch 329/400\n",
            "7/7 [==============================] - 0s 10ms/step - loss: 419157280.0000 - val_loss: 229233776.0000\n",
            "Epoch 330/400\n",
            "7/7 [==============================] - 0s 11ms/step - loss: 418871328.0000 - val_loss: 228510608.0000\n",
            "Epoch 331/400\n",
            "7/7 [==============================] - 0s 10ms/step - loss: 418489696.0000 - val_loss: 228795616.0000\n",
            "Epoch 332/400\n",
            "7/7 [==============================] - 0s 10ms/step - loss: 418100832.0000 - val_loss: 228721024.0000\n",
            "Epoch 333/400\n",
            "7/7 [==============================] - 0s 11ms/step - loss: 417755840.0000 - val_loss: 229221968.0000\n",
            "Epoch 334/400\n",
            "7/7 [==============================] - 0s 10ms/step - loss: 417281088.0000 - val_loss: 228497264.0000\n",
            "Epoch 335/400\n",
            "7/7 [==============================] - 0s 10ms/step - loss: 416824960.0000 - val_loss: 228467184.0000\n",
            "Epoch 336/400\n",
            "7/7 [==============================] - 0s 12ms/step - loss: 416356256.0000 - val_loss: 228258832.0000\n",
            "Epoch 337/400\n",
            "7/7 [==============================] - 0s 10ms/step - loss: 416128832.0000 - val_loss: 227953216.0000\n",
            "Epoch 338/400\n",
            "7/7 [==============================] - 0s 11ms/step - loss: 416144288.0000 - val_loss: 228086688.0000\n",
            "Epoch 339/400\n",
            "7/7 [==============================] - 0s 9ms/step - loss: 415452768.0000 - val_loss: 227340288.0000\n",
            "Epoch 340/400\n",
            "7/7 [==============================] - 0s 11ms/step - loss: 414996896.0000 - val_loss: 226796384.0000\n",
            "Epoch 341/400\n",
            "7/7 [==============================] - 0s 9ms/step - loss: 414408288.0000 - val_loss: 226596480.0000\n",
            "Epoch 342/400\n",
            "7/7 [==============================] - 0s 11ms/step - loss: 414229056.0000 - val_loss: 227564608.0000\n",
            "Epoch 343/400\n",
            "7/7 [==============================] - 0s 10ms/step - loss: 413979136.0000 - val_loss: 227460736.0000\n",
            "Epoch 344/400\n",
            "7/7 [==============================] - 0s 11ms/step - loss: 413693760.0000 - val_loss: 227100144.0000\n",
            "Epoch 345/400\n",
            "7/7 [==============================] - 0s 10ms/step - loss: 413436864.0000 - val_loss: 226770736.0000\n",
            "Epoch 346/400\n",
            "7/7 [==============================] - 0s 11ms/step - loss: 412503104.0000 - val_loss: 226133424.0000\n",
            "Epoch 347/400\n",
            "7/7 [==============================] - 0s 11ms/step - loss: 413078016.0000 - val_loss: 225780560.0000\n",
            "Epoch 348/400\n",
            "7/7 [==============================] - 0s 12ms/step - loss: 411985536.0000 - val_loss: 226334032.0000\n",
            "Epoch 349/400\n",
            "7/7 [==============================] - 0s 10ms/step - loss: 411637312.0000 - val_loss: 227184224.0000\n",
            "Epoch 350/400\n",
            "7/7 [==============================] - 0s 11ms/step - loss: 411179392.0000 - val_loss: 226320288.0000\n",
            "Epoch 351/400\n",
            "7/7 [==============================] - 0s 10ms/step - loss: 411038592.0000 - val_loss: 225868272.0000\n",
            "Epoch 352/400\n",
            "7/7 [==============================] - 0s 11ms/step - loss: 410624928.0000 - val_loss: 225635152.0000\n",
            "Epoch 353/400\n",
            "7/7 [==============================] - 0s 10ms/step - loss: 410388704.0000 - val_loss: 225321168.0000\n",
            "Epoch 354/400\n",
            "7/7 [==============================] - 0s 10ms/step - loss: 409884160.0000 - val_loss: 224854944.0000\n",
            "Epoch 355/400\n",
            "7/7 [==============================] - 0s 10ms/step - loss: 409586208.0000 - val_loss: 224099152.0000\n",
            "Epoch 356/400\n",
            "7/7 [==============================] - 0s 11ms/step - loss: 409360896.0000 - val_loss: 224367936.0000\n",
            "Epoch 357/400\n",
            "7/7 [==============================] - 0s 10ms/step - loss: 408957440.0000 - val_loss: 225033552.0000\n",
            "Epoch 358/400\n",
            "7/7 [==============================] - 0s 10ms/step - loss: 408237344.0000 - val_loss: 224759440.0000\n",
            "Epoch 359/400\n",
            "7/7 [==============================] - 0s 10ms/step - loss: 407906688.0000 - val_loss: 224850528.0000\n",
            "Epoch 360/400\n",
            "7/7 [==============================] - 0s 10ms/step - loss: 407882784.0000 - val_loss: 224557936.0000\n",
            "Epoch 361/400\n",
            "7/7 [==============================] - 0s 10ms/step - loss: 407473024.0000 - val_loss: 225056656.0000\n",
            "Epoch 362/400\n",
            "7/7 [==============================] - 0s 10ms/step - loss: 407183072.0000 - val_loss: 225052128.0000\n",
            "Epoch 363/400\n",
            "7/7 [==============================] - 0s 10ms/step - loss: 406550112.0000 - val_loss: 224821136.0000\n",
            "Epoch 364/400\n",
            "7/7 [==============================] - 0s 11ms/step - loss: 406414944.0000 - val_loss: 225108240.0000\n",
            "Epoch 365/400\n",
            "7/7 [==============================] - 0s 10ms/step - loss: 405660192.0000 - val_loss: 224648176.0000\n",
            "Epoch 366/400\n",
            "7/7 [==============================] - 0s 11ms/step - loss: 405450464.0000 - val_loss: 224182256.0000\n",
            "Epoch 367/400\n",
            "7/7 [==============================] - 0s 12ms/step - loss: 404997056.0000 - val_loss: 223891184.0000\n",
            "Epoch 368/400\n",
            "7/7 [==============================] - 0s 11ms/step - loss: 404703168.0000 - val_loss: 224029040.0000\n",
            "Epoch 369/400\n",
            "7/7 [==============================] - 0s 12ms/step - loss: 404627744.0000 - val_loss: 223742912.0000\n",
            "Epoch 370/400\n",
            "7/7 [==============================] - 0s 13ms/step - loss: 403801728.0000 - val_loss: 223654752.0000\n",
            "Epoch 371/400\n",
            "7/7 [==============================] - 0s 10ms/step - loss: 403583200.0000 - val_loss: 224182016.0000\n",
            "Epoch 372/400\n",
            "7/7 [==============================] - 0s 11ms/step - loss: 402903840.0000 - val_loss: 224841792.0000\n",
            "Epoch 373/400\n",
            "7/7 [==============================] - 0s 11ms/step - loss: 402847680.0000 - val_loss: 223734512.0000\n",
            "Epoch 374/400\n",
            "7/7 [==============================] - 0s 10ms/step - loss: 402041952.0000 - val_loss: 224052672.0000\n",
            "Epoch 375/400\n",
            "7/7 [==============================] - 0s 10ms/step - loss: 401603136.0000 - val_loss: 223334224.0000\n",
            "Epoch 376/400\n",
            "7/7 [==============================] - 0s 10ms/step - loss: 401518208.0000 - val_loss: 223614992.0000\n",
            "Epoch 377/400\n",
            "7/7 [==============================] - 0s 10ms/step - loss: 400618624.0000 - val_loss: 223732960.0000\n",
            "Epoch 378/400\n",
            "7/7 [==============================] - 0s 10ms/step - loss: 400883616.0000 - val_loss: 223817744.0000\n",
            "Epoch 379/400\n",
            "7/7 [==============================] - 0s 10ms/step - loss: 400246528.0000 - val_loss: 223333856.0000\n",
            "Epoch 380/400\n",
            "7/7 [==============================] - 0s 11ms/step - loss: 399814464.0000 - val_loss: 223799008.0000\n",
            "Epoch 381/400\n",
            "7/7 [==============================] - 0s 11ms/step - loss: 399434336.0000 - val_loss: 223109552.0000\n",
            "Epoch 382/400\n",
            "7/7 [==============================] - 0s 12ms/step - loss: 398745536.0000 - val_loss: 222314752.0000\n",
            "Epoch 383/400\n",
            "7/7 [==============================] - 0s 11ms/step - loss: 398705888.0000 - val_loss: 222990752.0000\n",
            "Epoch 384/400\n",
            "7/7 [==============================] - 0s 10ms/step - loss: 398136416.0000 - val_loss: 222848640.0000\n",
            "Epoch 385/400\n",
            "7/7 [==============================] - 0s 10ms/step - loss: 398048480.0000 - val_loss: 222439424.0000\n",
            "Epoch 386/400\n",
            "7/7 [==============================] - 0s 12ms/step - loss: 397971552.0000 - val_loss: 221622000.0000\n",
            "Epoch 387/400\n",
            "7/7 [==============================] - 0s 11ms/step - loss: 397239008.0000 - val_loss: 221563584.0000\n",
            "Epoch 388/400\n",
            "7/7 [==============================] - 0s 11ms/step - loss: 396986816.0000 - val_loss: 222258000.0000\n",
            "Epoch 389/400\n",
            "7/7 [==============================] - 0s 10ms/step - loss: 396277024.0000 - val_loss: 222066464.0000\n",
            "Epoch 390/400\n",
            "7/7 [==============================] - 0s 10ms/step - loss: 396134080.0000 - val_loss: 221049856.0000\n",
            "Epoch 391/400\n",
            "7/7 [==============================] - 0s 10ms/step - loss: 395605344.0000 - val_loss: 220394928.0000\n",
            "Epoch 392/400\n",
            "7/7 [==============================] - 0s 10ms/step - loss: 395045344.0000 - val_loss: 220225056.0000\n",
            "Epoch 393/400\n",
            "7/7 [==============================] - 0s 10ms/step - loss: 395390080.0000 - val_loss: 220505536.0000\n",
            "Epoch 394/400\n",
            "7/7 [==============================] - 0s 11ms/step - loss: 394387040.0000 - val_loss: 220635296.0000\n",
            "Epoch 395/400\n",
            "7/7 [==============================] - 0s 11ms/step - loss: 394204448.0000 - val_loss: 221218768.0000\n",
            "Epoch 396/400\n",
            "7/7 [==============================] - 0s 10ms/step - loss: 394043264.0000 - val_loss: 220410016.0000\n",
            "Epoch 397/400\n",
            "7/7 [==============================] - 0s 9ms/step - loss: 393305984.0000 - val_loss: 221102448.0000\n",
            "Epoch 398/400\n",
            "7/7 [==============================] - 0s 11ms/step - loss: 393108288.0000 - val_loss: 220791856.0000\n",
            "Epoch 399/400\n",
            "7/7 [==============================] - 0s 10ms/step - loss: 392433440.0000 - val_loss: 220617632.0000\n",
            "Epoch 400/400\n",
            "7/7 [==============================] - 0s 10ms/step - loss: 392324032.0000 - val_loss: 220447920.0000\n"
          ],
          "name": "stdout"
        },
        {
          "output_type": "execute_result",
          "data": {
            "text/plain": [
              "<tensorflow.python.keras.callbacks.History at 0x7eff4b974e10>"
            ]
          },
          "metadata": {
            "tags": []
          },
          "execution_count": 88
        }
      ]
    },
    {
      "cell_type": "code",
      "metadata": {
        "id": "e34xAEtyNWMy"
      },
      "source": [
        "predictTF=modelTF.predict(X_test)"
      ],
      "execution_count": null,
      "outputs": []
    },
    {
      "cell_type": "code",
      "metadata": {
        "colab": {
          "base_uri": "https://localhost:8080/"
        },
        "id": "e-fnW59HNlGW",
        "outputId": "2d1ab429-fa6f-4169-c4b6-4a7ccab7942b"
      },
      "source": [
        "print(f\"The root mean square error is {mean_squared_error(y_test,predictTF)**0.5} for Deep Learning\")\n",
        "print(f\"The R squared value is {r2_score(y_test,predictTF)}\")"
      ],
      "execution_count": null,
      "outputs": [
        {
          "output_type": "stream",
          "text": [
            "The root mean square error is 14847.488502996384 for Deep Learning\n",
            "The R squared value is 0.13571724502794014\n"
          ],
          "name": "stdout"
        }
      ]
    },
    {
      "cell_type": "code",
      "metadata": {
        "id": "hAMWC2PwOauW"
      },
      "source": [
        "dfp=myScaler.transform(dfp.drop('GDP per Capita (PPP)',axis=1))"
      ],
      "execution_count": null,
      "outputs": []
    },
    {
      "cell_type": "code",
      "metadata": {
        "colab": {
          "base_uri": "https://localhost:8080/"
        },
        "id": "qHGmHuBJOp2J",
        "outputId": "c4ea8bf0-09d9-453d-f447-7faa89f7d8a5"
      },
      "source": [
        "modelTF.predict(dfp)"
      ],
      "execution_count": null,
      "outputs": [
        {
          "output_type": "execute_result",
          "data": {
            "text/plain": [
              "array([[22920.146]], dtype=float32)"
            ]
          },
          "metadata": {
            "tags": []
          },
          "execution_count": 93
        }
      ]
    },
    {
      "cell_type": "code",
      "metadata": {
        "id": "sTo_zYmxO8jT"
      },
      "source": [
        "predictTF=predictTF.reshape(45,)"
      ],
      "execution_count": null,
      "outputs": []
    },
    {
      "cell_type": "code",
      "metadata": {
        "colab": {
          "base_uri": "https://localhost:8080/",
          "height": 350
        },
        "id": "DxFjVSffPhTA",
        "outputId": "ea5e9fc6-2de0-4bb6-b660-432125f4f2a5"
      },
      "source": [
        "sns.scatterplot(y_test,predictTF)"
      ],
      "execution_count": null,
      "outputs": [
        {
          "output_type": "stream",
          "text": [
            "/usr/local/lib/python3.7/dist-packages/seaborn/_decorators.py:43: FutureWarning: Pass the following variables as keyword args: x, y. From version 0.12, the only valid positional argument will be `data`, and passing other arguments without an explicit keyword will result in an error or misinterpretation.\n",
            "  FutureWarning\n"
          ],
          "name": "stderr"
        },
        {
          "output_type": "execute_result",
          "data": {
            "text/plain": [
              "<matplotlib.axes._subplots.AxesSubplot at 0x7eff4a7b4710>"
            ]
          },
          "metadata": {
            "tags": []
          },
          "execution_count": 105
        },
        {
          "output_type": "display_data",
          "data": {
            "image/png": "[encoded data removed]",
            "text/plain": [
              "<Figure size 432x288 with 1 Axes>"
            ]
          },
          "metadata": {
            "tags": [],
            "needs_background": "light"
          }
        }
      ]
    },
    {
      "cell_type": "code",
      "metadata": {
        "id": "_tXKBbVxyCQK"
      },
      "source": [
        "from google.colab import files"
      ],
      "execution_count": 21,
      "outputs": []
    },
    {
      "cell_type": "code",
      "metadata": {
        "id": "nK6VRTQnySAF"
      },
      "source": [
        "df.to_csv('df.csv')"
      ],
      "execution_count": null,
      "outputs": []
    },
    {
      "cell_type": "code",
      "metadata": {
        "colab": {
          "base_uri": "https://localhost:8080/",
          "height": 17
        },
        "id": "3unl34cxy9V4",
        "outputId": "6783e42e-4769-4c39-d1f7-552e4a6ea763"
      },
      "source": [
        "files.download('df.csv')"
      ],
      "execution_count": null,
      "outputs": [
        {
          "output_type": "display_data",
          "data": {
            "application/javascript": [
              "\n",
              "    async function download(id, filename, size) {\n",
              "      if (!google.colab.kernel.accessAllowed) {\n",
              "        return;\n",
              "      }\n",
              "      const div = document.createElement('div');\n",
              "      const label = document.createElement('label');\n",
              "      label.textContent = `Downloading \"${filename}\": `;\n",
              "      div.appendChild(label);\n",
              "      const progress = document.createElement('progress');\n",
              "      progress.max = size;\n",
              "      div.appendChild(progress);\n",
              "      document.body.appendChild(div);\n",
              "\n",
              "      const buffers = [];\n",
              "      let downloaded = 0;\n",
              "\n",
              "      const channel = await google.colab.kernel.comms.open(id);\n",
              "      // Send a message to notify the kernel that we're ready.\n",
              "      channel.send({})\n",
              "\n",
              "      for await (const message of channel.messages) {\n",
              "        // Send a message to notify the kernel that we're ready.\n",
              "        channel.send({})\n",
              "        if (message.buffers) {\n",
              "          for (const buffer of message.buffers) {\n",
              "            buffers.push(buffer);\n",
              "            downloaded += buffer.byteLength;\n",
              "            progress.value = downloaded;\n",
              "          }\n",
              "        }\n",
              "      }\n",
              "      const blob = new Blob(buffers, {type: 'application/binary'});\n",
              "      const a = document.createElement('a');\n",
              "      a.href = window.URL.createObjectURL(blob);\n",
              "      a.download = filename;\n",
              "      div.appendChild(a);\n",
              "      a.click();\n",
              "      div.remove();\n",
              "    }\n",
              "  "
            ],
            "text/plain": [
              "<IPython.core.display.Javascript object>"
            ]
          },
          "metadata": {
            "tags": []
          }
        },
        {
          "output_type": "display_data",
          "data": {
            "application/javascript": [
              "download(\"download_63d61477-1dd6-496a-b647-95a0e9479507\", \"df.csv\", 28486)"
            ],
            "text/plain": [
              "<IPython.core.display.Javascript object>"
            ]
          },
          "metadata": {
            "tags": []
          }
        }
      ]
    },
    {
      "cell_type": "code",
      "metadata": {
        "id": "aa334qCJM56Z"
      },
      "source": [
        ""
      ],
      "execution_count": null,
      "outputs": []
    },
    {
      "cell_type": "code",
      "metadata": {
        "id": "M-9_Ix_fzyWc"
      },
      "source": [
        ""
      ],
      "execution_count": null,
      "outputs": []
    },
    {
      "cell_type": "code",
      "metadata": {
        "id": "ult3xGQWNmfZ"
      },
      "source": [
        ""
      ],
      "execution_count": null,
      "outputs": []
    }
  ]
}