{
  "nbformat": 4,
  "nbformat_minor": 0,
  "metadata": {
    "colab": {
      "name": "GDP.ipynb",
      "provenance": [],
      "collapsed_sections": [],
      "authorship_tag": "ABX9TyPn08kk183+Ndc9g/v6tB2N",
      "include_colab_link": true
    },
    "kernelspec": {
      "name": "python3",
      "display_name": "Python 3"
    }
  },
  "cells": [
    {
      "cell_type": "markdown",
      "metadata": {
        "id": "view-in-github",
        "colab_type": "text"
      },
      "source": [
        "<a href=\"https://colab.research.google.com/github/janjuatest/Public-Sector/blob/main/GDP.ipynb\" target=\"_parent\"><img src=\"https://colab.research.google.com/assets/colab-badge.svg\" alt=\"Open In Colab\"/></a>"
      ]
    },
    {
      "cell_type": "markdown",
      "metadata": {
        "id": "tszgo6iJFJA9"
      },
      "source": [
        "This notebook is about the indentification of various social economic factors that can affect GDP per Capita after PPP of countries. The analysis is not exhaustive"
      ]
    },
    {
      "cell_type": "markdown",
      "metadata": {
        "id": "Vm_K9EyDFK77"
      },
      "source": [
        "Import the needed libraries"
      ]
    },
    {
      "cell_type": "code",
      "metadata": {
        "id": "WlyvuHPjsDKx"
      },
      "source": [
        "import pandas as pd\n",
        "import numpy as np\n",
        "import matplotlib.pyplot as plt\n",
        "import seaborn as sns"
      ],
      "execution_count": 1,
      "outputs": []
    },
    {
      "cell_type": "markdown",
      "metadata": {
        "id": "-m1pFHxmFpbF"
      },
      "source": [
        "Install  and import the World Bank data api\n"
      ]
    },
    {
      "cell_type": "code",
      "metadata": {
        "id": "4myM1trwsFT1",
        "colab": {
          "base_uri": "https://localhost:8080/"
        },
        "outputId": "e648561a-d22d-4c18-9601-9b19760c135e"
      },
      "source": [
        "!pip install -U wbdata"
      ],
      "execution_count": 2,
      "outputs": [
        {
          "output_type": "stream",
          "text": [
            "Collecting wbdata\n",
            "  Downloading https://files.pythonhosted.org/packages/76/87/a04308d9c80829c3b9c4eefbda6f4c849f2c8afa89917906c63ca6d611a5/wbdata-0.3.0-py3-none-any.whl\n",
            "Requirement already satisfied, skipping upgrade: tabulate>=0.8.5 in /usr/local/lib/python3.7/dist-packages (from wbdata) (0.8.9)\n",
            "Requirement already satisfied, skipping upgrade: requests>=2.0 in /usr/local/lib/python3.7/dist-packages (from wbdata) (2.23.0)\n",
            "Requirement already satisfied, skipping upgrade: appdirs<2.0,>=1.4 in /usr/local/lib/python3.7/dist-packages (from wbdata) (1.4.4)\n",
            "Requirement already satisfied, skipping upgrade: decorator>=4.0 in /usr/local/lib/python3.7/dist-packages (from wbdata) (4.4.2)\n",
            "Requirement already satisfied, skipping upgrade: idna<3,>=2.5 in /usr/local/lib/python3.7/dist-packages (from requests>=2.0->wbdata) (2.10)\n",
            "Requirement already satisfied, skipping upgrade: urllib3!=1.25.0,!=1.25.1,<1.26,>=1.21.1 in /usr/local/lib/python3.7/dist-packages (from requests>=2.0->wbdata) (1.24.3)\n",
            "Requirement already satisfied, skipping upgrade: chardet<4,>=3.0.2 in /usr/local/lib/python3.7/dist-packages (from requests>=2.0->wbdata) (3.0.4)\n",
            "Requirement already satisfied, skipping upgrade: certifi>=2017.4.17 in /usr/local/lib/python3.7/dist-packages (from requests>=2.0->wbdata) (2020.12.5)\n",
            "Installing collected packages: wbdata\n",
            "Successfully installed wbdata-0.3.0\n"
          ],
          "name": "stdout"
        }
      ]
    },
    {
      "cell_type": "code",
      "metadata": {
        "id": "u3LV4R7osHIg"
      },
      "source": [
        "import wbdata,datetime"
      ],
      "execution_count": 3,
      "outputs": []
    },
    {
      "cell_type": "markdown",
      "metadata": {
        "id": "ufkz6-vZH4M6"
      },
      "source": [
        "Read the data from Figure 2.1 of World Happiness Report .\n",
        "Data is avaiable at \n",
        "https://happiness-report.s3.amazonaws.com/2020/WHR20_DataForFigure2.1.xls\n",
        "Helliwell, John F., Richard Layard, Jeffrey Sachs, and Jan-Emmanuel De Neve, eds. 2020. World Happiness Report 2020. New York: Sustainable Development Solutions Network"
      ]
    },
    {
      "cell_type": "code",
      "metadata": {
        "id": "YhdBRuqX1AqI"
      },
      "source": [
        "happDF=pd.read_excel('happiness.xls')"
      ],
      "execution_count": null,
      "outputs": []
    },
    {
      "cell_type": "markdown",
      "metadata": {
        "id": "uvlKgnN-dLAi"
      },
      "source": [
        "Renaming the columns so that they are more readable"
      ]
    },
    {
      "cell_type": "markdown",
      "metadata": {
        "id": "lp_gj-UnK5D4"
      },
      "source": [
        "DeathsTM is main target column which has the Total Covid-19 Deaths per 100,000 population"
      ]
    },
    {
      "cell_type": "code",
      "metadata": {
        "id": "KZ17605_1ZsD"
      },
      "source": [
        "happDF=happDF[['Country name','Ladder score']]"
      ],
      "execution_count": null,
      "outputs": []
    },
    {
      "cell_type": "markdown",
      "metadata": {
        "id": "iXpAbya5JJNr"
      },
      "source": [
        "We will only take the main Ladder Score from the report.\n",
        "Higher the ladder score the happier the country"
      ]
    },
    {
      "cell_type": "code",
      "metadata": {
        "colab": {
          "base_uri": "https://localhost:8080/",
          "height": 388
        },
        "id": "4C3sgfY91tLa",
        "outputId": "50a9f821-8438-4f0d-aa5e-af8d00a8256c"
      },
      "source": [
        "happDF"
      ],
      "execution_count": null,
      "outputs": [
        {
          "output_type": "execute_result",
          "data": {
            "text/html": [
              "<div>\n",
              "<style scoped>\n",
              "    .dataframe tbody tr th:only-of-type {\n",
              "        vertical-align: middle;\n",
              "    }\n",
              "\n",
              "    .dataframe tbody tr th {\n",
              "        vertical-align: top;\n",
              "    }\n",
              "\n",
              "    .dataframe thead th {\n",
              "        text-align: right;\n",
              "    }\n",
              "</style>\n",
              "<table border=\"1\" class=\"dataframe\">\n",
              "  <thead>\n",
              "    <tr style=\"text-align: right;\">\n",
              "      <th></th>\n",
              "      <th>Country name</th>\n",
              "      <th>Ladder score</th>\n",
              "    </tr>\n",
              "  </thead>\n",
              "  <tbody>\n",
              "    <tr>\n",
              "      <th>0</th>\n",
              "      <td>Finland</td>\n",
              "      <td>7.8087</td>\n",
              "    </tr>\n",
              "    <tr>\n",
              "      <th>1</th>\n",
              "      <td>Denmark</td>\n",
              "      <td>7.6456</td>\n",
              "    </tr>\n",
              "    <tr>\n",
              "      <th>2</th>\n",
              "      <td>Switzerland</td>\n",
              "      <td>7.5599</td>\n",
              "    </tr>\n",
              "    <tr>\n",
              "      <th>3</th>\n",
              "      <td>Iceland</td>\n",
              "      <td>7.5045</td>\n",
              "    </tr>\n",
              "    <tr>\n",
              "      <th>4</th>\n",
              "      <td>Norway</td>\n",
              "      <td>7.4880</td>\n",
              "    </tr>\n",
              "    <tr>\n",
              "      <th>...</th>\n",
              "      <td>...</td>\n",
              "      <td>...</td>\n",
              "    </tr>\n",
              "    <tr>\n",
              "      <th>148</th>\n",
              "      <td>Central African Republic</td>\n",
              "      <td>3.4759</td>\n",
              "    </tr>\n",
              "    <tr>\n",
              "      <th>149</th>\n",
              "      <td>Rwanda</td>\n",
              "      <td>3.3123</td>\n",
              "    </tr>\n",
              "    <tr>\n",
              "      <th>150</th>\n",
              "      <td>Zimbabwe</td>\n",
              "      <td>3.2992</td>\n",
              "    </tr>\n",
              "    <tr>\n",
              "      <th>151</th>\n",
              "      <td>South Sudan</td>\n",
              "      <td>2.8166</td>\n",
              "    </tr>\n",
              "    <tr>\n",
              "      <th>152</th>\n",
              "      <td>Afghanistan</td>\n",
              "      <td>2.5669</td>\n",
              "    </tr>\n",
              "  </tbody>\n",
              "</table>\n",
              "<p>153 rows × 2 columns</p>\n",
              "</div>"
            ],
            "text/plain": [
              "                 Country name  Ladder score\n",
              "0                     Finland        7.8087\n",
              "1                     Denmark        7.6456\n",
              "2                 Switzerland        7.5599\n",
              "3                     Iceland        7.5045\n",
              "4                      Norway        7.4880\n",
              "..                        ...           ...\n",
              "148  Central African Republic        3.4759\n",
              "149                    Rwanda        3.3123\n",
              "150                  Zimbabwe        3.2992\n",
              "151               South Sudan        2.8166\n",
              "152               Afghanistan        2.5669\n",
              "\n",
              "[153 rows x 2 columns]"
            ]
          },
          "metadata": {
            "tags": []
          },
          "execution_count": 9
        }
      ]
    },
    {
      "cell_type": "markdown",
      "metadata": {
        "id": "rN3xVBc-ENe6"
      },
      "source": [
        "Sort the dataframe with highest number of deaths per capita"
      ]
    },
    {
      "cell_type": "code",
      "metadata": {
        "id": "RyfSDJGQLdgP"
      },
      "source": [
        "happDF.columns=['Country','Score']"
      ],
      "execution_count": null,
      "outputs": []
    },
    {
      "cell_type": "code",
      "metadata": {
        "colab": {
          "base_uri": "https://localhost:8080/"
        },
        "id": "neO_EcnjPV6R",
        "outputId": "eb95b6cb-2e16-48f9-bf5a-eab167b7d8d1"
      },
      "source": [
        "happDF.info()"
      ],
      "execution_count": null,
      "outputs": [
        {
          "output_type": "stream",
          "text": [
            "<class 'pandas.core.frame.DataFrame'>\n",
            "RangeIndex: 153 entries, 0 to 152\n",
            "Data columns (total 3 columns):\n",
            " #   Column   Non-Null Count  Dtype  \n",
            "---  ------   --------------  -----  \n",
            " 0   Country  153 non-null    object \n",
            " 1   Score    153 non-null    float64\n",
            " 2   deaths   153 non-null    object \n",
            "dtypes: float64(1), object(2)\n",
            "memory usage: 3.7+ KB\n"
          ],
          "name": "stdout"
        }
      ]
    },
    {
      "cell_type": "markdown",
      "metadata": {
        "id": "Y80-Sbr9wnxh"
      },
      "source": [
        "Start from here after uploading and reading happDF"
      ]
    },
    {
      "cell_type": "code",
      "metadata": {
        "colab": {
          "base_uri": "https://localhost:8080/"
        },
        "id": "___gtggjROcL",
        "outputId": "080d439b-eb41-4717-a0ea-49c62f06da27"
      },
      "source": [
        "wbdata.get_country(\"USA\")"
      ],
      "execution_count": 4,
      "outputs": [
        {
          "output_type": "execute_result",
          "data": {
            "text/plain": [
              "id    name\n",
              "----  -------------\n",
              "USA   United States"
            ]
          },
          "metadata": {
            "tags": []
          },
          "execution_count": 4
        }
      ]
    },
    {
      "cell_type": "code",
      "metadata": {
        "id": "EjFuBPesNC8-"
      },
      "source": [
        "countries = [i['id'] for i in wbdata.get_country()] "
      ],
      "execution_count": 8,
      "outputs": []
    },
    {
      "cell_type": "markdown",
      "metadata": {
        "id": "obhEju9VKqH5"
      },
      "source": [
        "List of all countries/regions for which data is avalaible in World Bank data api. The number is 297 because you also have different regions"
      ]
    },
    {
      "cell_type": "code",
      "metadata": {
        "colab": {
          "base_uri": "https://localhost:8080/"
        },
        "id": "ASG2iLNhPklB",
        "outputId": "16a65799-49ea-4674-c98f-2446d5a7d201"
      },
      "source": [
        "len(countries)"
      ],
      "execution_count": 9,
      "outputs": [
        {
          "output_type": "execute_result",
          "data": {
            "text/plain": [
              "297"
            ]
          },
          "metadata": {
            "tags": []
          },
          "execution_count": 9
        }
      ]
    },
    {
      "cell_type": "markdown",
      "metadata": {
        "id": "LnGxqb4JKis2"
      },
      "source": [
        "The code below collects the data from the World Bank data api"
      ]
    },
    {
      "cell_type": "code",
      "metadata": {
        "id": "qsGqDWvMGcZ4"
      },
      "source": [
        "data_date = datetime.datetime(2019, 1,1), datetime.datetime(2019, 1, 1)\n",
        "indicator1={\"SP.POP.DPND\":\"PopDep\",\"IC.BUS.EASE.XQ\": \"EaseofB\",\"NY.GDP.PCAP.PP.CD\":\"GDPpppPC\",\"SP.POP.GROW\":\"PopGrowth\",\"SP.URB.TOTL.IN.ZS\":\"UrbanPop\"}\n",
        "wbdf1= wbdata.get_dataframe(indicator1, country=countries[0:250], data_date=data_date)\n",
        "wbdf2=wbdata.get_dataframe(indicator1, country=countries[251:], data_date=data_date)\n",
        "df1=pd.concat([wbdf1,wbdf2],axis=0)"
      ],
      "execution_count": null,
      "outputs": []
    },
    {
      "cell_type": "code",
      "metadata": {
        "id": "7LsT0wcI48e2"
      },
      "source": [
        "data_date = datetime.datetime(2019, 1,1), datetime.datetime(2019, 1, 1)\n",
        "indicator1={\"NE.EXP.GNFS.CD\":\"Exports\",\"BX.KLT.DINV.CD.WD\":\"FDI\",\"DT.DOD.PVLX.CD\":\"ForDebt\"}#\n",
        "wbdf1= wbdata.get_dataframe(indicator1, country=countries[0:250], data_date=data_date)\n",
        "wbdf2=wbdata.get_dataframe(indicator1, country=countries[251:], data_date=data_date)\n",
        "df2=pd.concat([wbdf1,wbdf2],axis=0)"
      ],
      "execution_count": 10,
      "outputs": []
    },
    {
      "cell_type": "code",
      "metadata": {
        "colab": {
          "base_uri": "https://localhost:8080/",
          "height": 473
        },
        "id": "D5atvzK97VGO",
        "outputId": "db0deefc-04a5-422c-e2e1-9497f748ecfe"
      },
      "source": [
        "wbdf"
      ],
      "execution_count": 11,
      "outputs": [
        {
          "output_type": "execute_result",
          "data": {
            "text/html": [
              "<div>\n",
              "<style scoped>\n",
              "    .dataframe tbody tr th:only-of-type {\n",
              "        vertical-align: middle;\n",
              "    }\n",
              "\n",
              "    .dataframe tbody tr th {\n",
              "        vertical-align: top;\n",
              "    }\n",
              "\n",
              "    .dataframe thead th {\n",
              "        text-align: right;\n",
              "    }\n",
              "</style>\n",
              "<table border=\"1\" class=\"dataframe\">\n",
              "  <thead>\n",
              "    <tr style=\"text-align: right;\">\n",
              "      <th></th>\n",
              "      <th>country</th>\n",
              "      <th>PopDep</th>\n",
              "      <th>EaseofB</th>\n",
              "      <th>GDPpppPC</th>\n",
              "      <th>PopGrowth</th>\n",
              "      <th>UrbanPop</th>\n",
              "      <th>GexpEdu</th>\n",
              "      <th>MilExpGdp</th>\n",
              "      <th>HosBedP1000</th>\n",
              "      <th>LifeExp</th>\n",
              "      <th>ElecAces</th>\n",
              "      <th>Fem%Lab</th>\n",
              "      <th>Patents</th>\n",
              "      <th>UnemplR</th>\n",
              "      <th>HappScore</th>\n",
              "      <th>EofBScore</th>\n",
              "    </tr>\n",
              "  </thead>\n",
              "  <tbody>\n",
              "    <tr>\n",
              "      <th>0</th>\n",
              "      <td>Aruba</td>\n",
              "      <td>46.367454</td>\n",
              "      <td>NaN</td>\n",
              "      <td>NaN</td>\n",
              "      <td>0.442122</td>\n",
              "      <td>43.546</td>\n",
              "      <td>5.52415</td>\n",
              "      <td>NaN</td>\n",
              "      <td>NaN</td>\n",
              "      <td>75.868000</td>\n",
              "      <td>100.000000</td>\n",
              "      <td>NaN</td>\n",
              "      <td>NaN</td>\n",
              "      <td>NaN</td>\n",
              "      <td>NaN</td>\n",
              "      <td>NaN</td>\n",
              "    </tr>\n",
              "    <tr>\n",
              "      <th>1</th>\n",
              "      <td>Afghanistan</td>\n",
              "      <td>82.109775</td>\n",
              "      <td>173.0</td>\n",
              "      <td>2156.419482</td>\n",
              "      <td>2.311817</td>\n",
              "      <td>25.754</td>\n",
              "      <td>4.22836</td>\n",
              "      <td>0.956772</td>\n",
              "      <td>0.2782</td>\n",
              "      <td>63.763000</td>\n",
              "      <td>98.713203</td>\n",
              "      <td>21.247021</td>\n",
              "      <td>NaN</td>\n",
              "      <td>11.06</td>\n",
              "      <td>2.5669</td>\n",
              "      <td>44.06497</td>\n",
              "    </tr>\n",
              "    <tr>\n",
              "      <th>2</th>\n",
              "      <td>Angola</td>\n",
              "      <td>95.394042</td>\n",
              "      <td>177.0</td>\n",
              "      <td>6965.511374</td>\n",
              "      <td>3.242983</td>\n",
              "      <td>66.177</td>\n",
              "      <td>NaN</td>\n",
              "      <td>2.733341</td>\n",
              "      <td>NaN</td>\n",
              "      <td>59.925000</td>\n",
              "      <td>43.259258</td>\n",
              "      <td>50.202910</td>\n",
              "      <td>6.0</td>\n",
              "      <td>7.00</td>\n",
              "      <td>NaN</td>\n",
              "      <td>41.28838</td>\n",
              "    </tr>\n",
              "    <tr>\n",
              "      <th>3</th>\n",
              "      <td>Albania</td>\n",
              "      <td>46.203522</td>\n",
              "      <td>82.0</td>\n",
              "      <td>14648.267402</td>\n",
              "      <td>-0.426007</td>\n",
              "      <td>61.229</td>\n",
              "      <td>3.96209</td>\n",
              "      <td>1.103581</td>\n",
              "      <td>1.2164</td>\n",
              "      <td>78.194000</td>\n",
              "      <td>100.000000</td>\n",
              "      <td>42.190687</td>\n",
              "      <td>15.0</td>\n",
              "      <td>12.30</td>\n",
              "      <td>4.8827</td>\n",
              "      <td>67.74847</td>\n",
              "    </tr>\n",
              "    <tr>\n",
              "      <th>4</th>\n",
              "      <td>Andorra</td>\n",
              "      <td>NaN</td>\n",
              "      <td>NaN</td>\n",
              "      <td>NaN</td>\n",
              "      <td>0.176454</td>\n",
              "      <td>87.984</td>\n",
              "      <td>3.23707</td>\n",
              "      <td>NaN</td>\n",
              "      <td>NaN</td>\n",
              "      <td>NaN</td>\n",
              "      <td>100.000000</td>\n",
              "      <td>NaN</td>\n",
              "      <td>1.0</td>\n",
              "      <td>NaN</td>\n",
              "      <td>NaN</td>\n",
              "      <td>NaN</td>\n",
              "    </tr>\n",
              "    <tr>\n",
              "      <th>...</th>\n",
              "      <td>...</td>\n",
              "      <td>...</td>\n",
              "      <td>...</td>\n",
              "      <td>...</td>\n",
              "      <td>...</td>\n",
              "      <td>...</td>\n",
              "      <td>...</td>\n",
              "      <td>...</td>\n",
              "      <td>...</td>\n",
              "      <td>...</td>\n",
              "      <td>...</td>\n",
              "      <td>...</td>\n",
              "      <td>...</td>\n",
              "      <td>...</td>\n",
              "      <td>...</td>\n",
              "      <td>...</td>\n",
              "    </tr>\n",
              "    <tr>\n",
              "      <th>258</th>\n",
              "      <td>Kosovo</td>\n",
              "      <td>NaN</td>\n",
              "      <td>57.0</td>\n",
              "      <td>11870.797576</td>\n",
              "      <td>-0.157992</td>\n",
              "      <td>NaN</td>\n",
              "      <td>NaN</td>\n",
              "      <td>0.773671</td>\n",
              "      <td>NaN</td>\n",
              "      <td>71.646341</td>\n",
              "      <td>100.000000</td>\n",
              "      <td>NaN</td>\n",
              "      <td>NaN</td>\n",
              "      <td>NaN</td>\n",
              "      <td>6.3250</td>\n",
              "      <td>73.18473</td>\n",
              "    </tr>\n",
              "    <tr>\n",
              "      <th>259</th>\n",
              "      <td>Yemen, Rep.</td>\n",
              "      <td>72.787716</td>\n",
              "      <td>187.0</td>\n",
              "      <td>NaN</td>\n",
              "      <td>2.300580</td>\n",
              "      <td>37.273</td>\n",
              "      <td>NaN</td>\n",
              "      <td>NaN</td>\n",
              "      <td>NaN</td>\n",
              "      <td>66.087000</td>\n",
              "      <td>62.000000</td>\n",
              "      <td>7.895299</td>\n",
              "      <td>NaN</td>\n",
              "      <td>13.01</td>\n",
              "      <td>3.5200</td>\n",
              "      <td>31.76299</td>\n",
              "    </tr>\n",
              "    <tr>\n",
              "      <th>260</th>\n",
              "      <td>South Africa</td>\n",
              "      <td>52.400879</td>\n",
              "      <td>84.0</td>\n",
              "      <td>13034.164661</td>\n",
              "      <td>1.338617</td>\n",
              "      <td>66.856</td>\n",
              "      <td>5.94285</td>\n",
              "      <td>1.075530</td>\n",
              "      <td>0.7997</td>\n",
              "      <td>63.153000</td>\n",
              "      <td>91.229874</td>\n",
              "      <td>45.281073</td>\n",
              "      <td>657.0</td>\n",
              "      <td>26.91</td>\n",
              "      <td>4.8141</td>\n",
              "      <td>67.01897</td>\n",
              "    </tr>\n",
              "    <tr>\n",
              "      <th>261</th>\n",
              "      <td>Zambia</td>\n",
              "      <td>87.188180</td>\n",
              "      <td>85.0</td>\n",
              "      <td>3624.024939</td>\n",
              "      <td>2.892373</td>\n",
              "      <td>44.072</td>\n",
              "      <td>3.74792</td>\n",
              "      <td>1.429305</td>\n",
              "      <td>0.1628</td>\n",
              "      <td>62.464000</td>\n",
              "      <td>39.812622</td>\n",
              "      <td>48.295769</td>\n",
              "      <td>11.0</td>\n",
              "      <td>12.01</td>\n",
              "      <td>3.7594</td>\n",
              "      <td>66.93648</td>\n",
              "    </tr>\n",
              "    <tr>\n",
              "      <th>262</th>\n",
              "      <td>Zimbabwe</td>\n",
              "      <td>82.277970</td>\n",
              "      <td>140.0</td>\n",
              "      <td>2961.446428</td>\n",
              "      <td>1.419681</td>\n",
              "      <td>32.210</td>\n",
              "      <td>NaN</td>\n",
              "      <td>1.742494</td>\n",
              "      <td>0.1788</td>\n",
              "      <td>60.294000</td>\n",
              "      <td>41.041584</td>\n",
              "      <td>50.928141</td>\n",
              "      <td>NaN</td>\n",
              "      <td>5.07</td>\n",
              "      <td>3.2992</td>\n",
              "      <td>54.46935</td>\n",
              "    </tr>\n",
              "  </tbody>\n",
              "</table>\n",
              "<p>263 rows × 16 columns</p>\n",
              "</div>"
            ],
            "text/plain": [
              "          country     PopDep  EaseofB  ...  UnemplR  HappScore  EofBScore\n",
              "0           Aruba  46.367454      NaN  ...      NaN        NaN        NaN\n",
              "1     Afghanistan  82.109775    173.0  ...    11.06     2.5669   44.06497\n",
              "2          Angola  95.394042    177.0  ...     7.00        NaN   41.28838\n",
              "3         Albania  46.203522     82.0  ...    12.30     4.8827   67.74847\n",
              "4         Andorra        NaN      NaN  ...      NaN        NaN        NaN\n",
              "..            ...        ...      ...  ...      ...        ...        ...\n",
              "258        Kosovo        NaN     57.0  ...      NaN     6.3250   73.18473\n",
              "259   Yemen, Rep.  72.787716    187.0  ...    13.01     3.5200   31.76299\n",
              "260  South Africa  52.400879     84.0  ...    26.91     4.8141   67.01897\n",
              "261        Zambia  87.188180     85.0  ...    12.01     3.7594   66.93648\n",
              "262      Zimbabwe  82.277970    140.0  ...     5.07     3.2992   54.46935\n",
              "\n",
              "[263 rows x 16 columns]"
            ]
          },
          "metadata": {
            "tags": []
          },
          "execution_count": 11
        }
      ]
    },
    {
      "cell_type": "code",
      "metadata": {
        "id": "ul1T_RX2Ltyp"
      },
      "source": [
        "wbdf.set_index('country',inplace=True)"
      ],
      "execution_count": 12,
      "outputs": []
    },
    {
      "cell_type": "code",
      "metadata": {
        "id": "aRWIKyxbNxpC"
      },
      "source": [
        "wbdf2=pd.concat([wbdf,df1,df2],join='outer',axis=1)"
      ],
      "execution_count": 36,
      "outputs": []
    },
    {
      "cell_type": "markdown",
      "metadata": {
        "id": "iDO4WeIk6ldK"
      },
      "source": [
        "Using the above code you can download the data for each indicator and then combine the dataframes to make a master dataframe that has the data for all the countries. \n",
        "This is wbdf above"
      ]
    },
    {
      "cell_type": "code",
      "metadata": {
        "colab": {
          "base_uri": "https://localhost:8080/",
          "height": 504
        },
        "id": "CAMyuytGNxgp",
        "outputId": "13b4515d-8510-4e2a-d820-be48c321b680"
      },
      "source": [
        "wbdf2"
      ],
      "execution_count": 37,
      "outputs": [
        {
          "output_type": "execute_result",
          "data": {
            "text/html": [
              "<div>\n",
              "<style scoped>\n",
              "    .dataframe tbody tr th:only-of-type {\n",
              "        vertical-align: middle;\n",
              "    }\n",
              "\n",
              "    .dataframe tbody tr th {\n",
              "        vertical-align: top;\n",
              "    }\n",
              "\n",
              "    .dataframe thead th {\n",
              "        text-align: right;\n",
              "    }\n",
              "</style>\n",
              "<table border=\"1\" class=\"dataframe\">\n",
              "  <thead>\n",
              "    <tr style=\"text-align: right;\">\n",
              "      <th></th>\n",
              "      <th>PopDep</th>\n",
              "      <th>EaseofB</th>\n",
              "      <th>GDPpppPC</th>\n",
              "      <th>PopGrowth</th>\n",
              "      <th>UrbanPop</th>\n",
              "      <th>GexpEdu</th>\n",
              "      <th>MilExpGdp</th>\n",
              "      <th>HosBedP1000</th>\n",
              "      <th>LifeExp</th>\n",
              "      <th>ElecAces</th>\n",
              "      <th>Fem%Lab</th>\n",
              "      <th>Patents</th>\n",
              "      <th>UnemplR</th>\n",
              "      <th>HappScore</th>\n",
              "      <th>EofBScore</th>\n",
              "      <th>Exports</th>\n",
              "      <th>FDI</th>\n",
              "      <th>ForDebt</th>\n",
              "      <th>Exports</th>\n",
              "      <th>FDI</th>\n",
              "      <th>ForDebt</th>\n",
              "      <th>FemaleLit</th>\n",
              "    </tr>\n",
              "    <tr>\n",
              "      <th>country</th>\n",
              "      <th></th>\n",
              "      <th></th>\n",
              "      <th></th>\n",
              "      <th></th>\n",
              "      <th></th>\n",
              "      <th></th>\n",
              "      <th></th>\n",
              "      <th></th>\n",
              "      <th></th>\n",
              "      <th></th>\n",
              "      <th></th>\n",
              "      <th></th>\n",
              "      <th></th>\n",
              "      <th></th>\n",
              "      <th></th>\n",
              "      <th></th>\n",
              "      <th></th>\n",
              "      <th></th>\n",
              "      <th></th>\n",
              "      <th></th>\n",
              "      <th></th>\n",
              "      <th></th>\n",
              "    </tr>\n",
              "  </thead>\n",
              "  <tbody>\n",
              "    <tr>\n",
              "      <th>Aruba</th>\n",
              "      <td>46.367454</td>\n",
              "      <td>NaN</td>\n",
              "      <td>NaN</td>\n",
              "      <td>0.442122</td>\n",
              "      <td>43.546</td>\n",
              "      <td>5.52415</td>\n",
              "      <td>NaN</td>\n",
              "      <td>NaN</td>\n",
              "      <td>75.868000</td>\n",
              "      <td>100.000000</td>\n",
              "      <td>NaN</td>\n",
              "      <td>NaN</td>\n",
              "      <td>NaN</td>\n",
              "      <td>NaN</td>\n",
              "      <td>NaN</td>\n",
              "      <td>NaN</td>\n",
              "      <td>-7.604174e+07</td>\n",
              "      <td>NaN</td>\n",
              "      <td>NaN</td>\n",
              "      <td>-7.604174e+07</td>\n",
              "      <td>NaN</td>\n",
              "      <td>96.719780</td>\n",
              "    </tr>\n",
              "    <tr>\n",
              "      <th>Afghanistan</th>\n",
              "      <td>82.109775</td>\n",
              "      <td>173.0</td>\n",
              "      <td>2156.419482</td>\n",
              "      <td>2.311817</td>\n",
              "      <td>25.754</td>\n",
              "      <td>4.22836</td>\n",
              "      <td>0.956772</td>\n",
              "      <td>0.2782</td>\n",
              "      <td>63.763000</td>\n",
              "      <td>98.713203</td>\n",
              "      <td>21.247021</td>\n",
              "      <td>NaN</td>\n",
              "      <td>11.06</td>\n",
              "      <td>2.5669</td>\n",
              "      <td>44.06497</td>\n",
              "      <td>NaN</td>\n",
              "      <td>2.340455e+07</td>\n",
              "      <td>1.943399e+09</td>\n",
              "      <td>NaN</td>\n",
              "      <td>2.340455e+07</td>\n",
              "      <td>1.943399e+09</td>\n",
              "      <td>NaN</td>\n",
              "    </tr>\n",
              "    <tr>\n",
              "      <th>Angola</th>\n",
              "      <td>95.394042</td>\n",
              "      <td>177.0</td>\n",
              "      <td>6965.511374</td>\n",
              "      <td>3.242983</td>\n",
              "      <td>66.177</td>\n",
              "      <td>NaN</td>\n",
              "      <td>2.733341</td>\n",
              "      <td>NaN</td>\n",
              "      <td>59.925000</td>\n",
              "      <td>43.259258</td>\n",
              "      <td>50.202910</td>\n",
              "      <td>6.0</td>\n",
              "      <td>7.00</td>\n",
              "      <td>NaN</td>\n",
              "      <td>41.28838</td>\n",
              "      <td>3.602087e+10</td>\n",
              "      <td>-4.098479e+09</td>\n",
              "      <td>4.052814e+10</td>\n",
              "      <td>3.602087e+10</td>\n",
              "      <td>-4.098479e+09</td>\n",
              "      <td>4.052814e+10</td>\n",
              "      <td>NaN</td>\n",
              "    </tr>\n",
              "    <tr>\n",
              "      <th>Albania</th>\n",
              "      <td>46.203522</td>\n",
              "      <td>82.0</td>\n",
              "      <td>14648.267402</td>\n",
              "      <td>-0.426007</td>\n",
              "      <td>61.229</td>\n",
              "      <td>3.96209</td>\n",
              "      <td>1.103581</td>\n",
              "      <td>1.2164</td>\n",
              "      <td>78.194000</td>\n",
              "      <td>100.000000</td>\n",
              "      <td>42.190687</td>\n",
              "      <td>15.0</td>\n",
              "      <td>12.30</td>\n",
              "      <td>4.8827</td>\n",
              "      <td>67.74847</td>\n",
              "      <td>4.821431e+09</td>\n",
              "      <td>1.201022e+09</td>\n",
              "      <td>4.980870e+09</td>\n",
              "      <td>4.821431e+09</td>\n",
              "      <td>1.201022e+09</td>\n",
              "      <td>4.980870e+09</td>\n",
              "      <td>NaN</td>\n",
              "    </tr>\n",
              "    <tr>\n",
              "      <th>Andorra</th>\n",
              "      <td>NaN</td>\n",
              "      <td>NaN</td>\n",
              "      <td>NaN</td>\n",
              "      <td>0.176454</td>\n",
              "      <td>87.984</td>\n",
              "      <td>3.23707</td>\n",
              "      <td>NaN</td>\n",
              "      <td>NaN</td>\n",
              "      <td>NaN</td>\n",
              "      <td>100.000000</td>\n",
              "      <td>NaN</td>\n",
              "      <td>1.0</td>\n",
              "      <td>NaN</td>\n",
              "      <td>NaN</td>\n",
              "      <td>NaN</td>\n",
              "      <td>NaN</td>\n",
              "      <td>NaN</td>\n",
              "      <td>NaN</td>\n",
              "      <td>NaN</td>\n",
              "      <td>NaN</td>\n",
              "      <td>NaN</td>\n",
              "      <td>NaN</td>\n",
              "    </tr>\n",
              "    <tr>\n",
              "      <th>...</th>\n",
              "      <td>...</td>\n",
              "      <td>...</td>\n",
              "      <td>...</td>\n",
              "      <td>...</td>\n",
              "      <td>...</td>\n",
              "      <td>...</td>\n",
              "      <td>...</td>\n",
              "      <td>...</td>\n",
              "      <td>...</td>\n",
              "      <td>...</td>\n",
              "      <td>...</td>\n",
              "      <td>...</td>\n",
              "      <td>...</td>\n",
              "      <td>...</td>\n",
              "      <td>...</td>\n",
              "      <td>...</td>\n",
              "      <td>...</td>\n",
              "      <td>...</td>\n",
              "      <td>...</td>\n",
              "      <td>...</td>\n",
              "      <td>...</td>\n",
              "      <td>...</td>\n",
              "    </tr>\n",
              "    <tr>\n",
              "      <th>Kosovo</th>\n",
              "      <td>NaN</td>\n",
              "      <td>57.0</td>\n",
              "      <td>11870.797576</td>\n",
              "      <td>-0.157992</td>\n",
              "      <td>NaN</td>\n",
              "      <td>NaN</td>\n",
              "      <td>0.773671</td>\n",
              "      <td>NaN</td>\n",
              "      <td>71.646341</td>\n",
              "      <td>100.000000</td>\n",
              "      <td>NaN</td>\n",
              "      <td>NaN</td>\n",
              "      <td>NaN</td>\n",
              "      <td>6.3250</td>\n",
              "      <td>73.18473</td>\n",
              "      <td>2.315662e+09</td>\n",
              "      <td>2.850816e+08</td>\n",
              "      <td>4.838109e+08</td>\n",
              "      <td>2.315662e+09</td>\n",
              "      <td>2.850816e+08</td>\n",
              "      <td>4.838109e+08</td>\n",
              "      <td>NaN</td>\n",
              "    </tr>\n",
              "    <tr>\n",
              "      <th>Yemen, Rep.</th>\n",
              "      <td>72.787716</td>\n",
              "      <td>187.0</td>\n",
              "      <td>NaN</td>\n",
              "      <td>2.300580</td>\n",
              "      <td>37.273</td>\n",
              "      <td>NaN</td>\n",
              "      <td>NaN</td>\n",
              "      <td>NaN</td>\n",
              "      <td>66.087000</td>\n",
              "      <td>62.000000</td>\n",
              "      <td>7.895299</td>\n",
              "      <td>NaN</td>\n",
              "      <td>13.01</td>\n",
              "      <td>3.5200</td>\n",
              "      <td>31.76299</td>\n",
              "      <td>NaN</td>\n",
              "      <td>-3.709828e+08</td>\n",
              "      <td>5.622578e+09</td>\n",
              "      <td>NaN</td>\n",
              "      <td>-3.709828e+08</td>\n",
              "      <td>5.622578e+09</td>\n",
              "      <td>NaN</td>\n",
              "    </tr>\n",
              "    <tr>\n",
              "      <th>South Africa</th>\n",
              "      <td>52.400879</td>\n",
              "      <td>84.0</td>\n",
              "      <td>13034.164661</td>\n",
              "      <td>1.338617</td>\n",
              "      <td>66.856</td>\n",
              "      <td>5.94285</td>\n",
              "      <td>1.075530</td>\n",
              "      <td>0.7997</td>\n",
              "      <td>63.153000</td>\n",
              "      <td>91.229874</td>\n",
              "      <td>45.281073</td>\n",
              "      <td>657.0</td>\n",
              "      <td>26.91</td>\n",
              "      <td>4.8141</td>\n",
              "      <td>67.01897</td>\n",
              "      <td>1.049158e+11</td>\n",
              "      <td>4.624503e+09</td>\n",
              "      <td>7.610179e+10</td>\n",
              "      <td>1.049158e+11</td>\n",
              "      <td>4.624503e+09</td>\n",
              "      <td>7.610179e+10</td>\n",
              "      <td>91.713989</td>\n",
              "    </tr>\n",
              "    <tr>\n",
              "      <th>Zambia</th>\n",
              "      <td>87.188180</td>\n",
              "      <td>85.0</td>\n",
              "      <td>3624.024939</td>\n",
              "      <td>2.892373</td>\n",
              "      <td>44.072</td>\n",
              "      <td>3.74792</td>\n",
              "      <td>1.429305</td>\n",
              "      <td>0.1628</td>\n",
              "      <td>62.464000</td>\n",
              "      <td>39.812622</td>\n",
              "      <td>48.295769</td>\n",
              "      <td>11.0</td>\n",
              "      <td>12.01</td>\n",
              "      <td>3.7594</td>\n",
              "      <td>66.93648</td>\n",
              "      <td>8.073611e+09</td>\n",
              "      <td>5.479679e+08</td>\n",
              "      <td>1.049975e+10</td>\n",
              "      <td>8.073611e+09</td>\n",
              "      <td>5.479679e+08</td>\n",
              "      <td>1.049975e+10</td>\n",
              "      <td>77.746643</td>\n",
              "    </tr>\n",
              "    <tr>\n",
              "      <th>Zimbabwe</th>\n",
              "      <td>82.277970</td>\n",
              "      <td>140.0</td>\n",
              "      <td>2961.446428</td>\n",
              "      <td>1.419681</td>\n",
              "      <td>32.210</td>\n",
              "      <td>NaN</td>\n",
              "      <td>1.742494</td>\n",
              "      <td>0.1788</td>\n",
              "      <td>60.294000</td>\n",
              "      <td>41.041584</td>\n",
              "      <td>50.928141</td>\n",
              "      <td>NaN</td>\n",
              "      <td>5.07</td>\n",
              "      <td>3.2992</td>\n",
              "      <td>54.46935</td>\n",
              "      <td>NaN</td>\n",
              "      <td>2.800000e+08</td>\n",
              "      <td>5.884767e+09</td>\n",
              "      <td>NaN</td>\n",
              "      <td>2.800000e+08</td>\n",
              "      <td>5.884767e+09</td>\n",
              "      <td>NaN</td>\n",
              "    </tr>\n",
              "  </tbody>\n",
              "</table>\n",
              "<p>263 rows × 22 columns</p>\n",
              "</div>"
            ],
            "text/plain": [
              "                 PopDep  EaseofB  ...       ForDebt  FemaleLit\n",
              "country                           ...                         \n",
              "Aruba         46.367454      NaN  ...           NaN  96.719780\n",
              "Afghanistan   82.109775    173.0  ...  1.943399e+09        NaN\n",
              "Angola        95.394042    177.0  ...  4.052814e+10        NaN\n",
              "Albania       46.203522     82.0  ...  4.980870e+09        NaN\n",
              "Andorra             NaN      NaN  ...           NaN        NaN\n",
              "...                 ...      ...  ...           ...        ...\n",
              "Kosovo              NaN     57.0  ...  4.838109e+08        NaN\n",
              "Yemen, Rep.   72.787716    187.0  ...  5.622578e+09        NaN\n",
              "South Africa  52.400879     84.0  ...  7.610179e+10  91.713989\n",
              "Zambia        87.188180     85.0  ...  1.049975e+10  77.746643\n",
              "Zimbabwe      82.277970    140.0  ...  5.884767e+09        NaN\n",
              "\n",
              "[263 rows x 22 columns]"
            ]
          },
          "metadata": {
            "tags": []
          },
          "execution_count": 37
        }
      ]
    },
    {
      "cell_type": "markdown",
      "metadata": {
        "id": "k5WpZdx_7li9"
      },
      "source": [
        "Lets get data for one more indicator i.e. Female Literacy Rate and then combine it into our master dataframe wbdf"
      ]
    },
    {
      "cell_type": "code",
      "metadata": {
        "id": "kM-v54HDNxYD"
      },
      "source": [
        "data_date = datetime.datetime(2010, 1,1), datetime.datetime(2010, 1, 1)\n",
        "indicator1={\"SE.ADT.LITR.FE.ZS\":\"FemaleLit\"}\n",
        "wbdf1= wbdata.get_dataframe(indicator1, country=countries[0:250], data_date=data_date)\n",
        "wbdf2=wbdata.get_dataframe(indicator1, country=countries[251:], data_date=data_date)\n",
        "df2=pd.concat([wbdf1,wbdf2],axis=0)"
      ],
      "execution_count": 32,
      "outputs": []
    },
    {
      "cell_type": "code",
      "metadata": {
        "colab": {
          "base_uri": "https://localhost:8080/"
        },
        "id": "MJ0cwI8P79Y5",
        "outputId": "e52ca295-9f6d-4cd2-a79a-539d66a37b45"
      },
      "source": [
        "df2.notna().sum()"
      ],
      "execution_count": 33,
      "outputs": [
        {
          "output_type": "execute_result",
          "data": {
            "text/plain": [
              "FemaleLit    92\n",
              "dtype: int64"
            ]
          },
          "metadata": {
            "tags": []
          },
          "execution_count": 33
        }
      ]
    },
    {
      "cell_type": "markdown",
      "metadata": {
        "id": "-O5Jc3-98rpO"
      },
      "source": [
        "We only have data from 92 countries for female literacy and that too is also quite old (2010) so lets drop the variable"
      ]
    },
    {
      "cell_type": "code",
      "metadata": {
        "id": "bSlgHLgDTv49",
        "colab": {
          "base_uri": "https://localhost:8080/",
          "height": 504
        },
        "outputId": "a41422c2-087d-489f-f559-c9f84b2c339c"
      },
      "source": [
        "wbdf=pd.concat([wbdf,df2],join='outer',axis=1)"
      ],
      "execution_count": 20,
      "outputs": [
        {
          "output_type": "execute_result",
          "data": {
            "text/html": [
              "<div>\n",
              "<style scoped>\n",
              "    .dataframe tbody tr th:only-of-type {\n",
              "        vertical-align: middle;\n",
              "    }\n",
              "\n",
              "    .dataframe tbody tr th {\n",
              "        vertical-align: top;\n",
              "    }\n",
              "\n",
              "    .dataframe thead th {\n",
              "        text-align: right;\n",
              "    }\n",
              "</style>\n",
              "<table border=\"1\" class=\"dataframe\">\n",
              "  <thead>\n",
              "    <tr style=\"text-align: right;\">\n",
              "      <th></th>\n",
              "      <th>PopDep</th>\n",
              "      <th>EaseofB</th>\n",
              "      <th>GDPpppPC</th>\n",
              "      <th>PopGrowth</th>\n",
              "      <th>UrbanPop</th>\n",
              "      <th>GexpEdu</th>\n",
              "      <th>MilExpGdp</th>\n",
              "      <th>HosBedP1000</th>\n",
              "      <th>LifeExp</th>\n",
              "      <th>ElecAces</th>\n",
              "      <th>Fem%Lab</th>\n",
              "      <th>Patents</th>\n",
              "      <th>UnemplR</th>\n",
              "      <th>HappScore</th>\n",
              "      <th>EofBScore</th>\n",
              "      <th>Exports</th>\n",
              "      <th>FDI</th>\n",
              "      <th>ForDebt</th>\n",
              "      <th>FemaleLit</th>\n",
              "      <th>FemaleLit</th>\n",
              "    </tr>\n",
              "    <tr>\n",
              "      <th>country</th>\n",
              "      <th></th>\n",
              "      <th></th>\n",
              "      <th></th>\n",
              "      <th></th>\n",
              "      <th></th>\n",
              "      <th></th>\n",
              "      <th></th>\n",
              "      <th></th>\n",
              "      <th></th>\n",
              "      <th></th>\n",
              "      <th></th>\n",
              "      <th></th>\n",
              "      <th></th>\n",
              "      <th></th>\n",
              "      <th></th>\n",
              "      <th></th>\n",
              "      <th></th>\n",
              "      <th></th>\n",
              "      <th></th>\n",
              "      <th></th>\n",
              "    </tr>\n",
              "  </thead>\n",
              "  <tbody>\n",
              "    <tr>\n",
              "      <th>Aruba</th>\n",
              "      <td>46.367454</td>\n",
              "      <td>NaN</td>\n",
              "      <td>NaN</td>\n",
              "      <td>0.442122</td>\n",
              "      <td>43.546</td>\n",
              "      <td>5.52415</td>\n",
              "      <td>NaN</td>\n",
              "      <td>NaN</td>\n",
              "      <td>75.868000</td>\n",
              "      <td>100.000000</td>\n",
              "      <td>NaN</td>\n",
              "      <td>NaN</td>\n",
              "      <td>NaN</td>\n",
              "      <td>NaN</td>\n",
              "      <td>NaN</td>\n",
              "      <td>NaN</td>\n",
              "      <td>-7.604174e+07</td>\n",
              "      <td>NaN</td>\n",
              "      <td>NaN</td>\n",
              "      <td>NaN</td>\n",
              "    </tr>\n",
              "    <tr>\n",
              "      <th>Afghanistan</th>\n",
              "      <td>82.109775</td>\n",
              "      <td>173.0</td>\n",
              "      <td>2156.419482</td>\n",
              "      <td>2.311817</td>\n",
              "      <td>25.754</td>\n",
              "      <td>4.22836</td>\n",
              "      <td>0.956772</td>\n",
              "      <td>0.2782</td>\n",
              "      <td>63.763000</td>\n",
              "      <td>98.713203</td>\n",
              "      <td>21.247021</td>\n",
              "      <td>NaN</td>\n",
              "      <td>11.06</td>\n",
              "      <td>2.5669</td>\n",
              "      <td>44.06497</td>\n",
              "      <td>NaN</td>\n",
              "      <td>2.340455e+07</td>\n",
              "      <td>1.943399e+09</td>\n",
              "      <td>NaN</td>\n",
              "      <td>NaN</td>\n",
              "    </tr>\n",
              "    <tr>\n",
              "      <th>Angola</th>\n",
              "      <td>95.394042</td>\n",
              "      <td>177.0</td>\n",
              "      <td>6965.511374</td>\n",
              "      <td>3.242983</td>\n",
              "      <td>66.177</td>\n",
              "      <td>NaN</td>\n",
              "      <td>2.733341</td>\n",
              "      <td>NaN</td>\n",
              "      <td>59.925000</td>\n",
              "      <td>43.259258</td>\n",
              "      <td>50.202910</td>\n",
              "      <td>6.0</td>\n",
              "      <td>7.00</td>\n",
              "      <td>NaN</td>\n",
              "      <td>41.28838</td>\n",
              "      <td>3.602087e+10</td>\n",
              "      <td>-4.098479e+09</td>\n",
              "      <td>4.052814e+10</td>\n",
              "      <td>NaN</td>\n",
              "      <td>NaN</td>\n",
              "    </tr>\n",
              "    <tr>\n",
              "      <th>Albania</th>\n",
              "      <td>46.203522</td>\n",
              "      <td>82.0</td>\n",
              "      <td>14648.267402</td>\n",
              "      <td>-0.426007</td>\n",
              "      <td>61.229</td>\n",
              "      <td>3.96209</td>\n",
              "      <td>1.103581</td>\n",
              "      <td>1.2164</td>\n",
              "      <td>78.194000</td>\n",
              "      <td>100.000000</td>\n",
              "      <td>42.190687</td>\n",
              "      <td>15.0</td>\n",
              "      <td>12.30</td>\n",
              "      <td>4.8827</td>\n",
              "      <td>67.74847</td>\n",
              "      <td>4.821431e+09</td>\n",
              "      <td>1.201022e+09</td>\n",
              "      <td>4.980870e+09</td>\n",
              "      <td>NaN</td>\n",
              "      <td>NaN</td>\n",
              "    </tr>\n",
              "    <tr>\n",
              "      <th>Andorra</th>\n",
              "      <td>NaN</td>\n",
              "      <td>NaN</td>\n",
              "      <td>NaN</td>\n",
              "      <td>0.176454</td>\n",
              "      <td>87.984</td>\n",
              "      <td>3.23707</td>\n",
              "      <td>NaN</td>\n",
              "      <td>NaN</td>\n",
              "      <td>NaN</td>\n",
              "      <td>100.000000</td>\n",
              "      <td>NaN</td>\n",
              "      <td>1.0</td>\n",
              "      <td>NaN</td>\n",
              "      <td>NaN</td>\n",
              "      <td>NaN</td>\n",
              "      <td>NaN</td>\n",
              "      <td>NaN</td>\n",
              "      <td>NaN</td>\n",
              "      <td>NaN</td>\n",
              "      <td>NaN</td>\n",
              "    </tr>\n",
              "    <tr>\n",
              "      <th>...</th>\n",
              "      <td>...</td>\n",
              "      <td>...</td>\n",
              "      <td>...</td>\n",
              "      <td>...</td>\n",
              "      <td>...</td>\n",
              "      <td>...</td>\n",
              "      <td>...</td>\n",
              "      <td>...</td>\n",
              "      <td>...</td>\n",
              "      <td>...</td>\n",
              "      <td>...</td>\n",
              "      <td>...</td>\n",
              "      <td>...</td>\n",
              "      <td>...</td>\n",
              "      <td>...</td>\n",
              "      <td>...</td>\n",
              "      <td>...</td>\n",
              "      <td>...</td>\n",
              "      <td>...</td>\n",
              "      <td>...</td>\n",
              "    </tr>\n",
              "    <tr>\n",
              "      <th>Kosovo</th>\n",
              "      <td>NaN</td>\n",
              "      <td>57.0</td>\n",
              "      <td>11870.797576</td>\n",
              "      <td>-0.157992</td>\n",
              "      <td>NaN</td>\n",
              "      <td>NaN</td>\n",
              "      <td>0.773671</td>\n",
              "      <td>NaN</td>\n",
              "      <td>71.646341</td>\n",
              "      <td>100.000000</td>\n",
              "      <td>NaN</td>\n",
              "      <td>NaN</td>\n",
              "      <td>NaN</td>\n",
              "      <td>6.3250</td>\n",
              "      <td>73.18473</td>\n",
              "      <td>2.315662e+09</td>\n",
              "      <td>2.850816e+08</td>\n",
              "      <td>4.838109e+08</td>\n",
              "      <td>NaN</td>\n",
              "      <td>NaN</td>\n",
              "    </tr>\n",
              "    <tr>\n",
              "      <th>Yemen, Rep.</th>\n",
              "      <td>72.787716</td>\n",
              "      <td>187.0</td>\n",
              "      <td>NaN</td>\n",
              "      <td>2.300580</td>\n",
              "      <td>37.273</td>\n",
              "      <td>NaN</td>\n",
              "      <td>NaN</td>\n",
              "      <td>NaN</td>\n",
              "      <td>66.087000</td>\n",
              "      <td>62.000000</td>\n",
              "      <td>7.895299</td>\n",
              "      <td>NaN</td>\n",
              "      <td>13.01</td>\n",
              "      <td>3.5200</td>\n",
              "      <td>31.76299</td>\n",
              "      <td>NaN</td>\n",
              "      <td>-3.709828e+08</td>\n",
              "      <td>5.622578e+09</td>\n",
              "      <td>NaN</td>\n",
              "      <td>NaN</td>\n",
              "    </tr>\n",
              "    <tr>\n",
              "      <th>South Africa</th>\n",
              "      <td>52.400879</td>\n",
              "      <td>84.0</td>\n",
              "      <td>13034.164661</td>\n",
              "      <td>1.338617</td>\n",
              "      <td>66.856</td>\n",
              "      <td>5.94285</td>\n",
              "      <td>1.075530</td>\n",
              "      <td>0.7997</td>\n",
              "      <td>63.153000</td>\n",
              "      <td>91.229874</td>\n",
              "      <td>45.281073</td>\n",
              "      <td>657.0</td>\n",
              "      <td>26.91</td>\n",
              "      <td>4.8141</td>\n",
              "      <td>67.01897</td>\n",
              "      <td>1.049158e+11</td>\n",
              "      <td>4.624503e+09</td>\n",
              "      <td>7.610179e+10</td>\n",
              "      <td>NaN</td>\n",
              "      <td>86.458633</td>\n",
              "    </tr>\n",
              "    <tr>\n",
              "      <th>Zambia</th>\n",
              "      <td>87.188180</td>\n",
              "      <td>85.0</td>\n",
              "      <td>3624.024939</td>\n",
              "      <td>2.892373</td>\n",
              "      <td>44.072</td>\n",
              "      <td>3.74792</td>\n",
              "      <td>1.429305</td>\n",
              "      <td>0.1628</td>\n",
              "      <td>62.464000</td>\n",
              "      <td>39.812622</td>\n",
              "      <td>48.295769</td>\n",
              "      <td>11.0</td>\n",
              "      <td>12.01</td>\n",
              "      <td>3.7594</td>\n",
              "      <td>66.93648</td>\n",
              "      <td>8.073611e+09</td>\n",
              "      <td>5.479679e+08</td>\n",
              "      <td>1.049975e+10</td>\n",
              "      <td>NaN</td>\n",
              "      <td>NaN</td>\n",
              "    </tr>\n",
              "    <tr>\n",
              "      <th>Zimbabwe</th>\n",
              "      <td>82.277970</td>\n",
              "      <td>140.0</td>\n",
              "      <td>2961.446428</td>\n",
              "      <td>1.419681</td>\n",
              "      <td>32.210</td>\n",
              "      <td>NaN</td>\n",
              "      <td>1.742494</td>\n",
              "      <td>0.1788</td>\n",
              "      <td>60.294000</td>\n",
              "      <td>41.041584</td>\n",
              "      <td>50.928141</td>\n",
              "      <td>NaN</td>\n",
              "      <td>5.07</td>\n",
              "      <td>3.2992</td>\n",
              "      <td>54.46935</td>\n",
              "      <td>NaN</td>\n",
              "      <td>2.800000e+08</td>\n",
              "      <td>5.884767e+09</td>\n",
              "      <td>NaN</td>\n",
              "      <td>NaN</td>\n",
              "    </tr>\n",
              "  </tbody>\n",
              "</table>\n",
              "<p>263 rows × 20 columns</p>\n",
              "</div>"
            ],
            "text/plain": [
              "                 PopDep  EaseofB  ...  FemaleLit  FemaleLit\n",
              "country                           ...                      \n",
              "Aruba         46.367454      NaN  ...        NaN        NaN\n",
              "Afghanistan   82.109775    173.0  ...        NaN        NaN\n",
              "Angola        95.394042    177.0  ...        NaN        NaN\n",
              "Albania       46.203522     82.0  ...        NaN        NaN\n",
              "Andorra             NaN      NaN  ...        NaN        NaN\n",
              "...                 ...      ...  ...        ...        ...\n",
              "Kosovo              NaN     57.0  ...        NaN        NaN\n",
              "Yemen, Rep.   72.787716    187.0  ...        NaN        NaN\n",
              "South Africa  52.400879     84.0  ...        NaN  86.458633\n",
              "Zambia        87.188180     85.0  ...        NaN        NaN\n",
              "Zimbabwe      82.277970    140.0  ...        NaN        NaN\n",
              "\n",
              "[263 rows x 20 columns]"
            ]
          },
          "metadata": {
            "tags": []
          },
          "execution_count": 20
        }
      ]
    },
    {
      "cell_type": "code",
      "metadata": {
        "id": "1Dgg3LRwTv1N"
      },
      "source": [
        "wbdf.drop(columns=['FemaleLit'],axis=1,inplace=True)"
      ],
      "execution_count": 35,
      "outputs": []
    },
    {
      "cell_type": "code",
      "metadata": {
        "id": "Q1GTUBNNRlQe",
        "colab": {
          "base_uri": "https://localhost:8080/",
          "height": 504
        },
        "outputId": "5e77daf7-0e2b-48a9-e7e0-46e50b7fccbf"
      },
      "source": [
        "wbdf"
      ],
      "execution_count": 38,
      "outputs": [
        {
          "output_type": "execute_result",
          "data": {
            "text/html": [
              "<div>\n",
              "<style scoped>\n",
              "    .dataframe tbody tr th:only-of-type {\n",
              "        vertical-align: middle;\n",
              "    }\n",
              "\n",
              "    .dataframe tbody tr th {\n",
              "        vertical-align: top;\n",
              "    }\n",
              "\n",
              "    .dataframe thead th {\n",
              "        text-align: right;\n",
              "    }\n",
              "</style>\n",
              "<table border=\"1\" class=\"dataframe\">\n",
              "  <thead>\n",
              "    <tr style=\"text-align: right;\">\n",
              "      <th></th>\n",
              "      <th>PopDep</th>\n",
              "      <th>EaseofB</th>\n",
              "      <th>GDPpppPC</th>\n",
              "      <th>PopGrowth</th>\n",
              "      <th>UrbanPop</th>\n",
              "      <th>GexpEdu</th>\n",
              "      <th>MilExpGdp</th>\n",
              "      <th>HosBedP1000</th>\n",
              "      <th>LifeExp</th>\n",
              "      <th>ElecAces</th>\n",
              "      <th>Fem%Lab</th>\n",
              "      <th>Patents</th>\n",
              "      <th>UnemplR</th>\n",
              "      <th>HappScore</th>\n",
              "      <th>EofBScore</th>\n",
              "      <th>Exports</th>\n",
              "      <th>FDI</th>\n",
              "      <th>ForDebt</th>\n",
              "    </tr>\n",
              "    <tr>\n",
              "      <th>country</th>\n",
              "      <th></th>\n",
              "      <th></th>\n",
              "      <th></th>\n",
              "      <th></th>\n",
              "      <th></th>\n",
              "      <th></th>\n",
              "      <th></th>\n",
              "      <th></th>\n",
              "      <th></th>\n",
              "      <th></th>\n",
              "      <th></th>\n",
              "      <th></th>\n",
              "      <th></th>\n",
              "      <th></th>\n",
              "      <th></th>\n",
              "      <th></th>\n",
              "      <th></th>\n",
              "      <th></th>\n",
              "    </tr>\n",
              "  </thead>\n",
              "  <tbody>\n",
              "    <tr>\n",
              "      <th>Aruba</th>\n",
              "      <td>46.367454</td>\n",
              "      <td>NaN</td>\n",
              "      <td>NaN</td>\n",
              "      <td>0.442122</td>\n",
              "      <td>43.546</td>\n",
              "      <td>5.52415</td>\n",
              "      <td>NaN</td>\n",
              "      <td>NaN</td>\n",
              "      <td>75.868000</td>\n",
              "      <td>100.000000</td>\n",
              "      <td>NaN</td>\n",
              "      <td>NaN</td>\n",
              "      <td>NaN</td>\n",
              "      <td>NaN</td>\n",
              "      <td>NaN</td>\n",
              "      <td>NaN</td>\n",
              "      <td>-7.604174e+07</td>\n",
              "      <td>NaN</td>\n",
              "    </tr>\n",
              "    <tr>\n",
              "      <th>Afghanistan</th>\n",
              "      <td>82.109775</td>\n",
              "      <td>173.0</td>\n",
              "      <td>2156.419482</td>\n",
              "      <td>2.311817</td>\n",
              "      <td>25.754</td>\n",
              "      <td>4.22836</td>\n",
              "      <td>0.956772</td>\n",
              "      <td>0.2782</td>\n",
              "      <td>63.763000</td>\n",
              "      <td>98.713203</td>\n",
              "      <td>21.247021</td>\n",
              "      <td>NaN</td>\n",
              "      <td>11.06</td>\n",
              "      <td>2.5669</td>\n",
              "      <td>44.06497</td>\n",
              "      <td>NaN</td>\n",
              "      <td>2.340455e+07</td>\n",
              "      <td>1.943399e+09</td>\n",
              "    </tr>\n",
              "    <tr>\n",
              "      <th>Angola</th>\n",
              "      <td>95.394042</td>\n",
              "      <td>177.0</td>\n",
              "      <td>6965.511374</td>\n",
              "      <td>3.242983</td>\n",
              "      <td>66.177</td>\n",
              "      <td>NaN</td>\n",
              "      <td>2.733341</td>\n",
              "      <td>NaN</td>\n",
              "      <td>59.925000</td>\n",
              "      <td>43.259258</td>\n",
              "      <td>50.202910</td>\n",
              "      <td>6.0</td>\n",
              "      <td>7.00</td>\n",
              "      <td>NaN</td>\n",
              "      <td>41.28838</td>\n",
              "      <td>3.602087e+10</td>\n",
              "      <td>-4.098479e+09</td>\n",
              "      <td>4.052814e+10</td>\n",
              "    </tr>\n",
              "    <tr>\n",
              "      <th>Albania</th>\n",
              "      <td>46.203522</td>\n",
              "      <td>82.0</td>\n",
              "      <td>14648.267402</td>\n",
              "      <td>-0.426007</td>\n",
              "      <td>61.229</td>\n",
              "      <td>3.96209</td>\n",
              "      <td>1.103581</td>\n",
              "      <td>1.2164</td>\n",
              "      <td>78.194000</td>\n",
              "      <td>100.000000</td>\n",
              "      <td>42.190687</td>\n",
              "      <td>15.0</td>\n",
              "      <td>12.30</td>\n",
              "      <td>4.8827</td>\n",
              "      <td>67.74847</td>\n",
              "      <td>4.821431e+09</td>\n",
              "      <td>1.201022e+09</td>\n",
              "      <td>4.980870e+09</td>\n",
              "    </tr>\n",
              "    <tr>\n",
              "      <th>Andorra</th>\n",
              "      <td>NaN</td>\n",
              "      <td>NaN</td>\n",
              "      <td>NaN</td>\n",
              "      <td>0.176454</td>\n",
              "      <td>87.984</td>\n",
              "      <td>3.23707</td>\n",
              "      <td>NaN</td>\n",
              "      <td>NaN</td>\n",
              "      <td>NaN</td>\n",
              "      <td>100.000000</td>\n",
              "      <td>NaN</td>\n",
              "      <td>1.0</td>\n",
              "      <td>NaN</td>\n",
              "      <td>NaN</td>\n",
              "      <td>NaN</td>\n",
              "      <td>NaN</td>\n",
              "      <td>NaN</td>\n",
              "      <td>NaN</td>\n",
              "    </tr>\n",
              "    <tr>\n",
              "      <th>...</th>\n",
              "      <td>...</td>\n",
              "      <td>...</td>\n",
              "      <td>...</td>\n",
              "      <td>...</td>\n",
              "      <td>...</td>\n",
              "      <td>...</td>\n",
              "      <td>...</td>\n",
              "      <td>...</td>\n",
              "      <td>...</td>\n",
              "      <td>...</td>\n",
              "      <td>...</td>\n",
              "      <td>...</td>\n",
              "      <td>...</td>\n",
              "      <td>...</td>\n",
              "      <td>...</td>\n",
              "      <td>...</td>\n",
              "      <td>...</td>\n",
              "      <td>...</td>\n",
              "    </tr>\n",
              "    <tr>\n",
              "      <th>Kosovo</th>\n",
              "      <td>NaN</td>\n",
              "      <td>57.0</td>\n",
              "      <td>11870.797576</td>\n",
              "      <td>-0.157992</td>\n",
              "      <td>NaN</td>\n",
              "      <td>NaN</td>\n",
              "      <td>0.773671</td>\n",
              "      <td>NaN</td>\n",
              "      <td>71.646341</td>\n",
              "      <td>100.000000</td>\n",
              "      <td>NaN</td>\n",
              "      <td>NaN</td>\n",
              "      <td>NaN</td>\n",
              "      <td>6.3250</td>\n",
              "      <td>73.18473</td>\n",
              "      <td>2.315662e+09</td>\n",
              "      <td>2.850816e+08</td>\n",
              "      <td>4.838109e+08</td>\n",
              "    </tr>\n",
              "    <tr>\n",
              "      <th>Yemen, Rep.</th>\n",
              "      <td>72.787716</td>\n",
              "      <td>187.0</td>\n",
              "      <td>NaN</td>\n",
              "      <td>2.300580</td>\n",
              "      <td>37.273</td>\n",
              "      <td>NaN</td>\n",
              "      <td>NaN</td>\n",
              "      <td>NaN</td>\n",
              "      <td>66.087000</td>\n",
              "      <td>62.000000</td>\n",
              "      <td>7.895299</td>\n",
              "      <td>NaN</td>\n",
              "      <td>13.01</td>\n",
              "      <td>3.5200</td>\n",
              "      <td>31.76299</td>\n",
              "      <td>NaN</td>\n",
              "      <td>-3.709828e+08</td>\n",
              "      <td>5.622578e+09</td>\n",
              "    </tr>\n",
              "    <tr>\n",
              "      <th>South Africa</th>\n",
              "      <td>52.400879</td>\n",
              "      <td>84.0</td>\n",
              "      <td>13034.164661</td>\n",
              "      <td>1.338617</td>\n",
              "      <td>66.856</td>\n",
              "      <td>5.94285</td>\n",
              "      <td>1.075530</td>\n",
              "      <td>0.7997</td>\n",
              "      <td>63.153000</td>\n",
              "      <td>91.229874</td>\n",
              "      <td>45.281073</td>\n",
              "      <td>657.0</td>\n",
              "      <td>26.91</td>\n",
              "      <td>4.8141</td>\n",
              "      <td>67.01897</td>\n",
              "      <td>1.049158e+11</td>\n",
              "      <td>4.624503e+09</td>\n",
              "      <td>7.610179e+10</td>\n",
              "    </tr>\n",
              "    <tr>\n",
              "      <th>Zambia</th>\n",
              "      <td>87.188180</td>\n",
              "      <td>85.0</td>\n",
              "      <td>3624.024939</td>\n",
              "      <td>2.892373</td>\n",
              "      <td>44.072</td>\n",
              "      <td>3.74792</td>\n",
              "      <td>1.429305</td>\n",
              "      <td>0.1628</td>\n",
              "      <td>62.464000</td>\n",
              "      <td>39.812622</td>\n",
              "      <td>48.295769</td>\n",
              "      <td>11.0</td>\n",
              "      <td>12.01</td>\n",
              "      <td>3.7594</td>\n",
              "      <td>66.93648</td>\n",
              "      <td>8.073611e+09</td>\n",
              "      <td>5.479679e+08</td>\n",
              "      <td>1.049975e+10</td>\n",
              "    </tr>\n",
              "    <tr>\n",
              "      <th>Zimbabwe</th>\n",
              "      <td>82.277970</td>\n",
              "      <td>140.0</td>\n",
              "      <td>2961.446428</td>\n",
              "      <td>1.419681</td>\n",
              "      <td>32.210</td>\n",
              "      <td>NaN</td>\n",
              "      <td>1.742494</td>\n",
              "      <td>0.1788</td>\n",
              "      <td>60.294000</td>\n",
              "      <td>41.041584</td>\n",
              "      <td>50.928141</td>\n",
              "      <td>NaN</td>\n",
              "      <td>5.07</td>\n",
              "      <td>3.2992</td>\n",
              "      <td>54.46935</td>\n",
              "      <td>NaN</td>\n",
              "      <td>2.800000e+08</td>\n",
              "      <td>5.884767e+09</td>\n",
              "    </tr>\n",
              "  </tbody>\n",
              "</table>\n",
              "<p>263 rows × 18 columns</p>\n",
              "</div>"
            ],
            "text/plain": [
              "                 PopDep  EaseofB  ...           FDI       ForDebt\n",
              "country                           ...                            \n",
              "Aruba         46.367454      NaN  ... -7.604174e+07           NaN\n",
              "Afghanistan   82.109775    173.0  ...  2.340455e+07  1.943399e+09\n",
              "Angola        95.394042    177.0  ... -4.098479e+09  4.052814e+10\n",
              "Albania       46.203522     82.0  ...  1.201022e+09  4.980870e+09\n",
              "Andorra             NaN      NaN  ...           NaN           NaN\n",
              "...                 ...      ...  ...           ...           ...\n",
              "Kosovo              NaN     57.0  ...  2.850816e+08  4.838109e+08\n",
              "Yemen, Rep.   72.787716    187.0  ... -3.709828e+08  5.622578e+09\n",
              "South Africa  52.400879     84.0  ...  4.624503e+09  7.610179e+10\n",
              "Zambia        87.188180     85.0  ...  5.479679e+08  1.049975e+10\n",
              "Zimbabwe      82.277970    140.0  ...  2.800000e+08  5.884767e+09\n",
              "\n",
              "[263 rows x 18 columns]"
            ]
          },
          "metadata": {
            "tags": []
          },
          "execution_count": 38
        }
      ]
    },
    {
      "cell_type": "markdown",
      "metadata": {
        "id": "xJMgHBaIKZOq"
      },
      "source": [
        "There are several null values in the data that may not be considered"
      ]
    },
    {
      "cell_type": "code",
      "metadata": {
        "id": "jceQvxx0WaTI"
      },
      "source": [
        "wbdf.reset_index(inplace=True)"
      ],
      "execution_count": null,
      "outputs": []
    },
    {
      "cell_type": "code",
      "metadata": {
        "id": "RySD3jkAT1eq"
      },
      "source": [
        "wbdf.drop('index',axis=1,inplace=True)"
      ],
      "execution_count": null,
      "outputs": []
    },
    {
      "cell_type": "code",
      "metadata": {
        "id": "DZCzv6iveIrk",
        "colab": {
          "base_uri": "https://localhost:8080/"
        },
        "outputId": "bb560dc1-be38-4563-db5d-88faabfbd762"
      },
      "source": [
        "wbdf.info()"
      ],
      "execution_count": 44,
      "outputs": [
        {
          "output_type": "stream",
          "text": [
            "<class 'pandas.core.frame.DataFrame'>\n",
            "Index: 263 entries, Aruba to Zimbabwe\n",
            "Data columns (total 18 columns):\n",
            " #   Column       Non-Null Count  Dtype  \n",
            "---  ------       --------------  -----  \n",
            " 0   PopDep       238 non-null    float64\n",
            " 1   EaseofB      188 non-null    float64\n",
            " 2   GDPpppPC     231 non-null    float64\n",
            " 3   PopGrowth    261 non-null    float64\n",
            " 4   UrbanPop     259 non-null    float64\n",
            " 5   GexpEdu      141 non-null    float64\n",
            " 6   MilExpGdp    192 non-null    float64\n",
            " 7   HosBedP1000  112 non-null    float64\n",
            " 8   LifeExp      246 non-null    float64\n",
            " 9   ElecAces     260 non-null    float64\n",
            " 10  Fem%Lab      232 non-null    float64\n",
            " 11  Patents      151 non-null    float64\n",
            " 12  UnemplR      232 non-null    float64\n",
            " 13  HappScore    147 non-null    float64\n",
            " 14  EofBScore    235 non-null    float64\n",
            " 15  Exports      197 non-null    float64\n",
            " 16  FDI          242 non-null    float64\n",
            " 17  ForDebt      131 non-null    float64\n",
            "dtypes: float64(18)\n",
            "memory usage: 49.0+ KB\n"
          ],
          "name": "stdout"
        }
      ]
    },
    {
      "cell_type": "markdown",
      "metadata": {
        "id": "AOID4U1HOqnF"
      },
      "source": [
        "Lets look at the columns, they are all numeric and the stats of the columns are given below"
      ]
    },
    {
      "cell_type": "code",
      "metadata": {
        "colab": {
          "base_uri": "https://localhost:8080/",
          "height": 317
        },
        "id": "zBW5TObLOnLx",
        "outputId": "ecbb8f50-943d-443b-f35f-90a3fde02357"
      },
      "source": [
        "wbdf.describe()"
      ],
      "execution_count": 45,
      "outputs": [
        {
          "output_type": "execute_result",
          "data": {
            "text/html": [
              "<div>\n",
              "<style scoped>\n",
              "    .dataframe tbody tr th:only-of-type {\n",
              "        vertical-align: middle;\n",
              "    }\n",
              "\n",
              "    .dataframe tbody tr th {\n",
              "        vertical-align: top;\n",
              "    }\n",
              "\n",
              "    .dataframe thead th {\n",
              "        text-align: right;\n",
              "    }\n",
              "</style>\n",
              "<table border=\"1\" class=\"dataframe\">\n",
              "  <thead>\n",
              "    <tr style=\"text-align: right;\">\n",
              "      <th></th>\n",
              "      <th>PopDep</th>\n",
              "      <th>EaseofB</th>\n",
              "      <th>GDPpppPC</th>\n",
              "      <th>PopGrowth</th>\n",
              "      <th>UrbanPop</th>\n",
              "      <th>GexpEdu</th>\n",
              "      <th>MilExpGdp</th>\n",
              "      <th>HosBedP1000</th>\n",
              "      <th>LifeExp</th>\n",
              "      <th>ElecAces</th>\n",
              "      <th>Fem%Lab</th>\n",
              "      <th>Patents</th>\n",
              "      <th>UnemplR</th>\n",
              "      <th>HappScore</th>\n",
              "      <th>EofBScore</th>\n",
              "      <th>Exports</th>\n",
              "      <th>FDI</th>\n",
              "      <th>ForDebt</th>\n",
              "    </tr>\n",
              "  </thead>\n",
              "  <tbody>\n",
              "    <tr>\n",
              "      <th>count</th>\n",
              "      <td>238.000000</td>\n",
              "      <td>188.000000</td>\n",
              "      <td>231.000000</td>\n",
              "      <td>261.000000</td>\n",
              "      <td>259.000000</td>\n",
              "      <td>141.000000</td>\n",
              "      <td>192.000000</td>\n",
              "      <td>112.000000</td>\n",
              "      <td>246.000000</td>\n",
              "      <td>260.000000</td>\n",
              "      <td>232.000000</td>\n",
              "      <td>1.510000e+02</td>\n",
              "      <td>232.000000</td>\n",
              "      <td>147.000000</td>\n",
              "      <td>235.000000</td>\n",
              "      <td>1.970000e+02</td>\n",
              "      <td>2.420000e+02</td>\n",
              "      <td>1.310000e+02</td>\n",
              "    </tr>\n",
              "    <tr>\n",
              "      <th>mean</th>\n",
              "      <td>58.788051</td>\n",
              "      <td>96.239362</td>\n",
              "      <td>21844.682252</td>\n",
              "      <td>1.211838</td>\n",
              "      <td>60.399617</td>\n",
              "      <td>4.399784</td>\n",
              "      <td>1.940191</td>\n",
              "      <td>1.941442</td>\n",
              "      <td>72.058077</td>\n",
              "      <td>86.045031</td>\n",
              "      <td>40.906096</td>\n",
              "      <td>1.412285e+05</td>\n",
              "      <td>7.007797</td>\n",
              "      <td>5.477193</td>\n",
              "      <td>62.540146</td>\n",
              "      <td>1.024571e+12</td>\n",
              "      <td>5.353613e+10</td>\n",
              "      <td>1.241614e+11</td>\n",
              "    </tr>\n",
              "    <tr>\n",
              "      <th>std</th>\n",
              "      <td>15.586271</td>\n",
              "      <td>54.799695</td>\n",
              "      <td>22374.104184</td>\n",
              "      <td>1.056053</td>\n",
              "      <td>22.788811</td>\n",
              "      <td>1.327613</td>\n",
              "      <td>1.545404</td>\n",
              "      <td>1.629764</td>\n",
              "      <td>7.490438</td>\n",
              "      <td>23.293025</td>\n",
              "      <td>9.149095</td>\n",
              "      <td>4.214469e+05</td>\n",
              "      <td>4.916085</td>\n",
              "      <td>1.122692</td>\n",
              "      <td>13.102921</td>\n",
              "      <td>3.051465e+12</td>\n",
              "      <td>1.755307e+11</td>\n",
              "      <td>4.598702e+11</td>\n",
              "    </tr>\n",
              "    <tr>\n",
              "      <th>min</th>\n",
              "      <td>17.812083</td>\n",
              "      <td>1.000000</td>\n",
              "      <td>784.926989</td>\n",
              "      <td>-1.805226</td>\n",
              "      <td>13.250000</td>\n",
              "      <td>1.370930</td>\n",
              "      <td>0.000000</td>\n",
              "      <td>0.012800</td>\n",
              "      <td>51.593000</td>\n",
              "      <td>11.024252</td>\n",
              "      <td>7.895299</td>\n",
              "      <td>1.000000e+00</td>\n",
              "      <td>0.110000</td>\n",
              "      <td>2.566900</td>\n",
              "      <td>20.039580</td>\n",
              "      <td>2.360177e+07</td>\n",
              "      <td>-4.663323e+10</td>\n",
              "      <td>8.307576e+07</td>\n",
              "    </tr>\n",
              "    <tr>\n",
              "      <th>25%</th>\n",
              "      <td>48.991630</td>\n",
              "      <td>49.750000</td>\n",
              "      <td>5435.141540</td>\n",
              "      <td>0.456356</td>\n",
              "      <td>42.236500</td>\n",
              "      <td>3.419300</td>\n",
              "      <td>1.113182</td>\n",
              "      <td>0.435225</td>\n",
              "      <td>67.249000</td>\n",
              "      <td>82.055481</td>\n",
              "      <td>38.833187</td>\n",
              "      <td>3.400000e+01</td>\n",
              "      <td>3.827500</td>\n",
              "      <td>4.726700</td>\n",
              "      <td>54.248063</td>\n",
              "      <td>6.079488e+09</td>\n",
              "      <td>2.134498e+08</td>\n",
              "      <td>1.775009e+09</td>\n",
              "    </tr>\n",
              "    <tr>\n",
              "      <th>50%</th>\n",
              "      <td>54.683418</td>\n",
              "      <td>96.500000</td>\n",
              "      <td>14289.960502</td>\n",
              "      <td>1.127924</td>\n",
              "      <td>61.229000</td>\n",
              "      <td>4.421020</td>\n",
              "      <td>1.532019</td>\n",
              "      <td>1.848600</td>\n",
              "      <td>73.362479</td>\n",
              "      <td>99.997504</td>\n",
              "      <td>43.724598</td>\n",
              "      <td>4.700000e+02</td>\n",
              "      <td>5.590000</td>\n",
              "      <td>5.539900</td>\n",
              "      <td>61.350780</td>\n",
              "      <td>4.497355e+10</td>\n",
              "      <td>1.505959e+09</td>\n",
              "      <td>7.553373e+09</td>\n",
              "    </tr>\n",
              "    <tr>\n",
              "      <th>75%</th>\n",
              "      <td>68.070138</td>\n",
              "      <td>143.250000</td>\n",
              "      <td>30532.294889</td>\n",
              "      <td>1.951209</td>\n",
              "      <td>80.234500</td>\n",
              "      <td>5.207540</td>\n",
              "      <td>2.239086</td>\n",
              "      <td>3.199200</td>\n",
              "      <td>77.393963</td>\n",
              "      <td>100.000000</td>\n",
              "      <td>46.709541</td>\n",
              "      <td>8.134500e+03</td>\n",
              "      <td>8.948901</td>\n",
              "      <td>6.221400</td>\n",
              "      <td>73.441609</td>\n",
              "      <td>4.362693e+11</td>\n",
              "      <td>1.665722e+10</td>\n",
              "      <td>3.253276e+10</td>\n",
              "    </tr>\n",
              "    <tr>\n",
              "      <th>max</th>\n",
              "      <td>110.255774</td>\n",
              "      <td>190.000000</td>\n",
              "      <td>129451.063933</td>\n",
              "      <td>4.469239</td>\n",
              "      <td>100.000000</td>\n",
              "      <td>8.051940</td>\n",
              "      <td>12.034846</td>\n",
              "      <td>7.954100</td>\n",
              "      <td>84.226829</td>\n",
              "      <td>100.000000</td>\n",
              "      <td>55.956589</td>\n",
              "      <td>2.294881e+06</td>\n",
              "      <td>26.910000</td>\n",
              "      <td>7.808700</td>\n",
              "      <td>86.764650</td>\n",
              "      <td>2.488971e+13</td>\n",
              "      <td>1.630976e+12</td>\n",
              "      <td>3.275542e+12</td>\n",
              "    </tr>\n",
              "  </tbody>\n",
              "</table>\n",
              "</div>"
            ],
            "text/plain": [
              "           PopDep     EaseofB  ...           FDI       ForDebt\n",
              "count  238.000000  188.000000  ...  2.420000e+02  1.310000e+02\n",
              "mean    58.788051   96.239362  ...  5.353613e+10  1.241614e+11\n",
              "std     15.586271   54.799695  ...  1.755307e+11  4.598702e+11\n",
              "min     17.812083    1.000000  ... -4.663323e+10  8.307576e+07\n",
              "25%     48.991630   49.750000  ...  2.134498e+08  1.775009e+09\n",
              "50%     54.683418   96.500000  ...  1.505959e+09  7.553373e+09\n",
              "75%     68.070138  143.250000  ...  1.665722e+10  3.253276e+10\n",
              "max    110.255774  190.000000  ...  1.630976e+12  3.275542e+12\n",
              "\n",
              "[8 rows x 18 columns]"
            ]
          },
          "metadata": {
            "tags": []
          },
          "execution_count": 45
        }
      ]
    },
    {
      "cell_type": "markdown",
      "metadata": {
        "id": "E3lKV4Polx-k"
      },
      "source": [
        "The code below will copy the happiness score from the World Happiness Index Report for each country into the master dataframe\n",
        "\n"
      ]
    },
    {
      "cell_type": "code",
      "metadata": {
        "colab": {
          "base_uri": "https://localhost:8080/"
        },
        "id": "6JwTmd6XO_Yd",
        "outputId": "37ed5512-3fdf-4694-84db-b272192b99be"
      },
      "source": [
        "wbdf.columns"
      ],
      "execution_count": 46,
      "outputs": [
        {
          "output_type": "execute_result",
          "data": {
            "text/plain": [
              "Index(['PopDep', 'EaseofB', 'GDPpppPC', 'PopGrowth', 'UrbanPop', 'GexpEdu',\n",
              "       'MilExpGdp', 'HosBedP1000', 'LifeExp', 'ElecAces', 'Fem%Lab', 'Patents',\n",
              "       'UnemplR', 'HappScore', 'EofBScore', 'Exports', 'FDI', 'ForDebt'],\n",
              "      dtype='object')"
            ]
          },
          "metadata": {
            "tags": []
          },
          "execution_count": 46
        }
      ]
    },
    {
      "cell_type": "markdown",
      "metadata": {
        "id": "LPinq1xJPE9F"
      },
      "source": [
        "Lets rename the columns so that they are more readable"
      ]
    },
    {
      "cell_type": "code",
      "metadata": {
        "id": "AFYUJCyVPI2V"
      },
      "source": [
        "wbdf.columns=['Population Dependence %', 'Ease of Doing Business Ranking', 'GDP per Capita (PPP)', 'Population Growth Rate', 'Urban Population (% of Total)', 'GexpEdu',\n",
        "       'MilExpGdp', 'HosBedP1000', 'Life Expectancy', 'Elecricty Access', 'Fem%Lab', 'Patents',\n",
        "       'UnemplR', 'World Happiness Report Score', 'Ease of Business Score', 'Total Exports ($)', 'Foreign Direct Investment', 'Total Foreign Debt($)']"
      ],
      "execution_count": 47,
      "outputs": []
    },
    {
      "cell_type": "code",
      "metadata": {
        "id": "coO3g5yTbJiJ",
        "colab": {
          "base_uri": "https://localhost:8080/"
        },
        "outputId": "4919d8eb-0122-4866-e8fe-07fe9ec61b5f"
      },
      "source": [
        "for i in happDF.index:\n",
        "  score=happDF.iloc[i]['Score']\n",
        "  country=happDF['Country'][i]\n",
        "  wbdf.loc[wbdf['country']==country,'HappScore']=score\n",
        "  if ((wbdf['country']==country).sum()==0):\n",
        "    print(country)\n",
        "  #print(dfwho['Country'][i],deathsTM)"
      ],
      "execution_count": null,
      "outputs": [
        {
          "output_type": "stream",
          "text": [
            "Taiwan Province of China\n",
            "Slovenia\n",
            "Slovakia\n",
            "South Korea\n",
            "Russia\n",
            "Kyrgyzstan\n",
            "North Cyprus\n",
            "Hong Kong S.A.R. of China\n",
            "Ivory Coast\n",
            "Congo (Brazzaville)\n",
            "Macedonia\n",
            "Venezuela\n",
            "Laos\n",
            "Gambia\n",
            "Iran\n",
            "Palestinian Territories\n",
            "Congo (Kinshasa)\n",
            "Swaziland\n",
            "Egypt\n",
            "Yemen\n"
          ],
          "name": "stdout"
        }
      ]
    },
    {
      "cell_type": "markdown",
      "metadata": {
        "id": "vKaKh-1vJXHw"
      },
      "source": [
        "The list above identifies countries with different names in the World Bank database and Happiness report. The data for these countries has to be filled manually as below"
      ]
    },
    {
      "cell_type": "code",
      "metadata": {
        "colab": {
          "base_uri": "https://localhost:8080/",
          "height": 75
        },
        "id": "o3JKEYK9_MGQ",
        "outputId": "6cefe612-f409-41ad-c14d-14fc5a6ec646"
      },
      "source": [
        "wbdf[wbdf['country'].str.contains(\"Yemen\")]\n"
      ],
      "execution_count": null,
      "outputs": [
        {
          "output_type": "execute_result",
          "data": {
            "text/html": [
              "<div>\n",
              "<style scoped>\n",
              "    .dataframe tbody tr th:only-of-type {\n",
              "        vertical-align: middle;\n",
              "    }\n",
              "\n",
              "    .dataframe tbody tr th {\n",
              "        vertical-align: top;\n",
              "    }\n",
              "\n",
              "    .dataframe thead th {\n",
              "        text-align: right;\n",
              "    }\n",
              "</style>\n",
              "<table border=\"1\" class=\"dataframe\">\n",
              "  <thead>\n",
              "    <tr style=\"text-align: right;\">\n",
              "      <th></th>\n",
              "      <th>country</th>\n",
              "      <th>PopDep</th>\n",
              "      <th>EaseofB</th>\n",
              "      <th>GDPpppPC</th>\n",
              "      <th>PopGrowth</th>\n",
              "      <th>UrbanPop</th>\n",
              "      <th>GexpEdu</th>\n",
              "      <th>MilExpGdp</th>\n",
              "      <th>HosBedP1000</th>\n",
              "      <th>LifeExp</th>\n",
              "      <th>ElecAces</th>\n",
              "      <th>Fem%Lab</th>\n",
              "      <th>Patents</th>\n",
              "      <th>UnemplR</th>\n",
              "      <th>HappScore</th>\n",
              "    </tr>\n",
              "  </thead>\n",
              "  <tbody>\n",
              "    <tr>\n",
              "      <th>259</th>\n",
              "      <td>Yemen, Rep.</td>\n",
              "      <td>72.787716</td>\n",
              "      <td>187.0</td>\n",
              "      <td>NaN</td>\n",
              "      <td>2.30058</td>\n",
              "      <td>37.273</td>\n",
              "      <td>NaN</td>\n",
              "      <td>NaN</td>\n",
              "      <td>NaN</td>\n",
              "      <td>66.087</td>\n",
              "      <td>62.0</td>\n",
              "      <td>7.895299</td>\n",
              "      <td>NaN</td>\n",
              "      <td>13.01</td>\n",
              "      <td>NaN</td>\n",
              "    </tr>\n",
              "  </tbody>\n",
              "</table>\n",
              "</div>"
            ],
            "text/plain": [
              "         country     PopDep  EaseofB  ...  Patents  UnemplR  HappScore\n",
              "259  Yemen, Rep.  72.787716    187.0  ...      NaN    13.01        NaN\n",
              "\n",
              "[1 rows x 15 columns]"
            ]
          },
          "metadata": {
            "tags": []
          },
          "execution_count": 145
        }
      ]
    },
    {
      "cell_type": "code",
      "metadata": {
        "id": "jC-4Co9CcD5J"
      },
      "source": [
        "wbdf.loc[wbdf['country'].str.contains(\"Yemen\"),'HappScore']=3.52"
      ],
      "execution_count": null,
      "outputs": []
    },
    {
      "cell_type": "code",
      "metadata": {
        "id": "0FV-dwsAdon4",
        "colab": {
          "base_uri": "https://localhost:8080/",
          "height": 75
        },
        "outputId": "fe76823c-6dda-4b0d-fc37-b08a64fd0fe8"
      },
      "source": [
        "happDF[happDF['Country'].str.contains(\"Yemen\")]"
      ],
      "execution_count": null,
      "outputs": [
        {
          "output_type": "execute_result",
          "data": {
            "text/html": [
              "<div>\n",
              "<style scoped>\n",
              "    .dataframe tbody tr th:only-of-type {\n",
              "        vertical-align: middle;\n",
              "    }\n",
              "\n",
              "    .dataframe tbody tr th {\n",
              "        vertical-align: top;\n",
              "    }\n",
              "\n",
              "    .dataframe thead th {\n",
              "        text-align: right;\n",
              "    }\n",
              "</style>\n",
              "<table border=\"1\" class=\"dataframe\">\n",
              "  <thead>\n",
              "    <tr style=\"text-align: right;\">\n",
              "      <th></th>\n",
              "      <th>Country</th>\n",
              "      <th>Score</th>\n",
              "      <th>deaths</th>\n",
              "    </tr>\n",
              "  </thead>\n",
              "  <tbody>\n",
              "    <tr>\n",
              "      <th>145</th>\n",
              "      <td>Yemen</td>\n",
              "      <td>3.5274</td>\n",
              "      <td>20.65</td>\n",
              "    </tr>\n",
              "  </tbody>\n",
              "</table>\n",
              "</div>"
            ],
            "text/plain": [
              "    Country   Score  deaths\n",
              "145   Yemen  3.5274   20.65"
            ]
          },
          "metadata": {
            "tags": []
          },
          "execution_count": 146
        }
      ]
    },
    {
      "cell_type": "markdown",
      "metadata": {
        "id": "EkbqXQa7J3BC"
      },
      "source": [
        "The above three lines manually fills the data \n",
        "for countries with different names in the two databases\n",
        "Note: The above only shows one example. This was done for all countries in the list above"
      ]
    },
    {
      "cell_type": "code",
      "metadata": {
        "id": "HVJPwUW8o81s",
        "colab": {
          "base_uri": "https://localhost:8080/",
          "height": 572
        },
        "outputId": "966e5614-b35f-433b-dff7-d27f8e8761fe"
      },
      "source": [
        "wbdf[wbdf['HappScore'].isnull() | wbdf['EaseofB'].isnull()]"
      ],
      "execution_count": 41,
      "outputs": [
        {
          "output_type": "execute_result",
          "data": {
            "text/html": [
              "<div>\n",
              "<style scoped>\n",
              "    .dataframe tbody tr th:only-of-type {\n",
              "        vertical-align: middle;\n",
              "    }\n",
              "\n",
              "    .dataframe tbody tr th {\n",
              "        vertical-align: top;\n",
              "    }\n",
              "\n",
              "    .dataframe thead th {\n",
              "        text-align: right;\n",
              "    }\n",
              "</style>\n",
              "<table border=\"1\" class=\"dataframe\">\n",
              "  <thead>\n",
              "    <tr style=\"text-align: right;\">\n",
              "      <th></th>\n",
              "      <th>PopDep</th>\n",
              "      <th>EaseofB</th>\n",
              "      <th>GDPpppPC</th>\n",
              "      <th>PopGrowth</th>\n",
              "      <th>UrbanPop</th>\n",
              "      <th>GexpEdu</th>\n",
              "      <th>MilExpGdp</th>\n",
              "      <th>HosBedP1000</th>\n",
              "      <th>LifeExp</th>\n",
              "      <th>ElecAces</th>\n",
              "      <th>Fem%Lab</th>\n",
              "      <th>Patents</th>\n",
              "      <th>UnemplR</th>\n",
              "      <th>HappScore</th>\n",
              "      <th>EofBScore</th>\n",
              "      <th>Exports</th>\n",
              "      <th>FDI</th>\n",
              "      <th>ForDebt</th>\n",
              "    </tr>\n",
              "    <tr>\n",
              "      <th>country</th>\n",
              "      <th></th>\n",
              "      <th></th>\n",
              "      <th></th>\n",
              "      <th></th>\n",
              "      <th></th>\n",
              "      <th></th>\n",
              "      <th></th>\n",
              "      <th></th>\n",
              "      <th></th>\n",
              "      <th></th>\n",
              "      <th></th>\n",
              "      <th></th>\n",
              "      <th></th>\n",
              "      <th></th>\n",
              "      <th></th>\n",
              "      <th></th>\n",
              "      <th></th>\n",
              "      <th></th>\n",
              "    </tr>\n",
              "  </thead>\n",
              "  <tbody>\n",
              "    <tr>\n",
              "      <th>Aruba</th>\n",
              "      <td>46.367454</td>\n",
              "      <td>NaN</td>\n",
              "      <td>NaN</td>\n",
              "      <td>0.442122</td>\n",
              "      <td>43.546000</td>\n",
              "      <td>5.52415</td>\n",
              "      <td>NaN</td>\n",
              "      <td>NaN</td>\n",
              "      <td>75.868000</td>\n",
              "      <td>100.000000</td>\n",
              "      <td>NaN</td>\n",
              "      <td>NaN</td>\n",
              "      <td>NaN</td>\n",
              "      <td>NaN</td>\n",
              "      <td>NaN</td>\n",
              "      <td>NaN</td>\n",
              "      <td>-7.604174e+07</td>\n",
              "      <td>NaN</td>\n",
              "    </tr>\n",
              "    <tr>\n",
              "      <th>Angola</th>\n",
              "      <td>95.394042</td>\n",
              "      <td>177.0</td>\n",
              "      <td>6965.511374</td>\n",
              "      <td>3.242983</td>\n",
              "      <td>66.177000</td>\n",
              "      <td>NaN</td>\n",
              "      <td>2.733341</td>\n",
              "      <td>NaN</td>\n",
              "      <td>59.925000</td>\n",
              "      <td>43.259258</td>\n",
              "      <td>50.202910</td>\n",
              "      <td>6.0</td>\n",
              "      <td>7.000000</td>\n",
              "      <td>NaN</td>\n",
              "      <td>41.288380</td>\n",
              "      <td>3.602087e+10</td>\n",
              "      <td>-4.098479e+09</td>\n",
              "      <td>4.052814e+10</td>\n",
              "    </tr>\n",
              "    <tr>\n",
              "      <th>Andorra</th>\n",
              "      <td>NaN</td>\n",
              "      <td>NaN</td>\n",
              "      <td>NaN</td>\n",
              "      <td>0.176454</td>\n",
              "      <td>87.984000</td>\n",
              "      <td>3.23707</td>\n",
              "      <td>NaN</td>\n",
              "      <td>NaN</td>\n",
              "      <td>NaN</td>\n",
              "      <td>100.000000</td>\n",
              "      <td>NaN</td>\n",
              "      <td>1.0</td>\n",
              "      <td>NaN</td>\n",
              "      <td>NaN</td>\n",
              "      <td>NaN</td>\n",
              "      <td>NaN</td>\n",
              "      <td>NaN</td>\n",
              "      <td>NaN</td>\n",
              "    </tr>\n",
              "    <tr>\n",
              "      <th>Arab World</th>\n",
              "      <td>61.081801</td>\n",
              "      <td>NaN</td>\n",
              "      <td>15256.338996</td>\n",
              "      <td>1.924693</td>\n",
              "      <td>59.201647</td>\n",
              "      <td>NaN</td>\n",
              "      <td>6.152311</td>\n",
              "      <td>NaN</td>\n",
              "      <td>71.436497</td>\n",
              "      <td>89.286856</td>\n",
              "      <td>20.368759</td>\n",
              "      <td>3807.0</td>\n",
              "      <td>10.256798</td>\n",
              "      <td>NaN</td>\n",
              "      <td>56.543224</td>\n",
              "      <td>1.273419e+12</td>\n",
              "      <td>3.350713e+10</td>\n",
              "      <td>NaN</td>\n",
              "    </tr>\n",
              "    <tr>\n",
              "      <th>American Samoa</th>\n",
              "      <td>NaN</td>\n",
              "      <td>NaN</td>\n",
              "      <td>NaN</td>\n",
              "      <td>-0.276231</td>\n",
              "      <td>87.147000</td>\n",
              "      <td>NaN</td>\n",
              "      <td>NaN</td>\n",
              "      <td>NaN</td>\n",
              "      <td>NaN</td>\n",
              "      <td>NaN</td>\n",
              "      <td>NaN</td>\n",
              "      <td>NaN</td>\n",
              "      <td>NaN</td>\n",
              "      <td>NaN</td>\n",
              "      <td>NaN</td>\n",
              "      <td>NaN</td>\n",
              "      <td>NaN</td>\n",
              "      <td>NaN</td>\n",
              "    </tr>\n",
              "    <tr>\n",
              "      <th>...</th>\n",
              "      <td>...</td>\n",
              "      <td>...</td>\n",
              "      <td>...</td>\n",
              "      <td>...</td>\n",
              "      <td>...</td>\n",
              "      <td>...</td>\n",
              "      <td>...</td>\n",
              "      <td>...</td>\n",
              "      <td>...</td>\n",
              "      <td>...</td>\n",
              "      <td>...</td>\n",
              "      <td>...</td>\n",
              "      <td>...</td>\n",
              "      <td>...</td>\n",
              "      <td>...</td>\n",
              "      <td>...</td>\n",
              "      <td>...</td>\n",
              "      <td>...</td>\n",
              "    </tr>\n",
              "    <tr>\n",
              "      <th>British Virgin Islands</th>\n",
              "      <td>NaN</td>\n",
              "      <td>NaN</td>\n",
              "      <td>NaN</td>\n",
              "      <td>0.762138</td>\n",
              "      <td>48.116000</td>\n",
              "      <td>NaN</td>\n",
              "      <td>NaN</td>\n",
              "      <td>NaN</td>\n",
              "      <td>NaN</td>\n",
              "      <td>100.000000</td>\n",
              "      <td>NaN</td>\n",
              "      <td>NaN</td>\n",
              "      <td>NaN</td>\n",
              "      <td>NaN</td>\n",
              "      <td>NaN</td>\n",
              "      <td>NaN</td>\n",
              "      <td>5.799684e+10</td>\n",
              "      <td>NaN</td>\n",
              "    </tr>\n",
              "    <tr>\n",
              "      <th>Virgin Islands (U.S.)</th>\n",
              "      <td>64.930706</td>\n",
              "      <td>NaN</td>\n",
              "      <td>NaN</td>\n",
              "      <td>-0.323958</td>\n",
              "      <td>95.832000</td>\n",
              "      <td>NaN</td>\n",
              "      <td>NaN</td>\n",
              "      <td>NaN</td>\n",
              "      <td>79.268293</td>\n",
              "      <td>100.000000</td>\n",
              "      <td>49.115615</td>\n",
              "      <td>NaN</td>\n",
              "      <td>7.990000</td>\n",
              "      <td>NaN</td>\n",
              "      <td>NaN</td>\n",
              "      <td>NaN</td>\n",
              "      <td>NaN</td>\n",
              "      <td>NaN</td>\n",
              "    </tr>\n",
              "    <tr>\n",
              "      <th>Vanuatu</th>\n",
              "      <td>73.390305</td>\n",
              "      <td>107.0</td>\n",
              "      <td>3292.544065</td>\n",
              "      <td>2.430920</td>\n",
              "      <td>25.394000</td>\n",
              "      <td>NaN</td>\n",
              "      <td>NaN</td>\n",
              "      <td>0.1653</td>\n",
              "      <td>70.021000</td>\n",
              "      <td>61.864769</td>\n",
              "      <td>43.577945</td>\n",
              "      <td>NaN</td>\n",
              "      <td>1.720000</td>\n",
              "      <td>NaN</td>\n",
              "      <td>61.051910</td>\n",
              "      <td>NaN</td>\n",
              "      <td>4.100000e+07</td>\n",
              "      <td>2.658513e+08</td>\n",
              "    </tr>\n",
              "    <tr>\n",
              "      <th>World</th>\n",
              "      <td>54.481402</td>\n",
              "      <td>NaN</td>\n",
              "      <td>17816.260037</td>\n",
              "      <td>1.074675</td>\n",
              "      <td>55.714718</td>\n",
              "      <td>4.45910</td>\n",
              "      <td>2.235930</td>\n",
              "      <td>NaN</td>\n",
              "      <td>72.180761</td>\n",
              "      <td>89.570314</td>\n",
              "      <td>38.858304</td>\n",
              "      <td>2294881.0</td>\n",
              "      <td>5.371721</td>\n",
              "      <td>NaN</td>\n",
              "      <td>63.051417</td>\n",
              "      <td>2.488971e+13</td>\n",
              "      <td>1.630976e+12</td>\n",
              "      <td>NaN</td>\n",
              "    </tr>\n",
              "    <tr>\n",
              "      <th>Samoa</th>\n",
              "      <td>74.816622</td>\n",
              "      <td>98.0</td>\n",
              "      <td>6795.684073</td>\n",
              "      <td>0.491829</td>\n",
              "      <td>18.056000</td>\n",
              "      <td>4.16222</td>\n",
              "      <td>NaN</td>\n",
              "      <td>0.3445</td>\n",
              "      <td>72.895000</td>\n",
              "      <td>100.000000</td>\n",
              "      <td>34.376409</td>\n",
              "      <td>1.0</td>\n",
              "      <td>8.320000</td>\n",
              "      <td>NaN</td>\n",
              "      <td>62.074040</td>\n",
              "      <td>3.164139e+08</td>\n",
              "      <td>1.019330e+06</td>\n",
              "      <td>3.418577e+08</td>\n",
              "    </tr>\n",
              "  </tbody>\n",
              "</table>\n",
              "<p>118 rows × 18 columns</p>\n",
              "</div>"
            ],
            "text/plain": [
              "                           PopDep  EaseofB  ...           FDI       ForDebt\n",
              "country                                     ...                            \n",
              "Aruba                   46.367454      NaN  ... -7.604174e+07           NaN\n",
              "Angola                  95.394042    177.0  ... -4.098479e+09  4.052814e+10\n",
              "Andorra                       NaN      NaN  ...           NaN           NaN\n",
              "Arab World              61.081801      NaN  ...  3.350713e+10           NaN\n",
              "American Samoa                NaN      NaN  ...           NaN           NaN\n",
              "...                           ...      ...  ...           ...           ...\n",
              "British Virgin Islands        NaN      NaN  ...  5.799684e+10           NaN\n",
              "Virgin Islands (U.S.)   64.930706      NaN  ...           NaN           NaN\n",
              "Vanuatu                 73.390305    107.0  ...  4.100000e+07  2.658513e+08\n",
              "World                   54.481402      NaN  ...  1.630976e+12           NaN\n",
              "Samoa                   74.816622     98.0  ...  1.019330e+06  3.418577e+08\n",
              "\n",
              "[118 rows x 18 columns]"
            ]
          },
          "metadata": {
            "tags": []
          },
          "execution_count": 41
        }
      ]
    },
    {
      "cell_type": "markdown",
      "metadata": {
        "id": "veyP_3YGOIPO"
      },
      "source": [
        "Lets look at the data for one country Pakistan"
      ]
    },
    {
      "cell_type": "code",
      "metadata": {
        "colab": {
          "base_uri": "https://localhost:8080/"
        },
        "id": "68OCRzkB5k6V",
        "outputId": "446d3f5c-bd4f-4303-cb6e-1eff665afafb"
      },
      "source": [
        "wbdf.loc['Pakistan']"
      ],
      "execution_count": 42,
      "outputs": [
        {
          "output_type": "execute_result",
          "data": {
            "text/plain": [
              "PopDep         6.495331e+01\n",
              "EaseofB        1.080000e+02\n",
              "GDPpppPC       4.898051e+03\n",
              "PopGrowth      2.029215e+00\n",
              "UrbanPop       3.690700e+01\n",
              "GexpEdu        3.002920e+00\n",
              "MilExpGdp      3.594750e+00\n",
              "HosBedP1000    9.620000e-01\n",
              "LifeExp        6.677000e+01\n",
              "ElecAces       7.109155e+01\n",
              "Fem%Lab        2.013498e+01\n",
              "Patents        3.060000e+02\n",
              "UnemplR        4.080000e+00\n",
              "HappScore      5.693300e+00\n",
              "EofBScore      6.095491e+01\n",
              "Exports        2.815332e+10\n",
              "FDI            2.218000e+09\n",
              "ForDebt        7.223150e+10\n",
              "Name: Pakistan, dtype: float64"
            ]
          },
          "metadata": {
            "tags": []
          },
          "execution_count": 42
        }
      ]
    },
    {
      "cell_type": "markdown",
      "metadata": {
        "id": "jqagEpbiObJM"
      },
      "source": [
        "The heatmap below shows the correlation of variables with each other"
      ]
    },
    {
      "cell_type": "code",
      "metadata": {
        "id": "lJ8zx8Ktprm6",
        "colab": {
          "base_uri": "https://localhost:8080/",
          "height": 1000
        },
        "outputId": "0100f133-e549-492b-e7d7-f8c08fc8539d"
      },
      "source": [
        "plt.figure(figsize=(15,15))\n",
        "sns.heatmap(wbdf.corr(),annot=True)"
      ],
      "execution_count": 50,
      "outputs": [
        {
          "output_type": "execute_result",
          "data": {
            "text/plain": [
              "<matplotlib.axes._subplots.AxesSubplot at 0x7f5ef5798210>"
            ]
          },
          "metadata": {
            "tags": []
          },
          "execution_count": 50
        },
        {
          "output_type": "display_data",
          "data": {
            "image/png": "[encoded data removed]",
            "text/plain": [
              "<Figure size 1080x1080 with 2 Axes>"
            ]
          },
          "metadata": {
            "tags": [],
            "needs_background": "light"
          }
        }
      ]
    },
    {
      "cell_type": "markdown",
      "metadata": {
        "id": "yNQeEK_mQGIO"
      },
      "source": [
        "The heatmap shows that some variables are not correlated with GDP so may be dropped e.g. Military Expenditure as % of GDP, patents, Female Labor Particpate rate. These variables will be dropped"
      ]
    },
    {
      "cell_type": "code",
      "metadata": {
        "colab": {
          "base_uri": "https://localhost:8080/"
        },
        "id": "rIKskexlRlaF",
        "outputId": "5a7a52fa-3fef-4253-a912-76d1395cbac0"
      },
      "source": [
        "wbdf.columns"
      ],
      "execution_count": 51,
      "outputs": [
        {
          "output_type": "execute_result",
          "data": {
            "text/plain": [
              "Index(['Population Dependence %', 'Ease of Doing Business Ranking',\n",
              "       'GDP per Capita (PPP)', 'Population Growth Rate',\n",
              "       'Urban Population (% of Total)', 'GexpEdu', 'MilExpGdp', 'HosBedP1000',\n",
              "       'Life Expectancy', 'Elecricty Access', 'Fem%Lab', 'Patents', 'UnemplR',\n",
              "       'World Happiness Report Score', 'Ease of Business Score',\n",
              "       'Total Exports ($)', 'Foreign Direct Investment',\n",
              "       'Total Foreign Debt($)'],\n",
              "      dtype='object')"
            ]
          },
          "metadata": {
            "tags": []
          },
          "execution_count": 51
        }
      ]
    },
    {
      "cell_type": "code",
      "metadata": {
        "id": "VRR1g7f9sr63"
      },
      "source": [
        "wbdfSmall=wbdf.drop(columns=['GexpEdu', 'MilExpGdp', 'HosBedP1000','Fem%Lab','Fem%Lab','UnemplR','Patents'])"
      ],
      "execution_count": 63,
      "outputs": []
    },
    {
      "cell_type": "code",
      "metadata": {
        "colab": {
          "base_uri": "https://localhost:8080/",
          "height": 555
        },
        "id": "yNcRH5aOSGGl",
        "outputId": "cd4d381f-3bd9-4943-b437-2b89ace80e58"
      },
      "source": [
        "wbdfSmall"
      ],
      "execution_count": 64,
      "outputs": [
        {
          "output_type": "execute_result",
          "data": {
            "text/html": [
              "<div>\n",
              "<style scoped>\n",
              "    .dataframe tbody tr th:only-of-type {\n",
              "        vertical-align: middle;\n",
              "    }\n",
              "\n",
              "    .dataframe tbody tr th {\n",
              "        vertical-align: top;\n",
              "    }\n",
              "\n",
              "    .dataframe thead th {\n",
              "        text-align: right;\n",
              "    }\n",
              "</style>\n",
              "<table border=\"1\" class=\"dataframe\">\n",
              "  <thead>\n",
              "    <tr style=\"text-align: right;\">\n",
              "      <th></th>\n",
              "      <th>Population Dependence %</th>\n",
              "      <th>Ease of Doing Business Ranking</th>\n",
              "      <th>GDP per Capita (PPP)</th>\n",
              "      <th>Population Growth Rate</th>\n",
              "      <th>Urban Population (% of Total)</th>\n",
              "      <th>Life Expectancy</th>\n",
              "      <th>Elecricty Access</th>\n",
              "      <th>World Happiness Report Score</th>\n",
              "      <th>Ease of Business Score</th>\n",
              "      <th>Total Exports ($)</th>\n",
              "      <th>Foreign Direct Investment</th>\n",
              "      <th>Total Foreign Debt($)</th>\n",
              "    </tr>\n",
              "    <tr>\n",
              "      <th>country</th>\n",
              "      <th></th>\n",
              "      <th></th>\n",
              "      <th></th>\n",
              "      <th></th>\n",
              "      <th></th>\n",
              "      <th></th>\n",
              "      <th></th>\n",
              "      <th></th>\n",
              "      <th></th>\n",
              "      <th></th>\n",
              "      <th></th>\n",
              "      <th></th>\n",
              "    </tr>\n",
              "  </thead>\n",
              "  <tbody>\n",
              "    <tr>\n",
              "      <th>Aruba</th>\n",
              "      <td>46.367454</td>\n",
              "      <td>NaN</td>\n",
              "      <td>NaN</td>\n",
              "      <td>0.442122</td>\n",
              "      <td>43.546</td>\n",
              "      <td>75.868000</td>\n",
              "      <td>100.000000</td>\n",
              "      <td>NaN</td>\n",
              "      <td>NaN</td>\n",
              "      <td>NaN</td>\n",
              "      <td>-7.604174e+07</td>\n",
              "      <td>NaN</td>\n",
              "    </tr>\n",
              "    <tr>\n",
              "      <th>Afghanistan</th>\n",
              "      <td>82.109775</td>\n",
              "      <td>173.0</td>\n",
              "      <td>2156.419482</td>\n",
              "      <td>2.311817</td>\n",
              "      <td>25.754</td>\n",
              "      <td>63.763000</td>\n",
              "      <td>98.713203</td>\n",
              "      <td>2.5669</td>\n",
              "      <td>44.06497</td>\n",
              "      <td>NaN</td>\n",
              "      <td>2.340455e+07</td>\n",
              "      <td>1.943399e+09</td>\n",
              "    </tr>\n",
              "    <tr>\n",
              "      <th>Angola</th>\n",
              "      <td>95.394042</td>\n",
              "      <td>177.0</td>\n",
              "      <td>6965.511374</td>\n",
              "      <td>3.242983</td>\n",
              "      <td>66.177</td>\n",
              "      <td>59.925000</td>\n",
              "      <td>43.259258</td>\n",
              "      <td>NaN</td>\n",
              "      <td>41.28838</td>\n",
              "      <td>3.602087e+10</td>\n",
              "      <td>-4.098479e+09</td>\n",
              "      <td>4.052814e+10</td>\n",
              "    </tr>\n",
              "    <tr>\n",
              "      <th>Albania</th>\n",
              "      <td>46.203522</td>\n",
              "      <td>82.0</td>\n",
              "      <td>14648.267402</td>\n",
              "      <td>-0.426007</td>\n",
              "      <td>61.229</td>\n",
              "      <td>78.194000</td>\n",
              "      <td>100.000000</td>\n",
              "      <td>4.8827</td>\n",
              "      <td>67.74847</td>\n",
              "      <td>4.821431e+09</td>\n",
              "      <td>1.201022e+09</td>\n",
              "      <td>4.980870e+09</td>\n",
              "    </tr>\n",
              "    <tr>\n",
              "      <th>Andorra</th>\n",
              "      <td>NaN</td>\n",
              "      <td>NaN</td>\n",
              "      <td>NaN</td>\n",
              "      <td>0.176454</td>\n",
              "      <td>87.984</td>\n",
              "      <td>NaN</td>\n",
              "      <td>100.000000</td>\n",
              "      <td>NaN</td>\n",
              "      <td>NaN</td>\n",
              "      <td>NaN</td>\n",
              "      <td>NaN</td>\n",
              "      <td>NaN</td>\n",
              "    </tr>\n",
              "    <tr>\n",
              "      <th>...</th>\n",
              "      <td>...</td>\n",
              "      <td>...</td>\n",
              "      <td>...</td>\n",
              "      <td>...</td>\n",
              "      <td>...</td>\n",
              "      <td>...</td>\n",
              "      <td>...</td>\n",
              "      <td>...</td>\n",
              "      <td>...</td>\n",
              "      <td>...</td>\n",
              "      <td>...</td>\n",
              "      <td>...</td>\n",
              "    </tr>\n",
              "    <tr>\n",
              "      <th>Kosovo</th>\n",
              "      <td>NaN</td>\n",
              "      <td>57.0</td>\n",
              "      <td>11870.797576</td>\n",
              "      <td>-0.157992</td>\n",
              "      <td>NaN</td>\n",
              "      <td>71.646341</td>\n",
              "      <td>100.000000</td>\n",
              "      <td>6.3250</td>\n",
              "      <td>73.18473</td>\n",
              "      <td>2.315662e+09</td>\n",
              "      <td>2.850816e+08</td>\n",
              "      <td>4.838109e+08</td>\n",
              "    </tr>\n",
              "    <tr>\n",
              "      <th>Yemen, Rep.</th>\n",
              "      <td>72.787716</td>\n",
              "      <td>187.0</td>\n",
              "      <td>NaN</td>\n",
              "      <td>2.300580</td>\n",
              "      <td>37.273</td>\n",
              "      <td>66.087000</td>\n",
              "      <td>62.000000</td>\n",
              "      <td>3.5200</td>\n",
              "      <td>31.76299</td>\n",
              "      <td>NaN</td>\n",
              "      <td>-3.709828e+08</td>\n",
              "      <td>5.622578e+09</td>\n",
              "    </tr>\n",
              "    <tr>\n",
              "      <th>South Africa</th>\n",
              "      <td>52.400879</td>\n",
              "      <td>84.0</td>\n",
              "      <td>13034.164661</td>\n",
              "      <td>1.338617</td>\n",
              "      <td>66.856</td>\n",
              "      <td>63.153000</td>\n",
              "      <td>91.229874</td>\n",
              "      <td>4.8141</td>\n",
              "      <td>67.01897</td>\n",
              "      <td>1.049158e+11</td>\n",
              "      <td>4.624503e+09</td>\n",
              "      <td>7.610179e+10</td>\n",
              "    </tr>\n",
              "    <tr>\n",
              "      <th>Zambia</th>\n",
              "      <td>87.188180</td>\n",
              "      <td>85.0</td>\n",
              "      <td>3624.024939</td>\n",
              "      <td>2.892373</td>\n",
              "      <td>44.072</td>\n",
              "      <td>62.464000</td>\n",
              "      <td>39.812622</td>\n",
              "      <td>3.7594</td>\n",
              "      <td>66.93648</td>\n",
              "      <td>8.073611e+09</td>\n",
              "      <td>5.479679e+08</td>\n",
              "      <td>1.049975e+10</td>\n",
              "    </tr>\n",
              "    <tr>\n",
              "      <th>Zimbabwe</th>\n",
              "      <td>82.277970</td>\n",
              "      <td>140.0</td>\n",
              "      <td>2961.446428</td>\n",
              "      <td>1.419681</td>\n",
              "      <td>32.210</td>\n",
              "      <td>60.294000</td>\n",
              "      <td>41.041584</td>\n",
              "      <td>3.2992</td>\n",
              "      <td>54.46935</td>\n",
              "      <td>NaN</td>\n",
              "      <td>2.800000e+08</td>\n",
              "      <td>5.884767e+09</td>\n",
              "    </tr>\n",
              "  </tbody>\n",
              "</table>\n",
              "<p>263 rows × 12 columns</p>\n",
              "</div>"
            ],
            "text/plain": [
              "              Population Dependence %  ...  Total Foreign Debt($)\n",
              "country                                ...                       \n",
              "Aruba                       46.367454  ...                    NaN\n",
              "Afghanistan                 82.109775  ...           1.943399e+09\n",
              "Angola                      95.394042  ...           4.052814e+10\n",
              "Albania                     46.203522  ...           4.980870e+09\n",
              "Andorra                           NaN  ...                    NaN\n",
              "...                               ...  ...                    ...\n",
              "Kosovo                            NaN  ...           4.838109e+08\n",
              "Yemen, Rep.                 72.787716  ...           5.622578e+09\n",
              "South Africa                52.400879  ...           7.610179e+10\n",
              "Zambia                      87.188180  ...           1.049975e+10\n",
              "Zimbabwe                    82.277970  ...           5.884767e+09\n",
              "\n",
              "[263 rows x 12 columns]"
            ]
          },
          "metadata": {
            "tags": []
          },
          "execution_count": 64
        }
      ]
    },
    {
      "cell_type": "code",
      "metadata": {
        "id": "c7F-FPlnuIWS",
        "colab": {
          "base_uri": "https://localhost:8080/",
          "height": 753
        },
        "outputId": "7428cf2a-e33b-4795-a04f-7e35a625268e"
      },
      "source": [
        "plt.figure(figsize=(10,10))\n",
        "sns.heatmap(wbdfSmall.corr(),annot=True)"
      ],
      "execution_count": 61,
      "outputs": [
        {
          "output_type": "execute_result",
          "data": {
            "text/plain": [
              "<matplotlib.axes._subplots.AxesSubplot at 0x7f5ef5279510>"
            ]
          },
          "metadata": {
            "tags": []
          },
          "execution_count": 61
        },
        {
          "output_type": "display_data",
          "data": {
            "image/png": "[encoded data removed]",
            "text/plain": [
              "<Figure size 720x720 with 2 Axes>"
            ]
          },
          "metadata": {
            "tags": [],
            "needs_background": "light"
          }
        }
      ]
    },
    {
      "cell_type": "code",
      "metadata": {
        "id": "4R0519dQTnuH"
      },
      "source": [
        "wbdfSmall"
      ],
      "execution_count": null,
      "outputs": []
    },
    {
      "cell_type": "code",
      "metadata": {
        "id": "prsMGEZssurG",
        "colab": {
          "base_uri": "https://localhost:8080/"
        },
        "outputId": "d854edd8-ea43-4dd3-ff9c-225c2d547389"
      },
      "source": [
        "wbdfSmall.isnull().sum()"
      ],
      "execution_count": 65,
      "outputs": [
        {
          "output_type": "execute_result",
          "data": {
            "text/plain": [
              "Population Dependence %            25\n",
              "Ease of Doing Business Ranking     75\n",
              "GDP per Capita (PPP)               32\n",
              "Population Growth Rate              2\n",
              "Urban Population (% of Total)       4\n",
              "Life Expectancy                    17\n",
              "Elecricty Access                    3\n",
              "World Happiness Report Score      116\n",
              "Ease of Business Score             28\n",
              "Total Exports ($)                  66\n",
              "Foreign Direct Investment          21\n",
              "Total Foreign Debt($)             132\n",
              "dtype: int64"
            ]
          },
          "metadata": {
            "tags": []
          },
          "execution_count": 65
        }
      ]
    },
    {
      "cell_type": "code",
      "metadata": {
        "id": "EZ0pvNLgx2GQ"
      },
      "source": [
        "df=wbdfSmall[wbdfSmall['Ease of Doing Business Ranking'].notna()]"
      ],
      "execution_count": 67,
      "outputs": []
    },
    {
      "cell_type": "markdown",
      "metadata": {
        "id": "Xu5hw6QxY-kZ"
      },
      "source": [
        "df above is the dataframe we will use since it contains data for 188 countries and not regions"
      ]
    },
    {
      "cell_type": "code",
      "metadata": {
        "colab": {
          "base_uri": "https://localhost:8080/",
          "height": 572
        },
        "id": "V0NZzlGnZG8x",
        "outputId": "d1be7803-aed9-482e-a297-122be96aec7c"
      },
      "source": [
        "df"
      ],
      "execution_count": 68,
      "outputs": [
        {
          "output_type": "execute_result",
          "data": {
            "text/html": [
              "<div>\n",
              "<style scoped>\n",
              "    .dataframe tbody tr th:only-of-type {\n",
              "        vertical-align: middle;\n",
              "    }\n",
              "\n",
              "    .dataframe tbody tr th {\n",
              "        vertical-align: top;\n",
              "    }\n",
              "\n",
              "    .dataframe thead th {\n",
              "        text-align: right;\n",
              "    }\n",
              "</style>\n",
              "<table border=\"1\" class=\"dataframe\">\n",
              "  <thead>\n",
              "    <tr style=\"text-align: right;\">\n",
              "      <th></th>\n",
              "      <th>Population Dependence %</th>\n",
              "      <th>Ease of Doing Business Ranking</th>\n",
              "      <th>GDP per Capita (PPP)</th>\n",
              "      <th>Population Growth Rate</th>\n",
              "      <th>Urban Population (% of Total)</th>\n",
              "      <th>Life Expectancy</th>\n",
              "      <th>Elecricty Access</th>\n",
              "      <th>World Happiness Report Score</th>\n",
              "      <th>Ease of Business Score</th>\n",
              "      <th>Total Exports ($)</th>\n",
              "      <th>Foreign Direct Investment</th>\n",
              "      <th>Total Foreign Debt($)</th>\n",
              "    </tr>\n",
              "    <tr>\n",
              "      <th>country</th>\n",
              "      <th></th>\n",
              "      <th></th>\n",
              "      <th></th>\n",
              "      <th></th>\n",
              "      <th></th>\n",
              "      <th></th>\n",
              "      <th></th>\n",
              "      <th></th>\n",
              "      <th></th>\n",
              "      <th></th>\n",
              "      <th></th>\n",
              "      <th></th>\n",
              "    </tr>\n",
              "  </thead>\n",
              "  <tbody>\n",
              "    <tr>\n",
              "      <th>Afghanistan</th>\n",
              "      <td>82.109775</td>\n",
              "      <td>173.0</td>\n",
              "      <td>2156.419482</td>\n",
              "      <td>2.311817</td>\n",
              "      <td>25.754</td>\n",
              "      <td>63.763000</td>\n",
              "      <td>98.713203</td>\n",
              "      <td>2.5669</td>\n",
              "      <td>44.06497</td>\n",
              "      <td>NaN</td>\n",
              "      <td>2.340455e+07</td>\n",
              "      <td>1.943399e+09</td>\n",
              "    </tr>\n",
              "    <tr>\n",
              "      <th>Angola</th>\n",
              "      <td>95.394042</td>\n",
              "      <td>177.0</td>\n",
              "      <td>6965.511374</td>\n",
              "      <td>3.242983</td>\n",
              "      <td>66.177</td>\n",
              "      <td>59.925000</td>\n",
              "      <td>43.259258</td>\n",
              "      <td>NaN</td>\n",
              "      <td>41.28838</td>\n",
              "      <td>3.602087e+10</td>\n",
              "      <td>-4.098479e+09</td>\n",
              "      <td>4.052814e+10</td>\n",
              "    </tr>\n",
              "    <tr>\n",
              "      <th>Albania</th>\n",
              "      <td>46.203522</td>\n",
              "      <td>82.0</td>\n",
              "      <td>14648.267402</td>\n",
              "      <td>-0.426007</td>\n",
              "      <td>61.229</td>\n",
              "      <td>78.194000</td>\n",
              "      <td>100.000000</td>\n",
              "      <td>4.8827</td>\n",
              "      <td>67.74847</td>\n",
              "      <td>4.821431e+09</td>\n",
              "      <td>1.201022e+09</td>\n",
              "      <td>4.980870e+09</td>\n",
              "    </tr>\n",
              "    <tr>\n",
              "      <th>United Arab Emirates</th>\n",
              "      <td>18.862478</td>\n",
              "      <td>16.0</td>\n",
              "      <td>70089.324038</td>\n",
              "      <td>1.438780</td>\n",
              "      <td>86.789</td>\n",
              "      <td>77.470000</td>\n",
              "      <td>100.000000</td>\n",
              "      <td>6.7908</td>\n",
              "      <td>80.91489</td>\n",
              "      <td>3.893724e+11</td>\n",
              "      <td>1.378747e+10</td>\n",
              "      <td>NaN</td>\n",
              "    </tr>\n",
              "    <tr>\n",
              "      <th>Argentina</th>\n",
              "      <td>55.857033</td>\n",
              "      <td>126.0</td>\n",
              "      <td>23040.287953</td>\n",
              "      <td>0.993397</td>\n",
              "      <td>91.991</td>\n",
              "      <td>76.221000</td>\n",
              "      <td>100.000000</td>\n",
              "      <td>5.9747</td>\n",
              "      <td>58.96151</td>\n",
              "      <td>7.768432e+10</td>\n",
              "      <td>6.663062e+09</td>\n",
              "      <td>2.146662e+11</td>\n",
              "    </tr>\n",
              "    <tr>\n",
              "      <th>...</th>\n",
              "      <td>...</td>\n",
              "      <td>...</td>\n",
              "      <td>...</td>\n",
              "      <td>...</td>\n",
              "      <td>...</td>\n",
              "      <td>...</td>\n",
              "      <td>...</td>\n",
              "      <td>...</td>\n",
              "      <td>...</td>\n",
              "      <td>...</td>\n",
              "      <td>...</td>\n",
              "      <td>...</td>\n",
              "    </tr>\n",
              "    <tr>\n",
              "      <th>Kosovo</th>\n",
              "      <td>NaN</td>\n",
              "      <td>57.0</td>\n",
              "      <td>11870.797576</td>\n",
              "      <td>-0.157992</td>\n",
              "      <td>NaN</td>\n",
              "      <td>71.646341</td>\n",
              "      <td>100.000000</td>\n",
              "      <td>6.3250</td>\n",
              "      <td>73.18473</td>\n",
              "      <td>2.315662e+09</td>\n",
              "      <td>2.850816e+08</td>\n",
              "      <td>4.838109e+08</td>\n",
              "    </tr>\n",
              "    <tr>\n",
              "      <th>Yemen, Rep.</th>\n",
              "      <td>72.787716</td>\n",
              "      <td>187.0</td>\n",
              "      <td>NaN</td>\n",
              "      <td>2.300580</td>\n",
              "      <td>37.273</td>\n",
              "      <td>66.087000</td>\n",
              "      <td>62.000000</td>\n",
              "      <td>3.5200</td>\n",
              "      <td>31.76299</td>\n",
              "      <td>NaN</td>\n",
              "      <td>-3.709828e+08</td>\n",
              "      <td>5.622578e+09</td>\n",
              "    </tr>\n",
              "    <tr>\n",
              "      <th>South Africa</th>\n",
              "      <td>52.400879</td>\n",
              "      <td>84.0</td>\n",
              "      <td>13034.164661</td>\n",
              "      <td>1.338617</td>\n",
              "      <td>66.856</td>\n",
              "      <td>63.153000</td>\n",
              "      <td>91.229874</td>\n",
              "      <td>4.8141</td>\n",
              "      <td>67.01897</td>\n",
              "      <td>1.049158e+11</td>\n",
              "      <td>4.624503e+09</td>\n",
              "      <td>7.610179e+10</td>\n",
              "    </tr>\n",
              "    <tr>\n",
              "      <th>Zambia</th>\n",
              "      <td>87.188180</td>\n",
              "      <td>85.0</td>\n",
              "      <td>3624.024939</td>\n",
              "      <td>2.892373</td>\n",
              "      <td>44.072</td>\n",
              "      <td>62.464000</td>\n",
              "      <td>39.812622</td>\n",
              "      <td>3.7594</td>\n",
              "      <td>66.93648</td>\n",
              "      <td>8.073611e+09</td>\n",
              "      <td>5.479679e+08</td>\n",
              "      <td>1.049975e+10</td>\n",
              "    </tr>\n",
              "    <tr>\n",
              "      <th>Zimbabwe</th>\n",
              "      <td>82.277970</td>\n",
              "      <td>140.0</td>\n",
              "      <td>2961.446428</td>\n",
              "      <td>1.419681</td>\n",
              "      <td>32.210</td>\n",
              "      <td>60.294000</td>\n",
              "      <td>41.041584</td>\n",
              "      <td>3.2992</td>\n",
              "      <td>54.46935</td>\n",
              "      <td>NaN</td>\n",
              "      <td>2.800000e+08</td>\n",
              "      <td>5.884767e+09</td>\n",
              "    </tr>\n",
              "  </tbody>\n",
              "</table>\n",
              "<p>188 rows × 12 columns</p>\n",
              "</div>"
            ],
            "text/plain": [
              "                      Population Dependence %  ...  Total Foreign Debt($)\n",
              "country                                        ...                       \n",
              "Afghanistan                         82.109775  ...           1.943399e+09\n",
              "Angola                              95.394042  ...           4.052814e+10\n",
              "Albania                             46.203522  ...           4.980870e+09\n",
              "United Arab Emirates                18.862478  ...                    NaN\n",
              "Argentina                           55.857033  ...           2.146662e+11\n",
              "...                                       ...  ...                    ...\n",
              "Kosovo                                    NaN  ...           4.838109e+08\n",
              "Yemen, Rep.                         72.787716  ...           5.622578e+09\n",
              "South Africa                        52.400879  ...           7.610179e+10\n",
              "Zambia                              87.188180  ...           1.049975e+10\n",
              "Zimbabwe                            82.277970  ...           5.884767e+09\n",
              "\n",
              "[188 rows x 12 columns]"
            ]
          },
          "metadata": {
            "tags": []
          },
          "execution_count": 68
        }
      ]
    },
    {
      "cell_type": "code",
      "metadata": {
        "colab": {
          "base_uri": "https://localhost:8080/",
          "height": 400
        },
        "id": "OijmznLSJ5T5",
        "outputId": "f8ae9324-2a56-4975-e646-522e8755a19d"
      },
      "source": [
        "sns.lmplot(data=easeDF,x='GDPpppPC',y='Patents')"
      ],
      "execution_count": null,
      "outputs": [
        {
          "output_type": "execute_result",
          "data": {
            "text/plain": [
              "<seaborn.axisgrid.FacetGrid at 0x7f9f7c1c8050>"
            ]
          },
          "metadata": {
            "tags": []
          },
          "execution_count": 14
        },
        {
          "output_type": "display_data",
          "data": {
            "image/png": "[encoded data removed]",
            "text/plain": [
              "<Figure size 360x360 with 1 Axes>"
            ]
          },
          "metadata": {
            "tags": [],
            "needs_background": "light"
          }
        }
      ]
    },
    {
      "cell_type": "code",
      "metadata": {
        "colab": {
          "base_uri": "https://localhost:8080/",
          "height": 400
        },
        "id": "bGHDjIoaJw5p",
        "outputId": "958d7071-4fc6-48a3-f0d0-e09e52cf1704"
      },
      "source": [
        "sns.lmplot(data=easeDF,x='GDPpppPC',y='LifeExp')"
      ],
      "execution_count": null,
      "outputs": [
        {
          "output_type": "execute_result",
          "data": {
            "text/plain": [
              "<seaborn.axisgrid.FacetGrid at 0x7f9f80afcfd0>"
            ]
          },
          "metadata": {
            "tags": []
          },
          "execution_count": 13
        },
        {
          "output_type": "display_data",
          "data": {
            "image/png": "[encoded data removed]",
            "text/plain": [
              "<Figure size 360x360 with 1 Axes>"
            ]
          },
          "metadata": {
            "tags": [],
            "needs_background": "light"
          }
        }
      ]
    },
    {
      "cell_type": "code",
      "metadata": {
        "colab": {
          "base_uri": "https://localhost:8080/",
          "height": 400
        },
        "id": "eAhSjBuOJqJf",
        "outputId": "9a88d359-2849-4527-d208-8aecb074e9c7"
      },
      "source": [
        "sns.lmplot(data=easeDF,x='GDPpppPC',y='UrbanPop')"
      ],
      "execution_count": null,
      "outputs": [
        {
          "output_type": "execute_result",
          "data": {
            "text/plain": [
              "<seaborn.axisgrid.FacetGrid at 0x7f9f7c285950>"
            ]
          },
          "metadata": {
            "tags": []
          },
          "execution_count": 12
        },
        {
          "output_type": "display_data",
          "data": {
            "image/png": "[encoded data removed]",
            "text/plain": [
              "<Figure size 360x360 with 1 Axes>"
            ]
          },
          "metadata": {
            "tags": [],
            "needs_background": "light"
          }
        }
      ]
    },
    {
      "cell_type": "code",
      "metadata": {
        "colab": {
          "base_uri": "https://localhost:8080/",
          "height": 400
        },
        "id": "JH9tLn5tJX-s",
        "outputId": "2d6c06e0-f9c0-49de-f272-0b4142aff718"
      },
      "source": [
        "sns.lmplot(data=easeDF,x='GDPpppPC',y='PopGrowth')"
      ],
      "execution_count": null,
      "outputs": [
        {
          "output_type": "execute_result",
          "data": {
            "text/plain": [
              "<seaborn.axisgrid.FacetGrid at 0x7f9f7c36d410>"
            ]
          },
          "metadata": {
            "tags": []
          },
          "execution_count": 11
        },
        {
          "output_type": "display_data",
          "data": {
            "image/png": "[encoded data removed]",
            "text/plain": [
              "<Figure size 360x360 with 1 Axes>"
            ]
          },
          "metadata": {
            "tags": [],
            "needs_background": "light"
          }
        }
      ]
    },
    {
      "cell_type": "code",
      "metadata": {
        "colab": {
          "base_uri": "https://localhost:8080/",
          "height": 400
        },
        "id": "wKwHE8nxQaqG",
        "outputId": "cbb09bed-11a1-4022-8b47-3a9a838f352f"
      },
      "source": [
        "sns.lmplot(data=easeDF,x='GDPpppPC',y='ElecAces')"
      ],
      "execution_count": null,
      "outputs": [
        {
          "output_type": "execute_result",
          "data": {
            "text/plain": [
              "<seaborn.axisgrid.FacetGrid at 0x7f9f81fee190>"
            ]
          },
          "metadata": {
            "tags": []
          },
          "execution_count": 7
        },
        {
          "output_type": "display_data",
          "data": {
            "image/png": "[encoded data removed]",
            "text/plain": [
              "<Figure size 360x360 with 1 Axes>"
            ]
          },
          "metadata": {
            "tags": [],
            "needs_background": "light"
          }
        }
      ]
    },
    {
      "cell_type": "code",
      "metadata": {
        "colab": {
          "base_uri": "https://localhost:8080/",
          "height": 400
        },
        "id": "nQfiGiJnMUa-",
        "outputId": "1dffce9f-d82c-418d-f3ff-69135ed08e8c"
      },
      "source": [
        "sns.lmplot(data=easeDF,x='GDPpppPC',y='EofBScore')"
      ],
      "execution_count": null,
      "outputs": [
        {
          "output_type": "execute_result",
          "data": {
            "text/plain": [
              "<seaborn.axisgrid.FacetGrid at 0x7f9f80b1abd0>"
            ]
          },
          "metadata": {
            "tags": []
          },
          "execution_count": 8
        },
        {
          "output_type": "display_data",
          "data": {
            "image/png": "[encoded data removed]",
            "text/plain": [
              "<Figure size 360x360 with 1 Axes>"
            ]
          },
          "metadata": {
            "tags": [],
            "needs_background": "light"
          }
        }
      ]
    },
    {
      "cell_type": "code",
      "metadata": {
        "colab": {
          "base_uri": "https://localhost:8080/",
          "height": 400
        },
        "id": "gLPqpa4ILfZL",
        "outputId": "0cd2c3cf-ebc0-41e6-f3d9-9dbb992eb08a"
      },
      "source": [
        "sns.lmplot(data=easeDF,x='GDPpppPC',y='HappScore')"
      ],
      "execution_count": null,
      "outputs": [
        {
          "output_type": "execute_result",
          "data": {
            "text/plain": [
              "<seaborn.axisgrid.FacetGrid at 0x7f9f80a56f10>"
            ]
          },
          "metadata": {
            "tags": []
          },
          "execution_count": 9
        },
        {
          "output_type": "display_data",
          "data": {
            "image/png": "[encoded data removed]",
            "text/plain": [
              "<Figure size 360x360 with 1 Axes>"
            ]
          },
          "metadata": {
            "tags": [],
            "needs_background": "light"
          }
        }
      ]
    },
    {
      "cell_type": "code",
      "metadata": {
        "id": "r_rJiyCbZRDO"
      },
      "source": [
        "#easeDF.fillna(easeDF.mean(),inplace=True)"
      ],
      "execution_count": null,
      "outputs": []
    },
    {
      "cell_type": "code",
      "metadata": {
        "id": "_tXKBbVxyCQK"
      },
      "source": [
        "from google.colab import files"
      ],
      "execution_count": 55,
      "outputs": []
    },
    {
      "cell_type": "code",
      "metadata": {
        "id": "nK6VRTQnySAF"
      },
      "source": [
        "wbdf.to_csv('wbdf.csv')"
      ],
      "execution_count": 56,
      "outputs": []
    },
    {
      "cell_type": "code",
      "metadata": {
        "colab": {
          "base_uri": "https://localhost:8080/",
          "height": 17
        },
        "id": "3unl34cxy9V4",
        "outputId": "4041bc7f-baf0-4df4-f258-c119dd82f919"
      },
      "source": [
        "files.download('wbdf.csv')"
      ],
      "execution_count": 57,
      "outputs": [
        {
          "output_type": "display_data",
          "data": {
            "application/javascript": [
              "\n",
              "    async function download(id, filename, size) {\n",
              "      if (!google.colab.kernel.accessAllowed) {\n",
              "        return;\n",
              "      }\n",
              "      const div = document.createElement('div');\n",
              "      const label = document.createElement('label');\n",
              "      label.textContent = `Downloading \"${filename}\": `;\n",
              "      div.appendChild(label);\n",
              "      const progress = document.createElement('progress');\n",
              "      progress.max = size;\n",
              "      div.appendChild(progress);\n",
              "      document.body.appendChild(div);\n",
              "\n",
              "      const buffers = [];\n",
              "      let downloaded = 0;\n",
              "\n",
              "      const channel = await google.colab.kernel.comms.open(id);\n",
              "      // Send a message to notify the kernel that we're ready.\n",
              "      channel.send({})\n",
              "\n",
              "      for await (const message of channel.messages) {\n",
              "        // Send a message to notify the kernel that we're ready.\n",
              "        channel.send({})\n",
              "        if (message.buffers) {\n",
              "          for (const buffer of message.buffers) {\n",
              "            buffers.push(buffer);\n",
              "            downloaded += buffer.byteLength;\n",
              "            progress.value = downloaded;\n",
              "          }\n",
              "        }\n",
              "      }\n",
              "      const blob = new Blob(buffers, {type: 'application/binary'});\n",
              "      const a = document.createElement('a');\n",
              "      a.href = window.URL.createObjectURL(blob);\n",
              "      a.download = filename;\n",
              "      div.appendChild(a);\n",
              "      a.click();\n",
              "      div.remove();\n",
              "    }\n",
              "  "
            ],
            "text/plain": [
              "<IPython.core.display.Javascript object>"
            ]
          },
          "metadata": {
            "tags": []
          }
        },
        {
          "output_type": "display_data",
          "data": {
            "application/javascript": [
              "download(\"download_e4535449-8caf-4625-9038-3d6293a61fdc\", \"wbdf.csv\", 57030)"
            ],
            "text/plain": [
              "<IPython.core.display.Javascript object>"
            ]
          },
          "metadata": {
            "tags": []
          }
        }
      ]
    },
    {
      "cell_type": "code",
      "metadata": {
        "id": "rltDufCD2k2-"
      },
      "source": [
        ""
      ],
      "execution_count": null,
      "outputs": []
    },
    {
      "cell_type": "code",
      "metadata": {
        "colab": {
          "base_uri": "https://localhost:8080/",
          "height": 214
        },
        "id": "LAokPrj32r9C",
        "outputId": "b207875e-fe52-40a3-c979-dc7578f29ae8"
      },
      "source": [
        "dfWbWho.head()"
      ],
      "execution_count": null,
      "outputs": [
        {
          "output_type": "execute_result",
          "data": {
            "text/html": [
              "<div>\n",
              "<style scoped>\n",
              "    .dataframe tbody tr th:only-of-type {\n",
              "        vertical-align: middle;\n",
              "    }\n",
              "\n",
              "    .dataframe tbody tr th {\n",
              "        vertical-align: top;\n",
              "    }\n",
              "\n",
              "    .dataframe thead th {\n",
              "        text-align: right;\n",
              "    }\n",
              "</style>\n",
              "<table border=\"1\" class=\"dataframe\">\n",
              "  <thead>\n",
              "    <tr style=\"text-align: right;\">\n",
              "      <th></th>\n",
              "      <th>Unnamed: 0</th>\n",
              "      <th>country</th>\n",
              "      <th>PopDep</th>\n",
              "      <th>EaseofB</th>\n",
              "      <th>GDPpppPC</th>\n",
              "      <th>DiabetesPrev</th>\n",
              "      <th>PopGrowth</th>\n",
              "      <th>UrbanPop</th>\n",
              "      <th>GexpEdu</th>\n",
              "      <th>MilExpGdp</th>\n",
              "      <th>HosBedP1000</th>\n",
              "      <th>LifeExp</th>\n",
              "      <th>deaths</th>\n",
              "    </tr>\n",
              "  </thead>\n",
              "  <tbody>\n",
              "    <tr>\n",
              "      <th>0</th>\n",
              "      <td>0</td>\n",
              "      <td>Aruba</td>\n",
              "      <td>46.367454</td>\n",
              "      <td>NaN</td>\n",
              "      <td>NaN</td>\n",
              "      <td>11.6</td>\n",
              "      <td>0.442122</td>\n",
              "      <td>43.546</td>\n",
              "      <td>5.52415</td>\n",
              "      <td>NaN</td>\n",
              "      <td>NaN</td>\n",
              "      <td>75.868</td>\n",
              "      <td>571.34</td>\n",
              "    </tr>\n",
              "    <tr>\n",
              "      <th>1</th>\n",
              "      <td>1</td>\n",
              "      <td>Afghanistan</td>\n",
              "      <td>82.109775</td>\n",
              "      <td>173.0</td>\n",
              "      <td>2156.419482</td>\n",
              "      <td>9.2</td>\n",
              "      <td>2.311817</td>\n",
              "      <td>25.754</td>\n",
              "      <td>4.22836</td>\n",
              "      <td>0.956772</td>\n",
              "      <td>0.2782</td>\n",
              "      <td>63.763</td>\n",
              "      <td>61.91</td>\n",
              "    </tr>\n",
              "    <tr>\n",
              "      <th>2</th>\n",
              "      <td>2</td>\n",
              "      <td>Angola</td>\n",
              "      <td>95.394042</td>\n",
              "      <td>177.0</td>\n",
              "      <td>6965.511374</td>\n",
              "      <td>4.5</td>\n",
              "      <td>3.242983</td>\n",
              "      <td>66.177</td>\n",
              "      <td>NaN</td>\n",
              "      <td>2.733341</td>\n",
              "      <td>NaN</td>\n",
              "      <td>59.925</td>\n",
              "      <td>14.45</td>\n",
              "    </tr>\n",
              "    <tr>\n",
              "      <th>3</th>\n",
              "      <td>3</td>\n",
              "      <td>Albania</td>\n",
              "      <td>46.203522</td>\n",
              "      <td>82.0</td>\n",
              "      <td>14496.127683</td>\n",
              "      <td>9.0</td>\n",
              "      <td>-0.426007</td>\n",
              "      <td>61.229</td>\n",
              "      <td>3.96209</td>\n",
              "      <td>1.103581</td>\n",
              "      <td>1.2164</td>\n",
              "      <td>78.194</td>\n",
              "      <td>502.47</td>\n",
              "    </tr>\n",
              "    <tr>\n",
              "      <th>4</th>\n",
              "      <td>4</td>\n",
              "      <td>Andorra</td>\n",
              "      <td>NaN</td>\n",
              "      <td>NaN</td>\n",
              "      <td>NaN</td>\n",
              "      <td>7.7</td>\n",
              "      <td>0.176454</td>\n",
              "      <td>87.984</td>\n",
              "      <td>3.23707</td>\n",
              "      <td>NaN</td>\n",
              "      <td>NaN</td>\n",
              "      <td>NaN</td>\n",
              "      <td>1358.96</td>\n",
              "    </tr>\n",
              "  </tbody>\n",
              "</table>\n",
              "</div>"
            ],
            "text/plain": [
              "   Unnamed: 0      country     PopDep  ...  HosBedP1000  LifeExp   deaths\n",
              "0           0        Aruba  46.367454  ...          NaN   75.868   571.34\n",
              "1           1  Afghanistan  82.109775  ...       0.2782   63.763    61.91\n",
              "2           2       Angola  95.394042  ...          NaN   59.925    14.45\n",
              "3           3      Albania  46.203522  ...       1.2164   78.194   502.47\n",
              "4           4      Andorra        NaN  ...          NaN      NaN  1358.96\n",
              "\n",
              "[5 rows x 13 columns]"
            ]
          },
          "metadata": {
            "tags": []
          },
          "execution_count": 84
        }
      ]
    },
    {
      "cell_type": "code",
      "metadata": {
        "colab": {
          "base_uri": "https://localhost:8080/",
          "height": 947
        },
        "id": "qJQgXZnZ203M",
        "outputId": "bdb8e3e0-df1a-4840-8348-1f55dee3643d"
      },
      "source": [
        "dfWbWho.sort_values(\"EaseofB\")[['country','EaseofB','deaths']].head(30)"
      ],
      "execution_count": null,
      "outputs": [
        {
          "output_type": "execute_result",
          "data": {
            "text/html": [
              "<div>\n",
              "<style scoped>\n",
              "    .dataframe tbody tr th:only-of-type {\n",
              "        vertical-align: middle;\n",
              "    }\n",
              "\n",
              "    .dataframe tbody tr th {\n",
              "        vertical-align: top;\n",
              "    }\n",
              "\n",
              "    .dataframe thead th {\n",
              "        text-align: right;\n",
              "    }\n",
              "</style>\n",
              "<table border=\"1\" class=\"dataframe\">\n",
              "  <thead>\n",
              "    <tr style=\"text-align: right;\">\n",
              "      <th></th>\n",
              "      <th>country</th>\n",
              "      <th>EaseofB</th>\n",
              "      <th>deaths</th>\n",
              "    </tr>\n",
              "  </thead>\n",
              "  <tbody>\n",
              "    <tr>\n",
              "      <th>131</th>\n",
              "      <td>New Zealand</td>\n",
              "      <td>1.0</td>\n",
              "      <td>5.18</td>\n",
              "    </tr>\n",
              "    <tr>\n",
              "      <th>150</th>\n",
              "      <td>Singapore</td>\n",
              "      <td>2.0</td>\n",
              "      <td>4.96</td>\n",
              "    </tr>\n",
              "    <tr>\n",
              "      <th>49</th>\n",
              "      <td>Denmark</td>\n",
              "      <td>4.0</td>\n",
              "      <td>382.41</td>\n",
              "    </tr>\n",
              "    <tr>\n",
              "      <th>95</th>\n",
              "      <td>Korea, Rep.</td>\n",
              "      <td>5.0</td>\n",
              "      <td>28.69</td>\n",
              "    </tr>\n",
              "    <tr>\n",
              "      <th>176</th>\n",
              "      <td>United States</td>\n",
              "      <td>6.0</td>\n",
              "      <td>1376.83</td>\n",
              "    </tr>\n",
              "    <tr>\n",
              "      <th>64</th>\n",
              "      <td>Georgia</td>\n",
              "      <td>7.0</td>\n",
              "      <td>822.98</td>\n",
              "    </tr>\n",
              "    <tr>\n",
              "      <th>63</th>\n",
              "      <td>United Kingdom</td>\n",
              "      <td>8.0</td>\n",
              "      <td>1651.18</td>\n",
              "    </tr>\n",
              "    <tr>\n",
              "      <th>129</th>\n",
              "      <td>Norway</td>\n",
              "      <td>9.0</td>\n",
              "      <td>107.36</td>\n",
              "    </tr>\n",
              "    <tr>\n",
              "      <th>160</th>\n",
              "      <td>Sweden</td>\n",
              "      <td>10.0</td>\n",
              "      <td>1199.59</td>\n",
              "    </tr>\n",
              "    <tr>\n",
              "      <th>104</th>\n",
              "      <td>Lithuania</td>\n",
              "      <td>11.0</td>\n",
              "      <td>1078.87</td>\n",
              "    </tr>\n",
              "    <tr>\n",
              "      <th>123</th>\n",
              "      <td>Malaysia</td>\n",
              "      <td>12.0</td>\n",
              "      <td>26.48</td>\n",
              "    </tr>\n",
              "    <tr>\n",
              "      <th>121</th>\n",
              "      <td>Mauritius</td>\n",
              "      <td>13.0</td>\n",
              "      <td>7.86</td>\n",
              "    </tr>\n",
              "    <tr>\n",
              "      <th>9</th>\n",
              "      <td>Australia</td>\n",
              "      <td>14.0</td>\n",
              "      <td>35.65</td>\n",
              "    </tr>\n",
              "    <tr>\n",
              "      <th>5</th>\n",
              "      <td>United Arab Emirates</td>\n",
              "      <td>16.0</td>\n",
              "      <td>92.41</td>\n",
              "    </tr>\n",
              "    <tr>\n",
              "      <th>113</th>\n",
              "      <td>North Macedonia</td>\n",
              "      <td>17.0</td>\n",
              "      <td>1399.65</td>\n",
              "    </tr>\n",
              "    <tr>\n",
              "      <th>56</th>\n",
              "      <td>Estonia</td>\n",
              "      <td>18.0</td>\n",
              "      <td>347.52</td>\n",
              "    </tr>\n",
              "    <tr>\n",
              "      <th>106</th>\n",
              "      <td>Latvia</td>\n",
              "      <td>19.0</td>\n",
              "      <td>703.53</td>\n",
              "    </tr>\n",
              "    <tr>\n",
              "      <th>58</th>\n",
              "      <td>Finland</td>\n",
              "      <td>20.0</td>\n",
              "      <td>124.89</td>\n",
              "    </tr>\n",
              "    <tr>\n",
              "      <th>167</th>\n",
              "      <td>Thailand</td>\n",
              "      <td>21.0</td>\n",
              "      <td>1.13</td>\n",
              "    </tr>\n",
              "    <tr>\n",
              "      <th>47</th>\n",
              "      <td>Germany</td>\n",
              "      <td>22.0</td>\n",
              "      <td>734.23</td>\n",
              "    </tr>\n",
              "    <tr>\n",
              "      <th>31</th>\n",
              "      <td>Canada</td>\n",
              "      <td>23.0</td>\n",
              "      <td>546.05</td>\n",
              "    </tr>\n",
              "    <tr>\n",
              "      <th>83</th>\n",
              "      <td>Ireland</td>\n",
              "      <td>24.0</td>\n",
              "      <td>744.06</td>\n",
              "    </tr>\n",
              "    <tr>\n",
              "      <th>92</th>\n",
              "      <td>Kazakhstan</td>\n",
              "      <td>25.0</td>\n",
              "      <td>166.48</td>\n",
              "    </tr>\n",
              "    <tr>\n",
              "      <th>86</th>\n",
              "      <td>Iceland</td>\n",
              "      <td>26.0</td>\n",
              "      <td>84.98</td>\n",
              "    </tr>\n",
              "    <tr>\n",
              "      <th>10</th>\n",
              "      <td>Austria</td>\n",
              "      <td>27.0</td>\n",
              "      <td>875.38</td>\n",
              "    </tr>\n",
              "    <tr>\n",
              "      <th>145</th>\n",
              "      <td>Russian Federation</td>\n",
              "      <td>28.0</td>\n",
              "      <td>525.31</td>\n",
              "    </tr>\n",
              "    <tr>\n",
              "      <th>91</th>\n",
              "      <td>Japan</td>\n",
              "      <td>29.0</td>\n",
              "      <td>50.11</td>\n",
              "    </tr>\n",
              "    <tr>\n",
              "      <th>55</th>\n",
              "      <td>Spain</td>\n",
              "      <td>30.0</td>\n",
              "      <td>1300.44</td>\n",
              "    </tr>\n",
              "    <tr>\n",
              "      <th>34</th>\n",
              "      <td>China</td>\n",
              "      <td>31.0</td>\n",
              "      <td>3.28</td>\n",
              "    </tr>\n",
              "    <tr>\n",
              "      <th>60</th>\n",
              "      <td>France</td>\n",
              "      <td>32.0</td>\n",
              "      <td>1200.93</td>\n",
              "    </tr>\n",
              "  </tbody>\n",
              "</table>\n",
              "</div>"
            ],
            "text/plain": [
              "                  country  EaseofB   deaths\n",
              "131           New Zealand      1.0     5.18\n",
              "150             Singapore      2.0     4.96\n",
              "49                Denmark      4.0   382.41\n",
              "95            Korea, Rep.      5.0    28.69\n",
              "176         United States      6.0  1376.83\n",
              "64                Georgia      7.0   822.98\n",
              "63         United Kingdom      8.0  1651.18\n",
              "129                Norway      9.0   107.36\n",
              "160                Sweden     10.0  1199.59\n",
              "104             Lithuania     11.0  1078.87\n",
              "123              Malaysia     12.0    26.48\n",
              "121             Mauritius     13.0     7.86\n",
              "9               Australia     14.0    35.65\n",
              "5    United Arab Emirates     16.0    92.41\n",
              "113       North Macedonia     17.0  1399.65\n",
              "56                Estonia     18.0   347.52\n",
              "106                Latvia     19.0   703.53\n",
              "58                Finland     20.0   124.89\n",
              "167              Thailand     21.0     1.13\n",
              "47                Germany     22.0   734.23\n",
              "31                 Canada     23.0   546.05\n",
              "83                Ireland     24.0   744.06\n",
              "92             Kazakhstan     25.0   166.48\n",
              "86                Iceland     26.0    84.98\n",
              "10                Austria     27.0   875.38\n",
              "145    Russian Federation     28.0   525.31\n",
              "91                  Japan     29.0    50.11\n",
              "55                  Spain     30.0  1300.44\n",
              "34                  China     31.0     3.28\n",
              "60                 France     32.0  1200.93"
            ]
          },
          "metadata": {
            "tags": []
          },
          "execution_count": 23
        }
      ]
    },
    {
      "cell_type": "code",
      "metadata": {
        "colab": {
          "base_uri": "https://localhost:8080/"
        },
        "id": "aSAuurVPoOpN",
        "outputId": "54a8f75d-ae52-48da-c213-b42b2efd8223"
      },
      "source": [
        "dfWbWho.corrwith(dfWbWho['deaths'],axis=0,method='kendall')"
      ],
      "execution_count": null,
      "outputs": [
        {
          "output_type": "execute_result",
          "data": {
            "text/plain": [
              "Unnamed: 0     -0.073088\n",
              "PopDep         -0.229435\n",
              "EaseofB        -0.315521\n",
              "GDPpppPC        0.385542\n",
              "DiabetesPrev    0.099927\n",
              "PopGrowth      -0.369042\n",
              "UrbanPop        0.323320\n",
              "GexpEdu         0.148296\n",
              "MilExpGdp      -0.022986\n",
              "HosBedP1000     0.458290\n",
              "LifeExp         0.408927\n",
              "deaths          1.000000\n",
              "dtype: float64"
            ]
          },
          "metadata": {
            "tags": []
          },
          "execution_count": 87
        }
      ]
    },
    {
      "cell_type": "code",
      "metadata": {
        "colab": {
          "base_uri": "https://localhost:8080/"
        },
        "id": "47vmHTZxosTO",
        "outputId": "239835ad-1631-4d2c-d0be-44ff4d967fe0"
      },
      "source": [
        "dfWbWho.corrwith(dfWbWho['deaths'],axis=0,method='pearson')"
      ],
      "execution_count": null,
      "outputs": [
        {
          "output_type": "execute_result",
          "data": {
            "text/plain": [
              "Unnamed: 0     -0.108665\n",
              "PopDep         -0.302671\n",
              "EaseofB        -0.436250\n",
              "GDPpppPC        0.355147\n",
              "DiabetesPrev   -0.020298\n",
              "PopGrowth      -0.480993\n",
              "UrbanPop        0.398103\n",
              "GexpEdu         0.187636\n",
              "MilExpGdp      -0.104677\n",
              "HosBedP1000     0.519770\n",
              "LifeExp         0.506314\n",
              "deaths          1.000000\n",
              "dtype: float64"
            ]
          },
          "metadata": {
            "tags": []
          },
          "execution_count": 88
        }
      ]
    },
    {
      "cell_type": "code",
      "metadata": {
        "colab": {
          "base_uri": "https://localhost:8080/"
        },
        "id": "KoyFK13LzDVZ",
        "outputId": "e4d427c8-027d-4320-c7ee-d3e316b3d621"
      },
      "source": [
        "dfWbWho.corrwith(dfWbWho['deaths'],axis=0,method='spearman')"
      ],
      "execution_count": null,
      "outputs": [
        {
          "output_type": "execute_result",
          "data": {
            "text/plain": [
              "Unnamed: 0     -0.107584\n",
              "PopDep         -0.334360\n",
              "EaseofB        -0.448218\n",
              "GDPpppPC        0.540650\n",
              "DiabetesPrev    0.158798\n",
              "PopGrowth      -0.521502\n",
              "UrbanPop        0.478636\n",
              "GexpEdu         0.222906\n",
              "MilExpGdp      -0.036911\n",
              "HosBedP1000     0.635495\n",
              "LifeExp         0.568403\n",
              "deaths          1.000000\n",
              "dtype: float64"
            ]
          },
          "metadata": {
            "tags": []
          },
          "execution_count": 86
        }
      ]
    },
    {
      "cell_type": "markdown",
      "metadata": {
        "id": "Fi93B1BAInRL"
      },
      "source": [
        "The Correlations of Covid-19 deaths per 100,000 population with various indicators"
      ]
    },
    {
      "cell_type": "code",
      "metadata": {
        "colab": {
          "base_uri": "https://localhost:8080/",
          "height": 397
        },
        "id": "rowbG_Ywz1M-",
        "outputId": "d05a8606-e7c3-4058-d7ef-a898af72f369"
      },
      "source": [
        "sns.set(style = \"darkgrid\")\n",
        "lm=sns.lmplot(data=dfWbWho,y='GDPpppPC',x='deaths',scatter_kws={\"color\": \"green\"}, line_kws={\"color\": \"red\"})\n",
        "plt.title('GDP per capita and Covid-19 deaths')\n",
        "# Set x-axis label\n",
        "plt.xlabel('Total Covid-19 Deaths per 100,000 population')\n",
        "# Set y-axis label\n",
        "plt.ylabel('GDP per Capita in dollars')\n",
        "axes=lm.axes\n",
        "axes[0,0].set_xlim(0,2000)\n",
        "lm.savefig(\"output2.png\")\n",
        "files.download(\"output2.png\")"
      ],
      "execution_count": null,
      "outputs": [
        {
          "output_type": "display_data",
          "data": {
            "application/javascript": [
              "\n",
              "    async function download(id, filename, size) {\n",
              "      if (!google.colab.kernel.accessAllowed) {\n",
              "        return;\n",
              "      }\n",
              "      const div = document.createElement('div');\n",
              "      const label = document.createElement('label');\n",
              "      label.textContent = `Downloading \"${filename}\": `;\n",
              "      div.appendChild(label);\n",
              "      const progress = document.createElement('progress');\n",
              "      progress.max = size;\n",
              "      div.appendChild(progress);\n",
              "      document.body.appendChild(div);\n",
              "\n",
              "      const buffers = [];\n",
              "      let downloaded = 0;\n",
              "\n",
              "      const channel = await google.colab.kernel.comms.open(id);\n",
              "      // Send a message to notify the kernel that we're ready.\n",
              "      channel.send({})\n",
              "\n",
              "      for await (const message of channel.messages) {\n",
              "        // Send a message to notify the kernel that we're ready.\n",
              "        channel.send({})\n",
              "        if (message.buffers) {\n",
              "          for (const buffer of message.buffers) {\n",
              "            buffers.push(buffer);\n",
              "            downloaded += buffer.byteLength;\n",
              "            progress.value = downloaded;\n",
              "          }\n",
              "        }\n",
              "      }\n",
              "      const blob = new Blob(buffers, {type: 'application/binary'});\n",
              "      const a = document.createElement('a');\n",
              "      a.href = window.URL.createObjectURL(blob);\n",
              "      a.download = filename;\n",
              "      div.appendChild(a);\n",
              "      a.click();\n",
              "      div.remove();\n",
              "    }\n",
              "  "
            ],
            "text/plain": [
              "<IPython.core.display.Javascript object>"
            ]
          },
          "metadata": {
            "tags": []
          }
        },
        {
          "output_type": "display_data",
          "data": {
            "application/javascript": [
              "download(\"download_01d51265-819e-4353-b41d-91f7b867b299\", \"output2.png\", 28892)"
            ],
            "text/plain": [
              "<IPython.core.display.Javascript object>"
            ]
          },
          "metadata": {
            "tags": []
          }
        },
        {
          "output_type": "display_data",
          "data": {
            "image/png": "[encoded data removed]",
            "text/plain": [
              "<Figure size 360x360 with 1 Axes>"
            ]
          },
          "metadata": {
            "tags": []
          }
        }
      ]
    },
    {
      "cell_type": "code",
      "metadata": {
        "id": "gqON6uOHuIOU",
        "colab": {
          "base_uri": "https://localhost:8080/",
          "height": 397
        },
        "outputId": "3687fca6-2bfb-4b37-cb7c-e748604eb75c"
      },
      "source": [
        "sns.set(style = \"darkgrid\")\n",
        "lm=sns.lmplot(data=dfWbWho,y='LifeExp',x='deaths',scatter_kws={\"color\": \"green\"}, line_kws={\"color\": \"red\"})\n",
        "plt.title('Life Expectancy and Covid-19 deaths')\n",
        "# Set x-axis label\n",
        "plt.xlabel('Total Covid-19 Deaths per 100,000 population')\n",
        "# Set y-axis label\n",
        "plt.ylabel('Life Expectancy')\n",
        "axes=lm.axes\n",
        "axes[0,0].set_xlim(0,2000)\n",
        "lm.savefig(\"output1.png\")\n",
        "files.download(\"output1.png\")"
      ],
      "execution_count": null,
      "outputs": [
        {
          "output_type": "display_data",
          "data": {
            "application/javascript": [
              "\n",
              "    async function download(id, filename, size) {\n",
              "      if (!google.colab.kernel.accessAllowed) {\n",
              "        return;\n",
              "      }\n",
              "      const div = document.createElement('div');\n",
              "      const label = document.createElement('label');\n",
              "      label.textContent = `Downloading \"${filename}\": `;\n",
              "      div.appendChild(label);\n",
              "      const progress = document.createElement('progress');\n",
              "      progress.max = size;\n",
              "      div.appendChild(progress);\n",
              "      document.body.appendChild(div);\n",
              "\n",
              "      const buffers = [];\n",
              "      let downloaded = 0;\n",
              "\n",
              "      const channel = await google.colab.kernel.comms.open(id);\n",
              "      // Send a message to notify the kernel that we're ready.\n",
              "      channel.send({})\n",
              "\n",
              "      for await (const message of channel.messages) {\n",
              "        // Send a message to notify the kernel that we're ready.\n",
              "        channel.send({})\n",
              "        if (message.buffers) {\n",
              "          for (const buffer of message.buffers) {\n",
              "            buffers.push(buffer);\n",
              "            downloaded += buffer.byteLength;\n",
              "            progress.value = downloaded;\n",
              "          }\n",
              "        }\n",
              "      }\n",
              "      const blob = new Blob(buffers, {type: 'application/binary'});\n",
              "      const a = document.createElement('a');\n",
              "      a.href = window.URL.createObjectURL(blob);\n",
              "      a.download = filename;\n",
              "      div.appendChild(a);\n",
              "      a.click();\n",
              "      div.remove();\n",
              "    }\n",
              "  "
            ],
            "text/plain": [
              "<IPython.core.display.Javascript object>"
            ]
          },
          "metadata": {
            "tags": []
          }
        },
        {
          "output_type": "display_data",
          "data": {
            "application/javascript": [
              "download(\"download_b6290948-e602-4caa-ac3e-fe3d71f1ddf8\", \"output1.png\", 32657)"
            ],
            "text/plain": [
              "<IPython.core.display.Javascript object>"
            ]
          },
          "metadata": {
            "tags": []
          }
        },
        {
          "output_type": "display_data",
          "data": {
            "image/png": "[encoded data removed]",
            "text/plain": [
              "<Figure size 360x360 with 1 Axes>"
            ]
          },
          "metadata": {
            "tags": []
          }
        }
      ]
    },
    {
      "cell_type": "code",
      "metadata": {
        "colab": {
          "base_uri": "https://localhost:8080/",
          "height": 644
        },
        "id": "cpMiCWd0E1Oq",
        "outputId": "7cd5da6b-0784-41a1-f498-e4c053136cff"
      },
      "source": [
        "sns.set(style = \"darkgrid\")\n",
        "plt.tight_layout()\n",
        "plt.figure(figsize=(10,10))\n",
        "sns.set(font_scale=1)\n",
        "plot=sns.barplot(data=dfwhoSorted.head(20),y='Country',x='DeathsTM')\n",
        "plt.title('Covid-19 Deaths per 100,000 Population')\n",
        "# Set x-axis label\n",
        "plt.xlabel('Total Covid-19 Deaths per 100,000 population')\n",
        "# Set y-axis label\n",
        "plt.ylabel('Country')\n",
        "plot.figure.savefig(\"output3.png\",bbox_inches='tight')\n",
        "files.download(\"output3.png\")\n",
        "\n"
      ],
      "execution_count": null,
      "outputs": [
        {
          "output_type": "display_data",
          "data": {
            "application/javascript": [
              "\n",
              "    async function download(id, filename, size) {\n",
              "      if (!google.colab.kernel.accessAllowed) {\n",
              "        return;\n",
              "      }\n",
              "      const div = document.createElement('div');\n",
              "      const label = document.createElement('label');\n",
              "      label.textContent = `Downloading \"${filename}\": `;\n",
              "      div.appendChild(label);\n",
              "      const progress = document.createElement('progress');\n",
              "      progress.max = size;\n",
              "      div.appendChild(progress);\n",
              "      document.body.appendChild(div);\n",
              "\n",
              "      const buffers = [];\n",
              "      let downloaded = 0;\n",
              "\n",
              "      const channel = await google.colab.kernel.comms.open(id);\n",
              "      // Send a message to notify the kernel that we're ready.\n",
              "      channel.send({})\n",
              "\n",
              "      for await (const message of channel.messages) {\n",
              "        // Send a message to notify the kernel that we're ready.\n",
              "        channel.send({})\n",
              "        if (message.buffers) {\n",
              "          for (const buffer of message.buffers) {\n",
              "            buffers.push(buffer);\n",
              "            downloaded += buffer.byteLength;\n",
              "            progress.value = downloaded;\n",
              "          }\n",
              "        }\n",
              "      }\n",
              "      const blob = new Blob(buffers, {type: 'application/binary'});\n",
              "      const a = document.createElement('a');\n",
              "      a.href = window.URL.createObjectURL(blob);\n",
              "      a.download = filename;\n",
              "      div.appendChild(a);\n",
              "      a.click();\n",
              "      div.remove();\n",
              "    }\n",
              "  "
            ],
            "text/plain": [
              "<IPython.core.display.Javascript object>"
            ]
          },
          "metadata": {
            "tags": []
          }
        },
        {
          "output_type": "display_data",
          "data": {
            "application/javascript": [
              "download(\"download_7622cf55-eaab-4fdd-b961-29248162fadb\", \"output3.png\", 34771)"
            ],
            "text/plain": [
              "<IPython.core.display.Javascript object>"
            ]
          },
          "metadata": {
            "tags": []
          }
        },
        {
          "output_type": "display_data",
          "data": {
            "text/plain": [
              "<Figure size 432x288 with 0 Axes>"
            ]
          },
          "metadata": {
            "tags": []
          }
        },
        {
          "output_type": "display_data",
          "data": {
            "image/png": "[encoded data removed]",
            "text/plain": [
              "<Figure size 720x720 with 1 Axes>"
            ]
          },
          "metadata": {
            "tags": []
          }
        }
      ]
    },
    {
      "cell_type": "code",
      "metadata": {
        "colab": {
          "base_uri": "https://localhost:8080/"
        },
        "id": "lc1LX1bcFXe5",
        "outputId": "6da46309-7df4-4e15-8db6-7683e5392af9"
      },
      "source": [
        "len(dfWbWho)"
      ],
      "execution_count": null,
      "outputs": [
        {
          "output_type": "execute_result",
          "data": {
            "text/plain": [
              "187"
            ]
          },
          "metadata": {
            "tags": []
          },
          "execution_count": 65
        }
      ]
    },
    {
      "cell_type": "code",
      "metadata": {
        "colab": {
          "base_uri": "https://localhost:8080/"
        },
        "id": "_2AyqQb9Lw4O",
        "outputId": "f08b42c6-4a08-459a-b593-fd1ea7ed6a86"
      },
      "source": [
        "dfWbWho.isnull().sum()"
      ],
      "execution_count": null,
      "outputs": [
        {
          "output_type": "execute_result",
          "data": {
            "text/plain": [
              "Unnamed: 0       0\n",
              "country          0\n",
              "PopDep          13\n",
              "EaseofB         14\n",
              "GDPpppPC        19\n",
              "DiabetesPrev     4\n",
              "PopGrowth        1\n",
              "UrbanPop         2\n",
              "GexpEdu         84\n",
              "MilExpGdp       39\n",
              "HosBedP1000     79\n",
              "LifeExp          8\n",
              "deaths           0\n",
              "dtype: int64"
            ]
          },
          "metadata": {
            "tags": []
          },
          "execution_count": 66
        }
      ]
    },
    {
      "cell_type": "code",
      "metadata": {
        "colab": {
          "base_uri": "https://localhost:8080/",
          "height": 382
        },
        "id": "L9rj8cxkMzb5",
        "outputId": "04920e2f-dcee-4b4f-88a9-7ad4b6ea1c6c"
      },
      "source": [
        "sns.displot(x=dfWbWho['UrbanPop'])"
      ],
      "execution_count": null,
      "outputs": [
        {
          "output_type": "execute_result",
          "data": {
            "text/plain": [
              "<seaborn.axisgrid.FacetGrid at 0x7fb084144048>"
            ]
          },
          "metadata": {
            "tags": []
          },
          "execution_count": 81
        },
        {
          "output_type": "display_data",
          "data": {
            "image/png": "[encoded data removed]",
            "text/plain": [
              "<Figure size 360x360 with 1 Axes>"
            ]
          },
          "metadata": {
            "tags": []
          }
        }
      ]
    },
    {
      "cell_type": "code",
      "metadata": {
        "id": "aa334qCJM56Z"
      },
      "source": [
        ""
      ],
      "execution_count": null,
      "outputs": []
    },
    {
      "cell_type": "code",
      "metadata": {
        "id": "M-9_Ix_fzyWc"
      },
      "source": [
        ""
      ],
      "execution_count": null,
      "outputs": []
    },
    {
      "cell_type": "code",
      "metadata": {
        "id": "ult3xGQWNmfZ"
      },
      "source": [
        ""
      ],
      "execution_count": null,
      "outputs": []
    }
  ]
}