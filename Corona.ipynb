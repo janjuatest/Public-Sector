{
  "nbformat": 4,
  "nbformat_minor": 0,
  "metadata": {
    "colab": {
      "name": "Corona.ipynb",
      "provenance": [],
      "collapsed_sections": [],
      "authorship_tag": "ABX9TyNJKnYB8WkpFrzN0V45XH4r",
      "include_colab_link": true
    },
    "kernelspec": {
      "name": "python3",
      "display_name": "Python 3"
    }
  },
  "cells": [
    {
      "cell_type": "markdown",
      "metadata": {
        "id": "view-in-github",
        "colab_type": "text"
      },
      "source": [
        "<a href=\"https://colab.research.google.com/github/janjuatest/Public-Sector/blob/main/Corona.ipynb\" target=\"_parent\"><img src=\"https://colab.research.google.com/assets/colab-badge.svg\" alt=\"Open In Colab\"/></a>"
      ]
    },
    {
      "cell_type": "code",
      "metadata": {
        "id": "WlyvuHPjsDKx"
      },
      "source": [
        "import pandas as pd"
      ],
      "execution_count": 1,
      "outputs": []
    },
    {
      "cell_type": "code",
      "metadata": {
        "id": "4myM1trwsFT1"
      },
      "source": [
        "import numpy as np\r\n",
        "import matplotlib.pyplot as plt\r\n",
        "import seaborn as sns"
      ],
      "execution_count": 3,
      "outputs": []
    },
    {
      "cell_type": "code",
      "metadata": {
        "id": "u3LV4R7osHIg"
      },
      "source": [
        "dfwho=pd.read_csv('WHO.csv')"
      ],
      "execution_count": 4,
      "outputs": []
    },
    {
      "cell_type": "code",
      "metadata": {
        "colab": {
          "base_uri": "https://localhost:8080/"
        },
        "id": "gvVNMs-10_Qg",
        "outputId": "efdb8675-d025-4439-efde-7372133d67a6"
      },
      "source": [
        "dfwho.info()"
      ],
      "execution_count": 5,
      "outputs": [
        {
          "output_type": "stream",
          "text": [
            "<class 'pandas.core.frame.DataFrame'>\n",
            "RangeIndex: 238 entries, 0 to 237\n",
            "Data columns (total 11 columns):\n",
            " #   Column                                              Non-Null Count  Dtype  \n",
            "---  ------                                              --------------  -----  \n",
            " 0   Name                                                238 non-null    object \n",
            " 1   WHO Region                                          237 non-null    object \n",
            " 2   Cases - cumulative total                            238 non-null    int64  \n",
            " 3   Cases - cumulative total per 1 million population   237 non-null    float64\n",
            " 4   Cases - newly reported in last 7 days               238 non-null    int64  \n",
            " 5   Cases - newly reported in last 24 hours             238 non-null    int64  \n",
            " 6   Deaths - cumulative total                           238 non-null    int64  \n",
            " 7   Deaths - cumulative total per 1 million population  237 non-null    float64\n",
            " 8   Deaths - newly reported in last 7 days              238 non-null    int64  \n",
            " 9   Deaths - newly reported in last 24 hours            238 non-null    int64  \n",
            " 10  Transmission Classification                         237 non-null    object \n",
            "dtypes: float64(2), int64(6), object(3)\n",
            "memory usage: 20.6+ KB\n"
          ],
          "name": "stdout"
        }
      ]
    },
    {
      "cell_type": "code",
      "metadata": {
        "id": "YhdBRuqX1AqI"
      },
      "source": [
        "dfwho.columns=['Country','Region','TotalCases','TotalCasesM','Cases7','Cases24h','DeathsT','DeathsTM','Death7','Deaths24h','Class']"
      ],
      "execution_count": 6,
      "outputs": []
    },
    {
      "cell_type": "code",
      "metadata": {
        "colab": {
          "base_uri": "https://localhost:8080/"
        },
        "id": "KZ17605_1ZsD",
        "outputId": "0c0f9aa1-ca76-4b74-a497-986a4e80fad6"
      },
      "source": [
        "dfwho.info()"
      ],
      "execution_count": 7,
      "outputs": [
        {
          "output_type": "stream",
          "text": [
            "<class 'pandas.core.frame.DataFrame'>\n",
            "RangeIndex: 238 entries, 0 to 237\n",
            "Data columns (total 11 columns):\n",
            " #   Column       Non-Null Count  Dtype  \n",
            "---  ------       --------------  -----  \n",
            " 0   Country      238 non-null    object \n",
            " 1   Region       237 non-null    object \n",
            " 2   TotalCases   238 non-null    int64  \n",
            " 3   TotalCasesM  237 non-null    float64\n",
            " 4   Cases7       238 non-null    int64  \n",
            " 5   Cases24h     238 non-null    int64  \n",
            " 6   DeathsT      238 non-null    int64  \n",
            " 7   DeathsTM     237 non-null    float64\n",
            " 8   Death7       238 non-null    int64  \n",
            " 9   Deaths24h    238 non-null    int64  \n",
            " 10  Class        237 non-null    object \n",
            "dtypes: float64(2), int64(6), object(3)\n",
            "memory usage: 20.6+ KB\n"
          ],
          "name": "stdout"
        }
      ]
    },
    {
      "cell_type": "code",
      "metadata": {
        "colab": {
          "base_uri": "https://localhost:8080/"
        },
        "id": "4C3sgfY91tLa",
        "outputId": "a227eb44-cf50-43b3-d843-2ca32a81f56e"
      },
      "source": [
        "sum(dfwho['Country']=='Pakistan')"
      ],
      "execution_count": 8,
      "outputs": [
        {
          "output_type": "execute_result",
          "data": {
            "text/plain": [
              "1"
            ]
          },
          "metadata": {
            "tags": []
          },
          "execution_count": 8
        }
      ]
    },
    {
      "cell_type": "code",
      "metadata": {
        "id": "mVk_q4Ya1ymp"
      },
      "source": [
        "dfwhoSorted=dfwho.sort_values('DeathsTM',ascending=False)"
      ],
      "execution_count": 9,
      "outputs": []
    },
    {
      "cell_type": "markdown",
      "metadata": {
        "id": "rN3xVBc-ENe6"
      },
      "source": [
        ""
      ]
    },
    {
      "cell_type": "code",
      "metadata": {
        "colab": {
          "base_uri": "https://localhost:8080/",
          "height": 580
        },
        "id": "7jU4llnxFUah",
        "outputId": "8c476806-1f4f-42b0-903c-4d93071abceb"
      },
      "source": [
        "plt.figure(figsize=(30,20))\r\n",
        "sns. set(font_scale=2)\r\n",
        "sns.barplot(data=dfwhoSorted.head(30),y='Country',x='DeathsTM')"
      ],
      "execution_count": 14,
      "outputs": [
        {
          "output_type": "execute_result",
          "data": {
            "text/plain": [
              "<matplotlib.axes._subplots.AxesSubplot at 0x7f7b3495d3c8>"
            ]
          },
          "metadata": {
            "tags": []
          },
          "execution_count": 14
        },
        {
          "output_type": "display_data",
          "data": {
            "image/png": "[encoded data removed]",
            "text/plain": [
              "<Figure size 2160x1440 with 1 Axes>"
            ]
          },
          "metadata": {
            "tags": []
          }
        }
      ]
    },
    {
      "cell_type": "code",
      "metadata": {
        "colab": {
          "base_uri": "https://localhost:8080/"
        },
        "id": "6eTiuB_pA-KG",
        "outputId": "551f2dab-1b70-4b07-9bef-d97918334bec"
      },
      "source": [
        "!pip install -U wbdata"
      ],
      "execution_count": 15,
      "outputs": [
        {
          "output_type": "stream",
          "text": [
            "Collecting wbdata\n",
            "  Downloading https://files.pythonhosted.org/packages/76/87/a04308d9c80829c3b9c4eefbda6f4c849f2c8afa89917906c63ca6d611a5/wbdata-0.3.0-py3-none-any.whl\n",
            "Requirement already satisfied, skipping upgrade: tabulate>=0.8.5 in /usr/local/lib/python3.6/dist-packages (from wbdata) (0.8.7)\n",
            "Requirement already satisfied, skipping upgrade: decorator>=4.0 in /usr/local/lib/python3.6/dist-packages (from wbdata) (4.4.2)\n",
            "Requirement already satisfied, skipping upgrade: requests>=2.0 in /usr/local/lib/python3.6/dist-packages (from wbdata) (2.23.0)\n",
            "Requirement already satisfied, skipping upgrade: appdirs<2.0,>=1.4 in /usr/local/lib/python3.6/dist-packages (from wbdata) (1.4.4)\n",
            "Requirement already satisfied, skipping upgrade: certifi>=2017.4.17 in /usr/local/lib/python3.6/dist-packages (from requests>=2.0->wbdata) (2020.12.5)\n",
            "Requirement already satisfied, skipping upgrade: idna<3,>=2.5 in /usr/local/lib/python3.6/dist-packages (from requests>=2.0->wbdata) (2.10)\n",
            "Requirement already satisfied, skipping upgrade: chardet<4,>=3.0.2 in /usr/local/lib/python3.6/dist-packages (from requests>=2.0->wbdata) (3.0.4)\n",
            "Requirement already satisfied, skipping upgrade: urllib3!=1.25.0,!=1.25.1,<1.26,>=1.21.1 in /usr/local/lib/python3.6/dist-packages (from requests>=2.0->wbdata) (1.24.3)\n",
            "Installing collected packages: wbdata\n",
            "Successfully installed wbdata-0.3.0\n"
          ],
          "name": "stdout"
        }
      ]
    },
    {
      "cell_type": "code",
      "metadata": {
        "id": "IyYTdKUmEL-0"
      },
      "source": [
        "import wbdata,datetime"
      ],
      "execution_count": 16,
      "outputs": []
    },
    {
      "cell_type": "code",
      "metadata": {
        "colab": {
          "base_uri": "https://localhost:8080/"
        },
        "id": "___gtggjROcL",
        "outputId": "8eb20ec8-e65f-4dec-ff7d-ec8e36d45478"
      },
      "source": [
        "wbdata.get_country(\"USA\")"
      ],
      "execution_count": 18,
      "outputs": [
        {
          "output_type": "execute_result",
          "data": {
            "text/plain": [
              "id    name\n",
              "----  -------------\n",
              "USA   United States"
            ]
          },
          "metadata": {
            "tags": []
          },
          "execution_count": 18
        }
      ]
    },
    {
      "cell_type": "code",
      "metadata": {
        "id": "EjFuBPesNC8-"
      },
      "source": [
        "countries = [i['id'] for i in wbdata.get_country()] "
      ],
      "execution_count": 19,
      "outputs": []
    },
    {
      "cell_type": "code",
      "metadata": {
        "colab": {
          "base_uri": "https://localhost:8080/"
        },
        "id": "ASG2iLNhPklB",
        "outputId": "40a56b41-1fd0-422b-e2c0-195bb09ec5b2"
      },
      "source": [
        "len(countries)"
      ],
      "execution_count": 20,
      "outputs": [
        {
          "output_type": "execute_result",
          "data": {
            "text/plain": [
              "297"
            ]
          },
          "metadata": {
            "tags": []
          },
          "execution_count": 20
        }
      ]
    },
    {
      "cell_type": "code",
      "metadata": {
        "id": "Q1GTUBNNRlQe"
      },
      "source": [
        "data_date = datetime.datetime(2019, 1,1), datetime.datetime(2019, 1, 1)\r\n",
        "indicator1={\"SP.POP.DPND\":\"PopDep\",\"IC.BUS.EASE.XQ\": \"EaseofB\",\"NY.GDP.PCAP.PP.CD\":\"GDPpppPC\",\"SH.STA.DIAB.ZS\":\"DiabetesPrev\",\"SP.POP.GROW\":\"PopGrowth\",\"SP.URB.TOTL.IN.ZS\":\"UrbanPop\"}\r\n",
        "wbdf1= wbdata.get_dataframe(indicator1, country=countries[0:250], data_date=data_date)\r\n",
        "wbdf2=wbdata.get_dataframe(indicator1, country=countries[251:], data_date=data_date)\r\n",
        "df1=pd.concat([wbdf1,wbdf2],axis=0)"
      ],
      "execution_count": 105,
      "outputs": []
    },
    {
      "cell_type": "code",
      "metadata": {
        "colab": {
          "base_uri": "https://localhost:8080/",
          "height": 450
        },
        "id": "yBQB0tfoWcgz",
        "outputId": "d00c1b7d-7066-4794-9da5-72e81e4c5d96"
      },
      "source": [
        "df1"
      ],
      "execution_count": 106,
      "outputs": [
        {
          "output_type": "execute_result",
          "data": {
            "text/html": [
              "<div>\n",
              "<style scoped>\n",
              "    .dataframe tbody tr th:only-of-type {\n",
              "        vertical-align: middle;\n",
              "    }\n",
              "\n",
              "    .dataframe tbody tr th {\n",
              "        vertical-align: top;\n",
              "    }\n",
              "\n",
              "    .dataframe thead th {\n",
              "        text-align: right;\n",
              "    }\n",
              "</style>\n",
              "<table border=\"1\" class=\"dataframe\">\n",
              "  <thead>\n",
              "    <tr style=\"text-align: right;\">\n",
              "      <th></th>\n",
              "      <th>PopDep</th>\n",
              "      <th>EaseofB</th>\n",
              "      <th>GDPpppPC</th>\n",
              "      <th>DiabetesPrev</th>\n",
              "      <th>PopGrowth</th>\n",
              "      <th>UrbanPop</th>\n",
              "    </tr>\n",
              "    <tr>\n",
              "      <th>country</th>\n",
              "      <th></th>\n",
              "      <th></th>\n",
              "      <th></th>\n",
              "      <th></th>\n",
              "      <th></th>\n",
              "      <th></th>\n",
              "    </tr>\n",
              "  </thead>\n",
              "  <tbody>\n",
              "    <tr>\n",
              "      <th>Aruba</th>\n",
              "      <td>46.367454</td>\n",
              "      <td>NaN</td>\n",
              "      <td>NaN</td>\n",
              "      <td>11.6</td>\n",
              "      <td>0.442122</td>\n",
              "      <td>43.546</td>\n",
              "    </tr>\n",
              "    <tr>\n",
              "      <th>Afghanistan</th>\n",
              "      <td>82.109775</td>\n",
              "      <td>173.0</td>\n",
              "      <td>2156.419482</td>\n",
              "      <td>9.2</td>\n",
              "      <td>2.311817</td>\n",
              "      <td>25.754</td>\n",
              "    </tr>\n",
              "    <tr>\n",
              "      <th>Angola</th>\n",
              "      <td>95.394042</td>\n",
              "      <td>177.0</td>\n",
              "      <td>6965.511374</td>\n",
              "      <td>4.5</td>\n",
              "      <td>3.242983</td>\n",
              "      <td>66.177</td>\n",
              "    </tr>\n",
              "    <tr>\n",
              "      <th>Albania</th>\n",
              "      <td>46.203522</td>\n",
              "      <td>82.0</td>\n",
              "      <td>14496.127683</td>\n",
              "      <td>9.0</td>\n",
              "      <td>-0.426007</td>\n",
              "      <td>61.229</td>\n",
              "    </tr>\n",
              "    <tr>\n",
              "      <th>Andorra</th>\n",
              "      <td>NaN</td>\n",
              "      <td>NaN</td>\n",
              "      <td>NaN</td>\n",
              "      <td>7.7</td>\n",
              "      <td>0.176454</td>\n",
              "      <td>87.984</td>\n",
              "    </tr>\n",
              "    <tr>\n",
              "      <th>...</th>\n",
              "      <td>...</td>\n",
              "      <td>...</td>\n",
              "      <td>...</td>\n",
              "      <td>...</td>\n",
              "      <td>...</td>\n",
              "      <td>...</td>\n",
              "    </tr>\n",
              "    <tr>\n",
              "      <th>Kosovo</th>\n",
              "      <td>NaN</td>\n",
              "      <td>57.0</td>\n",
              "      <td>11870.797576</td>\n",
              "      <td>NaN</td>\n",
              "      <td>-0.157992</td>\n",
              "      <td>NaN</td>\n",
              "    </tr>\n",
              "    <tr>\n",
              "      <th>Yemen, Rep.</th>\n",
              "      <td>72.787716</td>\n",
              "      <td>187.0</td>\n",
              "      <td>NaN</td>\n",
              "      <td>5.4</td>\n",
              "      <td>2.300580</td>\n",
              "      <td>37.273</td>\n",
              "    </tr>\n",
              "    <tr>\n",
              "      <th>South Africa</th>\n",
              "      <td>52.400879</td>\n",
              "      <td>84.0</td>\n",
              "      <td>13034.164661</td>\n",
              "      <td>12.7</td>\n",
              "      <td>1.338617</td>\n",
              "      <td>66.856</td>\n",
              "    </tr>\n",
              "    <tr>\n",
              "      <th>Zambia</th>\n",
              "      <td>87.188180</td>\n",
              "      <td>85.0</td>\n",
              "      <td>3624.024939</td>\n",
              "      <td>4.5</td>\n",
              "      <td>2.892373</td>\n",
              "      <td>44.072</td>\n",
              "    </tr>\n",
              "    <tr>\n",
              "      <th>Zimbabwe</th>\n",
              "      <td>82.277970</td>\n",
              "      <td>140.0</td>\n",
              "      <td>2961.446428</td>\n",
              "      <td>1.8</td>\n",
              "      <td>1.419681</td>\n",
              "      <td>32.210</td>\n",
              "    </tr>\n",
              "  </tbody>\n",
              "</table>\n",
              "<p>263 rows × 6 columns</p>\n",
              "</div>"
            ],
            "text/plain": [
              "                 PopDep  EaseofB  ...  PopGrowth  UrbanPop\n",
              "country                           ...                     \n",
              "Aruba         46.367454      NaN  ...   0.442122    43.546\n",
              "Afghanistan   82.109775    173.0  ...   2.311817    25.754\n",
              "Angola        95.394042    177.0  ...   3.242983    66.177\n",
              "Albania       46.203522     82.0  ...  -0.426007    61.229\n",
              "Andorra             NaN      NaN  ...   0.176454    87.984\n",
              "...                 ...      ...  ...        ...       ...\n",
              "Kosovo              NaN     57.0  ...  -0.157992       NaN\n",
              "Yemen, Rep.   72.787716    187.0  ...   2.300580    37.273\n",
              "South Africa  52.400879     84.0  ...   1.338617    66.856\n",
              "Zambia        87.188180     85.0  ...   2.892373    44.072\n",
              "Zimbabwe      82.277970    140.0  ...   1.419681    32.210\n",
              "\n",
              "[263 rows x 6 columns]"
            ]
          },
          "metadata": {
            "tags": []
          },
          "execution_count": 106
        }
      ]
    },
    {
      "cell_type": "code",
      "metadata": {
        "id": "pL3lJFXxWcZs"
      },
      "source": [
        "data_date = datetime.datetime(2016, 1,1), datetime.datetime(2016, 1, 1)\r\n",
        "indicator1={\"SE.XPD.TOTL.GD.ZS\":\"GexpEdu\",\"MS.MIL.XPND.GD.ZS\": \"MilExpGdp\",\"SH.MED.PHYS.ZS\":\"HosBedP1000\",\"SP.DYN.LE00.IN\":\"LifeExp\"}\r\n",
        "wbdf1= wbdata.get_dataframe(indicator1, country=countries[0:250], data_date=data_date)\r\n",
        "wbdf2=wbdata.get_dataframe(indicator1, country=countries[251:], data_date=data_date)\r\n",
        "df2=pd.concat([wbdf1,wbdf2],axis=0)"
      ],
      "execution_count": 113,
      "outputs": []
    },
    {
      "cell_type": "code",
      "metadata": {
        "id": "vDQF0AaIWcQ1"
      },
      "source": [
        "wbdf=pd.concat([df1,df2],axis=1)"
      ],
      "execution_count": 117,
      "outputs": []
    },
    {
      "cell_type": "code",
      "metadata": {
        "id": "Ez4RE4sDUjX5",
        "colab": {
          "base_uri": "https://localhost:8080/"
        },
        "outputId": "374ccb0a-9e27-4ea3-fedd-042ec7dd2bd4"
      },
      "source": [
        "wbdf.isnull().sum()"
      ],
      "execution_count": 120,
      "outputs": [
        {
          "output_type": "execute_result",
          "data": {
            "text/plain": [
              "PopDep           25\n",
              "EaseofB          75\n",
              "GDPpppPC         32\n",
              "DiabetesPrev      8\n",
              "PopGrowth         2\n",
              "UrbanPop          4\n",
              "GexpEdu         122\n",
              "MilExpGdp        71\n",
              "HosBedP1000     151\n",
              "LifeExp          17\n",
              "dtype: int64"
            ]
          },
          "metadata": {
            "tags": []
          },
          "execution_count": 120
        }
      ]
    },
    {
      "cell_type": "code",
      "metadata": {
        "id": "jceQvxx0WaTI"
      },
      "source": [
        "wbdf.reset_index(inplace=True)"
      ],
      "execution_count": 121,
      "outputs": []
    },
    {
      "cell_type": "code",
      "metadata": {
        "colab": {
          "base_uri": "https://localhost:8080/",
          "height": 473
        },
        "id": "RySD3jkAT1eq",
        "outputId": "a673d697-bdc6-4654-a941-f751b2ce49a1"
      },
      "source": [
        "wbdf"
      ],
      "execution_count": 122,
      "outputs": [
        {
          "output_type": "execute_result",
          "data": {
            "text/html": [
              "<div>\n",
              "<style scoped>\n",
              "    .dataframe tbody tr th:only-of-type {\n",
              "        vertical-align: middle;\n",
              "    }\n",
              "\n",
              "    .dataframe tbody tr th {\n",
              "        vertical-align: top;\n",
              "    }\n",
              "\n",
              "    .dataframe thead th {\n",
              "        text-align: right;\n",
              "    }\n",
              "</style>\n",
              "<table border=\"1\" class=\"dataframe\">\n",
              "  <thead>\n",
              "    <tr style=\"text-align: right;\">\n",
              "      <th></th>\n",
              "      <th>country</th>\n",
              "      <th>PopDep</th>\n",
              "      <th>EaseofB</th>\n",
              "      <th>GDPpppPC</th>\n",
              "      <th>DiabetesPrev</th>\n",
              "      <th>PopGrowth</th>\n",
              "      <th>UrbanPop</th>\n",
              "      <th>GexpEdu</th>\n",
              "      <th>MilExpGdp</th>\n",
              "      <th>HosBedP1000</th>\n",
              "      <th>LifeExp</th>\n",
              "    </tr>\n",
              "  </thead>\n",
              "  <tbody>\n",
              "    <tr>\n",
              "      <th>0</th>\n",
              "      <td>Aruba</td>\n",
              "      <td>46.367454</td>\n",
              "      <td>NaN</td>\n",
              "      <td>NaN</td>\n",
              "      <td>11.6</td>\n",
              "      <td>0.442122</td>\n",
              "      <td>43.546</td>\n",
              "      <td>5.52415</td>\n",
              "      <td>NaN</td>\n",
              "      <td>NaN</td>\n",
              "      <td>75.868000</td>\n",
              "    </tr>\n",
              "    <tr>\n",
              "      <th>1</th>\n",
              "      <td>Afghanistan</td>\n",
              "      <td>82.109775</td>\n",
              "      <td>173.0</td>\n",
              "      <td>2156.419482</td>\n",
              "      <td>9.2</td>\n",
              "      <td>2.311817</td>\n",
              "      <td>25.754</td>\n",
              "      <td>4.22836</td>\n",
              "      <td>0.956772</td>\n",
              "      <td>0.2782</td>\n",
              "      <td>63.763000</td>\n",
              "    </tr>\n",
              "    <tr>\n",
              "      <th>2</th>\n",
              "      <td>Angola</td>\n",
              "      <td>95.394042</td>\n",
              "      <td>177.0</td>\n",
              "      <td>6965.511374</td>\n",
              "      <td>4.5</td>\n",
              "      <td>3.242983</td>\n",
              "      <td>66.177</td>\n",
              "      <td>NaN</td>\n",
              "      <td>2.733341</td>\n",
              "      <td>NaN</td>\n",
              "      <td>59.925000</td>\n",
              "    </tr>\n",
              "    <tr>\n",
              "      <th>3</th>\n",
              "      <td>Albania</td>\n",
              "      <td>46.203522</td>\n",
              "      <td>82.0</td>\n",
              "      <td>14496.127683</td>\n",
              "      <td>9.0</td>\n",
              "      <td>-0.426007</td>\n",
              "      <td>61.229</td>\n",
              "      <td>3.96209</td>\n",
              "      <td>1.103581</td>\n",
              "      <td>1.2164</td>\n",
              "      <td>78.194000</td>\n",
              "    </tr>\n",
              "    <tr>\n",
              "      <th>4</th>\n",
              "      <td>Andorra</td>\n",
              "      <td>NaN</td>\n",
              "      <td>NaN</td>\n",
              "      <td>NaN</td>\n",
              "      <td>7.7</td>\n",
              "      <td>0.176454</td>\n",
              "      <td>87.984</td>\n",
              "      <td>3.23707</td>\n",
              "      <td>NaN</td>\n",
              "      <td>NaN</td>\n",
              "      <td>NaN</td>\n",
              "    </tr>\n",
              "    <tr>\n",
              "      <th>...</th>\n",
              "      <td>...</td>\n",
              "      <td>...</td>\n",
              "      <td>...</td>\n",
              "      <td>...</td>\n",
              "      <td>...</td>\n",
              "      <td>...</td>\n",
              "      <td>...</td>\n",
              "      <td>...</td>\n",
              "      <td>...</td>\n",
              "      <td>...</td>\n",
              "      <td>...</td>\n",
              "    </tr>\n",
              "    <tr>\n",
              "      <th>258</th>\n",
              "      <td>Kosovo</td>\n",
              "      <td>NaN</td>\n",
              "      <td>57.0</td>\n",
              "      <td>11870.797576</td>\n",
              "      <td>NaN</td>\n",
              "      <td>-0.157992</td>\n",
              "      <td>NaN</td>\n",
              "      <td>NaN</td>\n",
              "      <td>0.773671</td>\n",
              "      <td>NaN</td>\n",
              "      <td>71.646341</td>\n",
              "    </tr>\n",
              "    <tr>\n",
              "      <th>259</th>\n",
              "      <td>Yemen, Rep.</td>\n",
              "      <td>72.787716</td>\n",
              "      <td>187.0</td>\n",
              "      <td>NaN</td>\n",
              "      <td>5.4</td>\n",
              "      <td>2.300580</td>\n",
              "      <td>37.273</td>\n",
              "      <td>NaN</td>\n",
              "      <td>NaN</td>\n",
              "      <td>NaN</td>\n",
              "      <td>66.087000</td>\n",
              "    </tr>\n",
              "    <tr>\n",
              "      <th>260</th>\n",
              "      <td>South Africa</td>\n",
              "      <td>52.400879</td>\n",
              "      <td>84.0</td>\n",
              "      <td>13034.164661</td>\n",
              "      <td>12.7</td>\n",
              "      <td>1.338617</td>\n",
              "      <td>66.856</td>\n",
              "      <td>5.94285</td>\n",
              "      <td>1.075530</td>\n",
              "      <td>0.7997</td>\n",
              "      <td>63.153000</td>\n",
              "    </tr>\n",
              "    <tr>\n",
              "      <th>261</th>\n",
              "      <td>Zambia</td>\n",
              "      <td>87.188180</td>\n",
              "      <td>85.0</td>\n",
              "      <td>3624.024939</td>\n",
              "      <td>4.5</td>\n",
              "      <td>2.892373</td>\n",
              "      <td>44.072</td>\n",
              "      <td>3.74792</td>\n",
              "      <td>1.429305</td>\n",
              "      <td>0.1628</td>\n",
              "      <td>62.464000</td>\n",
              "    </tr>\n",
              "    <tr>\n",
              "      <th>262</th>\n",
              "      <td>Zimbabwe</td>\n",
              "      <td>82.277970</td>\n",
              "      <td>140.0</td>\n",
              "      <td>2961.446428</td>\n",
              "      <td>1.8</td>\n",
              "      <td>1.419681</td>\n",
              "      <td>32.210</td>\n",
              "      <td>NaN</td>\n",
              "      <td>1.742494</td>\n",
              "      <td>0.1788</td>\n",
              "      <td>60.294000</td>\n",
              "    </tr>\n",
              "  </tbody>\n",
              "</table>\n",
              "<p>263 rows × 11 columns</p>\n",
              "</div>"
            ],
            "text/plain": [
              "          country     PopDep  EaseofB  ...  MilExpGdp  HosBedP1000    LifeExp\n",
              "0           Aruba  46.367454      NaN  ...        NaN          NaN  75.868000\n",
              "1     Afghanistan  82.109775    173.0  ...   0.956772       0.2782  63.763000\n",
              "2          Angola  95.394042    177.0  ...   2.733341          NaN  59.925000\n",
              "3         Albania  46.203522     82.0  ...   1.103581       1.2164  78.194000\n",
              "4         Andorra        NaN      NaN  ...        NaN          NaN        NaN\n",
              "..            ...        ...      ...  ...        ...          ...        ...\n",
              "258        Kosovo        NaN     57.0  ...   0.773671          NaN  71.646341\n",
              "259   Yemen, Rep.  72.787716    187.0  ...        NaN          NaN  66.087000\n",
              "260  South Africa  52.400879     84.0  ...   1.075530       0.7997  63.153000\n",
              "261        Zambia  87.188180     85.0  ...   1.429305       0.1628  62.464000\n",
              "262      Zimbabwe  82.277970    140.0  ...   1.742494       0.1788  60.294000\n",
              "\n",
              "[263 rows x 11 columns]"
            ]
          },
          "metadata": {
            "tags": []
          },
          "execution_count": 122
        }
      ]
    },
    {
      "cell_type": "code",
      "metadata": {
        "id": "_7QWqgppP4O2"
      },
      "source": [
        ""
      ],
      "execution_count": null,
      "outputs": []
    }
  ]
}