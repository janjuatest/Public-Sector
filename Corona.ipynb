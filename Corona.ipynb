{
  "nbformat": 4,
  "nbformat_minor": 0,
  "metadata": {
    "colab": {
      "name": "Corona.ipynb",
      "provenance": [],
      "collapsed_sections": [],
      "authorship_tag": "ABX9TyNAQOcz0F/aj1Htg6iQcvBk",
      "include_colab_link": true
    },
    "kernelspec": {
      "name": "python3",
      "display_name": "Python 3"
    }
  },
  "cells": [
    {
      "cell_type": "markdown",
      "metadata": {
        "id": "view-in-github",
        "colab_type": "text"
      },
      "source": [
        "<a href=\"https://colab.research.google.com/github/janjuatest/Public-Sector/blob/main/Corona.ipynb\" target=\"_parent\"><img src=\"https://colab.research.google.com/assets/colab-badge.svg\" alt=\"Open In Colab\"/></a>"
      ]
    },
    {
      "cell_type": "code",
      "metadata": {
        "id": "WlyvuHPjsDKx"
      },
      "source": [
        "import pandas as pd"
      ],
      "execution_count": 1,
      "outputs": []
    },
    {
      "cell_type": "code",
      "metadata": {
        "id": "4myM1trwsFT1"
      },
      "source": [
        "import numpy as np\r\n"
      ],
      "execution_count": 2,
      "outputs": []
    },
    {
      "cell_type": "code",
      "metadata": {
        "id": "u3LV4R7osHIg"
      },
      "source": [
        "df=pd.read_csv('WHO.csv')"
      ],
      "execution_count": 3,
      "outputs": []
    },
    {
      "cell_type": "code",
      "metadata": {
        "colab": {
          "base_uri": "https://localhost:8080/"
        },
        "id": "gvVNMs-10_Qg",
        "outputId": "7b798c88-dc4c-44f3-d55e-05aac85facce"
      },
      "source": [
        "df.info()"
      ],
      "execution_count": 4,
      "outputs": [
        {
          "output_type": "stream",
          "text": [
            "<class 'pandas.core.frame.DataFrame'>\n",
            "RangeIndex: 238 entries, 0 to 237\n",
            "Data columns (total 11 columns):\n",
            " #   Column                                              Non-Null Count  Dtype  \n",
            "---  ------                                              --------------  -----  \n",
            " 0   Name                                                238 non-null    object \n",
            " 1   WHO Region                                          237 non-null    object \n",
            " 2   Cases - cumulative total                            238 non-null    int64  \n",
            " 3   Cases - cumulative total per 1 million population   237 non-null    float64\n",
            " 4   Cases - newly reported in last 7 days               238 non-null    int64  \n",
            " 5   Cases - newly reported in last 24 hours             238 non-null    int64  \n",
            " 6   Deaths - cumulative total                           238 non-null    int64  \n",
            " 7   Deaths - cumulative total per 1 million population  237 non-null    float64\n",
            " 8   Deaths - newly reported in last 7 days              238 non-null    int64  \n",
            " 9   Deaths - newly reported in last 24 hours            238 non-null    int64  \n",
            " 10  Transmission Classification                         237 non-null    object \n",
            "dtypes: float64(2), int64(6), object(3)\n",
            "memory usage: 20.6+ KB\n"
          ],
          "name": "stdout"
        }
      ]
    },
    {
      "cell_type": "code",
      "metadata": {
        "id": "YhdBRuqX1AqI"
      },
      "source": [
        "df.columns=['Country','Region','TotalCases','TotalCasesM','Cases7','Cases24h','DeathsT','DeathsTM','Death7','Deaths24h','Class']"
      ],
      "execution_count": 6,
      "outputs": []
    },
    {
      "cell_type": "code",
      "metadata": {
        "colab": {
          "base_uri": "https://localhost:8080/"
        },
        "id": "KZ17605_1ZsD",
        "outputId": "19945ba2-d7e2-4f9c-f11b-5fae66bfcdc4"
      },
      "source": [
        "df.info()"
      ],
      "execution_count": 7,
      "outputs": [
        {
          "output_type": "stream",
          "text": [
            "<class 'pandas.core.frame.DataFrame'>\n",
            "RangeIndex: 238 entries, 0 to 237\n",
            "Data columns (total 11 columns):\n",
            " #   Column       Non-Null Count  Dtype  \n",
            "---  ------       --------------  -----  \n",
            " 0   Country      238 non-null    object \n",
            " 1   Region       237 non-null    object \n",
            " 2   TotalCases   238 non-null    int64  \n",
            " 3   TotalCasesM  237 non-null    float64\n",
            " 4   Cases7       238 non-null    int64  \n",
            " 5   Cases24h     238 non-null    int64  \n",
            " 6   DeathsT      238 non-null    int64  \n",
            " 7   DeathsTM     237 non-null    float64\n",
            " 8   Death7       238 non-null    int64  \n",
            " 9   Deaths24h    238 non-null    int64  \n",
            " 10  Class        237 non-null    object \n",
            "dtypes: float64(2), int64(6), object(3)\n",
            "memory usage: 20.6+ KB\n"
          ],
          "name": "stdout"
        }
      ]
    },
    {
      "cell_type": "code",
      "metadata": {
        "colab": {
          "base_uri": "https://localhost:8080/"
        },
        "id": "4C3sgfY91tLa",
        "outputId": "13d51a6a-08c6-4117-922f-c69227b86743"
      },
      "source": [
        "sum(df['Country']=='Pakistan')"
      ],
      "execution_count": 13,
      "outputs": [
        {
          "output_type": "execute_result",
          "data": {
            "text/plain": [
              "1"
            ]
          },
          "metadata": {
            "tags": []
          },
          "execution_count": 13
        }
      ]
    },
    {
      "cell_type": "code",
      "metadata": {
        "id": "mVk_q4Ya1ymp"
      },
      "source": [
        "dfSorted=df.sort_values('DeathsTM',ascending=False)"
      ],
      "execution_count": 30,
      "outputs": []
    },
    {
      "cell_type": "markdown",
      "metadata": {
        "id": "rN3xVBc-ENe6"
      },
      "source": [
        ""
      ]
    },
    {
      "cell_type": "code",
      "metadata": {
        "id": "Q3BTYfgyEOjv"
      },
      "source": [
        "import matplotlib.pyplot as plt\r\n",
        "import seaborn as sns"
      ],
      "execution_count": 22,
      "outputs": []
    },
    {
      "cell_type": "code",
      "metadata": {
        "colab": {
          "base_uri": "https://localhost:8080/",
          "height": 247
        },
        "id": "7jU4llnxFUah",
        "outputId": "cdb990fb-431d-4749-c3e6-24b6af8212d5"
      },
      "source": [
        "plt.figure(figsize=(30,10))\r\n",
        "sns.barplot(data=dfSorted.head(30),x='Country',y='DeathsTM')"
      ],
      "execution_count": 36,
      "outputs": [
        {
          "output_type": "execute_result",
          "data": {
            "text/plain": [
              "<matplotlib.axes._subplots.AxesSubplot at 0x7f1dc3cf64a8>"
            ]
          },
          "metadata": {
            "tags": []
          },
          "execution_count": 36
        },
        {
          "output_type": "display_data",
          "data": {
            "image/png": "[encoded data removed]",
            "text/plain": [
              "<Figure size 2160x720 with 1 Axes>"
            ]
          },
          "metadata": {
            "tags": [],
            "needs_background": "light"
          }
        }
      ]
    },
    {
      "cell_type": "code",
      "metadata": {
        "colab": {
          "base_uri": "https://localhost:8080/"
        },
        "id": "6eTiuB_pA-KG",
        "outputId": "06ecabb1-7b2f-41ec-eb23-e33a711aa99b"
      },
      "source": [
        "!pip install -U wbdata"
      ],
      "execution_count": 37,
      "outputs": [
        {
          "output_type": "stream",
          "text": [
            "Collecting wbdata\n",
            "  Downloading https://files.pythonhosted.org/packages/76/87/a04308d9c80829c3b9c4eefbda6f4c849f2c8afa89917906c63ca6d611a5/wbdata-0.3.0-py3-none-any.whl\n",
            "Requirement already satisfied, skipping upgrade: decorator>=4.0 in /usr/local/lib/python3.6/dist-packages (from wbdata) (4.4.2)\n",
            "Requirement already satisfied, skipping upgrade: appdirs<2.0,>=1.4 in /usr/local/lib/python3.6/dist-packages (from wbdata) (1.4.4)\n",
            "Requirement already satisfied, skipping upgrade: requests>=2.0 in /usr/local/lib/python3.6/dist-packages (from wbdata) (2.23.0)\n",
            "Requirement already satisfied, skipping upgrade: tabulate>=0.8.5 in /usr/local/lib/python3.6/dist-packages (from wbdata) (0.8.7)\n",
            "Requirement already satisfied, skipping upgrade: urllib3!=1.25.0,!=1.25.1,<1.26,>=1.21.1 in /usr/local/lib/python3.6/dist-packages (from requests>=2.0->wbdata) (1.24.3)\n",
            "Requirement already satisfied, skipping upgrade: idna<3,>=2.5 in /usr/local/lib/python3.6/dist-packages (from requests>=2.0->wbdata) (2.10)\n",
            "Requirement already satisfied, skipping upgrade: certifi>=2017.4.17 in /usr/local/lib/python3.6/dist-packages (from requests>=2.0->wbdata) (2020.12.5)\n",
            "Requirement already satisfied, skipping upgrade: chardet<4,>=3.0.2 in /usr/local/lib/python3.6/dist-packages (from requests>=2.0->wbdata) (3.0.4)\n",
            "Installing collected packages: wbdata\n",
            "Successfully installed wbdata-0.3.0\n"
          ],
          "name": "stdout"
        }
      ]
    },
    {
      "cell_type": "code",
      "metadata": {
        "id": "IyYTdKUmEL-0"
      },
      "source": [
        "import wbdata,datetime"
      ],
      "execution_count": 42,
      "outputs": []
    },
    {
      "cell_type": "code",
      "metadata": {
        "id": "B9P6Q17PM_X7"
      },
      "source": [
        "data_date = datetime.datetime(2019, 1,1), datetime.datetime(2019, 1, 1)"
      ],
      "execution_count": 70,
      "outputs": []
    },
    {
      "cell_type": "code",
      "metadata": {
        "colab": {
          "base_uri": "https://localhost:8080/"
        },
        "id": "___gtggjROcL",
        "outputId": "cecd73f5-f630-451e-eb42-0d8c5ac23285"
      },
      "source": [
        "wbdata.get_country(\"USA\")"
      ],
      "execution_count": 47,
      "outputs": [
        {
          "output_type": "execute_result",
          "data": {
            "text/plain": [
              "id    name\n",
              "----  -------------\n",
              "USA   United States"
            ]
          },
          "metadata": {
            "tags": []
          },
          "execution_count": 47
        }
      ]
    },
    {
      "cell_type": "code",
      "metadata": {
        "id": "EjFuBPesNC8-"
      },
      "source": [
        "countries = [i['id'] for i in wbdata.get_country()] "
      ],
      "execution_count": 58,
      "outputs": []
    },
    {
      "cell_type": "code",
      "metadata": {
        "colab": {
          "base_uri": "https://localhost:8080/"
        },
        "id": "ASG2iLNhPklB",
        "outputId": "1fd110ea-6923-4aec-ea17-8dd56e2ada4e"
      },
      "source": [
        "len(countries)"
      ],
      "execution_count": 95,
      "outputs": [
        {
          "output_type": "execute_result",
          "data": {
            "text/plain": [
              "297"
            ]
          },
          "metadata": {
            "tags": []
          },
          "execution_count": 95
        }
      ]
    },
    {
      "cell_type": "code",
      "metadata": {
        "id": "vzQoIa44PlxQ"
      },
      "source": [
        "indicators = {\"IC.BUS.EASE.XQ\": \"doing_business\", \"NY.GDP.PCAP.PP.KD\": \"gdppc\"}"
      ],
      "execution_count": 54,
      "outputs": []
    },
    {
      "cell_type": "code",
      "metadata": {
        "id": "nYcEWCkIV6Mx"
      },
      "source": [
        "countries[250]=\"USA\""
      ],
      "execution_count": 111,
      "outputs": []
    },
    {
      "cell_type": "code",
      "metadata": {
        "id": "Q1GTUBNNRlQe"
      },
      "source": [
        "df = wbdata.get_dataframe(indicators, country=countries[0:250], data_date=data_date)\r\n"
      ],
      "execution_count": 113,
      "outputs": []
    },
    {
      "cell_type": "code",
      "metadata": {
        "id": "oN6n6tfaSDNt"
      },
      "source": [
        "df2=wbdata.get_dataframe(indicators, country=countries[251:], data_date=data_date)"
      ],
      "execution_count": 114,
      "outputs": []
    },
    {
      "cell_type": "code",
      "metadata": {
        "id": "Ez4RE4sDUjX5"
      },
      "source": [
        "df.reset_index(inplace=True)"
      ],
      "execution_count": 115,
      "outputs": []
    },
    {
      "cell_type": "code",
      "metadata": {
        "id": "lVSSj_VESOXT"
      },
      "source": [
        "df.columns = ['Country','EaseB',\"GDPPC\"]"
      ],
      "execution_count": 116,
      "outputs": []
    },
    {
      "cell_type": "code",
      "metadata": {
        "id": "jceQvxx0WaTI"
      },
      "source": [
        "df2.reset_index(inplace=True)"
      ],
      "execution_count": 117,
      "outputs": []
    },
    {
      "cell_type": "code",
      "metadata": {
        "id": "3ErzGxc0Wcv_"
      },
      "source": [
        "df2.columns = ['Country','EaseB',\"GDPPC\"]"
      ],
      "execution_count": 118,
      "outputs": []
    },
    {
      "cell_type": "code",
      "metadata": {
        "colab": {
          "base_uri": "https://localhost:8080/",
          "height": 419
        },
        "id": "RySD3jkAT1eq",
        "outputId": "34ba239c-4c5d-4fec-9c3d-1869e50f9e2b"
      },
      "source": [
        "df"
      ],
      "execution_count": 119,
      "outputs": [
        {
          "output_type": "execute_result",
          "data": {
            "text/html": [
              "<div>\n",
              "<style scoped>\n",
              "    .dataframe tbody tr th:only-of-type {\n",
              "        vertical-align: middle;\n",
              "    }\n",
              "\n",
              "    .dataframe tbody tr th {\n",
              "        vertical-align: top;\n",
              "    }\n",
              "\n",
              "    .dataframe thead th {\n",
              "        text-align: right;\n",
              "    }\n",
              "</style>\n",
              "<table border=\"1\" class=\"dataframe\">\n",
              "  <thead>\n",
              "    <tr style=\"text-align: right;\">\n",
              "      <th></th>\n",
              "      <th>Country</th>\n",
              "      <th>EaseB</th>\n",
              "      <th>GDPPC</th>\n",
              "    </tr>\n",
              "  </thead>\n",
              "  <tbody>\n",
              "    <tr>\n",
              "      <th>0</th>\n",
              "      <td>Aruba</td>\n",
              "      <td>NaN</td>\n",
              "      <td>NaN</td>\n",
              "    </tr>\n",
              "    <tr>\n",
              "      <th>1</th>\n",
              "      <td>Afghanistan</td>\n",
              "      <td>173.0</td>\n",
              "      <td>2065.036398</td>\n",
              "    </tr>\n",
              "    <tr>\n",
              "      <th>2</th>\n",
              "      <td>Angola</td>\n",
              "      <td>177.0</td>\n",
              "      <td>6670.332297</td>\n",
              "    </tr>\n",
              "    <tr>\n",
              "      <th>3</th>\n",
              "      <td>Albania</td>\n",
              "      <td>82.0</td>\n",
              "      <td>13965.349006</td>\n",
              "    </tr>\n",
              "    <tr>\n",
              "      <th>4</th>\n",
              "      <td>Andorra</td>\n",
              "      <td>NaN</td>\n",
              "      <td>NaN</td>\n",
              "    </tr>\n",
              "    <tr>\n",
              "      <th>...</th>\n",
              "      <td>...</td>\n",
              "      <td>...</td>\n",
              "      <td>...</td>\n",
              "    </tr>\n",
              "    <tr>\n",
              "      <th>215</th>\n",
              "      <td>Sub-Saharan Africa</td>\n",
              "      <td>NaN</td>\n",
              "      <td>3782.334971</td>\n",
              "    </tr>\n",
              "    <tr>\n",
              "      <th>216</th>\n",
              "      <td>Small states</td>\n",
              "      <td>NaN</td>\n",
              "      <td>20549.402224</td>\n",
              "    </tr>\n",
              "    <tr>\n",
              "      <th>217</th>\n",
              "      <td>Sao Tome and Principe</td>\n",
              "      <td>170.0</td>\n",
              "      <td>3969.563798</td>\n",
              "    </tr>\n",
              "    <tr>\n",
              "      <th>218</th>\n",
              "      <td>Suriname</td>\n",
              "      <td>162.0</td>\n",
              "      <td>16524.758101</td>\n",
              "    </tr>\n",
              "    <tr>\n",
              "      <th>219</th>\n",
              "      <td>Slovak Republic</td>\n",
              "      <td>45.0</td>\n",
              "      <td>32730.310801</td>\n",
              "    </tr>\n",
              "  </tbody>\n",
              "</table>\n",
              "<p>220 rows × 3 columns</p>\n",
              "</div>"
            ],
            "text/plain": [
              "                   Country  EaseB         GDPPC\n",
              "0                    Aruba    NaN           NaN\n",
              "1              Afghanistan  173.0   2065.036398\n",
              "2                   Angola  177.0   6670.332297\n",
              "3                  Albania   82.0  13965.349006\n",
              "4                  Andorra    NaN           NaN\n",
              "..                     ...    ...           ...\n",
              "215     Sub-Saharan Africa    NaN   3782.334971\n",
              "216           Small states    NaN  20549.402224\n",
              "217  Sao Tome and Principe  170.0   3969.563798\n",
              "218               Suriname  162.0  16524.758101\n",
              "219        Slovak Republic   45.0  32730.310801\n",
              "\n",
              "[220 rows x 3 columns]"
            ]
          },
          "metadata": {
            "tags": []
          },
          "execution_count": 119
        }
      ]
    },
    {
      "cell_type": "code",
      "metadata": {
        "colab": {
          "base_uri": "https://localhost:8080/",
          "height": 1000
        },
        "id": "AbbF4NzBT9j1",
        "outputId": "82a126dc-c5ff-4997-9053-ad012c9fa631"
      },
      "source": [
        "df2"
      ],
      "execution_count": 120,
      "outputs": [
        {
          "output_type": "execute_result",
          "data": {
            "text/html": [
              "<div>\n",
              "<style scoped>\n",
              "    .dataframe tbody tr th:only-of-type {\n",
              "        vertical-align: middle;\n",
              "    }\n",
              "\n",
              "    .dataframe tbody tr th {\n",
              "        vertical-align: top;\n",
              "    }\n",
              "\n",
              "    .dataframe thead th {\n",
              "        text-align: right;\n",
              "    }\n",
              "</style>\n",
              "<table border=\"1\" class=\"dataframe\">\n",
              "  <thead>\n",
              "    <tr style=\"text-align: right;\">\n",
              "      <th></th>\n",
              "      <th>Country</th>\n",
              "      <th>EaseB</th>\n",
              "      <th>GDPPC</th>\n",
              "    </tr>\n",
              "  </thead>\n",
              "  <tbody>\n",
              "    <tr>\n",
              "      <th>0</th>\n",
              "      <td>Eswatini</td>\n",
              "      <td>121.0</td>\n",
              "      <td>8621.826595</td>\n",
              "    </tr>\n",
              "    <tr>\n",
              "      <th>1</th>\n",
              "      <td>Sint Maarten (Dutch part)</td>\n",
              "      <td>NaN</td>\n",
              "      <td>NaN</td>\n",
              "    </tr>\n",
              "    <tr>\n",
              "      <th>2</th>\n",
              "      <td>Seychelles</td>\n",
              "      <td>100.0</td>\n",
              "      <td>29223.465013</td>\n",
              "    </tr>\n",
              "    <tr>\n",
              "      <th>3</th>\n",
              "      <td>Syrian Arab Republic</td>\n",
              "      <td>176.0</td>\n",
              "      <td>NaN</td>\n",
              "    </tr>\n",
              "    <tr>\n",
              "      <th>4</th>\n",
              "      <td>Turks and Caicos Islands</td>\n",
              "      <td>NaN</td>\n",
              "      <td>29253.376603</td>\n",
              "    </tr>\n",
              "    <tr>\n",
              "      <th>5</th>\n",
              "      <td>Chad</td>\n",
              "      <td>182.0</td>\n",
              "      <td>1579.626695</td>\n",
              "    </tr>\n",
              "    <tr>\n",
              "      <th>6</th>\n",
              "      <td>East Asia &amp; Pacific (IDA &amp; IBRD countries)</td>\n",
              "      <td>NaN</td>\n",
              "      <td>14584.593754</td>\n",
              "    </tr>\n",
              "    <tr>\n",
              "      <th>7</th>\n",
              "      <td>Europe &amp; Central Asia (IDA &amp; IBRD countries)</td>\n",
              "      <td>NaN</td>\n",
              "      <td>23034.715977</td>\n",
              "    </tr>\n",
              "    <tr>\n",
              "      <th>8</th>\n",
              "      <td>Togo</td>\n",
              "      <td>97.0</td>\n",
              "      <td>1596.644938</td>\n",
              "    </tr>\n",
              "    <tr>\n",
              "      <th>9</th>\n",
              "      <td>Thailand</td>\n",
              "      <td>21.0</td>\n",
              "      <td>18459.994862</td>\n",
              "    </tr>\n",
              "    <tr>\n",
              "      <th>10</th>\n",
              "      <td>Tajikistan</td>\n",
              "      <td>106.0</td>\n",
              "      <td>3379.748697</td>\n",
              "    </tr>\n",
              "    <tr>\n",
              "      <th>11</th>\n",
              "      <td>Turkmenistan</td>\n",
              "      <td>NaN</td>\n",
              "      <td>NaN</td>\n",
              "    </tr>\n",
              "    <tr>\n",
              "      <th>12</th>\n",
              "      <td>Latin America &amp; the Caribbean (IDA &amp; IBRD coun...</td>\n",
              "      <td>NaN</td>\n",
              "      <td>16300.528159</td>\n",
              "    </tr>\n",
              "    <tr>\n",
              "      <th>13</th>\n",
              "      <td>Timor-Leste</td>\n",
              "      <td>181.0</td>\n",
              "      <td>3552.599745</td>\n",
              "    </tr>\n",
              "    <tr>\n",
              "      <th>14</th>\n",
              "      <td>Middle East &amp; North Africa (IDA &amp; IBRD countries)</td>\n",
              "      <td>NaN</td>\n",
              "      <td>10703.942218</td>\n",
              "    </tr>\n",
              "    <tr>\n",
              "      <th>15</th>\n",
              "      <td>Tonga</td>\n",
              "      <td>103.0</td>\n",
              "      <td>6383.273930</td>\n",
              "    </tr>\n",
              "    <tr>\n",
              "      <th>16</th>\n",
              "      <td>South Asia (IDA &amp; IBRD)</td>\n",
              "      <td>NaN</td>\n",
              "      <td>6224.507333</td>\n",
              "    </tr>\n",
              "    <tr>\n",
              "      <th>17</th>\n",
              "      <td>Sub-Saharan Africa (IDA &amp; IBRD countries)</td>\n",
              "      <td>NaN</td>\n",
              "      <td>3782.334971</td>\n",
              "    </tr>\n",
              "    <tr>\n",
              "      <th>18</th>\n",
              "      <td>Trinidad and Tobago</td>\n",
              "      <td>105.0</td>\n",
              "      <td>26175.836979</td>\n",
              "    </tr>\n",
              "    <tr>\n",
              "      <th>19</th>\n",
              "      <td>Tunisia</td>\n",
              "      <td>78.0</td>\n",
              "      <td>10755.608152</td>\n",
              "    </tr>\n",
              "    <tr>\n",
              "      <th>20</th>\n",
              "      <td>Turkey</td>\n",
              "      <td>33.0</td>\n",
              "      <td>28423.648242</td>\n",
              "    </tr>\n",
              "    <tr>\n",
              "      <th>21</th>\n",
              "      <td>Tuvalu</td>\n",
              "      <td>NaN</td>\n",
              "      <td>4281.395124</td>\n",
              "    </tr>\n",
              "    <tr>\n",
              "      <th>22</th>\n",
              "      <td>Tanzania</td>\n",
              "      <td>141.0</td>\n",
              "      <td>2660.420338</td>\n",
              "    </tr>\n",
              "    <tr>\n",
              "      <th>23</th>\n",
              "      <td>Uganda</td>\n",
              "      <td>116.0</td>\n",
              "      <td>2187.464881</td>\n",
              "    </tr>\n",
              "    <tr>\n",
              "      <th>24</th>\n",
              "      <td>Ukraine</td>\n",
              "      <td>64.0</td>\n",
              "      <td>12810.289455</td>\n",
              "    </tr>\n",
              "    <tr>\n",
              "      <th>25</th>\n",
              "      <td>Upper middle income</td>\n",
              "      <td>NaN</td>\n",
              "      <td>16868.361070</td>\n",
              "    </tr>\n",
              "    <tr>\n",
              "      <th>26</th>\n",
              "      <td>Uruguay</td>\n",
              "      <td>101.0</td>\n",
              "      <td>21561.062055</td>\n",
              "    </tr>\n",
              "    <tr>\n",
              "      <th>27</th>\n",
              "      <td>United States</td>\n",
              "      <td>6.0</td>\n",
              "      <td>62530.389595</td>\n",
              "    </tr>\n",
              "    <tr>\n",
              "      <th>28</th>\n",
              "      <td>Uzbekistan</td>\n",
              "      <td>69.0</td>\n",
              "      <td>6998.705051</td>\n",
              "    </tr>\n",
              "    <tr>\n",
              "      <th>29</th>\n",
              "      <td>St. Vincent and the Grenadines</td>\n",
              "      <td>130.0</td>\n",
              "      <td>12485.180285</td>\n",
              "    </tr>\n",
              "    <tr>\n",
              "      <th>30</th>\n",
              "      <td>Venezuela, RB</td>\n",
              "      <td>188.0</td>\n",
              "      <td>NaN</td>\n",
              "    </tr>\n",
              "    <tr>\n",
              "      <th>31</th>\n",
              "      <td>British Virgin Islands</td>\n",
              "      <td>NaN</td>\n",
              "      <td>NaN</td>\n",
              "    </tr>\n",
              "    <tr>\n",
              "      <th>32</th>\n",
              "      <td>Virgin Islands (U.S.)</td>\n",
              "      <td>NaN</td>\n",
              "      <td>NaN</td>\n",
              "    </tr>\n",
              "    <tr>\n",
              "      <th>33</th>\n",
              "      <td>Vietnam</td>\n",
              "      <td>70.0</td>\n",
              "      <td>8041.178551</td>\n",
              "    </tr>\n",
              "    <tr>\n",
              "      <th>34</th>\n",
              "      <td>Vanuatu</td>\n",
              "      <td>107.0</td>\n",
              "      <td>3153.015168</td>\n",
              "    </tr>\n",
              "    <tr>\n",
              "      <th>35</th>\n",
              "      <td>World</td>\n",
              "      <td>NaN</td>\n",
              "      <td>16913.909852</td>\n",
              "    </tr>\n",
              "    <tr>\n",
              "      <th>36</th>\n",
              "      <td>Samoa</td>\n",
              "      <td>98.0</td>\n",
              "      <td>6521.458324</td>\n",
              "    </tr>\n",
              "    <tr>\n",
              "      <th>37</th>\n",
              "      <td>Kosovo</td>\n",
              "      <td>57.0</td>\n",
              "      <td>11367.746058</td>\n",
              "    </tr>\n",
              "    <tr>\n",
              "      <th>38</th>\n",
              "      <td>Yemen, Rep.</td>\n",
              "      <td>187.0</td>\n",
              "      <td>NaN</td>\n",
              "    </tr>\n",
              "    <tr>\n",
              "      <th>39</th>\n",
              "      <td>South Africa</td>\n",
              "      <td>84.0</td>\n",
              "      <td>12481.812868</td>\n",
              "    </tr>\n",
              "    <tr>\n",
              "      <th>40</th>\n",
              "      <td>Zambia</td>\n",
              "      <td>85.0</td>\n",
              "      <td>3470.448801</td>\n",
              "    </tr>\n",
              "    <tr>\n",
              "      <th>41</th>\n",
              "      <td>Zimbabwe</td>\n",
              "      <td>140.0</td>\n",
              "      <td>2835.948532</td>\n",
              "    </tr>\n",
              "  </tbody>\n",
              "</table>\n",
              "</div>"
            ],
            "text/plain": [
              "                                              Country  EaseB         GDPPC\n",
              "0                                            Eswatini  121.0   8621.826595\n",
              "1                           Sint Maarten (Dutch part)    NaN           NaN\n",
              "2                                          Seychelles  100.0  29223.465013\n",
              "3                                Syrian Arab Republic  176.0           NaN\n",
              "4                            Turks and Caicos Islands    NaN  29253.376603\n",
              "5                                                Chad  182.0   1579.626695\n",
              "6          East Asia & Pacific (IDA & IBRD countries)    NaN  14584.593754\n",
              "7        Europe & Central Asia (IDA & IBRD countries)    NaN  23034.715977\n",
              "8                                                Togo   97.0   1596.644938\n",
              "9                                            Thailand   21.0  18459.994862\n",
              "10                                         Tajikistan  106.0   3379.748697\n",
              "11                                       Turkmenistan    NaN           NaN\n",
              "12  Latin America & the Caribbean (IDA & IBRD coun...    NaN  16300.528159\n",
              "13                                        Timor-Leste  181.0   3552.599745\n",
              "14  Middle East & North Africa (IDA & IBRD countries)    NaN  10703.942218\n",
              "15                                              Tonga  103.0   6383.273930\n",
              "16                            South Asia (IDA & IBRD)    NaN   6224.507333\n",
              "17          Sub-Saharan Africa (IDA & IBRD countries)    NaN   3782.334971\n",
              "18                                Trinidad and Tobago  105.0  26175.836979\n",
              "19                                            Tunisia   78.0  10755.608152\n",
              "20                                             Turkey   33.0  28423.648242\n",
              "21                                             Tuvalu    NaN   4281.395124\n",
              "22                                           Tanzania  141.0   2660.420338\n",
              "23                                             Uganda  116.0   2187.464881\n",
              "24                                            Ukraine   64.0  12810.289455\n",
              "25                                Upper middle income    NaN  16868.361070\n",
              "26                                            Uruguay  101.0  21561.062055\n",
              "27                                      United States    6.0  62530.389595\n",
              "28                                         Uzbekistan   69.0   6998.705051\n",
              "29                     St. Vincent and the Grenadines  130.0  12485.180285\n",
              "30                                      Venezuela, RB  188.0           NaN\n",
              "31                             British Virgin Islands    NaN           NaN\n",
              "32                              Virgin Islands (U.S.)    NaN           NaN\n",
              "33                                            Vietnam   70.0   8041.178551\n",
              "34                                            Vanuatu  107.0   3153.015168\n",
              "35                                              World    NaN  16913.909852\n",
              "36                                              Samoa   98.0   6521.458324\n",
              "37                                             Kosovo   57.0  11367.746058\n",
              "38                                        Yemen, Rep.  187.0           NaN\n",
              "39                                       South Africa   84.0  12481.812868\n",
              "40                                             Zambia   85.0   3470.448801\n",
              "41                                           Zimbabwe  140.0   2835.948532"
            ]
          },
          "metadata": {
            "tags": []
          },
          "execution_count": 120
        }
      ]
    },
    {
      "cell_type": "code",
      "metadata": {
        "id": "Z-r7_bhjUZ5e"
      },
      "source": [
        "df1=pd.concat([df,df2],axis=0)"
      ],
      "execution_count": 124,
      "outputs": []
    },
    {
      "cell_type": "code",
      "metadata": {
        "id": "Cn9AJwhLWs6Z"
      },
      "source": [
        "df1.reset_index(inplace=True)"
      ],
      "execution_count": 127,
      "outputs": []
    },
    {
      "cell_type": "code",
      "metadata": {
        "id": "uZ0Qy0-VXEoX"
      },
      "source": [
        "df1.drop('index',axis=1,inplace=True)"
      ],
      "execution_count": 130,
      "outputs": []
    },
    {
      "cell_type": "code",
      "metadata": {
        "id": "kQE_9C8iXFrR"
      },
      "source": [
        "df1.dropna(inplace=True)"
      ],
      "execution_count": 131,
      "outputs": []
    },
    {
      "cell_type": "code",
      "metadata": {
        "colab": {
          "base_uri": "https://localhost:8080/",
          "height": 80
        },
        "id": "5pAKM3UWXcIJ",
        "outputId": "fcd5de35-9caf-4fa9-8a29-0773b2b3c45f"
      },
      "source": [
        "df1[df1['Country']==\"United States\"]"
      ],
      "execution_count": 134,
      "outputs": [
        {
          "output_type": "execute_result",
          "data": {
            "text/html": [
              "<div>\n",
              "<style scoped>\n",
              "    .dataframe tbody tr th:only-of-type {\n",
              "        vertical-align: middle;\n",
              "    }\n",
              "\n",
              "    .dataframe tbody tr th {\n",
              "        vertical-align: top;\n",
              "    }\n",
              "\n",
              "    .dataframe thead th {\n",
              "        text-align: right;\n",
              "    }\n",
              "</style>\n",
              "<table border=\"1\" class=\"dataframe\">\n",
              "  <thead>\n",
              "    <tr style=\"text-align: right;\">\n",
              "      <th></th>\n",
              "      <th>Country</th>\n",
              "      <th>EaseB</th>\n",
              "      <th>GDPPC</th>\n",
              "    </tr>\n",
              "  </thead>\n",
              "  <tbody>\n",
              "    <tr>\n",
              "      <th>247</th>\n",
              "      <td>United States</td>\n",
              "      <td>6.0</td>\n",
              "      <td>62530.389595</td>\n",
              "    </tr>\n",
              "  </tbody>\n",
              "</table>\n",
              "</div>"
            ],
            "text/plain": [
              "           Country  EaseB         GDPPC\n",
              "247  United States    6.0  62530.389595"
            ]
          },
          "metadata": {
            "tags": []
          },
          "execution_count": 134
        }
      ]
    },
    {
      "cell_type": "code",
      "metadata": {
        "id": "yvnUDy6VXdS3"
      },
      "source": [
        ""
      ],
      "execution_count": null,
      "outputs": []
    }
  ]
}